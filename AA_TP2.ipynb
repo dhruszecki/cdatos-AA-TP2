{
 "cells": [
  {
   "cell_type": "code",
   "execution_count": null,
   "metadata": {
    "colab": {
     "base_uri": "https://localhost:8080/",
     "height": 219
    },
    "colab_type": "code",
    "id": "HzuReiKCPnzL",
    "outputId": "c6d552ca-aa23-4fcb-84ed-d4b7b0fc7fa3"
   },
   "outputs": [],
   "source": [
    "!wget http://download.tensorflow.org/data/speech_commands_v0.01.tar.gz\n",
    "!mkdir speechcommands\n",
    "!tar -xf speech_commands_v0.01.tar.gz -C /content/speechcommands"
   ]
  },
  {
   "cell_type": "code",
   "execution_count": 1,
   "metadata": {
    "colab": {},
    "colab_type": "code",
    "id": "YBitmRWFP9Eb"
   },
   "outputs": [
    {
     "ename": "ModuleNotFoundError",
     "evalue": "No module named 'matplotlib'",
     "output_type": "error",
     "traceback": [
      "\u001B[0;31m---------------------------------------------------------------------------\u001B[0m",
      "\u001B[0;31mModuleNotFoundError\u001B[0m                       Traceback (most recent call last)",
      "\u001B[0;32m<ipython-input-1-355c1c2a74d5>\u001B[0m in \u001B[0;36m<module>\u001B[0;34m\u001B[0m\n\u001B[1;32m      3\u001B[0m \u001B[0;32mimport\u001B[0m \u001B[0mnumpy\u001B[0m \u001B[0;32mas\u001B[0m \u001B[0mnp\u001B[0m\u001B[0;34m\u001B[0m\u001B[0;34m\u001B[0m\u001B[0m\n\u001B[1;32m      4\u001B[0m \u001B[0;34m\u001B[0m\u001B[0m\n\u001B[0;32m----> 5\u001B[0;31m \u001B[0;32mimport\u001B[0m \u001B[0mmatplotlib\u001B[0m\u001B[0;34m.\u001B[0m\u001B[0mpyplot\u001B[0m \u001B[0;32mas\u001B[0m \u001B[0mplt\u001B[0m\u001B[0;34m\u001B[0m\u001B[0;34m\u001B[0m\u001B[0m\n\u001B[0m\u001B[1;32m      6\u001B[0m \u001B[0;32mfrom\u001B[0m \u001B[0mIPython\u001B[0m\u001B[0;34m.\u001B[0m\u001B[0mdisplay\u001B[0m \u001B[0;32mimport\u001B[0m \u001B[0mAudio\u001B[0m\u001B[0;34m\u001B[0m\u001B[0;34m\u001B[0m\u001B[0m\n\u001B[1;32m      7\u001B[0m \u001B[0;32mfrom\u001B[0m \u001B[0mlibrosa\u001B[0m\u001B[0;34m.\u001B[0m\u001B[0mdisplay\u001B[0m \u001B[0;32mimport\u001B[0m \u001B[0mspecshow\u001B[0m\u001B[0;34m\u001B[0m\u001B[0;34m\u001B[0m\u001B[0m\n",
      "\u001B[0;31mModuleNotFoundError\u001B[0m: No module named 'matplotlib'"
     ]
    }
   ],
   "source": [
    "import librosa\n",
    "import glob\n",
    "import numpy as np\n",
    "\n",
    "import matplotlib.pyplot as plt\n",
    "from IPython.display import Audio\n",
    "from librosa.display import specshow"
   ]
  },
  {
   "cell_type": "code",
   "execution_count": null,
   "metadata": {
    "colab": {},
    "colab_type": "code",
    "id": "igceWq3yQiIh"
   },
   "outputs": [],
   "source": [
    "# generamos lista con las rutas y nombres de archivo de los digitos\n",
    "numeros = []\n",
    "digitnames = ('zero', 'one', 'two', 'three', 'four', 'five', 'six', 'seven', 'eight', 'nine')\n",
    "for i in digitnames:\n",
    "    path = 'speechcommands/' + i + '/*.wav'\n",
    "    numeros.append(glob.glob(path))"
   ]
  },
  {
   "cell_type": "code",
   "execution_count": null,
   "metadata": {
    "colab": {
     "base_uri": "https://localhost:8080/",
     "height": 309
    },
    "colab_type": "code",
    "id": "-ggyvOYPRBsb",
    "outputId": "bcbbed16-ee70-4436-f919-9bd1f836264f"
   },
   "outputs": [],
   "source": [
    "# ver que onda\n",
    "\n",
    "x,sr = librosa.core.load(numeros[2][4],sr=None)\n",
    "plt.plot(x)\n",
    "Audio(x,rate=sr)"
   ]
  },
  {
   "cell_type": "code",
   "execution_count": null,
   "metadata": {
    "colab": {},
    "colab_type": "code",
    "id": "aABqrO8zSz07"
   },
   "outputs": [],
   "source": [
    "def calculate_features(filename, n_mfcc=12, delta=True, deltadelta=True, energy=True, summary_fn = [np.mean, np.std], summary_names=['mean', 'std']):\n",
    "  #Abro el archivo:\n",
    "  x, sr = librosa.core.load(filename,sr=None)\n",
    "  \n",
    "  #Calculo MFCCs\n",
    "  features = librosa.feature.mfcc(x,sr=sr,n_mfcc=n_mfcc)\n",
    "\n",
    "  #Calculo energia:\n",
    "  if energy:\n",
    "    energy = librosa.feature.rmse(x)\n",
    "    features = np.concatenate([features,energy])\n",
    "    feat_names = feat_names + ['energy']\n",
    "  #Aplico media y desvio estandar por defecto\n",
    "  summary_features = np.concatenate([fn(features,axis=1) for fn in summary_fn])\n",
    "  ##feat_names = ['{}_{}'.format(name_i,summ_i) for summ_i in summary_names for name_i in feat_names]\n",
    "  \n",
    "  #Lo mismo con los delta\n",
    "  if delta:\n",
    "    deltafeatures = np.diff(features)\n",
    "    summary_features = np.concatenate([summary_features,np.concatenate([fn(deltafeatures,axis=1) for fn in summary_fn])])\n",
    "    ##d_names = ['d{}'.format(name) for name in feat_names]\n",
    "  else:\n",
    "    d_names = []\n",
    "\n",
    "  #Y con los delta de segundo orden\n",
    "  if deltadelta:\n",
    "    deltadeltafeatures = np.diff(features,n=2)\n",
    "    summary_features = np.concatenate([summary_features,np.concatenate([fn(deltadeltafeatures,axis=1) for fn in summary_fn])]) \n",
    "    ##dd_names = ['dd{}'.format(name) for name in feat_names]\n",
    "  else:\n",
    "    dd_names = []\n",
    "\n",
    "  ##feat_names = feat_names + d_names + dd_names + ['digit', 'file']\n",
    "  summary_features = np.append(summary_features, [filename.split('/')[1], filename])\n",
    "\n",
    "  return summary_features##, feat_names \n",
    "\n",
    "def name_features(filename = '', n_mfcc=12, delta=True, deltadelta=True, energy=True, summary_fn = [np.mean, np.std], summary_names=['mean', 'std']):\n",
    "    feat_names = ['mfcc_{}'.format(i) for i in range(n_mfcc)]\n",
    "    feat_names = ['{}_{}'.format(name_i,summ_i) for summ_i in summary_names for name_i in feat_names]\n",
    "    d_names = ['d{}'.format(name) for name in feat_names]\n",
    "    dd_names = ['dd{}'.format(name) for name in feat_names]\n",
    "\n",
    "    feat_names = feat_names + d_names + dd_names + ['digit', 'file']\n",
    "\n",
    "    return feat_names"
   ]
  },
  {
   "cell_type": "code",
   "execution_count": null,
   "metadata": {
    "colab": {
     "base_uri": "https://localhost:8080/",
     "height": 35
    },
    "colab_type": "code",
    "id": "jHzRNwiZWOWz",
    "outputId": "976aeacc-156f-4418-f6e5-b2c870fb2e59"
   },
   "outputs": [],
   "source": [
    "# guardamos la lista de los conjuntos de test y validación\n",
    "# solo para archivos que referencian a dígitos\n",
    "test_idxs = ['speechcommands/' + e for e in open('speechcommands/testing_list.txt','r').read().splitlines() if e[:e.find('/')] in digitnames]\n",
    "valid_idxs = ['speechcommands/' + e for e in open('speechcommands/validation_list.txt','r').read().splitlines() if e[:e.find('/')] in digitnames]\n",
    "\n",
    "train_idxs = [e for n in range(10) for e in numeros[n] if (e not in test_idxs) and (e not in valid_idxs)]\n",
    "\n",
    "print(len(train_idxs), len(test_idxs) ,len(valid_idxs))"
   ]
  },
  {
   "cell_type": "code",
   "execution_count": null,
   "metadata": {
    "colab": {
     "base_uri": "https://localhost:8080/",
     "height": 55
    },
    "colab_type": "code",
    "id": "QxokBQlBTGyh",
    "outputId": "656b40d6-1be6-4073-ae16-cc39f469741b"
   },
   "outputs": [],
   "source": [
    "# como siempre calculamos las mismas fatures, sus nombres los guardo una sola vez\n",
    "feat_test = []\n",
    "feat_valid = []\n",
    "feat_train = []\n",
    "\n",
    "feat_test = [calculate_features(x) for x in test_idxs]\n",
    "feat_valid = [calculate_features(x) for x in valid_idxs]\n",
    "feat_train = [calculate_features(x) for x in train_idxs]\n",
    "feat_names = name_features()\n",
    "\n",
    "#for n in range(2):\n",
    "#    for i in range(len(numeros[n])//100):\n",
    "#        feat_, names_ = calculate_features(numeros[n][i])\n",
    "#        feat.append(feat_)\n",
    "#        names = names_\n",
    "\n",
    "print(feat_names)"
   ]
  },
  {
   "cell_type": "code",
   "execution_count": null,
   "metadata": {
    "colab": {
     "base_uri": "https://localhost:8080/",
     "height": 35
    },
    "colab_type": "code",
    "id": "vMCma13ZkdIl",
    "outputId": "8ea2f463-96d6-4023-d944-b430cacd16b3"
   },
   "outputs": [],
   "source": []
  }
 ],
 "metadata": {
  "colab": {
   "name": "AA_TP2.ipynb",
   "provenance": []
  },
  "kernelspec": {
   "display_name": "Python 3",
   "language": "python",
   "name": "python3"
  },
  "language_info": {
   "codemirror_mode": {
    "name": "ipython",
    "version": 3
   },
   "file_extension": ".py",
   "mimetype": "text/x-python",
   "name": "python",
   "nbconvert_exporter": "python",
   "pygments_lexer": "ipython3",
   "version": "3.8.2"
  }
 },
 "nbformat": 4,
 "nbformat_minor": 1
}