{
  "nbformat": 4,
  "nbformat_minor": 0,
  "metadata": {
    "celltoolbar": "Slideshow",
    "colab": {
      "name": "Copy of AA_TP2.ipynb",
      "provenance": [],
      "collapsed_sections": [
        "gMuFodmaWMev",
        "OXtBmNe1WMe2",
        "ejnwdIqQWMe6",
        "pfC7UvysWMe-",
        "6kJbsHI0WMfC",
        "bm_EeycEWMfH",
        "f9Q0-9GAWMfL",
        "bxTib6G2WMfj",
        "DRsp368fWMfj",
        "3qo5gS8iWMfm",
        "fqaS057VWMfp",
        "ntaipE8NoK0J",
        "IzDfe0m4WMf8"
      ]
    },
    "kernelspec": {
      "display_name": "Python 3",
      "language": "python",
      "name": "python3"
    },
    "language_info": {
      "codemirror_mode": {
        "name": "ipython",
        "version": 3
      },
      "file_extension": ".py",
      "mimetype": "text/x-python",
      "name": "python",
      "nbconvert_exporter": "python",
      "pygments_lexer": "ipython3",
      "version": "3.8.2"
    }
  },
  "cells": [
    {
      "cell_type": "code",
      "metadata": {
        "id": "w4mR9CPZWMdv",
        "colab_type": "code",
        "colab": {}
      },
      "source": [
        "integrantes = (\"Contreras, Daniel\", \"Diaz Villa, Virginia\", \"Hruszecki, Darío\", \"Marchio, Sergio\")\n",
        "\n",
        "print(\"TP2 AA, grupo 2 \\n\")\n",
        "\n",
        "for i in integrantes:\n",
        "    print(i)"
      ],
      "execution_count": null,
      "outputs": []
    },
    {
      "cell_type": "markdown",
      "metadata": {
        "id": "2PyKXvKfWMd3",
        "colab_type": "text"
      },
      "source": [
        "## Import de librerias utilizadas"
      ]
    },
    {
      "cell_type": "code",
      "metadata": {
        "id": "TV0dQtmpWMd4",
        "colab_type": "code",
        "colab": {}
      },
      "source": [
        "import librosa\n",
        "import glob\n",
        "import numpy as np\n",
        "import seaborn as sns\n",
        "import pandas as pd\n",
        "\n",
        "import os\n",
        "import os.path\n",
        "from os import path\n",
        "\n",
        "import matplotlib.pyplot as plt\n",
        "\n",
        "from enum import Enum\n",
        "from time import time\n",
        "\n",
        "from IPython.display import Audio\n",
        "from librosa.display import specshow\n",
        "from sklearn.naive_bayes import GaussianNB\n",
        "from sklearn.metrics import classification_report\n",
        "from sklearn.metrics import confusion_matrix\n",
        "from sklearn.model_selection import RandomizedSearchCV\n",
        "from sklearn.ensemble import GradientBoostingClassifier\n",
        "from sklearn.ensemble import RandomForestClassifier"
      ],
      "execution_count": null,
      "outputs": []
    },
    {
      "cell_type": "markdown",
      "metadata": {
        "id": "69HWXJnxWMd-",
        "colab_type": "text"
      },
      "source": [
        "## Funciones para la obtención de features y modelado"
      ]
    },
    {
      "cell_type": "code",
      "metadata": {
        "id": "eTdJkoedWMd-",
        "colab_type": "code",
        "colab": {}
      },
      "source": [
        "class AudioType(Enum):\n",
        "  TRAIN = 1   \n",
        "  VALIDATION = 2   \n",
        "  TEST = 3   \n",
        "  CUSTOM = 4   "
      ],
      "execution_count": null,
      "outputs": []
    },
    {
      "cell_type": "code",
      "metadata": {
        "id": "5lkB7hnVWMeE",
        "colab_type": "code",
        "colab": {}
      },
      "source": [
        "class Feature:\n",
        "  def __init__(self, filename, audio_type, noise_type=None):\n",
        "    self.filename = filename\n",
        "    self.noise_type = noise_type\n",
        "    self.audio_type = audio_type"
      ],
      "execution_count": null,
      "outputs": []
    },
    {
      "cell_type": "code",
      "metadata": {
        "id": "g6V9IVn1WMeJ",
        "colab_type": "code",
        "colab": {}
      },
      "source": [
        "class Features(Enum):\n",
        "    Train = Feature(\"train_features.csv\",AudioType.TRAIN)\n",
        "    Validation = Feature(\"valid_features.csv\", AudioType.VALIDATION)\n",
        "    Test = Feature(\"test_features.csv\", AudioType.TEST) \n",
        "    Test_Noise_Gauss = Feature(\"test_features_gauss.csv\",AudioType.TEST, \"gauss\")\n",
        "    Test_Noise_Dishes = Feature(\"test_features_dishes.csv\", AudioType.TEST, \"doing_the_dishes.wav\")\n",
        "    Test_Noise_Dude = Feature(\"test_features_dude.csv\", AudioType.TEST, \"dude_miaowing.wav\")\n",
        "    Test_Noise_Bike = Feature(\"test_features_bike.csv\", AudioType.TEST, \"exercise_bike.wav\")\n",
        "    Test_Noise_Pink = Feature(\"test_features_pink.csv\", AudioType.TEST, \"pink_noise.wav\")\n",
        "    Test_Noise_Running = Feature(\"test_features_running.csv\", AudioType.TEST, \"running_tap.wav\")            \n",
        "    Test_Noise_White = Feature(\"test_features_white.csv\", AudioType.TEST, \"white_noise.wav\")\n",
        "    Test_Custom = Feature(\"test_features_custom.csv\", AudioType.CUSTOM)"
      ],
      "execution_count": null,
      "outputs": []
    },
    {
      "cell_type": "code",
      "metadata": {
        "id": "pnY0hWyVWMeO",
        "colab_type": "code",
        "colab": {}
      },
      "source": [
        "def download_feature_if_needed(filename):\n",
        "    if not path.exists(\"features/\"+filename):\n",
        "        url = \"https://raw.githubusercontent.com/dhruszecki/cdatos-AA-TP2/master/features/\"+filename\n",
        "        !wget {url} -P features\n",
        "    else:\n",
        "        print(\"features/\" + filename, \" already exists! :)\")"
      ],
      "execution_count": null,
      "outputs": []
    },
    {
      "cell_type": "code",
      "metadata": {
        "colab_type": "code",
        "id": "igceWq3yQiIh",
        "colab": {}
      },
      "source": [
        "audio_filenames = None\n",
        "\n",
        "to_number = {\n",
        "  \"zero\": 0,\n",
        "  \"one\": 1,\n",
        "  \"two\": 2,\n",
        "  \"three\": 3,\n",
        "  \"four\": 4,\n",
        "  \"five\": 5,\n",
        "  \"six\": 6,\n",
        "  \"seven\": 7,\n",
        "  \"eight\": 8,\n",
        "  \"nine\": 9\n",
        "}\n",
        "\n",
        "def get_filenames():\n",
        "    \n",
        "    global audio_filenames\n",
        "    \n",
        "    if audio_filenames!= None:\n",
        "        return audio_filenames\n",
        "    \n",
        "    if not path.exists(\"speechcommands\"):\n",
        "        !wget http://download.tensorflow.org/data/speech_commands_v0.01.tar.gz\n",
        "        !mkdir speechcommands\n",
        "        !tar -xf speech_commands_v0.01.tar.gz -C speechcommands\n",
        "\n",
        "    if not path.exists(\"customcommands\"):\n",
        "        !wget https://raw.githubusercontent.com/dhruszecki/cdatos-AA-TP2/master/resources/custom_commands.tar.gz\n",
        "        !mkdir customcommands\n",
        "        !tar -xf custom_commands.tar.gz -C customcommands\n",
        "    \n",
        "    numbers_filenames = []\n",
        "    custom_filenames = []\n",
        "\n",
        "    for i in to_number:\n",
        "        numbers_filenames.append(glob.glob('speechcommands/' + i + '/*.wav'))\n",
        "        custom_filenames = custom_filenames + glob.glob(\"customcommands/\" + i + '/*.wav')\n",
        "\n",
        "    test_filenames= ['speechcommands/' + e for e in open('speechcommands/testing_list.txt','r').read().splitlines() if e[:e.find('/')] in to_number]\n",
        "    valid_filenames= ['speechcommands/' + e for e in open('speechcommands/validation_list.txt','r').read().splitlines() if e[:e.find('/')] in to_number]\n",
        "    train_filenames= [e for n in range(10) for e in numbers_filenames[n] if (e not in test_filenames) and (e not in valid_filenames)]\n",
        "    \n",
        "        \n",
        "    print('train_count:' , len(train_filenames))\n",
        "    print('test_count:' , len(test_filenames))\n",
        "    print('valid_count:' , len(valid_filenames))\n",
        "    print('custom_count:' , len(custom_filenames))\n",
        "    \n",
        "    audio_filenames = {\n",
        "      AudioType.TRAIN : train_filenames,\n",
        "      AudioType.TEST : test_filenames,\n",
        "      AudioType.VALIDATION : valid_filenames,\n",
        "      AudioType.CUSTOM : custom_filenames \n",
        "    }\n",
        "        \n",
        "    return audio_filenames"
      ],
      "execution_count": null,
      "outputs": []
    },
    {
      "cell_type": "code",
      "metadata": {
        "id": "lY67DhNUWMeW",
        "colab_type": "code",
        "colab": {}
      },
      "source": [
        "def apply_noise(audio, noise_type):\n",
        "    ruido = None\n",
        "    if noise_type == \"gauss\":\n",
        "        ruido = np.random.normal(size=audio.shape)\n",
        "    else:\n",
        "        ruido, sr = librosa.core.load('speechcommands/_background_noise_/'+noise_type, sr=None)\n",
        "        ruido = 0.5*ruido[5000:5000+len(audio)]        \n",
        "    \n",
        "    return ruido + audio"
      ],
      "execution_count": null,
      "outputs": []
    },
    {
      "cell_type": "code",
      "metadata": {
        "colab_type": "code",
        "id": "aABqrO8zSz07",
        "colab": {}
      },
      "source": [
        "def calculate_features(filename, n_mfcc=12, delta=True, deltadelta=True, energy=True, summary_fn = [np.mean, np.std],\n",
        "                       summary_names=['mean', 'std'], noise_type=None):  \n",
        "  #Abro el archivo:\n",
        "  x, sr = librosa.core.load(filename,sr=None)\n",
        "  \n",
        "  if (noise_type != None):\n",
        "        x = apply_noise(x, noise_type)\n",
        "\n",
        "  #Calculo MFCCs\n",
        "  features = librosa.feature.mfcc(x,sr=sr,n_mfcc=n_mfcc)\n",
        "\n",
        "  #Calculo energia:\n",
        "  if energy:\n",
        "    energy = librosa.feature.rmse(x)\n",
        "    features = np.concatenate([features,energy])\n",
        "\n",
        "  #Aplico media y desvio estandar por defecto\n",
        "  summary_features = np.concatenate([fn(features,axis=1) for fn in summary_fn])\n",
        "    \n",
        "  #Lo mismo con los delta\n",
        "  if delta:\n",
        "    deltafeatures = np.diff(features)\n",
        "    summary_features = np.concatenate([summary_features,np.concatenate([fn(deltafeatures,axis=1) for fn in summary_fn])])\n",
        "\n",
        "  #Y con los delta de segundo orden\n",
        "  if deltadelta:\n",
        "    deltadeltafeatures = np.diff(features,n=2)\n",
        "    summary_features = np.concatenate([summary_features,np.concatenate([fn(deltadeltafeatures,axis=1) for fn in summary_fn])]) \n",
        "  \n",
        "  summary_features = np.append(summary_features, [to_number[filename.split('/')[1]], filename])\n",
        "\n",
        "  return summary_features"
      ],
      "execution_count": null,
      "outputs": []
    },
    {
      "cell_type": "code",
      "metadata": {
        "id": "Zz8gIdyhWMef",
        "colab_type": "code",
        "colab": {}
      },
      "source": [
        "features_names= None\n",
        "def name_features(filename = '', n_mfcc=12, delta=True, deltadelta=True, energy=True, summary_fn = [np.mean, np.std], summary_names=['mean', 'std']):\n",
        "    global features_names\n",
        "    \n",
        "    if features_names!= None:\n",
        "        return features_names\n",
        "    \n",
        "    features_names = ['mfcc_{}'.format(i) for i in range(n_mfcc)]\n",
        "    if energy: features_names = features_names + ['energy']\n",
        "    features_names = ['{}_{}'.format(name_i,summ_i) for summ_i in summary_names for name_i in features_names]\n",
        "    if delta: d_names = ['d{}'.format(name) for name in features_names]\n",
        "    if deltadelta: dd_names = ['dd{}'.format(name) for name in features_names]\n",
        "\n",
        "    features_names = features_names + d_names + dd_names + ['digit', 'file']\n",
        "\n",
        "    return features_names"
      ],
      "execution_count": null,
      "outputs": []
    },
    {
      "cell_type": "code",
      "metadata": {
        "scrolled": true,
        "id": "OOA6gq7TWMej",
        "colab_type": "code",
        "colab": {}
      },
      "source": [
        "def calculate_features_if_needed(feature):\n",
        "    result_path = \"features/\"+feature.filename\n",
        "    result = []\n",
        "    if not path.exists(result_path):\n",
        "        print(\"Getting filenames\")\n",
        "        filenames = get_filenames()[feature.audio_type]        \n",
        "        \n",
        "        print(\"Calculating features for \", len(filenames), \" rows -> \", result_path)\n",
        "        features_names = name_features()\n",
        "        features_data = [calculate_features(filename, noise_type= feature.noise_type) for filename in filenames]\n",
        "        pd.DataFrame(data = features_data, columns = features_names).to_csv(result_path)\n",
        "        \n",
        "    \n",
        "    print(\"Loading saved features <- \", result_path)\n",
        "    result = pd.read_csv(result_path)\n",
        "    \n",
        "    return result"
      ],
      "execution_count": null,
      "outputs": []
    },
    {
      "cell_type": "code",
      "metadata": {
        "id": "969OwPFiWMeo",
        "colab_type": "code",
        "colab": {}
      },
      "source": [
        "def load_features(feature):\n",
        "    features = pd.DataFrame(calculate_features_if_needed(feature))\n",
        "    features.drop(['file', 'Unnamed: 0'], axis=1, inplace=True)\n",
        "    print(pd.crosstab(index=features[\"digit\"], columns=\"count\", normalize=True))\n",
        "    return features"
      ],
      "execution_count": null,
      "outputs": []
    },
    {
      "cell_type": "code",
      "metadata": {
        "id": "TccjkN7GWMer",
        "colab_type": "code",
        "colab": {}
      },
      "source": [
        "def printAccuracy(label, model, features): \n",
        "    print(\"Accuracy \"+label+\" : {:.3f}\".format(model.score(features.drop('digit',axis=1).values, \n",
        "                                                   features.digit.values))) "
      ],
      "execution_count": null,
      "outputs": []
    },
    {
      "cell_type": "markdown",
      "metadata": {
        "id": "c2wpO2OzWMev",
        "colab_type": "text"
      },
      "source": [
        "##  Obtenemos features"
      ]
    },
    {
      "cell_type": "markdown",
      "metadata": {
        "id": "gMuFodmaWMev",
        "colab_type": "text"
      },
      "source": [
        "### Descargamos los features guardados previamente"
      ]
    },
    {
      "cell_type": "code",
      "metadata": {
        "id": "4NGfZFWSWMew",
        "colab_type": "code",
        "colab": {}
      },
      "source": [
        "download_feature_if_needed(\"train_features.csv\")\n",
        "download_feature_if_needed(\"valid_features.csv\")\n",
        "download_feature_if_needed(\"test_features.csv\")\n",
        "download_feature_if_needed(\"test_features_gauss.csv\")\n",
        "download_feature_if_needed(\"test_features_dude.csv\")\n",
        "download_feature_if_needed(\"test_features_bike.csv\")\n",
        "download_feature_if_needed(\"test_features_pink.csv\")\n",
        "download_feature_if_needed(\"test_features_running.csv\")\n",
        "download_feature_if_needed(\"test_features_white.csv\")\n",
        "download_feature_if_needed(\"test_features_dishes.csv\")\n",
        "download_feature_if_needed(\"test_features_custom.csv\")"
      ],
      "execution_count": null,
      "outputs": []
    },
    {
      "cell_type": "markdown",
      "metadata": {
        "id": "OXtBmNe1WMe2",
        "colab_type": "text"
      },
      "source": [
        "### Features de entrenamiento"
      ]
    },
    {
      "cell_type": "code",
      "metadata": {
        "scrolled": true,
        "id": "1JIX5HLCWMe2",
        "colab_type": "code",
        "colab": {}
      },
      "source": [
        "%%time\n",
        "train_features = load_features(Features.Train.value)"
      ],
      "execution_count": null,
      "outputs": []
    },
    {
      "cell_type": "markdown",
      "metadata": {
        "id": "ejnwdIqQWMe6",
        "colab_type": "text"
      },
      "source": [
        "### Features de validación"
      ]
    },
    {
      "cell_type": "code",
      "metadata": {
        "id": "jFpU436wWMe7",
        "colab_type": "code",
        "colab": {}
      },
      "source": [
        "%%time\n",
        "validation_features = load_features(Features.Validation.value)"
      ],
      "execution_count": null,
      "outputs": []
    },
    {
      "cell_type": "markdown",
      "metadata": {
        "id": "pfC7UvysWMe-",
        "colab_type": "text"
      },
      "source": [
        "### Features de Desarrollo"
      ]
    },
    {
      "cell_type": "code",
      "metadata": {
        "id": "3ytCtX38WMe_",
        "colab_type": "code",
        "colab": {}
      },
      "source": [
        "develop_features = validation_features.append(train_features, ignore_index=True)"
      ],
      "execution_count": null,
      "outputs": []
    },
    {
      "cell_type": "markdown",
      "metadata": {
        "id": "HqqfSvz6WMfB",
        "colab_type": "text"
      },
      "source": [
        "### Features de test"
      ]
    },
    {
      "cell_type": "markdown",
      "metadata": {
        "id": "6kJbsHI0WMfC",
        "colab_type": "text"
      },
      "source": [
        "#### Test Originales"
      ]
    },
    {
      "cell_type": "code",
      "metadata": {
        "id": "kaSYsxIBWMfC",
        "colab_type": "code",
        "colab": {}
      },
      "source": [
        "%%time\n",
        "test_features = load_features(Features.Test.value)"
      ],
      "execution_count": null,
      "outputs": []
    },
    {
      "cell_type": "markdown",
      "metadata": {
        "id": "bm_EeycEWMfH",
        "colab_type": "text"
      },
      "source": [
        "#### Test con ruido Gausiano"
      ]
    },
    {
      "cell_type": "code",
      "metadata": {
        "id": "-XPGJESbWMfH",
        "colab_type": "code",
        "colab": {}
      },
      "source": [
        "%%time\n",
        "test_features_gauss = load_features(Features.Test_Noise_Gauss.value)"
      ],
      "execution_count": null,
      "outputs": []
    },
    {
      "cell_type": "markdown",
      "metadata": {
        "id": "f9Q0-9GAWMfL",
        "colab_type": "text"
      },
      "source": [
        "#### Test con ruido `doing_the_dishes`"
      ]
    },
    {
      "cell_type": "code",
      "metadata": {
        "id": "o5KU38j2WMfL",
        "colab_type": "code",
        "colab": {}
      },
      "source": [
        "%%time\n",
        "test_features_dishes = load_features(Features.Test_Noise_Dishes.value)"
      ],
      "execution_count": null,
      "outputs": []
    },
    {
      "cell_type": "markdown",
      "metadata": {
        "id": "L8kjPJVEWMfQ",
        "colab_type": "text"
      },
      "source": [
        "#### Test con ruido `dude_miaowing`"
      ]
    },
    {
      "cell_type": "code",
      "metadata": {
        "id": "fdyukuc6WMfR",
        "colab_type": "code",
        "colab": {}
      },
      "source": [
        "%%time\n",
        "test_features_dude = load_features(Features.Test_Noise_Dude.value)"
      ],
      "execution_count": null,
      "outputs": []
    },
    {
      "cell_type": "markdown",
      "metadata": {
        "id": "-bN2yLBtWMfU",
        "colab_type": "text"
      },
      "source": [
        "#### Test con ruido `exercise_bike`"
      ]
    },
    {
      "cell_type": "code",
      "metadata": {
        "id": "4Zf1Ne9zWMfU",
        "colab_type": "code",
        "colab": {}
      },
      "source": [
        "%%time\n",
        "test_features_bike = load_features(Features.Test_Noise_Bike.value)"
      ],
      "execution_count": null,
      "outputs": []
    },
    {
      "cell_type": "markdown",
      "metadata": {
        "id": "zDom57iNWMfX",
        "colab_type": "text"
      },
      "source": [
        "#### Test con ruido `pink_noise`"
      ]
    },
    {
      "cell_type": "code",
      "metadata": {
        "id": "xcBAokGvWMfZ",
        "colab_type": "code",
        "colab": {}
      },
      "source": [
        "%%time\n",
        "test_features_pink = load_features(Features.Test_Noise_Pink.value)"
      ],
      "execution_count": null,
      "outputs": []
    },
    {
      "cell_type": "markdown",
      "metadata": {
        "id": "u2Zt89ZkWMfb",
        "colab_type": "text"
      },
      "source": [
        "#### Test con ruido `running_tap`"
      ]
    },
    {
      "cell_type": "code",
      "metadata": {
        "id": "aUog8T_SWMfb",
        "colab_type": "code",
        "colab": {}
      },
      "source": [
        "%%time\n",
        "test_features_running = load_features(Features.Test_Noise_Running.value)"
      ],
      "execution_count": null,
      "outputs": []
    },
    {
      "cell_type": "markdown",
      "metadata": {
        "id": "fvz-isp2WMff",
        "colab_type": "text"
      },
      "source": [
        "#### Test con ruido `white_noise`"
      ]
    },
    {
      "cell_type": "code",
      "metadata": {
        "id": "JU0T-TzlWMff",
        "colab_type": "code",
        "colab": {}
      },
      "source": [
        "%%time\n",
        "test_features_white = load_features(Features.Test_Noise_White.value)"
      ],
      "execution_count": null,
      "outputs": []
    },
    {
      "cell_type": "markdown",
      "metadata": {
        "id": "TzH-ALIEnYG_",
        "colab_type": "text"
      },
      "source": [
        "#### Test con audios `custom`"
      ]
    },
    {
      "cell_type": "code",
      "metadata": {
        "id": "4HrdAKY2nhxf",
        "colab_type": "code",
        "colab": {}
      },
      "source": [
        "%%time\n",
        "test_features_custom = load_features(Features.Test_Custom.value)"
      ],
      "execution_count": null,
      "outputs": []
    },
    {
      "cell_type": "markdown",
      "metadata": {
        "id": "wBTykqtTWMfh",
        "colab_type": "text"
      },
      "source": [
        "# Modelos"
      ]
    },
    {
      "cell_type": "markdown",
      "metadata": {
        "id": "bxTib6G2WMfj",
        "colab_type": "text"
      },
      "source": [
        "## Naive Bayes"
      ]
    },
    {
      "cell_type": "markdown",
      "metadata": {
        "id": "DRsp368fWMfj",
        "colab_type": "text"
      },
      "source": [
        "### Entrenamiento"
      ]
    },
    {
      "cell_type": "code",
      "metadata": {
        "id": "64OyntYZWMfj",
        "colab_type": "code",
        "colab": {}
      },
      "source": [
        "%%time\n",
        "\n",
        "naive_bayes = GaussianNB()\n",
        "naive_bayes.fit(train_features.drop('digit',axis=1).values, train_features.digit.values)\n",
        "predict_nb1 = naive_bayes.predict(validation_features.drop('digit',axis=1).values)\n",
        "\n",
        "printAccuracy(\"Training\", naive_bayes, train_features)\n",
        "printAccuracy(\"Validación\", naive_bayes, validation_features)\n",
        "\n",
        "print(classification_report(validation_features.digit.values, predict_nb1))"
      ],
      "execution_count": null,
      "outputs": []
    },
    {
      "cell_type": "markdown",
      "metadata": {
        "id": "3qo5gS8iWMfm",
        "colab_type": "text"
      },
      "source": [
        "###  Matriz de Confusión "
      ]
    },
    {
      "cell_type": "code",
      "metadata": {
        "id": "PWq925FqWMfn",
        "colab_type": "code",
        "colab": {}
      },
      "source": [
        "%%time\n",
        "\n",
        "sns.set_context('paper')\n",
        "sns.heatmap(confusion_matrix(validation_features.digit.values, predict_nb1), annot=True, fmt='g')\n",
        "plt.xlabel('Predict')\n",
        "plt.ylabel('True')"
      ],
      "execution_count": null,
      "outputs": []
    },
    {
      "cell_type": "markdown",
      "metadata": {
        "id": "fqaS057VWMfp",
        "colab_type": "text"
      },
      "source": [
        "### Impacto del ruido en el rendimiento "
      ]
    },
    {
      "cell_type": "code",
      "metadata": {
        "scrolled": true,
        "id": "DKzKFXISWMfs",
        "colab_type": "code",
        "colab": {}
      },
      "source": [
        "%%time\n",
        "\n",
        "naive_bayes_dev = GaussianNB()\n",
        "naive_bayes_dev.fit(develop_features.drop('digit',axis=1).values, develop_features.digit.values)\n",
        "predict_nb_test = naive_bayes_dev.predict(test_features.drop('digit',axis=1).values)\n",
        "predict_nb_gauss = naive_bayes_dev.predict(test_features_gauss.drop('digit',axis=1).values)\n",
        "predict_nb_dishes = naive_bayes_dev.predict(test_features_dishes.drop('digit',axis=1).values)\n",
        "predict_nb_dude = naive_bayes_dev.predict(test_features_dude.drop('digit',axis=1).values)\n",
        "predict_nb_bike = naive_bayes_dev.predict(test_features_bike.drop('digit',axis=1).values)\n",
        "predict_nb_running = naive_bayes_dev.predict(test_features_running.drop('digit',axis=1).values)\n",
        "predict_nb_pink = naive_bayes_dev.predict(test_features_pink.drop('digit',axis=1).values)\n",
        "predict_nb_white = naive_bayes_dev.predict(test_features_white.drop('digit',axis=1).values)\n",
        "\n",
        "printAccuracy(\"Develop\", naive_bayes_dev, develop_features)\n",
        "\n",
        "printAccuracy(\"Test\", naive_bayes_dev, test_features)\n",
        "print(classification_report(test_features.digit.values, predict_nb_test))\n",
        "\n",
        "printAccuracy(\"Ruido Gaussiano\", naive_bayes_dev, test_features_gauss)\n",
        "print(classification_report(test_features_gauss.digit.values, predict_nb_gauss, zero_division=0))\n",
        "\n",
        "printAccuracy(\"Ruido Doing the Dishes\", naive_bayes_dev, test_features_dishes)\n",
        "print(classification_report(test_features_dishes.digit.values, predict_nb_dishes, zero_division=0))\n",
        "\n",
        "printAccuracy(\"Ruido Dude Miaowing\", naive_bayes_dev, test_features_dude)\n",
        "print(classification_report(test_features_dude.digit.values, predict_nb_dude, zero_division=0))\n",
        "\n",
        "printAccuracy(\"Ruido Exercise Bike\", naive_bayes_dev, test_features_bike)\n",
        "print(classification_report(test_features_bike.digit.values, predict_nb_bike, zero_division=0))\n",
        "\n",
        "printAccuracy(\"Ruido Running Tap\", naive_bayes_dev, test_features_running)\n",
        "print(classification_report(test_features_running.digit.values, predict_nb_running, zero_division=0))\n",
        "\n",
        "printAccuracy(\"Ruido Pink Noise\", naive_bayes_dev, test_features_pink)\n",
        "print(classification_report(test_features_pink.digit.values, predict_nb_pink, zero_division=0))\n",
        "\n",
        "printAccuracy(\"Ruido White Noise\", naive_bayes_dev, test_features_white)\n",
        "print(classification_report(test_features_white.digit.values, predict_nb_white, zero_division=0))\n",
        "\n"
      ],
      "execution_count": null,
      "outputs": []
    },
    {
      "cell_type": "markdown",
      "metadata": {
        "id": "ntaipE8NoK0J",
        "colab_type": "text"
      },
      "source": [
        "### Impacto de los audios generados por el equipo en el rendimiento"
      ]
    },
    {
      "cell_type": "code",
      "metadata": {
        "id": "hnxpsLxnoT45",
        "colab_type": "code",
        "colab": {}
      },
      "source": [
        "predict_nb_custom = naive_bayes_dev.predict(test_features_custom.drop('digit',axis=1).values)\n",
        "printAccuracy(\"Custom\", naive_bayes_dev, test_features_custom)\n",
        "print(classification_report(test_features_custom.digit.values, predict_nb_custom))"
      ],
      "execution_count": null,
      "outputs": []
    },
    {
      "cell_type": "markdown",
      "metadata": {
        "id": "UnCAjLdMWMfv",
        "colab_type": "text"
      },
      "source": [
        "## Random Forest:  búsqueda de hiperparámetros óptimos"
      ]
    },
    {
      "cell_type": "code",
      "metadata": {
        "id": "oqDT5jk7WMfw",
        "colab_type": "code",
        "colab": {}
      },
      "source": [
        "%%time\n",
        "\n",
        "parametros = {'n_estimators':range(100, 250, 15), 'max_depth':range(6, 12, 2), 'bootstrap':[True, False]}\n",
        "\n",
        "clf = RandomizedSearchCV(RandomForestClassifier(random_state=22), parametros, n_jobs=20, random_state=131313,    \n",
        "                         scoring='accuracy', n_iter=30, cv =  [(slice(None), slice(None))])\n",
        "\n",
        "clf.fit(train_features.drop('digit',axis=1).values, train_features.digit.values)\n",
        "rf = clf.best_estimator_  \n",
        "\n",
        "print(clf.best_score_, clf.best_params_)\n",
        "printAccuracy(\"Training\", rf, train_features)\n",
        "printAccuracy(\"Validation\", rf, validation_features)"
      ],
      "execution_count": null,
      "outputs": []
    },
    {
      "cell_type": "markdown",
      "metadata": {
        "id": "eSJv8MoOWMfz",
        "colab_type": "text"
      },
      "source": [
        "###  Matriz de Confusión "
      ]
    },
    {
      "cell_type": "code",
      "metadata": {
        "id": "19INhYDqWMfz",
        "colab_type": "code",
        "colab": {}
      },
      "source": [
        "rf_pred = rf.predict(validation_features.drop('digit',axis=1).values)\n",
        "sns.set_context('paper')\n",
        "sns.heatmap(confusion_matrix(validation_features.digit.values, rf_pred), annot=True, fmt='g')\n",
        "plt.xlabel('Predict')\n",
        "plt.ylabel('True')"
      ],
      "execution_count": null,
      "outputs": []
    },
    {
      "cell_type": "markdown",
      "metadata": {
        "id": "A29zqHXHWMf2",
        "colab_type": "text"
      },
      "source": [
        "### Impacto del ruido en el rendimiento "
      ]
    },
    {
      "cell_type": "code",
      "metadata": {
        "id": "5a8IqotDWMf3",
        "colab_type": "code",
        "colab": {}
      },
      "source": [
        "%%time\n",
        "\n",
        "rf.fit(develop_features.drop('digit',axis=1).values, develop_features.digit.values)\n",
        "printAccuracy(\"Develop\", rf, develop_features)\n",
        "printAccuracy(\"Test\", rf, test_features)\n",
        "printAccuracy(\"Ruido Gaussiano\", rf, test_features_gauss)\n",
        "printAccuracy(\"Ruido Doing the Dishes\", rf, test_features_dishes)\n",
        "printAccuracy(\"Ruido Dude Miaowing\", rf, test_features_dude)\n",
        "printAccuracy(\"Ruido Exercise Bike\", rf, test_features_bike)\n",
        "printAccuracy(\"Ruido Running Tap\", rf, test_features_running)\n",
        "printAccuracy(\"Ruido Pink Noise\", rf, test_features_pink)\n",
        "printAccuracy(\"Ruido White Noise\", rf, test_features_white)"
      ],
      "execution_count": null,
      "outputs": []
    },
    {
      "cell_type": "markdown",
      "metadata": {
        "id": "0rkeWk4bq8Ua",
        "colab_type": "text"
      },
      "source": [
        "### Impacto de los audios generados por el equipo en el rendimiento\n"
      ]
    },
    {
      "cell_type": "code",
      "metadata": {
        "id": "FJ_7hcgVrK9h",
        "colab_type": "code",
        "colab": {}
      },
      "source": [
        "%%time\n",
        "\n",
        "printAccuracy(\"Ruido Custom\", rf, test_features_custom)"
      ],
      "execution_count": null,
      "outputs": []
    },
    {
      "cell_type": "markdown",
      "metadata": {
        "id": "dEHDmRxkWMf6",
        "colab_type": "text"
      },
      "source": [
        "## Gradient Boosting"
      ]
    },
    {
      "cell_type": "code",
      "metadata": {
        "id": "lQ4pFtnwWMf6",
        "colab_type": "code",
        "colab": {}
      },
      "source": [
        "%%time\n",
        "\n",
        "parameters = {'n_estimators':range(50, 150, 25), 'max_depth':range(5,7), 'learning_rate':np.arange(0,1,0.1)}\n",
        "clf = RandomizedSearchCV(GradientBoostingClassifier(random_state=22), parameters, n_jobs=-1, scoring='accuracy',cv=[(slice(None), slice(None))], n_iter=50, random_state=8)\n",
        "\n",
        "clf.fit(train_features.drop('digit',axis=1).values, train_features.digit.values)\n",
        "gb = clf.best_estimator_\n",
        "\n",
        "print (clf.best_score_, clf.best_params_)\n",
        "printAccuracy(\"Training\", gb, train_features)\n",
        "printAccuracy(\"Validation\", gb, validation_features)"
      ],
      "execution_count": null,
      "outputs": []
    },
    {
      "cell_type": "markdown",
      "metadata": {
        "id": "IzDfe0m4WMf8",
        "colab_type": "text"
      },
      "source": [
        "###  Matriz de Confusión "
      ]
    },
    {
      "cell_type": "code",
      "metadata": {
        "id": "sSI_mBd6WMf9",
        "colab_type": "code",
        "colab": {}
      },
      "source": [
        "gb_pred = gb.predict(validation_features.drop('digit',axis=1).values)\n",
        "sns.set_context('paper')\n",
        "sns.heatmap(confusion_matrix(validation_features.digit.values, gb_pred), annot=True, fmt='g')\n",
        "plt.xlabel('Predict')\n",
        "plt.ylabel('True')"
      ],
      "execution_count": null,
      "outputs": []
    },
    {
      "cell_type": "markdown",
      "metadata": {
        "id": "mLJO1oUmWMf-",
        "colab_type": "text"
      },
      "source": [
        "### Impacto del ruido en el rendimiento "
      ]
    },
    {
      "cell_type": "code",
      "metadata": {
        "id": "gtmaKvfTWMf_",
        "colab_type": "code",
        "colab": {}
      },
      "source": [
        "%%time\n",
        "\n",
        "gb.fit(develop_features.drop('digit',axis=1).values, develop_features.digit.values)\n",
        "printAccuracy(\"Develop\", gb, develop_features)\n",
        "printAccuracy(\"Test\", gb, test_features)\n",
        "printAccuracy(\"Ruido Gaussiano\", gb, test_features_gauss)\n",
        "printAccuracy(\"Ruido Doing the Dishes\", gb, test_features_dishes)\n",
        "printAccuracy(\"Ruido Dude Miaowing\", gb, test_features_dude)\n",
        "printAccuracy(\"Ruido Exercise Bike\", gb, test_features_bike)\n",
        "printAccuracy(\"Ruido Running Tap\", gb, test_features_running)\n",
        "printAccuracy(\"Ruido Pink Noise\", gb, test_features_pink)\n",
        "printAccuracy(\"Ruido White Noise\", gb, test_features_white)"
      ],
      "execution_count": null,
      "outputs": []
    },
    {
      "cell_type": "markdown",
      "metadata": {
        "id": "dk8jqHObrXSq",
        "colab_type": "text"
      },
      "source": [
        "### Impacto de los audios generados por el equipo en el rendimiento"
      ]
    },
    {
      "cell_type": "code",
      "metadata": {
        "id": "hyW3SrmNrZKD",
        "colab_type": "code",
        "colab": {}
      },
      "source": [
        "%%time\n",
        "\n",
        "printAccuracy(\"Ruido Custom\", gb, test_features_custom)"
      ],
      "execution_count": null,
      "outputs": []
    },
    {
      "cell_type": "markdown",
      "metadata": {
        "id": "7X-1zNSMWMgB",
        "colab_type": "text"
      },
      "source": [
        "# Anexos"
      ]
    },
    {
      "cell_type": "markdown",
      "metadata": {
        "id": "mcpZgZ7MWMgB",
        "colab_type": "text"
      },
      "source": [
        "## Tratamiento audios grabados por el equipo"
      ]
    },
    {
      "cell_type": "code",
      "metadata": {
        "id": "vaMdkYy0y92p",
        "colab_type": "code",
        "colab": {}
      },
      "source": [
        "# para ejecutar desde google colab online\n",
        "from google.colab import drive\n",
        "drive.mount('/content/gdrive')\n",
        "\n",
        "# directorio donde esté el notebook y los archivos de sonido\n",
        "carpeta_tp = \"AA_TP2\"\n",
        "\n",
        "os.chdir(\"gdrive/My Drive/\" + carpeta_tp)\n",
        "\n",
        "os.getcwd()"
      ],
      "execution_count": null,
      "outputs": []
    },
    {
      "cell_type": "code",
      "metadata": {
        "id": "DMT01szRWMgF",
        "colab_type": "code",
        "colab": {}
      },
      "source": [
        "# lista para guardar los audios nuestros (están en carpeta \"audios\")\n",
        "# nparray (salida de librosa), fs, filename\n",
        "audios_nos = []\n",
        "\n",
        "for filename in os.listdir(\"audios\"):\n",
        "    if filename.endswith(\".wav\"):\n",
        "        x, fs = librosa.core.load('audios/' + filename, sr = 16000)\n",
        "        audios_nos += [[x] + [fs] + [filename]]\n",
        "        #display(Audio(x, rate = fs))\n",
        "        #plt.figure(figsize = (15,5))\n",
        "        #plt.plot(x)\n",
        "        print(filename)\n"
      ],
      "execution_count": null,
      "outputs": []
    },
    {
      "cell_type": "code",
      "metadata": {
        "id": "lKKKpFzkIK33",
        "colab_type": "code",
        "colab": {}
      },
      "source": [
        "# el metodo de separar los audios con split_points = librosa.effects.split(x, top_db = top_db)\n",
        "# se hace engorroso pues cambiando top_db se empieza a perder info del audio\n",
        "# es compromiso entre que separe ruidos como audios extra y que se entiendan los numeros...\n",
        "# y a veces no se logra => nuevo método\n",
        "\n",
        "# la idea es dividirlos por el punto medio entre los maximos\n",
        "# teninendo en cuenta que los dígitos se grabaron bastante separados \n",
        "# y aproximadamente equiespaciados\n",
        "\n",
        "def get_audio_split_points(x, aname = '', start_div = 0, n_audios = 11, listen = False, plot = False):\n",
        "    # busco los máximos del audio \"x\", para eso defino:\n",
        "    # start: un punto de comienzo (por si hay 'clicks' al principio del audio)\n",
        "    # win_length: un ancho de ventana para buscar el maximo\n",
        "    # windows: las posiciones de las ventanas en funcion de esos parámetros, conservando las 11 primeras para delimitar los digitos\n",
        "    win_length = len(x)//n_audios\n",
        "    if start_div == 0:\n",
        "        start = 0\n",
        "    else:\n",
        "        start = win_length//start_div\n",
        "    \n",
        "    windows = range(start, len(x), win_length)\n",
        "\n",
        "    # encuentra la posicion del máximo en cada ventana\n",
        "    maximos = [i + np.where(x[i:] == max(x[i:i + win_length]))[0][0] for i in windows[:-1]]\n",
        "    # calcula las coordenadas de los cortes como el promedio entre las posiciones de los maximos\n",
        "    split_coords = [(maximos[s] + maximos[s+1])//2 for s in range(len(maximos) - 1)]\n",
        "    # el ultimo corte es sumando la distancia del ultimo maximo al corte anterior\n",
        "    split_coords += [maximos[-1] + maximos[-1] - split_coords[-1]]\n",
        "    # el primer corte es restando la distancia del final del primer audio a su maximo\n",
        "    split_coords.insert(0, maximos[0] - (split_coords[0] - maximos[0]))\n",
        "\n",
        "    # genera las coordenadas de cada sub-audio como [inicio, fin] y las junta en un array\n",
        "    split_points = [[split_coords[i], split_coords[i+1]]  for i in range(len(split_coords) - 1)]\n",
        "\n",
        "    if (plot | listen) == True:\n",
        "        plt.figure(figsize=(15,5))\n",
        "        plt.plot(x, color = 'k')\n",
        "\n",
        "        for xc in windows:\n",
        "            plt.axvline(x = xc, color = '#55CC5588')\n",
        "        for xc in maximos:\n",
        "            plt.axvline(x = xc, color = '#AA000088')\n",
        "        for xc in split_coords:\n",
        "            plt.axvline(x = xc, color = 'k', linestyle = 'dashed')\n",
        "\n",
        "        # grafico el audio con las divisiones para verificar, más widgets para escucharlos\n",
        "        print(aname, 'k = ', k)\n",
        "        for split in split_points:\n",
        "            if listen == True:\n",
        "                display(Audio(x[split[0]:split[1]], rate = fs))\n",
        "            if plot == True:\n",
        "                xplot = np.zeros_like(x)\n",
        "                xplot[split[0]:split[1]] = x[split[0]:split[1]]\n",
        "                plt.plot(xplot)\n",
        "        if plot == True:\n",
        "            plt.show()\n",
        "        print('\\n')\n",
        "\n",
        "    return split_points"
      ],
      "execution_count": null,
      "outputs": []
    },
    {
      "cell_type": "code",
      "metadata": {
        "id": "L1G2tif7WMgG",
        "colab_type": "code",
        "colab": {}
      },
      "source": [
        "\n",
        "# no itero en los elementos directamente pues necesito saber el indice de alguno que no se haya partido bien\n",
        "# para analizarlo luego. este es un analisis exploratorio en cierto sentido\n",
        "for k in range(len(audios_nos)):\n",
        "    get_audio_split_points(audios_nos[k][0], aname = audios_nos[k][-1], start_div = 2, n_audios = 11, listen = True, plot = True)\n",
        " \n",
        "# se observa que para todos los elementos menos\n",
        "# 13 17 18\n",
        "# funciona bien start_div = 2"
      ],
      "execution_count": null,
      "outputs": []
    },
    {
      "cell_type": "code",
      "metadata": {
        "id": "htvlH8AFOFhp",
        "colab_type": "code",
        "colab": {}
      },
      "source": [
        "# analizamos los casos puntuales\n",
        "# para 18 anda bien 1\n",
        "# apra 13 y 17 anda bien 3\n",
        "for k in (13, 17):\n",
        "    get_audio_split_points(audios_nos[k][0], aname = audios_nos[k][-1], start_div = 3, n_audios = 11, listen = True, plot = True)\n",
        " "
      ],
      "execution_count": null,
      "outputs": []
    },
    {
      "cell_type": "code",
      "metadata": {
        "id": "boXIPDHEN6uQ",
        "colab_type": "code",
        "colab": {}
      },
      "source": [
        "# lista con el parametro de corte de cada audio\n",
        "audios_start_div = [1 if i == 18 else (3 if i == 13 or i == 17 else 2) for i in range(len(audios_nos))]\n",
        "\n",
        "# exporta audios\n",
        "!pip install soundfile\n",
        "import soundfile as sf\n",
        "\n",
        "# si no existe la carpeta con los audios la crea y crea las subfolders con\n",
        "# los nombres de los digitos\n",
        "audios_nos_folder = \"espichcomans\"\n",
        "if not os.path.exists(audios_nos_folder):\n",
        "    os.mkdir(audios_nos_folder)\n",
        "\n",
        "    for key in to_number.keys():\n",
        "        os.mkdir(audios_nos_folder + '/' + key)\n",
        "\n",
        "\n",
        "# para cada audio lo splitea y guarda los digitos\n",
        "for k in range(len(audios_nos)):\n",
        "    filename = audios_nos[k][-1].split('.')[0]\n",
        "    audiox = audios_nos[k][0]\n",
        "    fs = audios_nos[k][1]\n",
        "\n",
        "    split_points = get_audio_split_points(audiox,\n",
        "                                          aname = audios_nos[k][-1],\n",
        "                                          start_div = audios_start_div[k],\n",
        "                                          n_audios = 11,\n",
        "                                          listen = False, plot = False)\n",
        "    \n",
        "    # necesito los indices para saber que numero es :)\n",
        "    # algunas variables solamente por cuestion de legibilidad no lo dejo todo compactado\n",
        "    for j in range(len(split_points)):\n",
        "        folder = audios_nos_folder + '/' + list(to_number.keys())[j]\n",
        "        start, end = split_points[j]\n",
        "        sf.write(\"{}/{}_{}.wav\".format(folder, filename, j), audiox[start:end], fs)\n"
      ],
      "execution_count": null,
      "outputs": []
    },
    {
      "cell_type": "code",
      "metadata": {
        "id": "wEnad2G-P8GT",
        "colab_type": "code",
        "colab": {}
      },
      "source": [
        ""
      ],
      "execution_count": null,
      "outputs": []
    }
  ]
}