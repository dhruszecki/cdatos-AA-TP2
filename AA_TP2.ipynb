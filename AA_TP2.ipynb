{
 "cells": [
  {
   "cell_type": "code",
   "execution_count": null,
   "metadata": {},
   "outputs": [],
   "source": []
  },
  {
   "cell_type": "code",
   "execution_count": null,
   "metadata": {},
   "outputs": [],
   "source": [
    "integrantes = (\"Contreras, Daniel\", \"Diaz Villa, Virginia\", \"Hruszecki, Darío\", \"Marchio, Sergio\")\n",
    "\n",
    "print(\"TP2 AA, grupo 2 \\n\")\n",
    "\n",
    "for i in integrantes:\n",
    "    print(i)"
   ]
  },
  {
   "cell_type": "markdown",
   "metadata": {},
   "source": [
    "## Import de librerias utilizadas"
   ]
  },
  {
   "cell_type": "code",
   "execution_count": 2,
   "metadata": {},
   "outputs": [],
   "source": [
    "import librosa\n",
    "import glob\n",
    "import numpy as np\n",
    "import seaborn as sns\n",
    "import pandas as pd\n",
    "import os.path\n",
    "from os import path\n",
    "\n",
    "import matplotlib.pyplot as plt\n",
    "\n",
    "from enum import Enum\n",
    "from time import time\n",
    "\n",
    "from IPython.display import Audio\n",
    "from librosa.display import specshow\n",
    "from sklearn.naive_bayes import GaussianNB\n",
    "from sklearn.metrics import classification_report\n",
    "from sklearn.metrics import confusion_matrix\n",
    "from sklearn.model_selection import RandomizedSearchCV\n",
    "from sklearn.ensemble import GradientBoostingClassifier\n",
    "from sklearn.ensemble import RandomForestClassifier"
   ]
  },
  {
   "cell_type": "markdown",
   "metadata": {},
   "source": [
    "## Funciones para la obtención de features y modelado"
   ]
  },
  {
   "cell_type": "code",
   "execution_count": 3,
   "metadata": {},
   "outputs": [],
   "source": [
    "class AudioType(Enum):\n",
    "  TRAIN= 1   \n",
    "  VALIDATION= 2   \n",
    "  TEST= 3   \n",
    "  CUSTOM= 4   "
   ]
  },
  {
   "cell_type": "code",
   "execution_count": 4,
   "metadata": {},
   "outputs": [],
   "source": [
    "class Feature:\n",
    "  def __init__(self, filename, audio_type, noise_type=None):\n",
    "    self.filename = filename\n",
    "    self.noise_type = noise_type\n",
    "    self.audio_type = audio_type"
   ]
  },
  {
   "cell_type": "code",
   "execution_count": 26,
   "metadata": {},
   "outputs": [],
   "source": [
    "class Features(Enum):\n",
    "    Train = Feature(\"train_features.csv\",AudioType.TRAIN)\n",
    "    Validation = Feature(\"valid_features.csv\", AudioType.VALIDATION)\n",
    "    Test = Feature(\"test_features.csv\", AudioType.TEST) \n",
    "    Test_Noise_Gauss = Feature(\"test_features_gauss.csv\",AudioType.TEST, \"gauss\")\n",
    "    Test_Noise_Dishes = Feature(\"test_features_dishes.csv\", AudioType.TEST, \"doing_the_dishes.wav\")\n",
    "    Test_Noise_Dude = Feature(\"test_features_dude.csv\", AudioType.TEST, \"dude_miaowing.wav\")\n",
    "    Test_Noise_Bike = Feature(\"test_features_bike.csv\", AudioType.TEST, \"exercise_bike.wav\")\n",
    "    Test_Noise_Pink = Feature(\"test_features_pink.csv\", AudioType.TEST, \"pink_noise.wav\")\n",
    "    Test_Noise_Running = Feature(\"test_features_running.csv\", AudioType.TEST, \"running_tap.wav\")            \n",
    "    Test_Noise_White = Feature(\"test_features_white.csv\", AudioType.TEST, \"white_noise.wav\")"
   ]
  },
  {
   "cell_type": "code",
   "execution_count": 35,
   "metadata": {},
   "outputs": [],
   "source": [
    "def download_feature_if_needed(filename):\n",
    "    if not path.exists(\"features/\"+filename):\n",
    "        url = \"https://raw.githubusercontent.com/dhruszecki/cdatos-AA-TP2/master/features/\"+filename\n",
    "        !wget {url} -P features\n",
    "    else:\n",
    "        print(\"features/\" + filename, \" already exists! :)\")"
   ]
  },
  {
   "cell_type": "code",
   "execution_count": 6,
   "metadata": {
    "colab": {},
    "colab_type": "code",
    "id": "igceWq3yQiIh"
   },
   "outputs": [],
   "source": [
    "audio_filenames= None\n",
    "\n",
    "to_number = {\n",
    "  \"zero\": 0,\n",
    "  \"one\": 1,\n",
    "  \"two\": 2,\n",
    "  \"three\": 3,\n",
    "  \"four\": 4,\n",
    "  \"five\": 5,\n",
    "  \"six\": 6,\n",
    "  \"seven\": 7,\n",
    "  \"eight\": 8,\n",
    "  \"nine\": 9\n",
    "}\n",
    "\n",
    "def get_filenames():\n",
    "    \n",
    "    global audio_filenames\n",
    "    \n",
    "    if audio_filenames!= None:\n",
    "        return audio_filenames\n",
    "    \n",
    "    import os.path\n",
    "    from os import path\n",
    "    if not path.exists(\"speechcommands\"):\n",
    "        !wget http://download.tensorflow.org/data/speech_commands_v0.01.tar.gz\n",
    "        !mkdir speechcommands\n",
    "        !tar -xf speech_commands_v0.01.tar.gz -C speechcommands\n",
    "    \n",
    "    numbers_filenames = []\n",
    "\n",
    "    for i in to_number:\n",
    "        path = 'speechcommands/' + i + '/*.wav'\n",
    "        numbers_filenames.append(glob.glob(path))\n",
    "\n",
    "    test_filenames = ['speechcommands/' + e for e in open('speechcommands/testing_list.txt','r').read().splitlines() if e[:e.find('/')] in to_number]\n",
    "    valid_filenames = ['speechcommands/' + e for e in open('speechcommands/validation_list.txt','r').read().splitlines() if e[:e.find('/')] in to_number]\n",
    "    train_filenames = [e for n in range(10) for e in numbers_filenames[n] if (e not in test_filenames) and (e not in valid_filenames)]\n",
    "    \n",
    "    print('train_count:' , len(train_filenames))\n",
    "    print('test_count:' , len(test_filenames))\n",
    "    print('valid_count:' , len(valid_filenames))\n",
    "    \n",
    "    audio_filenames = {\n",
    "      AudioType.TRAIN: train_filenames,\n",
    "      AudioType.TEST: test_filenames,\n",
    "      AudioType.VALIDATION: valid_filenames  \n",
    "    }\n",
    "        \n",
    "    return audio_filenames"
   ]
  },
  {
   "cell_type": "code",
   "execution_count": 7,
   "metadata": {},
   "outputs": [],
   "source": [
    "def apply_noise(audio, noise_type):\n",
    "    ruido = None\n",
    "    if noise_type==\"gauss\":\n",
    "        ruido = np.random.normal(size=audio.shape)\n",
    "    else:\n",
    "        ruido, sr = librosa.core.load('speechcommands/_background_noise_/'+noise_type, sr=None)\n",
    "        ruido = 0.5*ruido[5000:5000+len(audio)]        \n",
    "    \n",
    "    return ruido + audio"
   ]
  },
  {
   "cell_type": "code",
   "execution_count": 8,
   "metadata": {
    "colab": {},
    "colab_type": "code",
    "id": "aABqrO8zSz07"
   },
   "outputs": [],
   "source": [
    "def calculate_features(filename, n_mfcc=12, delta=True, deltadelta=True, energy=True, summary_fn = [np.mean, np.std],\n",
    "                       summary_names=['mean', 'std'], noise_type=None):  \n",
    "  #Abro el archivo:\n",
    "  x, sr = librosa.core.load(filename,sr=None)\n",
    "  \n",
    "  if (noise_type != None):\n",
    "        x = apply_noise(x, noise_type)\n",
    "\n",
    "  #Calculo MFCCs\n",
    "  features = librosa.feature.mfcc(x,sr=sr,n_mfcc=n_mfcc)\n",
    "\n",
    "  #Calculo energia:\n",
    "  if energy:\n",
    "    energy = librosa.feature.rmse(x)\n",
    "    features = np.concatenate([features,energy])\n",
    "\n",
    "  #Aplico media y desvio estandar por defecto\n",
    "  summary_features = np.concatenate([fn(features,axis=1) for fn in summary_fn])\n",
    "    \n",
    "  #Lo mismo con los delta\n",
    "  if delta:\n",
    "    deltafeatures = np.diff(features)\n",
    "    summary_features = np.concatenate([summary_features,np.concatenate([fn(deltafeatures,axis=1) for fn in summary_fn])])\n",
    "\n",
    "  #Y con los delta de segundo orden\n",
    "  if deltadelta:\n",
    "    deltadeltafeatures = np.diff(features,n=2)\n",
    "    summary_features = np.concatenate([summary_features,np.concatenate([fn(deltadeltafeatures,axis=1) for fn in summary_fn])]) \n",
    "  \n",
    "  summary_features = np.append(summary_features, [to_number[filename.split('/')[1]], filename])\n",
    "\n",
    "  return summary_features"
   ]
  },
  {
   "cell_type": "code",
   "execution_count": 9,
   "metadata": {},
   "outputs": [],
   "source": [
    "features_names= None\n",
    "def name_features(filename = '', n_mfcc=12, delta=True, deltadelta=True, energy=True, summary_fn = [np.mean, np.std], summary_names=['mean', 'std']):\n",
    "    global features_names\n",
    "    \n",
    "    if features_names!= None:\n",
    "        return features_names\n",
    "    \n",
    "    features_names = ['mfcc_{}'.format(i) for i in range(n_mfcc)]\n",
    "    if energy: features_names = features_names + ['energy']\n",
    "    features_names = ['{}_{}'.format(name_i,summ_i) for summ_i in summary_names for name_i in features_names]\n",
    "    if delta: d_names = ['d{}'.format(name) for name in features_names]\n",
    "    if deltadelta: dd_names = ['dd{}'.format(name) for name in features_names]\n",
    "\n",
    "    features_names = features_names + d_names + dd_names + ['digit', 'file']\n",
    "\n",
    "    return features_names"
   ]
  },
  {
   "cell_type": "code",
   "execution_count": 10,
   "metadata": {
    "scrolled": true
   },
   "outputs": [],
   "source": [
    "def calculate_features_if_needed(feature):\n",
    "    result_path = \"features/\"+feature.filename\n",
    "    result = []\n",
    "    if not path.exists(result_path):\n",
    "        print(\"Getting filenames\")\n",
    "        filenames = get_filenames()[feature.audio_type]        \n",
    "        \n",
    "        print(\"Calculating features for \", len(filenames), \" rows -> \", result_path)\n",
    "        features_names = name_features()\n",
    "        features_data = [calculate_features(filename, noise_type= feature.noise_type) for filename in filenames]\n",
    "        pd.DataFrame(data = features_data, columns = features_names).to_csv(result_path)\n",
    "        \n",
    "    \n",
    "    print(\"Loading saved features <- \", result_path)\n",
    "    result = pd.read_csv(result_path)\n",
    "    \n",
    "    return result"
   ]
  },
  {
   "cell_type": "code",
   "execution_count": 11,
   "metadata": {},
   "outputs": [],
   "source": [
    "def load_features(feature):\n",
    "    features = pd.DataFrame(calculate_features_if_needed(feature))\n",
    "    features.drop(['file', 'Unnamed: 0'], axis=1, inplace=True)\n",
    "    print(pd.crosstab(index=features[\"digit\"], columns=\"count\", normalize=True))\n",
    "    return features"
   ]
  },
  {
   "cell_type": "code",
   "execution_count": 56,
   "metadata": {},
   "outputs": [],
   "source": [
    "def printAccuracy(label, model, features): \n",
    "    print(\"Accuracy \"+label+\" : {:.3f}\".format(model.score(features.drop('digit',axis=1).values, \n",
    "                                                   features.digit.values))) "
   ]
  },
  {
   "cell_type": "markdown",
   "metadata": {},
   "source": [
    "##  Obtenemos features"
   ]
  },
  {
   "cell_type": "markdown",
   "metadata": {},
   "source": [
    "### Descargamos los features guardados previamente"
   ]
  },
  {
   "cell_type": "code",
   "execution_count": 36,
   "metadata": {},
   "outputs": [
    {
     "name": "stdout",
     "output_type": "stream",
     "text": [
      "--2020-07-09 17:29:40--  https://raw.githubusercontent.com/dhruszecki/cdatos-AA-TP2/master/features/train_features.csv\n",
      "Resolving raw.githubusercontent.com (raw.githubusercontent.com)... 151.101.216.133\n",
      "Connecting to raw.githubusercontent.com (raw.githubusercontent.com)|151.101.216.133|:443... connected.\n",
      "HTTP request sent, awaiting response... 200 OK\n",
      "Length: 28795635 (27M) [text/plain]\n",
      "Saving to: ‘features/train_features.csv’\n",
      "\n",
      "train_features.csv  100%[===================>]  27,46M  6,56MB/s    in 4,2s    \n",
      "\n",
      "2020-07-09 17:29:47 (6,50 MB/s) - ‘features/train_features.csv’ saved [28795635/28795635]\n",
      "\n",
      "--2020-07-09 17:29:47--  https://raw.githubusercontent.com/dhruszecki/cdatos-AA-TP2/master/features/valid_features.csv\n",
      "Resolving raw.githubusercontent.com (raw.githubusercontent.com)... 151.101.216.133\n",
      "Connecting to raw.githubusercontent.com (raw.githubusercontent.com)|151.101.216.133|:443... connected.\n",
      "HTTP request sent, awaiting response... 200 OK\n",
      "Length: 3856498 (3,7M) [text/plain]\n",
      "Saving to: ‘features/valid_features.csv’\n",
      "\n",
      "valid_features.csv  100%[===================>]   3,68M  6,25MB/s    in 0,6s    \n",
      "\n",
      "2020-07-09 17:29:48 (6,25 MB/s) - ‘features/valid_features.csv’ saved [3856498/3856498]\n",
      "\n",
      "--2020-07-09 17:29:49--  https://raw.githubusercontent.com/dhruszecki/cdatos-AA-TP2/master/features/test_features.csv\n",
      "Resolving raw.githubusercontent.com (raw.githubusercontent.com)... 151.101.216.133\n",
      "Connecting to raw.githubusercontent.com (raw.githubusercontent.com)|151.101.216.133|:443... connected.\n",
      "HTTP request sent, awaiting response... 200 OK\n",
      "Length: 3943789 (3,8M) [text/plain]\n",
      "Saving to: ‘features/test_features.csv’\n",
      "\n",
      "test_features.csv   100%[===================>]   3,76M  6,38MB/s    in 0,6s    \n",
      "\n",
      "2020-07-09 17:29:50 (6,38 MB/s) - ‘features/test_features.csv’ saved [3943789/3943789]\n",
      "\n",
      "--2020-07-09 17:29:50--  https://raw.githubusercontent.com/dhruszecki/cdatos-AA-TP2/master/features/test_features_gauss.csv\n",
      "Resolving raw.githubusercontent.com (raw.githubusercontent.com)... 151.101.216.133\n",
      "Connecting to raw.githubusercontent.com (raw.githubusercontent.com)|151.101.216.133|:443... connected.\n",
      "HTTP request sent, awaiting response... 200 OK\n",
      "Length: 3994432 (3,8M) [text/plain]\n",
      "Saving to: ‘features/test_features_gauss.csv’\n",
      "\n",
      "test_features_gauss 100%[===================>]   3,81M  6,27MB/s    in 0,6s    \n",
      "\n",
      "2020-07-09 17:29:52 (6,27 MB/s) - ‘features/test_features_gauss.csv’ saved [3994432/3994432]\n",
      "\n",
      "--2020-07-09 17:29:52--  https://raw.githubusercontent.com/dhruszecki/cdatos-AA-TP2/master/features/test_features_dude.csv\n",
      "Resolving raw.githubusercontent.com (raw.githubusercontent.com)... 151.101.216.133\n",
      "Connecting to raw.githubusercontent.com (raw.githubusercontent.com)|151.101.216.133|:443... connected.\n",
      "HTTP request sent, awaiting response... 200 OK\n",
      "Length: 3939443 (3,8M) [text/plain]\n",
      "Saving to: ‘features/test_features_dude.csv’\n",
      "\n",
      "test_features_dude. 100%[===================>]   3,76M  5,73MB/s    in 0,7s    \n",
      "\n",
      "2020-07-09 17:29:55 (5,73 MB/s) - ‘features/test_features_dude.csv’ saved [3939443/3939443]\n",
      "\n",
      "--2020-07-09 17:29:55--  https://raw.githubusercontent.com/dhruszecki/cdatos-AA-TP2/master/features/test_features_bike.csv\n",
      "Resolving raw.githubusercontent.com (raw.githubusercontent.com)... 151.101.216.133\n",
      "Connecting to raw.githubusercontent.com (raw.githubusercontent.com)|151.101.216.133|:443... connected.\n",
      "HTTP request sent, awaiting response... 200 OK\n",
      "Length: 3928860 (3,7M) [text/plain]\n",
      "Saving to: ‘features/test_features_bike.csv’\n",
      "\n",
      "test_features_bike. 100%[===================>]   3,75M  6,07MB/s    in 0,6s    \n",
      "\n",
      "2020-07-09 17:29:58 (6,07 MB/s) - ‘features/test_features_bike.csv’ saved [3928860/3928860]\n",
      "\n",
      "--2020-07-09 17:29:58--  https://raw.githubusercontent.com/dhruszecki/cdatos-AA-TP2/master/features/test_features_pink.csv\n",
      "Resolving raw.githubusercontent.com (raw.githubusercontent.com)... 151.101.216.133\n",
      "Connecting to raw.githubusercontent.com (raw.githubusercontent.com)|151.101.216.133|:443... connected.\n",
      "HTTP request sent, awaiting response... 200 OK\n",
      "Length: 3943866 (3,8M) [text/plain]\n",
      "Saving to: ‘features/test_features_pink.csv’\n",
      "\n",
      "test_features_pink. 100%[===================>]   3,76M  6,38MB/s    in 0,6s    \n",
      "\n",
      "2020-07-09 17:30:00 (6,38 MB/s) - ‘features/test_features_pink.csv’ saved [3943866/3943866]\n",
      "\n",
      "--2020-07-09 17:30:00--  https://raw.githubusercontent.com/dhruszecki/cdatos-AA-TP2/master/features/test_features_running.csv\n",
      "Resolving raw.githubusercontent.com (raw.githubusercontent.com)... 151.101.216.133\n",
      "Connecting to raw.githubusercontent.com (raw.githubusercontent.com)|151.101.216.133|:443... connected.\n",
      "HTTP request sent, awaiting response... 200 OK\n",
      "Length: 3944895 (3,8M) [text/plain]\n",
      "Saving to: ‘features/test_features_running.csv’\n",
      "\n",
      "test_features_runni 100%[===================>]   3,76M  6,39MB/s    in 0,6s    \n",
      "\n",
      "2020-07-09 17:30:03 (6,39 MB/s) - ‘features/test_features_running.csv’ saved [3944895/3944895]\n",
      "\n",
      "--2020-07-09 17:30:03--  https://raw.githubusercontent.com/dhruszecki/cdatos-AA-TP2/master/features/test_features_white.csv\n",
      "Resolving raw.githubusercontent.com (raw.githubusercontent.com)... 151.101.216.133\n",
      "Connecting to raw.githubusercontent.com (raw.githubusercontent.com)|151.101.216.133|:443... connected.\n",
      "HTTP request sent, awaiting response... 200 OK\n",
      "Length: 3998124 (3,8M) [text/plain]\n",
      "Saving to: ‘features/test_features_white.csv’\n",
      "\n",
      "test_features_white 100%[===================>]   3,81M  6,29MB/s    in 0,6s    \n",
      "\n",
      "2020-07-09 17:30:06 (6,29 MB/s) - ‘features/test_features_white.csv’ saved [3998124/3998124]\n",
      "\n"
     ]
    }
   ],
   "source": [
    "download_feature_if_needed(\"train_features.csv\")\n",
    "download_feature_if_needed(\"valid_features.csv\")\n",
    "download_feature_if_needed(\"test_features.csv\")\n",
    "download_feature_if_needed(\"test_features_gauss.csv\")\n",
    "download_feature_if_needed(\"test_features_dude.csv\")\n",
    "download_feature_if_needed(\"test_features_bike.csv\")\n",
    "download_feature_if_needed(\"test_features_pink.csv\")\n",
    "download_feature_if_needed(\"test_features_running.csv\")\n",
    "download_feature_if_needed(\"test_features_white.csv\")\n",
    "download_feature_if_needed(\"test_features_dishes.csv\")"
   ]
  },
  {
   "cell_type": "markdown",
   "metadata": {},
   "source": [
    "### Features de entrenamiento"
   ]
  },
  {
   "cell_type": "code",
   "execution_count": 37,
   "metadata": {
    "scrolled": true
   },
   "outputs": [
    {
     "name": "stdout",
     "output_type": "stream",
     "text": [
      "Loading saved features <-  features/train_features.csv\n",
      "col_0     count\n",
      "digit          \n",
      "0      0.100215\n",
      "1      0.101611\n",
      "2      0.100591\n",
      "3      0.098872\n",
      "4      0.098765\n",
      "5      0.099033\n",
      "6      0.100054\n",
      "7      0.100698\n",
      "8      0.099463\n",
      "9      0.100698\n",
      "CPU times: user 253 ms, sys: 30.1 ms, total: 283 ms\n",
      "Wall time: 281 ms\n"
     ]
    }
   ],
   "source": [
    "%%time\n",
    "train_features = load_features(Features.Train.value)"
   ]
  },
  {
   "cell_type": "markdown",
   "metadata": {},
   "source": [
    "### Features de validación"
   ]
  },
  {
   "cell_type": "code",
   "execution_count": 38,
   "metadata": {},
   "outputs": [
    {
     "name": "stdout",
     "output_type": "stream",
     "text": [
      "Loading saved features <-  features/valid_features.csv\n",
      "col_0     count\n",
      "digit          \n",
      "0      0.104250\n",
      "1      0.092221\n",
      "2      0.094627\n",
      "3      0.099439\n",
      "4      0.112269\n",
      "5      0.097033\n",
      "6      0.105052\n",
      "7      0.105453\n",
      "8      0.097434\n",
      "9      0.092221\n",
      "CPU times: user 53.5 ms, sys: 1.06 ms, total: 54.5 ms\n",
      "Wall time: 52 ms\n"
     ]
    }
   ],
   "source": [
    "%%time\n",
    "validation_features = load_features(Features.Validation.value)"
   ]
  },
  {
   "cell_type": "markdown",
   "metadata": {},
   "source": [
    "### Features de Desarrollo"
   ]
  },
  {
   "cell_type": "code",
   "execution_count": 39,
   "metadata": {},
   "outputs": [],
   "source": [
    "develop_features = validation_features.append(train_features, ignore_index=True)"
   ]
  },
  {
   "cell_type": "markdown",
   "metadata": {},
   "source": [
    "### Features de test"
   ]
  },
  {
   "cell_type": "markdown",
   "metadata": {},
   "source": [
    "#### Test Originales"
   ]
  },
  {
   "cell_type": "code",
   "execution_count": 41,
   "metadata": {},
   "outputs": [
    {
     "name": "stdout",
     "output_type": "stream",
     "text": [
      "Loading saved features <-  features/test_features.csv\n",
      "col_0     count\n",
      "digit          \n",
      "0      0.097962\n",
      "1      0.097179\n",
      "2      0.103448\n",
      "3      0.104624\n",
      "4      0.099138\n",
      "5      0.106191\n",
      "6      0.095611\n",
      "7      0.093652\n",
      "8      0.100705\n",
      "9      0.101489\n",
      "CPU times: user 64.7 ms, sys: 66 µs, total: 64.8 ms\n",
      "Wall time: 62.4 ms\n"
     ]
    }
   ],
   "source": [
    "%%time\n",
    "test_features = load_features(Features.Test.value)"
   ]
  },
  {
   "cell_type": "markdown",
   "metadata": {},
   "source": [
    "#### Test con ruido Gausiano"
   ]
  },
  {
   "cell_type": "code",
   "execution_count": 42,
   "metadata": {},
   "outputs": [
    {
     "name": "stdout",
     "output_type": "stream",
     "text": [
      "Loading saved features <-  features/test_features_gauss.csv\n",
      "col_0     count\n",
      "digit          \n",
      "0      0.097962\n",
      "1      0.097179\n",
      "2      0.103448\n",
      "3      0.104624\n",
      "4      0.099138\n",
      "5      0.106191\n",
      "6      0.095611\n",
      "7      0.093652\n",
      "8      0.100705\n",
      "9      0.101489\n",
      "CPU times: user 52.7 ms, sys: 12.1 ms, total: 64.8 ms\n",
      "Wall time: 63.1 ms\n"
     ]
    }
   ],
   "source": [
    "%%time\n",
    "test_features_gauss = load_features(Features.Test_Noise_Gauss.value)"
   ]
  },
  {
   "cell_type": "markdown",
   "metadata": {},
   "source": [
    "#### Test con ruido `doing_the_dishes`"
   ]
  },
  {
   "cell_type": "code",
   "execution_count": 43,
   "metadata": {},
   "outputs": [
    {
     "name": "stdout",
     "output_type": "stream",
     "text": [
      "Getting filenames\n",
      "Calculating features for  2552  rows ->  features/test_features_dishes.csv\n",
      "Loading saved features <-  features/test_features_dishes.csv\n",
      "col_0     count\n",
      "digit          \n",
      "0      0.097962\n",
      "1      0.097179\n",
      "2      0.103448\n",
      "3      0.104624\n",
      "4      0.099138\n",
      "5      0.106191\n",
      "6      0.095611\n",
      "7      0.093652\n",
      "8      0.100705\n",
      "9      0.101489\n",
      "CPU times: user 1min 56s, sys: 2min 12s, total: 4min 9s\n",
      "Wall time: 8min 2s\n"
     ]
    }
   ],
   "source": [
    "%%time\n",
    "test_features_dishes = load_features(Features.Test_Noise_Dishes.value)"
   ]
  },
  {
   "cell_type": "markdown",
   "metadata": {},
   "source": [
    "#### Test con ruido `dude_miaowing`"
   ]
  },
  {
   "cell_type": "code",
   "execution_count": 44,
   "metadata": {},
   "outputs": [
    {
     "name": "stdout",
     "output_type": "stream",
     "text": [
      "Loading saved features <-  features/test_features_dude.csv\n",
      "col_0     count\n",
      "digit          \n",
      "0      0.097962\n",
      "1      0.097179\n",
      "2      0.103448\n",
      "3      0.104624\n",
      "4      0.099138\n",
      "5      0.106191\n",
      "6      0.095611\n",
      "7      0.093652\n",
      "8      0.100705\n",
      "9      0.101489\n",
      "CPU times: user 53.1 ms, sys: 8.77 ms, total: 61.9 ms\n",
      "Wall time: 59.8 ms\n"
     ]
    }
   ],
   "source": [
    "%%time\n",
    "test_features_dude = load_features(Features.Test_Noise_Dude.value)"
   ]
  },
  {
   "cell_type": "markdown",
   "metadata": {},
   "source": [
    "#### Test con ruido `exercise_bike`"
   ]
  },
  {
   "cell_type": "code",
   "execution_count": 45,
   "metadata": {},
   "outputs": [
    {
     "name": "stdout",
     "output_type": "stream",
     "text": [
      "Loading saved features <-  features/test_features_bike.csv\n",
      "col_0     count\n",
      "digit          \n",
      "0      0.097962\n",
      "1      0.097179\n",
      "2      0.103448\n",
      "3      0.104624\n",
      "4      0.099138\n",
      "5      0.106191\n",
      "6      0.095611\n",
      "7      0.093652\n",
      "8      0.100705\n",
      "9      0.101489\n",
      "CPU times: user 53.8 ms, sys: 9.69 ms, total: 63.5 ms\n",
      "Wall time: 61.7 ms\n"
     ]
    }
   ],
   "source": [
    "%%time\n",
    "test_features_bike = load_features(Features.Test_Noise_Bike.value)"
   ]
  },
  {
   "cell_type": "markdown",
   "metadata": {},
   "source": [
    "#### Test con ruido `pink_noise`"
   ]
  },
  {
   "cell_type": "code",
   "execution_count": 46,
   "metadata": {},
   "outputs": [
    {
     "name": "stdout",
     "output_type": "stream",
     "text": [
      "Loading saved features <-  features/test_features_pink.csv\n",
      "col_0     count\n",
      "digit          \n",
      "0      0.097962\n",
      "1      0.097179\n",
      "2      0.103448\n",
      "3      0.104624\n",
      "4      0.099138\n",
      "5      0.106191\n",
      "6      0.095611\n",
      "7      0.093652\n",
      "8      0.100705\n",
      "9      0.101489\n",
      "CPU times: user 53.2 ms, sys: 0 ns, total: 53.2 ms\n",
      "Wall time: 51.1 ms\n"
     ]
    }
   ],
   "source": [
    "%%time\n",
    "test_features_pink = load_features(Features.Test_Noise_Pink.value)"
   ]
  },
  {
   "cell_type": "markdown",
   "metadata": {},
   "source": [
    "#### Test con ruido `running_tap`"
   ]
  },
  {
   "cell_type": "code",
   "execution_count": 47,
   "metadata": {},
   "outputs": [
    {
     "name": "stdout",
     "output_type": "stream",
     "text": [
      "Loading saved features <-  features/test_features_running.csv\n",
      "col_0     count\n",
      "digit          \n",
      "0      0.097962\n",
      "1      0.097179\n",
      "2      0.103448\n",
      "3      0.104624\n",
      "4      0.099138\n",
      "5      0.106191\n",
      "6      0.095611\n",
      "7      0.093652\n",
      "8      0.100705\n",
      "9      0.101489\n",
      "CPU times: user 53.3 ms, sys: 12.7 ms, total: 66 ms\n",
      "Wall time: 64.1 ms\n"
     ]
    }
   ],
   "source": [
    "%%time\n",
    "test_features_running = load_features(Features.Test_Noise_Running.value)"
   ]
  },
  {
   "cell_type": "markdown",
   "metadata": {},
   "source": [
    "#### Test con ruido `white_noise`"
   ]
  },
  {
   "cell_type": "code",
   "execution_count": 48,
   "metadata": {},
   "outputs": [
    {
     "name": "stdout",
     "output_type": "stream",
     "text": [
      "Loading saved features <-  features/test_features_white.csv\n",
      "col_0     count\n",
      "digit          \n",
      "0      0.097962\n",
      "1      0.097179\n",
      "2      0.103448\n",
      "3      0.104624\n",
      "4      0.099138\n",
      "5      0.106191\n",
      "6      0.095611\n",
      "7      0.093652\n",
      "8      0.100705\n",
      "9      0.101489\n",
      "CPU times: user 46.6 ms, sys: 3.48 ms, total: 50.1 ms\n",
      "Wall time: 49.2 ms\n"
     ]
    }
   ],
   "source": [
    "%%time\n",
    "test_features_white = load_features(Features.Test_Noise_White.value)"
   ]
  },
  {
   "cell_type": "markdown",
   "metadata": {},
   "source": [
    "# Modelos"
   ]
  },
  {
   "cell_type": "markdown",
   "metadata": {},
   "source": [
    "## Naive Bayes"
   ]
  },
  {
   "cell_type": "markdown",
   "metadata": {},
   "source": [
    "### Entrenamiento"
   ]
  },
  {
   "cell_type": "code",
   "execution_count": 59,
   "metadata": {},
   "outputs": [
    {
     "name": "stdout",
     "output_type": "stream",
     "text": [
      "Accuracy Training : 0.541\n",
      "Accuracy Validación : 0.537\n",
      "              precision    recall  f1-score   support\n",
      "\n",
      "           0       0.64      0.65      0.64       260\n",
      "           1       0.36      0.58      0.45       230\n",
      "           2       0.37      0.48      0.42       236\n",
      "           3       0.55      0.55      0.55       248\n",
      "           4       0.72      0.53      0.61       280\n",
      "           5       0.54      0.53      0.54       242\n",
      "           6       0.50      0.58      0.54       262\n",
      "           7       0.58      0.49      0.53       263\n",
      "           8       0.74      0.56      0.63       243\n",
      "           9       0.61      0.41      0.49       230\n",
      "\n",
      "    accuracy                           0.54      2494\n",
      "   macro avg       0.56      0.54      0.54      2494\n",
      "weighted avg       0.57      0.54      0.54      2494\n",
      "\n",
      "CPU times: user 102 ms, sys: 4.26 ms, total: 106 ms\n",
      "Wall time: 104 ms\n"
     ]
    }
   ],
   "source": [
    "%%time\n",
    "\n",
    "naive_bayes = GaussianNB()\n",
    "naive_bayes.fit(train_features.drop('digit',axis=1).values, train_features.digit.values)\n",
    "predict_nb1 = naive_bayes.predict(validation_features.drop('digit',axis=1).values)\n",
    "\n",
    "printAccuracy(\"Training\", naive_bayes, train_features)\n",
    "printAccuracy(\"Validación\", naive_bayes, validation_features)\n",
    "\n",
    "print(classification_report(validation_features.digit.values, predict_nb1))"
   ]
  },
  {
   "cell_type": "markdown",
   "metadata": {},
   "source": [
    "###  Matriz de Confusión "
   ]
  },
  {
   "cell_type": "code",
   "execution_count": 69,
   "metadata": {},
   "outputs": [
    {
     "name": "stdout",
     "output_type": "stream",
     "text": [
      "CPU times: user 114 ms, sys: 9.47 ms, total: 124 ms\n",
      "Wall time: 186 ms\n"
     ]
    },
    {
     "data": {
      "text/plain": [
       "Text(32.7, 0.5, 'True')"
      ]
     },
     "execution_count": 69,
     "metadata": {},
     "output_type": "execute_result"
    },
    {
     "data": {
      "image/png": "[encoded data removed]",
      "text/plain": [
       "<Figure size 432x288 with 2 Axes>"
      ]
     },
     "metadata": {
      "needs_background": "light"
     },
     "output_type": "display_data"
    }
   ],
   "source": [
    "%%time\n",
    "\n",
    "sns.set_context('paper')\n",
    "sns.heatmap(confusion_matrix(validation_features.digit.values, predict_nb1), annot=True, fmt='g')\n",
    "plt.xlabel('Predict')\n",
    "plt.ylabel('True')"
   ]
  },
  {
   "cell_type": "markdown",
   "metadata": {},
   "source": [
    "### Impacto del ruido en el rendimiento "
   ]
  },
  {
   "cell_type": "code",
   "execution_count": 66,
   "metadata": {
    "scrolled": true
   },
   "outputs": [
    {
     "name": "stdout",
     "output_type": "stream",
     "text": [
      "Accuracy Develop : 0.542\n",
      "Accuracy Test : 0.531\n",
      "              precision    recall  f1-score   support\n",
      "\n",
      "           0       0.55      0.50      0.52       250\n",
      "           1       0.41      0.49      0.45       248\n",
      "           2       0.41      0.50      0.45       264\n",
      "           3       0.54      0.48      0.51       267\n",
      "           4       0.71      0.57      0.63       253\n",
      "           5       0.57      0.59      0.58       271\n",
      "           6       0.48      0.65      0.55       244\n",
      "           7       0.56      0.46      0.51       239\n",
      "           8       0.62      0.61      0.61       257\n",
      "           9       0.59      0.45      0.51       259\n",
      "\n",
      "    accuracy                           0.53      2552\n",
      "   macro avg       0.54      0.53      0.53      2552\n",
      "weighted avg       0.54      0.53      0.53      2552\n",
      "\n",
      "Accuracy Ruido Gaussiano : 0.098\n",
      "              precision    recall  f1-score   support\n",
      "\n",
      "           0       0.10      1.00      0.18       250\n",
      "           1       0.00      0.00      0.00       248\n",
      "           2       0.00      0.00      0.00       264\n",
      "           3       0.00      0.00      0.00       267\n",
      "           4       0.00      0.00      0.00       253\n",
      "           5       0.00      0.00      0.00       271\n",
      "           6       0.00      0.00      0.00       244\n",
      "           7       0.00      0.00      0.00       239\n",
      "           8       0.00      0.00      0.00       257\n",
      "           9       0.00      0.00      0.00       259\n",
      "\n",
      "    accuracy                           0.10      2552\n",
      "   macro avg       0.01      0.10      0.02      2552\n",
      "weighted avg       0.01      0.10      0.02      2552\n",
      "\n",
      "Accuracy Ruido Doing the Dishes : 0.215\n",
      "              precision    recall  f1-score   support\n",
      "\n",
      "           0       0.62      0.02      0.04       250\n",
      "           1       0.62      0.09      0.16       248\n",
      "           2       0.23      0.69      0.34       264\n",
      "           3       0.20      0.00      0.01       267\n",
      "           4       0.48      0.24      0.32       253\n",
      "           5       0.18      0.84      0.30       271\n",
      "           6       1.00      0.01      0.02       244\n",
      "           7       0.20      0.00      0.01       239\n",
      "           8       0.14      0.16      0.15       257\n",
      "           9       0.22      0.01      0.01       259\n",
      "\n",
      "    accuracy                           0.22      2552\n",
      "   macro avg       0.39      0.21      0.14      2552\n",
      "weighted avg       0.38      0.22      0.14      2552\n",
      "\n",
      "Accuracy Ruido Dude Miaowing : 0.508\n",
      "              precision    recall  f1-score   support\n",
      "\n",
      "           0       0.51      0.54      0.53       250\n",
      "           1       0.45      0.46      0.45       248\n",
      "           2       0.27      0.68      0.38       264\n",
      "           3       0.53      0.40      0.45       267\n",
      "           4       0.68      0.61      0.64       253\n",
      "           5       0.65      0.62      0.63       271\n",
      "           6       0.63      0.54      0.58       244\n",
      "           7       0.58      0.52      0.55       239\n",
      "           8       0.80      0.42      0.55       257\n",
      "           9       0.67      0.28      0.40       259\n",
      "\n",
      "    accuracy                           0.51      2552\n",
      "   macro avg       0.58      0.51      0.52      2552\n",
      "weighted avg       0.58      0.51      0.52      2552\n",
      "\n",
      "Accuracy Ruido Exercise Bike : 0.208\n",
      "              precision    recall  f1-score   support\n",
      "\n",
      "           0       0.43      0.01      0.02       250\n",
      "           1       0.44      0.22      0.29       248\n",
      "           2       0.13      0.91      0.23       264\n",
      "           3       0.25      0.01      0.01       267\n",
      "           4       0.41      0.23      0.29       253\n",
      "           5       0.54      0.41      0.46       271\n",
      "           6       1.00      0.02      0.03       244\n",
      "           7       0.30      0.01      0.02       239\n",
      "           8       0.26      0.22      0.24       257\n",
      "           9       1.00      0.01      0.02       259\n",
      "\n",
      "    accuracy                           0.21      2552\n",
      "   macro avg       0.48      0.20      0.16      2552\n",
      "weighted avg       0.47      0.21      0.17      2552\n",
      "\n",
      "Accuracy Ruido Running Tap : 0.147\n",
      "              precision    recall  f1-score   support\n",
      "\n",
      "           0       0.67      0.01      0.02       250\n",
      "           1       0.80      0.02      0.03       248\n",
      "           2       0.11      0.70      0.19       264\n",
      "           3       0.00      0.00      0.00       267\n",
      "           4       0.41      0.03      0.05       253\n",
      "           5       0.48      0.25      0.33       271\n",
      "           6       0.00      0.00      0.00       244\n",
      "           7       0.00      0.00      0.00       239\n",
      "           8       0.15      0.41      0.22       257\n",
      "           9       0.00      0.00      0.00       259\n",
      "\n",
      "    accuracy                           0.15      2552\n",
      "   macro avg       0.26      0.14      0.08      2552\n",
      "weighted avg       0.26      0.15      0.09      2552\n",
      "\n",
      "Accuracy Ruido Pink Noise : 0.113\n",
      "              precision    recall  f1-score   support\n",
      "\n",
      "           0       0.00      0.00      0.00       250\n",
      "           1       0.00      0.00      0.00       248\n",
      "           2       0.10      0.50      0.17       264\n",
      "           3       0.00      0.00      0.00       267\n",
      "           4       0.14      0.06      0.09       253\n",
      "           5       0.75      0.02      0.04       271\n",
      "           6       0.00      0.00      0.00       244\n",
      "           7       0.00      0.00      0.00       239\n",
      "           8       0.12      0.53      0.20       257\n",
      "           9       0.00      0.00      0.00       259\n",
      "\n",
      "    accuracy                           0.11      2552\n",
      "   macro avg       0.11      0.11      0.05      2552\n",
      "weighted avg       0.12      0.11      0.05      2552\n",
      "\n",
      "Accuracy Ruido White Noise : 0.116\n",
      "              precision    recall  f1-score   support\n",
      "\n",
      "           0       0.00      0.00      0.00       250\n",
      "           1       0.00      0.00      0.00       248\n",
      "           2       0.11      0.69      0.19       264\n",
      "           3       0.00      0.00      0.00       267\n",
      "           4       0.17      0.03      0.05       253\n",
      "           5       0.67      0.03      0.06       271\n",
      "           6       0.00      0.00      0.00       244\n",
      "           7       0.00      0.00      0.00       239\n",
      "           8       0.12      0.38      0.19       257\n",
      "           9       0.00      0.00      0.00       259\n",
      "\n",
      "    accuracy                           0.12      2552\n",
      "   macro avg       0.11      0.11      0.05      2552\n",
      "weighted avg       0.11      0.12      0.05      2552\n",
      "\n",
      "CPU times: user 219 ms, sys: 24.8 ms, total: 243 ms\n",
      "Wall time: 239 ms\n"
     ]
    }
   ],
   "source": [
    "%%time\n",
    "\n",
    "naive_bayes_dev = GaussianNB()\n",
    "naive_bayes_dev.fit(develop_features.drop('digit',axis=1).values, develop_features.digit.values)\n",
    "predict_nb_test = naive_bayes_dev.predict(test_features.drop('digit',axis=1).values)\n",
    "predict_nb_gauss = naive_bayes_dev.predict(test_features_gauss.drop('digit',axis=1).values)\n",
    "predict_nb_dishes = naive_bayes_dev.predict(test_features_dishes.drop('digit',axis=1).values)\n",
    "predict_nb_dude = naive_bayes_dev.predict(test_features_dude.drop('digit',axis=1).values)\n",
    "predict_nb_bike = naive_bayes_dev.predict(test_features_bike.drop('digit',axis=1).values)\n",
    "predict_nb_running = naive_bayes_dev.predict(test_features_running.drop('digit',axis=1).values)\n",
    "predict_nb_pink = naive_bayes_dev.predict(test_features_pink.drop('digit',axis=1).values)\n",
    "predict_nb_white = naive_bayes_dev.predict(test_features_white.drop('digit',axis=1).values)\n",
    "\n",
    "printAccuracy(\"Develop\", naive_bayes_dev, develop_features)\n",
    "\n",
    "printAccuracy(\"Test\", naive_bayes_dev, test_features)\n",
    "print(classification_report(test_features.digit.values, predict_nb_test))\n",
    "\n",
    "printAccuracy(\"Ruido Gaussiano\", naive_bayes_dev, test_features_gauss)\n",
    "print(classification_report(test_features_gauss.digit.values, predict_nb_gauss, zero_division=0))\n",
    "\n",
    "printAccuracy(\"Ruido Doing the Dishes\", naive_bayes_dev, test_features_dishes)\n",
    "print(classification_report(test_features_dishes.digit.values, predict_nb_dishes, zero_division=0))\n",
    "\n",
    "printAccuracy(\"Ruido Dude Miaowing\", naive_bayes_dev, test_features_dude)\n",
    "print(classification_report(test_features_dude.digit.values, predict_nb_dude, zero_division=0))\n",
    "\n",
    "printAccuracy(\"Ruido Exercise Bike\", naive_bayes_dev, test_features_bike)\n",
    "print(classification_report(test_features_bike.digit.values, predict_nb_bike, zero_division=0))\n",
    "\n",
    "printAccuracy(\"Ruido Running Tap\", naive_bayes_dev, test_features_running)\n",
    "print(classification_report(test_features_running.digit.values, predict_nb_running, zero_division=0))\n",
    "\n",
    "printAccuracy(\"Ruido Pink Noise\", naive_bayes_dev, test_features_pink)\n",
    "print(classification_report(test_features_pink.digit.values, predict_nb_pink, zero_division=0))\n",
    "\n",
    "printAccuracy(\"Ruido White Noise\", naive_bayes_dev, test_features_white)\n",
    "print(classification_report(test_features_white.digit.values, predict_nb_white, zero_division=0))\n",
    "\n"
   ]
  },
  {
   "cell_type": "markdown",
   "metadata": {},
   "source": [
    "## Random Forest:  búsqueda de hiperparámetros óptimos"
   ]
  },
  {
   "cell_type": "code",
   "execution_count": 68,
   "metadata": {},
   "outputs": [
    {
     "name": "stdout",
     "output_type": "stream",
     "text": [
      "0.8948979591836734 {'n_estimators': 220, 'max_depth': 10, 'bootstrap': False}\n",
      "Accuracy Training : 0.895\n",
      "Accuracy Validation : 0.664\n",
      "CPU times: user 33.3 s, sys: 52 ms, total: 33.3 s\n",
      "Wall time: 3min 7s\n"
     ]
    }
   ],
   "source": [
    "%%time\n",
    "\n",
    "parametros = {'n_estimators':range(100, 250, 15), 'max_depth':range(6, 12, 2), 'bootstrap':[True, False]}\n",
    "\n",
    "clf = RandomizedSearchCV(RandomForestClassifier(random_state=22), parametros, n_jobs=20, random_state=131313,    \n",
    "                         scoring='accuracy', n_iter=30, cv =  [(slice(None), slice(None))])\n",
    "\n",
    "clf.fit(train_features.drop('digit',axis=1).values, train_features.digit.values)\n",
    "rf = clf.best_estimator_  \n",
    "\n",
    "print(clf.best_score_, clf.best_params_)\n",
    "printAccuracy(\"Training\", rf, train_features)\n",
    "printAccuracy(\"Validation\", rf, validation_features)"
   ]
  },
  {
   "cell_type": "markdown",
   "metadata": {},
   "source": [
    "###  Matriz de Confusión "
   ]
  },
  {
   "cell_type": "code",
   "execution_count": 70,
   "metadata": {},
   "outputs": [
    {
     "data": {
      "text/plain": [
       "Text(32.7, 0.5, 'True')"
      ]
     },
     "execution_count": 70,
     "metadata": {},
     "output_type": "execute_result"
    },
    {
     "data": {
      "image/png": "[encoded data removed]",
      "text/plain": [
       "<Figure size 432x288 with 2 Axes>"
      ]
     },
     "metadata": {
      "needs_background": "light"
     },
     "output_type": "display_data"
    }
   ],
   "source": [
    "rf_pred = rf.predict(validation_features.drop('digit',axis=1).values)\n",
    "sns.set_context('paper')\n",
    "sns.heatmap(confusion_matrix(validation_features.digit.values, rf_pred), annot=True, fmt='g')\n",
    "plt.xlabel('Predict')\n",
    "plt.ylabel('True')"
   ]
  },
  {
   "cell_type": "markdown",
   "metadata": {},
   "source": [
    "### Impacto del ruido en el rendimiento "
   ]
  },
  {
   "cell_type": "code",
   "execution_count": 71,
   "metadata": {},
   "outputs": [
    {
     "name": "stdout",
     "output_type": "stream",
     "text": [
      "Accuracy Develop : 0.879\n",
      "Accuracy Test : 0.644\n",
      "Accuracy Ruido Gaussiano : 0.098\n",
      "Accuracy Ruido Doing the Dishes : 0.325\n",
      "Accuracy Ruido Dude Miaowing : 0.621\n",
      "Accuracy Ruido Exercise Bike : 0.365\n",
      "Accuracy Ruido Running Tap : 0.207\n",
      "Accuracy Ruido Pink Noise : 0.116\n",
      "Accuracy Ruido White Noise : 0.101\n",
      "CPU times: user 35.8 s, sys: 0 ns, total: 35.8 s\n",
      "Wall time: 35.8 s\n"
     ]
    }
   ],
   "source": [
    "%%time\n",
    "\n",
    "rf.fit(develop_features.drop('digit',axis=1).values, develop_features.digit.values)\n",
    "printAccuracy(\"Develop\", rf, develop_features)\n",
    "printAccuracy(\"Test\", rf, test_features)\n",
    "printAccuracy(\"Ruido Gaussiano\", rf, test_features_gauss)\n",
    "printAccuracy(\"Ruido Doing the Dishes\", rf, test_features_dishes)\n",
    "printAccuracy(\"Ruido Dude Miaowing\", rf, test_features_dude)\n",
    "printAccuracy(\"Ruido Exercise Bike\", rf, test_features_bike)\n",
    "printAccuracy(\"Ruido Running Tap\", rf, test_features_running)\n",
    "printAccuracy(\"Ruido Pink Noise\", rf, test_features_pink)\n",
    "printAccuracy(\"Ruido White Noise\", rf, test_features_white)"
   ]
  },
  {
   "cell_type": "markdown",
   "metadata": {},
   "source": [
    "## Gradient Boosting"
   ]
  },
  {
   "cell_type": "code",
   "execution_count": 73,
   "metadata": {},
   "outputs": [
    {
     "name": "stdout",
     "output_type": "stream",
     "text": [
      "1.0 {'n_estimators': 125, 'max_depth': 6, 'learning_rate': 0.2}\n",
      "Accuracy Training : 1.000\n",
      "Accuracy Validation : 0.741\n",
      "CPU times: user 17min 7s, sys: 0 ns, total: 17min 7s\n",
      "Wall time: 2h 48min 32s\n"
     ]
    }
   ],
   "source": [
    "%%time\n",
    "\n",
    "parameters = {'n_estimators':range(50, 150, 25), 'max_depth':range(5,7), 'learning_rate':np.arange(0,1,0.1)}\n",
    "clf = RandomizedSearchCV(GradientBoostingClassifier(random_state=22), parameters, n_jobs=-1, scoring='accuracy',cv=[(slice(None), slice(None))], n_iter=50, random_state=8)\n",
    "\n",
    "clf.fit(train_features.drop('digit',axis=1).values, train_features.digit.values)\n",
    "gb = clf.best_estimator_\n",
    "\n",
    "print (clf.best_score_, clf.best_params_)\n",
    "printAccuracy(\"Training\", gb, train_features)\n",
    "printAccuracy(\"Validation\", gb, validation_features)"
   ]
  },
  {
   "cell_type": "markdown",
   "metadata": {},
   "source": [
    "###  Matriz de Confusión "
   ]
  },
  {
   "cell_type": "code",
   "execution_count": 74,
   "metadata": {},
   "outputs": [
    {
     "data": {
      "text/plain": [
       "Text(32.7, 0.5, 'True')"
      ]
     },
     "execution_count": 74,
     "metadata": {},
     "output_type": "execute_result"
    },
    {
     "data": {
      "image/png": "[encoded data removed]",
      "text/plain": [
       "<Figure size 432x288 with 2 Axes>"
      ]
     },
     "metadata": {
      "needs_background": "light"
     },
     "output_type": "display_data"
    }
   ],
   "source": [
    "gb_pred = gb.predict(validation_features.drop('digit',axis=1).values)\n",
    "sns.set_context('paper')\n",
    "sns.heatmap(confusion_matrix(validation_features.digit.values, gb_pred), annot=True, fmt='g')\n",
    "plt.xlabel('Predict')\n",
    "plt.ylabel('True')"
   ]
  },
  {
   "cell_type": "markdown",
   "metadata": {},
   "source": [
    "### Impacto del ruido en el rendimiento "
   ]
  },
  {
   "cell_type": "code",
   "execution_count": 75,
   "metadata": {},
   "outputs": [
    {
     "name": "stdout",
     "output_type": "stream",
     "text": [
      "Accuracy Develop : 1.000\n",
      "Accuracy Test : 0.745\n",
      "Accuracy Ruido Gaussiano : 0.102\n",
      "Accuracy Ruido Doing the Dishes : 0.414\n",
      "Accuracy Ruido Dude Miaowing : 0.688\n",
      "Accuracy Ruido Exercise Bike : 0.457\n",
      "Accuracy Ruido Running Tap : 0.313\n",
      "Accuracy Ruido Pink Noise : 0.125\n",
      "Accuracy Ruido White Noise : 0.120\n",
      "CPU times: user 20min 15s, sys: 0 ns, total: 20min 15s\n",
      "Wall time: 20min 18s\n"
     ]
    }
   ],
   "source": [
    "%%time\n",
    "\n",
    "gb.fit(develop_features.drop('digit',axis=1).values, develop_features.digit.values)\n",
    "printAccuracy(\"Develop\", gb, develop_features)\n",
    "printAccuracy(\"Test\", gb, test_features)\n",
    "printAccuracy(\"Ruido Gaussiano\", gb, test_features_gauss)\n",
    "printAccuracy(\"Ruido Doing the Dishes\", gb, test_features_dishes)\n",
    "printAccuracy(\"Ruido Dude Miaowing\", gb, test_features_dude)\n",
    "printAccuracy(\"Ruido Exercise Bike\", gb, test_features_bike)\n",
    "printAccuracy(\"Ruido Running Tap\", gb, test_features_running)\n",
    "printAccuracy(\"Ruido Pink Noise\", gb, test_features_pink)\n",
    "printAccuracy(\"Ruido White Noise\", gb, test_features_white)"
   ]
  },
  {
   "cell_type": "markdown",
   "metadata": {},
   "source": [
    "# Anexos"
   ]
  },
  {
   "cell_type": "markdown",
   "metadata": {},
   "source": [
    "## Tratamiento audio grabados por el equipo"
   ]
  },
  {
   "cell_type": "code",
   "execution_count": 76,
   "metadata": {},
   "outputs": [
    {
     "data": {
      "text/plain": [
       "[array([ 0.        ,  0.        ,  0.        , ..., -0.00268988,\n",
       "        -0.00342985,  0.        ], dtype=float32)]"
      ]
     },
     "execution_count": 76,
     "metadata": {},
     "output_type": "execute_result"
    }
   ],
   "source": [
    "audios_nos = []\n",
    "# x es un array de numpy numpy.ndarray, fs un entero int\n",
    "x, fs = librosa.core.load('audios/s_normal.wav', sr = 16000)\n",
    "audios_nos += [x]\n",
    "audios_nos"
   ]
  },
  {
   "cell_type": "code",
   "execution_count": 77,
   "metadata": {},
   "outputs": [],
   "source": [
    "import os\n",
    "\n",
    "# nparray, fs, filename sin extension\n",
    "audios_nos = []\n",
    "\n",
    "# guarda el array de np de todos los audios\n",
    "for filename in os.listdir(\"audios\"):\n",
    "    if filename.endswith(\".wav\"):\n",
    "        x, fs = librosa.core.load('audios/' + filename, sr = 16000)\n",
    "        # saca la extension y separa luego el autor de la condicion\n",
    "        audios_nos += [[x] + [fs] + filename.split('.')]\n",
    "        #display(Audio(x, rate = fs))\n",
    "        #plt.figure(figsize = (15,5))\n",
    "        #plt.plot(x)"
   ]
  },
  {
   "cell_type": "code",
   "execution_count": 78,
   "metadata": {},
   "outputs": [
    {
     "name": "stdout",
     "output_type": "stream",
     "text": [
      ", 's_exterior':24\n",
      "i: 7\n"
     ]
    },
    {
     "data": {
      "text/html": [
       "\n",
       "                <audio  controls=\"controls\" >\n",
       "                    <source src=\"data:audio/wav;base64,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\" type=\"audio/wav\" />\n",
       "                    Your browser does not support the audio element.\n",
       "                </audio>\n",
       "              "
      ],
      "text/plain": [
       "<IPython.lib.display.Audio object>"
      ]
     },
     "metadata": {},
     "output_type": "display_data"
    },
    {
     "data": {
      "text/html": [
       "\n",
       "                <audio  controls=\"controls\" >\n",
       "                    <source src=\"data:audio/wav;base64,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\" type=\"audio/wav\" />\n",
       "                    Your browser does not support the audio element.\n",
       "                </audio>\n",
       "              "
      ],
      "text/plain": [
       "<IPython.lib.display.Audio object>"
      ]
     },
     "metadata": {},
     "output_type": "display_data"
    },
    {
     "data": {
      "text/html": [
       "\n",
       "                <audio  controls=\"controls\" >\n",
       "                    <source src=\"data:audio/wav;base64,UklGRiQsAABXQVZFZm10IBAAAAABAAEAgD4AAAB9AAACABAAZGF0YQAsAADSANcAkQBVADIANwBhAHkAhACiALUAxACpAL4A9AAbASsBAAEXATgBQAEaAecA0QDiANYAiQBGAP//7/+//4n/hP+M/3P/Of/4/uP+C/8U/x3/Nf9R/3T/e/9t/23/bf9l/0//af97/1z/L/9M/3T/Y/9j/x//9f4g/2j/iv+u/+D/8v8cAFIAmgDdAAABGQEiASQB/AC2ALoAsQB6AEwAJAApABMA/v8EAAAA8//A/4n/Uf82/x3/Bf8k/3X/4P8DAP///P8BAAAACQAYABEAIwArABMACQALAAQA/v/3/wIA7P/D/7r/of9p/0r/eP9k/xj/Cf8S/1T/eP+S/8n/8P////3/EgATAAYAEQAtABQA9//1/9v/pv+H/5f/s//S/9//0f+p/5T/dv9E/1D/Tv9S/3//c/9r/3//l/+0/+j/9v/V/87/1//S/47/f/+d/4H/hP+8/93/9f/w/7r/o/+4/+P/CgAZAAwA7//1/yIATABuAJYAbwAgAAMA9f/F/7X/3P/e/+f/8//6//j/9v8CABEAAAD4//f/7v8AAOP/9P8GAAoAEQAFAP//BwA5AD0ATwBnADcAEAABAPf/3f/c/9n/0f/1/w4AEwAUACIALgBCADkALwBAADIAHAApACoAGQAuAC0AGwAcAAcA//8PABwAUQBYACwAIgAfADUAXAB1AIQAegBfADoAIQAPAPr/9P/3//b/+P/p/8z/5f/8/93/x/+d/4L/hv9I/yH/NP9N/6D/4//t/yMAKgANAA4A9//l/+v/7P8AACkAIwAlAAoAAAAGAMT/i/9y/2f/S/8Z/xH/Iv9C/yn/Bf/4/s7+0v71/ij/Kv9I/y7/4/7X/qz+fv56/r3+Dv8b/x3/Av8c/0L/X/+O/4b/l/+g/7T/ef8r/x3/Of95/33/jf95/53/6f++/23/Kv9q/97/GgD+/9j/7P8HADAATQCLALMAAwFeAUUBdgFvATwBQQGUAV8BUwFhAfMAvgC6AGcB2wFjAdwAgQFfArkDQgWaEK0S4QHA9ZX6HApICE8BQv8F/jn80fpM/Uv6//P98jb7nf8P/P32yfZj+uP7hflq+RH9rvyP+Xb3G/swA64LuwjQ+8j4rgfsFI4KcPjF+LcJMg6AAC32CfzlBSYEWPy3+mf+6//k/Ev5IP0GAfL/yvxr/fD/zv9R/SD83/1+/9kAeP4E/3H/zP/t/qH+yAFrAIv/c//RAcr/g/8jAJ7/1AA+/+r93P+tApv/5/21/SIB/AHYAdD+sf1MAEQCAAK1/Rf+xgA/AE//jAAL/rkAkwA1AdD+xv5PAzQBqf1p/KUCtQSZ/0X9GwG/AEMB+v9CAKEAjgBeAIf/agI/AKT/pv1JAE4B1f+WALH+9v81/qEAL//r/wUBV/4lAF4A4QF8/AD/sgHTA+77IP6DBIz/GQEJ/60DIf5pA5UBov8kApj/6AI8AHICPgCIAar9HgCv/0EDNv0D/DIE2fx5A7f8d/uQ/Xr/Bf+E/7L6TP+f/p3+0//u+C0EfP8Q/zH2VQPYB935YPQqAeELEPzh8Zv/lQ9E+wn3Wvc1CxEKVPHA+kMCDQgY/8r23P6+BdoDhvq1+b4JEwTw9h/+awE+B3P+oflW/aQFZwjk9qz/pf/gBEYFEPnZ+o4Hewn69JkD5frPDNQEo+yVARULngUh8j0CIP07DAf9/fQ0A+EAowB4/RcBOfcPCQ/96/v2+zwCRf1DA2wBf/FSDPQDt/n4+l8B2we5BKzxWQOYA/YBmgLw9SUAXQVHBar6Q/vK/zgLCAAY/R34eAj9Der3PwUn9moK0xFe8oT9wQBgDykHpOgEAToZSP2A74P7oxFcEAzki/tEEwwB1Ps28lYEMQgJAML1Zf3RA0r/qATa7NcDhwgi/1/2wfcpA7QFhgZr5u4BBgWuB5b3X/FBA10F0Qz960b80ApJBBvzZ/lcBeYKgvSd+WAGl/9VCW/sSwTVDP/51fWeBHYA/fswAQ//rQIj+Y8HFQT887X8sQd6A3L6Z/ioDTQAlPYyAAf8/A/0+R/1dgkKAeT/rgL3+4T/cf1zA6UL0/mT8XkHPgpR/XQBTvr6B3T83QCkCGbrzP29FR0Duu+G7UMYbA7h6GjzMgeOG173COgCA/kMRQwJ9YPiphLWGCACr+PH+KMcOQLc8xn2Kw1TDEP9iuhqBpUNJQQ88/7y9gszB539APb++wr/MgpwAJLvOADBC00FefWi83IFMgnwBd/ve/snATgSfPpT8mwA9grRDEPmrgRuEfAEpeT9Aq4c7v305fH6DCKXBeTor/M3BhMb/grv3SH4UhJHHyPrSuALE1sOMwls8aL4IQZTCsr3lwIU/0DxSBEv9iH/L/zh+9gS5PWs94z2fg0DGFnqT+S+Fm4OEP/3+kHxAgyz/dgIL/zsAZoPwPlMAIX1QAmJC5r3tuWuBe4Leu9++ub28QQ1+bz3TgN+/bj0QPp2CDr2IwFYBAgEmv395uMYkAdwArP19vKALgT7Tt6kBEoVcBYZ7LrjVR9QHN/waNVsDHU3lvDb0kcFZx5dDarhFuzuES0hWOth6EoN4xRGBvjm/u6wFwAh+ucF64r1nS82BGneKPZ9EwIX2+hK9NMEixyE+9fzEOjSDPstAfNb3N387hQwD271fOCy/6AiU/3d4PH5vA1QEovo0unYDlINEgR66ejvCQ2iDn333vL7CIEE5AQT/BX4egImDe4Ku+3n+tQKkgkwBzHiu/kpFsobQ+4C4AYD6RbdGAXOE/m4Dg8XlgQR2h/3QxMmIvHoX9r5/yEntBYw5YXTEgqvK24LxMr04+cynxQv6l3T2wORMdQKp9O26w0Ipyz9ExXJruoFFmc4sPI/ypn4lSgZJ1nX4s3oGg86M/G+zLHpjiXqIWPtFNjO6h8isR2P5djaHwWwGLQUD+/v8IX4KAnDGMb4aO0E7fkkWxZ93abeqBR9KXn8Ytvw8Ekkvwcj96ntWP9RE1wEtP8x6OwGTQYZABn7pvgsCucNMvAj6WUKEglhDFzoHPmSFQEOK/C+6F/9KR5bEWfrQ++aD4ca1+3z5mn6vidhDAPiiOYpF6UXJO4I4CoEnieS+fPv+vMNBloPCwIK9u7tJw5JGrXxmu3J+KQSlBFF53XxchWQFFnsxvAN/b4PbhBb+O37IQB4BrUFpQF398sBsAyFC5n0QPlXB/IHTwq27p73CAhIC2EBVfhL92byAv/dFjEFHPS55xQL1iDO8FDvyPf2Fo0O4gWy8/rqIA8oHuz9Y+pWAPQQMyfB+rfhQvTjKEMWYee4810FASdg/iLbqe/wEtMchPtA5an23xHoCAL3P+w18V0D2ATpApfup+q2A2YB9++c6jQFvwukBF7sA+KWDbkJRwem8hDtBBPRDcr/+vHW79sLfRkm78//8wYCBJAEBfOm+vH8BQ2yA/IC++7K+msG2gZ19W71SwrgAWr5DPMBBYH9LQLF8Hz97w0y/Wnyvvc0CaIEeQBW+1n/MQUCA3X4mftuD/UEtvr3/swC0QVICDj/LO5qDIcRiwdI6an50xec/9D3CfFoFS8HnvrW7L3ythCGCNr65enXBWsFsgdT+HzupwH6ALsHMfsX8RUH/QzX8H/tOQOyCycF+PZmAyQJx/0HAAMBcAYNBWMMiP8gAe4HPv0RBdP72vxICMv94f8YAvr2UgLY/471Mf6AAEwHPfuZ8XIDXv/f95cGWAFt/N0BKfxeBwH9Efm9AUcB1gRy+wf6+fywAl8Fqe8L6hQEqhAV/7/v0fE6ASQRhP1l8Nn1ggeEFPUCQfUW+YALpwtVAxT3KwOvEIsL4woB8KT6ngr/DtH+AfBQAOYE6RV49qzxz/jJ+hoOYvqH/hf7zQFVBjD8E/KQAlgFzwFQAbHxZwXTB7AKYfCQ8okAJwcRElv2J+zs/jQKxwCZ+8L0aAGUDPwBvvaZ+YcEZw7I/LL0A/o4EWgY0PfI8eX4OxX+Cmb3JvMoAvsMvfxr8e32HA5tCAD9+PB+AE8OkARU+Wr6pf1ZBPoI9P/1+Iv95gkR/YT9r/ahA5MGKP86+Vz15AZf/1kGLvmP+oMDHgXdA2QBy/hR9wgBtgD3/bf3dAdG/EsBiPlt+oMEdQJqAPH7LAJxAQUG7vt6AWL/HQJTATj/LwL7AnD+MPwh+Fv6owpm/qz3nvpTATj/2fr2+w77qvnm/+n/aANY/g8BMAp7/v/+EgA8BzsJ2QhLBOn7YPmoABoIrwaE+hf3wAM4A70CBPl2+KwE2QAo9Mj03AjmBrn5LPHl8FwGCQ6sBXn84fdk+poJ+Aqg/XkBFwTfB7T+APqwA/oIkwXX8v35yARvCP4H7vn98033awjiDL3+6fcOAEgG6QMm/bz+jweXBskCBP1IBKkDnAImBRT8Hv3F/WEI0gkQApL52PXo/s8F7QR/+I/3WPsbA2YEav7q9Rj+DgTn/Fj+A/ZIB0sJKgCg+KD1bwV1CLcEP/i5+cr/QAqRCbb8cvbs+RsFPgPl/vn9gwK4A9z86/Vl/CcC+//7/yj8Cv06/JQBUgMO+xz7YvwDBFAGAQRMAdr6d/mU/AX+ZP8nAaIBcwDa+1P7Ff2oArf/xPti+6H/iQf5AtT6b/X48zL6x/8kAeAAl/or+qj3fvj8/RICXAW0BB4BtP9PAmYAVf/t/Bz/EQNeCLkFYQLo/GL55/7G//QEewZ3Ct8Hkf7Q+Jb9WgH+AEoCaAFPAkkCVAD0+Q75vff/++j+uwDxAi8Ce/9D+HX31vrJA8MGtwVRBAICGwHT/z8AXQD2AvEEaQWHAtcBdgGeAbYASvy+/hoDwgdWBs795/gY/Of/LQAY/gz/MAOKBXwBIPvE/UgChARAA4sBsgNCBkQFqwH9/Kn8eQGMBcEFQgJ3AFT/zPth+3P8nP21ANn/f/9j/bP8fvyG+139/v0AALsAnwCJ/kP7Efph+tn7vvuP+yn7rPiu+cX30fVG9J71pfkY+E713/KZ80D0tfMo7g7tnfFY9pv2ZvK28DTxTvJ08cnx1PJT9kv49Pd7+BL7ef/UAwQFEgSOBaIJDw+pE5sWxBaNGaMcoB66IMQgkiIiJYIm5yWTJJ0kESRVIfYcuRidF2EXuxYkE1oNTgnjBnUFIgLo/gj9Rf32+634EPd99n73hfax9PPzCPW397r5cPpe+ez5Lvxk/q4AQwLXAzcF1QUqBsAGDgiXCM0HDAaHBJIEhAPWAOf9MfsC+Sj2FPQi8YruK+vT5vbkn+NB457hrd9R3lXd+9tG2RfYPNjG2JrZ1dg710DXr9d71xDW+tTV1crYGdro2NLW+tQ21m/Xa9fk187Zs99k5tjpPfKa+1AENAhaB1gORhmPJ2Qw/DTCOQZAQklfTVtOLU3XTsFUgFfQVDtRZ04hS4FE6zqRMxMwgS3mJz0gfBUKDQkI5AIZ/B7z8+2B7WjtrulI5GzhVOFl4SHhiuGn463nVOxo7jTuIPBL9B76h/6Z//YBYQZDCrUMew0NDmMP2hCVEaYRIBE1EV8VKxm4FlMSjAtMCRkMbgy+DawMHgvCB3ADigDa/nP+PP0S/m/+c/6j/QD8BPmM9Ozw/vDH8972f/ij9o3zIe8n7aLskOyT7GTsru3Z7ATqeeX54TLgrt0s28jZndpg25vZxdT9z0zML8qdyfzIJsq7yvbKdslVx8vFGMUTx9DHz8mSyhzKL8xa0orgZvSABG4LpwqYBwoPnx7oL1I/GUxHWINgEmXnZOFkJWUaZtRp+2wibnxtdWmFXwdOhjnMLPcn4SX5IBkYvgwbAJnxu+MM2qHSIs8xz+PPM8+azQPM6skhx0PEicZLz9HaWeYN7kvxB/NB9Sv5if81Br8OMBh9IGEloCVQJf0lNScXJj0ldCQ/JQcnSyUBIVoaaxSmEHUN0ApfClsKNQg0A4D91/nT+N34nPfF9Z30afV19nD2c/RP8bPvQu+H8BnyYfO39OPzQfE37r7sLu2h7bXs2Ony5jDjz9/S3GTYpNTl0L/OWM0dy2PISMa3xHfBeb5CvAC95sCow5TFqsUjxJ3Dh8MCxZjH4ssD1R7n8v6NEg0ZUhJxD4sZpyoIPLNLcFxpbTV283WScoJuDmwybdxvknCYb1Bu9mvBYa5KqDEOIvkZOxRYDasGNgAj9qznjti6yo6/GLy3vsHBKsKAwgTHu8q/x2/CHMKMyG7TnN8t7Gv3zP7TAvgFywdkCWgP2hn0JFgrxy2VMLoyNTAVKuokCiL5IFUhoCFiIAgd9hZyERQJkv8u+wD7Vv4m/8T9V/w1+gr4kvWj817xW/GN9cz7UgCQABb/of4v/fv6kPkm+2L+7/9XAP3+6PtV9wDzmu646fPkjOHy337d09gl00/NPMiuwy+/nbyCu+S7uL1zvqC9KbzXume8YL+CwhvGecr4zubRVdMI0wnUjdnJ64UH4B9aKfohgh6+J5M16j/tSLJXoGlLdXt22HPNcG9samj/Y19dW1jWV1pbdFmUSFowuB1EEqwHOPxl9LTxt+6a5lDbUdA3xvy/ab25u1+5OboTxCrRvtbA1DrTdtbT3M7iQOsY+agH0RJBGkoevB8pIhgnMSzLLbEt5zG4OeQ9ZDovM7cqJSOUGz0Usw/LDEwLGgqNBsD+1vXz7+rsgul95YLkMOlp7pXxZ/GI7wDv0O5I8N3ywfb1+1ECGgfAB8oFZQVJBskECgFD/g/+Bf+K/n37CfcC8bfphuLh27fV+tBtzhvNlcqFxfHAf70/uvK1zbLJsgW1aLiIu5++b8BKwTzCgMQcxgfJuM1a1W3gU/AQBw8dyClwKccm8C1yO4BIf1RgYr9yy33/f7B97XqPduNvImr1Y+dd01koWItVMEmnM34eOw8HAoTzwedY4tDf1Nmbz0LGQL+NuVO1B7J3sLmxZri9w+LNi9Mv1wPcs+HR5qfsJfZKA5YP3BgWIJwlwCqwLwUzszN5MUcwbTMYOB85uTVeMAAqYyJrGJIOrwdeA8v+Zvjl8aXs5OkF6ITjR91e2JvWYNkQ3vLiKumQ75j0nfYF98H5OwD4BxsOQhLAFYIaBR/tILofJRxxGOsV6BOaEFQMIAiGAw/9NPPL6K3fPtju0SfKwcHruqC2aLQMsg6uIqqFqNanM6jqqWysfbGvtgm7GL+cwm3Hlc3s00XZrt6U5lzyjAToGeIsFjgwOqw7bkMjTjtX6l5gaFl0IXtOe1V6TnoRd6Vu42IFV51NLkXNP5A7DjFpIOUP9gIU9sTmSNku0mDOQcehvxK9R77qvjO9/Lpuurm7KsHjykPVoN285cbvHvnW/84ExgzcFsYdDCJuJtYsCTSnOfM88z1tO5U3sDRcMXQs6iZkIjgeLhiXDx4I/QJ//Wj1oesA4zXd39n111zXJtcr1/rXkNjp2UHdn+K06JXtC/Iy+L0AQQnSD6wUFhl/HQ8hWyMBJb4mlCjKKKIlISGEHOEXQBJdCmQBFvn38frp/uAG2FDQ3cnNwoy7y7Rrr0Ws0qn+p3+nVqgVq1yuurBDsym2n7qOv33E5MnWz6TWUNxc4Qjm8ert8NT3bv9/C40cei5eOq09AUAPR3pPTFTpVoZc8mVCbedul27zbjNsTmXmWidPKUNeOPEwsStjI6kXTw1dBXz7/uz83gfX8dIbzfbGGsXCx0nLrMzxzIrNQM5S0MHUdtrr4FjpHPS1/v4FkgtDElQZyxyKHScfMyNjKHcsZC9AMc8xNTC8LBgnFSAEGksV6RBRC98EOgAy/cH4BvJm6uPjdd6d2WHVQNMM1ELWYdk621LcLt9S433nVetm7rjzgfuaA2sLwxJ4GYQfXiTzJpMoMyrTK8QsHixJKgIpkyflJHwfGhiSEBIJPAGy+Dnwguj94XzbQtRZzR3HXsGYvDG4FrQqsVCvGK8ksBKy5rS9uKW8/r8dw/PGAMws0UTWetsJ4abmxOtX7xPy5/Xt+uv/GwRfCYsTACGsLZg1jzg6O1pAR0WNR/hI80yaUxpYZ1ikV8BX+VWxUFhI8z61Ndss2SXCIMsaMBNfDH8GsP5n9LfqkOT33+zZHtRL0rDTV9VF1knXANn02Tnajdt83l3itOcZ7gv1OPukADoHkQ1vEUoTxBRHFpwXCRnjGlgdHR8QH/EdnBtWGIUUXBBpCyoGCgLS/nf8cfqf+K72vvOV7y7r/uY35HHi2eHt4qHkBOdm6SrsGu9G8fTye/UN+Kr73v8UBVQLwhEPFyYbZR45IPEgFSEqIasgGCAOH18e4RyIGmUXmhOvDpIISALg+3n1Ve8j6uTlCuIL3jvaUtdL1JXQ58wvynLIhMf4x6bJQMxyz6PSqdXX14zZjtur3fPf8uEb5DfmJ+k67Lju8PCM8mjz9PJS8sTywfNF9Wz3W/t7AkQMUhZoHWwhCCVPKfssby/zMek2Oz1SQtBFPkm7TC1OjkxdSJFC0DsQNc8voyv5JpUhoxycFzgRMwn1AH/5mvGT6XDi990P3Gbbk9tl3KLc79tM25bbNtyZ3PrdPuG95WDqYu/n9c78xgHsBHIHEwqJDDEOKBA5ExYWwxguG/scrB1IHegbkRkKFtgR5g1vCl4HQgTbAa3/+vyY+Uv23vJj79PrxeiD5nHlGubY50nqa+wl7uHvefHX8kr0O/ZM+bz8VgBjBDoJKg5eEtkU1xVBFhoWmRXwFC0U1BOFE8ISrREYEN0NcQrlBagAdPtW9gjy3+5z7B7qHuiV5vrk5OIw4I/dN9st2QPYbNd+18vYyNor3V/fxuCG4SjiAeNP4zLjGOPI43vlKecA6dzql+zw7WHuF+6v7Zftmu5g8KzyUPXq+Ib+9QWwDk8WdRtaH30j9SdeK+4txjHcNrc77j5lQRVE5UWSRddCxj4lOZMyYyx+J1cjsR5FGksWtBGSCwUFZ//i+b/za+2j6NDlfuQ25L3k0uVj5p7mn+as5i/n7OdK6bjrju7c8Sr2ePtoAGAEiQeXCeAK1QvIDOcN8w7cD+kQfBHXERQSJxJNEdMOZwvjB2YEAwFN/sz7F/qi+P72ZvWY87bxDPCA7kXtXewK7JbsuO1N72bxp/P19ZH4dvu1/n8AvQGYA3AGYwn4C2YOXRB7EgwUghRQFG0TlhLQEdwPTg19Ci8IBwZvA5wAhP1h+iX38vO18JbtD+sN6ZjnEua35B3kCuQC5HTjgOLm4bvhquHG4S7i1eJ94xfkP+SY5G7lT+b55sDmaOaP5sjmgOcd6ODou+nC6s/r1+yD7Z3uC/A48Szz7/Sz92z7QQAQBgcNTRRXGvUf9yRpKUMt7C+kMvo1wTjwOk08ez0cPpA9nTtsOFY0IC+JKQ0kqB6xGQoV3RDMDEYI4wPv/9f7xfei85TvROzv6azoT+iS6HLp9+ov7Eftie7m75PxU/PM9J72Bfl/+yj+4wBeA3cFmwb4BtUGKQZqBZUEqQOjAvgBTQHaAKgAHwBd/+b9M/xg+qr4Yffy9vP2N/em90/4ZvmW+g78z/0nANcBXgNRBAcGHQmzDNoPCRJsE/8U4xUPFb0U0BPoE/MS8hCHDqML/gnjB7cFGQJm/tX6HPdZ9KDwuu0E7BrqMeiQ5sfl0+VY5snmMOdr55LntOhj6vLr7e2Z7yLx6/Em8tHydPPo8+DzNfNh8tTxUPFo8Crv2u1u7JDr8+lM6PHmveX35G/kpeOE49HkyOXH59voB+r16wnub/H89Kv4rP3kAwkLvhIWGuMgSCdtLAswEzNdNac4ezvUPF09Mj2CPB87ADlzNa8w7ioKJBgdIBa1D7MKYga5Aif/pPul+Df2GPQT8uDvA+7/7FftWu4k8IXyBvWn9w36WPyt/sgAcQLnA5oEHwWDBS0GRQfYB4QHcQbiBKQCQQA1/gr8rPn29mL0rvIU8SnwCfAB8Cbw8O8I8LXw4fFH8+n03fbu+FP7Qv7TAbwFOAmADG4PjxEKEyQUABcBGhQcrh0THf0aIBlLFU4STA8QC/QIiATV/z/7avbN8wfxCu1/6ELl1+KI4ZrhU+Gk4Z/h0OF94/zk8OYI6ujsje5b7+zwEPQf9/D4k/rF+w382fxj/Zr9jv0S/H/6p/i09ULzrPEW8PTtGOs+6Hvm3OR047HizuHk4HDguuBo4ajiluTN5+vqBu1I8GP0pPkQAOYGTA8/F5gdvSPlKOAsqjDNM0E3ljkjOk06wTmGOJQ2ijRiMfgsmCcTItUcfhemEqYOoAqCBj4DywA2/439EPy7+qz4tvbl9UT2+va496H4G/qS+/L84f7XAAwCfALOAtgCsgKhAr4C8gKIAkABMwA8/6D94fvx+TP43vVZ87HxgvCX79Xu2e4d72Xvxu/48BXzPPVJ92n5Dfxf/pEAUgPBBlwKvA0WEfgTphVrFjQXrxaqFeQTvhFlEOwNYAvICCMG0wPlADP9gPn99cLypfDg7int7uvM6gXqzOne6aTqlOs27P/sbO3o7fPu6u/d8PnxsPJr81b0I/X59VL24PV89er0DfST87Hy1fEu8VLwsu9U7+HuMe7L7Jrrqeq86c3oy+ej57PnD+jA6IHpNOut7ajv9/ES9KT2SvpT/lIDbAl0ENAXuB69I5EncCqGLWIwlzL+M+QzVzN0MVgvNy61LOUpLSayIfIcLxgsFPQQxQ0TCi8GAgOdADP/WP6+/Yv8ufrO+Jb3Hvc09qH1oPXs9Uz2NPcp+Q/7JfyV/Ov8Cf3t/Mr84/z8/Cv8TfvX+r36dvrA+SX5AvgD9wH2+fTd88jyO/IM8mryC/MH9NP1jvdP+Uz7Kf3U/+wBOAQYBxEKsg0NEZMTqBW6FykZtBmdGT4ZRBg5FjETNRDWDKYJUwagAuT/7/wA+h73DPTM8NLtgeuU6RvoB+ew5vnm/OZB5+jnWOjl6ArpRenB6aHpcumQ6Yjpdemi6fDpJOqQ6vTqYOuU6xbr3OoD61jr2ut07BPt0O2d7m3vYPBE8SvyRvMj9OX08PWI9/j6xP+MBVcMpxIfGHIcOSBDJBYoGyyDL1Yx0TFxMY4xfTL6MvIxbi8sLFEoPiQ5IGQcYhgsE40N+Ag/BU8CkgDF/pn81PmT9+b2SfYN9R70NfTZ9Kj1/PZo+Yb7c/wg/dj9JP7D/Rf9pvyK+5n5Bvhj97/2ovVe9ZH1v/XT9eT1XvZ99l72jvbo9gP3Jfcd+FP5f/oO/LP9cP+sAL4BIQM6BMEFbQdxCVYLDg35DqIQQRIwE9MTFBSJE4cSzhDDDsIMowpeCOkFSgPVAJL+BPwe+RT2b/P88JTubuzD6mzpgegJ6MrnAehe6Nvoqely6lfraewq7ZXtGO4K7+7vFPE48hPzz/Na9ND0D/UD9Yr0wfPa8lny7vGL8TbxqvBJ8AjwWu8O747vrvDx8rT21/tcASgGKAkWDNgPRRPGFkIaFB1oHjwe+x78IMAiXiNpI1EjsiLDIc4gciDZHqEbGRirFAwRdQ3uCssIewU8AQr+B/ya+ZL2Z/RH8y/yQ/GX8TzzyPTZ9bL31vkg+/X7Y/3h/kD/2/7X/gb/N/4T/SX8lPuD+mP5NPkU+ZH45vcu+Jv4RfgW+Kb4UPmB+fv5evtw/c/+w//nAMkBhALYAywFGQaKBgIHvAcQCFcIFwm4CZYJSglMCYMJZAlLCTAJuginB1IGxAWQBeAEpQMwArUAzv8u/oP86fqQ+ED2//P+8qLy5/Hc8EXwTvCb8E/x4PIM9XP2oPdx+Vj7Qv31/hsAYAG3AnUE9AU5BgEGDAbtBQYFFAQdA48B+v/O/iX+hv3M/F38z/v6+pj66vpC+zf72fqE+gP6hPlA+fX4n/gd+JP3hvec95b3dPc89wb3u/bR9nb3O/jP+Hr5IPr/+g78JP2r/sX/agAaAfMBuQIlA58DqQOLA5gDuAMaBEwEYARyBIEEpASvBBQFxQWOBkEHzwdbCP0IDgrXCjkLjgvrC1IMQwzYC0cLgwqFCUcIUAdNBi8FbQTTA0cDqgImAskBfgEkAdgApACEAE4AJwA5ABUAzf9V/53+u/2z/Mr7N/ub+vD5Pvme+DP42PfT91v49/jX+TD7Z/yJ/Zf+yf+/AGYBIgLhAmwDFQO6AlECTAHV//n9cfyp+qf46/ZP9YPz0/H18L/wCvEf8s7zVfWM9qf3m/k8/Hv+jgBzAuADcAQXBYgGOwgTCQ8JLQksCTkJ+wiECPAHtwZdBW8E5AOYA3IDzQMZBNUDzAMnBKAEagQMBA0EywMKA0ACtAEpAX8A3/+t/3z/EP+E/hv+8f3h/QH+af5S/vf9G/6V/uj+Lf+u/8z/pf9Q/yL/7P4R/sD8lPtA+vD4Cfh/90H3r/Zp9qj2H/fh90z5+PpH/LD9Z//qAPgB7gLKA2sEzgRRBcsF+wUBBswFpQVVBc4EnQScBGAE7gO4A9sDzgOrA7QDswOZA2sDYwORA44DPgOaAtQB4QDc/+T+x/13/Er7n/rL+QX5ifhE+BD44/ce+Lf4cvlP+pn7yfz3/SH/FgBGAWECBgOHA+MDxQN9A5MDngMXA34C6QEpAY4AKgDZ/6b/Zf85/w//Dv9b/5P/2f8WAC8AZgCcAL8AEQE9AUUBEgGmAD4Az/9O/5H+4/0s/V784vvZ+xz8S/x8/Pf8cv35/dH+p/8dAGkA9gCXASkCggJrAggC2gGAARMBDAGNAPf/Z//a/l3+Fv5N/p/+q/56/qP+C/+j/zsAAAF9AeIBgAIDA3sDggNpAxwDbQLSAZ8BYwHtAHEAFQC7/0n/Nf+B/77/u//S/+b/AAD+/+3/BAD2/wUA/P+M/xT/xf5W/rD9Ff2R/C/85/vd++372fvT+w38fPwP/b39Z/5C/+v/eABDAfoBlgICA5IDFgRbBGwEXwRfBBsEugNgAxkD4QKJAhgC1wGyAVUBCAEjAXUBogHHAf0B8gHpAfsBywEyAZ0AXQAjAOL/gP8p/8P+I/6F/Rv9/vzU/KD8Zfw+/DH8Jvya/ET91/0t/ob+/v54/+n/CAAXAOH/nv9G/+v+nv43/p79Fv3I/G38cfy4/Db9rv0k/pP+MP/n/4UAIgGwAUwCswLvAugC6wKLAuoBOQFiANr/Xv/C/gT+WP23/ED8EPwH/Aj8RPyA/IP8sfw+/QP+dP7e/l7/mv/G/+j/AQDx/7n/Xf8h//3+tf5m/vn93f3G/Y39yf1C/nr+w/4i/3v/+f+mAFsB5wEtAiACEwLxAeMBoAEmAYwA/P9r/+P+nP5d/iL+1v28/bv99P1L/q/+V/8RAMIAfQEWApkCSwPJA9cDlANJAz0DAANjAnUBZwCw/wf/X/7//bL9eP1k/UH9kP0L/pj+hf8zAO8A1AGLAgwDdwPLA/gDsAM2A9QCgwJkAhICVAFgAO3/m/9I/z3/Pf9H/13/v/8YAIwA8wBCAasB+gEgAggCFQIRArsBLgGZAD0A0/8L/2r+Jv7B/S399fxP/Zr9q/3N/Wb+Dv+G/wAAYQBQASUCpAImA5gD4APpA9QDnwMQAwgCNQGEAAcANf9K/uX9j/06/fL8D/1L/Zb9Gv7W/of/CgCNAA8BbgF4ATYB5gCwAEgAAADY/53/KP+e/ij+uP2V/U399vzU/OX8OP1r/cH9X/7X/lz/5/95ABIBqQHaAakBQgHsABUB7QBrAO//mv9G/97+wv7B/pn+n/7p/lL/q//N/+n/UwAGAWsBtQHuAesBwAGAAVEBsQDP/wb/d/4d/qH9Jf3G/K78rvyh/LH8+vxi/bL9Iv7t/qz/IgBqAJkAEwGRAcEBxwGkAawBtAF0Af4AKQCS/1P/Cv/v/sf+r/6x/uX+OP+C/+7/RgCOAL0AJgGWAb8BxwGnAYUBbwElAbMAGwCF/zT/pP44/u39tP2z/b793P32/S7+kv5p/wAAjAAtAaQBKwIzAiMCCQLaAXIB1gB/AAcATP9d/mr9cPxr+6b6P/oG+gL6S/qq+jL7uvtL/AP9vv1N/vv+pv/c/wAA+f/6/zQAKQDx/7L/dv8u/xD/O/8P/8j+rP7Y/kL/jf/X/1EAHwG4ATwCngKdAr4CHwNVA1MD9QI/Aq8BYAHgADQAkv/1/nz+Ff6a/Rz9EP0s/Yv9IP66/jD/jf/q/z0AuQA8AegBMwIuAhECyAFxAcoAQgDr/zr/lf73/VH97fyj/Jj8gvxh/GP8uvwp/Zv9dv4x/5n/w/81ALUAIwFpAVUBbgFKAf0A1wCiAGQA/v+F/zr/Kf9P/13/lf/o/xsAXgCoAAsBZQGrAeoBBgIVAhcC8QGoARgBeQDy/1z/tv47/g3+8/2w/WL9Pf0j/VL95f2B/sD+HP/r/4EAwgBBAdcBAALxAeABnQEsAfAAcAACAJr/0/4k/r/9o/2R/Xf9ff2x/er9TP4N/8D/MwAfAcgBFgKBArACpwKpAqECFQKcAeMAOgCs/7H+9v2s/cX9yv2m/Wn9oP09/ur+ef8YANAAdwEvAm8ClAKpAqECmgKcAosC/gFCAaAALQAMALz/Wf8y/yr/Ff8y/7L/CQArACwAoABcAb8BMALhAkkDeQNsA1IDGAODAsAB4gBOAJT/vv7q/Tf9lvz5+637fftl+3z7C/zW/Hb99/2F/k3/9P9KAFoADgDS/9f/8v+1/0j/hv6e/Xb9d/1P/ff8u/zt/G797P1s/k//AwBPAPIA6gGsAi0DTwM7AxcD/AKtAi4C1AFIAVwAnf8T/6D+Lv6V/Wz9fP2l/aD9w/1Q/tb+mP8sALYAFwFNAZEBswHOAYwB9QCsAHwA8v9d/8j+Mv7d/ZD9Zf1A/Tj9b/2X/SD+c/66/mf/1/8mAK4AMQEeATYBTwH+AJMADwC2/2//zP7Z/Vn9EP2r/Gn8hPzH/O38Cv2I/TT+3f6g/wMAwQC8AUUCpwIKA3ADZAPXAgwCTAGNANr/Q/9u/rD9Zv1p/XX9af10/c/9Vv4C/6f/JACrAAsBkQE4AmUCiwLUAgkDGwOZAv8BrgEbAU8At/9E/wD/5/6i/nn+rP7k/kb/1P8PAFUABQHCARwCOwJNAjkC5wGbATsBiwCr/6j+u/0X/Xr8qvsh+xb7MftL+5r7dfxs/Q==\" type=\"audio/wav\" />\n",
       "                    Your browser does not support the audio element.\n",
       "                </audio>\n",
       "              "
      ],
      "text/plain": [
       "<IPython.lib.display.Audio object>"
      ]
     },
     "metadata": {},
     "output_type": "display_data"
    },
    {
     "data": {
      "text/html": [
       "\n",
       "                <audio  controls=\"controls\" >\n",
       "                    <source src=\"data:audio/wav;base64,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\" type=\"audio/wav\" />\n",
       "                    Your browser does not support the audio element.\n",
       "                </audio>\n",
       "              "
      ],
      "text/plain": [
       "<IPython.lib.display.Audio object>"
      ]
     },
     "metadata": {},
     "output_type": "display_data"
    },
    {
     "data": {
      "text/html": [
       "\n",
       "                <audio  controls=\"controls\" >\n",
       "                    <source src=\"data:audio/wav;base64,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\" type=\"audio/wav\" />\n",
       "                    Your browser does not support the audio element.\n",
       "                </audio>\n",
       "              "
      ],
      "text/plain": [
       "<IPython.lib.display.Audio object>"
      ]
     },
     "metadata": {},
     "output_type": "display_data"
    },
    {
     "data": {
      "text/html": [
       "\n",
       "                <audio  controls=\"controls\" >\n",
       "                    <source src=\"data:audio/wav;base64,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\" type=\"audio/wav\" />\n",
       "                    Your browser does not support the audio element.\n",
       "                </audio>\n",
       "              "
      ],
      "text/plain": [
       "<IPython.lib.display.Audio object>"
      ]
     },
     "metadata": {},
     "output_type": "display_data"
    },
    {
     "data": {
      "text/html": [
       "\n",
       "                <audio  controls=\"controls\" >\n",
       "                    <source src=\"data:audio/wav;base64,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\" type=\"audio/wav\" />\n",
       "                    Your browser does not support the audio element.\n",
       "                </audio>\n",
       "              "
      ],
      "text/plain": [
       "<IPython.lib.display.Audio object>"
      ]
     },
     "metadata": {},
     "output_type": "display_data"
    },
    {
     "data": {
      "text/html": [
       "\n",
       "                <audio  controls=\"controls\" >\n",
       "                    <source src=\"data:audio/wav;base64,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\" type=\"audio/wav\" />\n",
       "                    Your browser does not support the audio element.\n",
       "                </audio>\n",
       "              "
      ],
      "text/plain": [
       "<IPython.lib.display.Audio object>"
      ]
     },
     "metadata": {},
     "output_type": "display_data"
    },
    {
     "data": {
      "text/html": [
       "\n",
       "                <audio  controls=\"controls\" >\n",
       "                    <source src=\"data:audio/wav;base64,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\" type=\"audio/wav\" />\n",
       "                    Your browser does not support the audio element.\n",
       "                </audio>\n",
       "              "
      ],
      "text/plain": [
       "<IPython.lib.display.Audio object>"
      ]
     },
     "metadata": {},
     "output_type": "display_data"
    },
    {
     "data": {
      "text/html": [
       "\n",
       "                <audio  controls=\"controls\" >\n",
       "                    <source src=\"data:audio/wav;base64,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\" type=\"audio/wav\" />\n",
       "                    Your browser does not support the audio element.\n",
       "                </audio>\n",
       "              "
      ],
      "text/plain": [
       "<IPython.lib.display.Audio object>"
      ]
     },
     "metadata": {},
     "output_type": "display_data"
    },
    {
     "data": {
      "text/html": [
       "\n",
       "                <audio  controls=\"controls\" >\n",
       "                    <source src=\"data:audio/wav;base64,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\" type=\"audio/wav\" />\n",
       "                    Your browser does not support the audio element.\n",
       "                </audio>\n",
       "              "
      ],
      "text/plain": [
       "<IPython.lib.display.Audio object>"
      ]
     },
     "metadata": {},
     "output_type": "display_data"
    },
    {
     "data": {
      "text/html": [
       "\n",
       "                <audio  controls=\"controls\" >\n",
       "                    <source src=\"data:audio/wav;base64,UklGRiQQAABXQVZFZm10IBAAAAABAAEAgD4AAAB9AAACABAAZGF0YQAQAADGAJsAx/+v/5n/q/9a/+P+mv7l/Cv8kPy2+/b61ftD/Gz9zv2m/Dv8SPwn/X3+ef8+AE4BegGfARMB0f8DAFEANQBYADkBRAEYATQBHAAP/xH/a//7/uL+Ef5Q/XD9s/7q/yEALQCx/2f/Sf4V/pr+x/5w/eL8fPwp/FH9j/yY+3P6y/hB9yf2Q/XB9Db0XPTt9J71bPXY9MH0O/VB9mX3vvjU+UL7y/t1/Nf7lfsC/Pr8C/0O/Sj+aP1l/DH8MP3t/XT+nv5e/pv8MfwS/r//CgD6APgC9gJsAxQEsASHBVoGtwd5CMQIVwhJB1MG6AXtBakFWwbABWoF1wa1B60H/QZvBz4HWQdTCMwHdAcbB5IHvQkiC0sKaglpCSUI7gcpCMgHfwc6CCoHngVdBEICiAFRAYcCVANFBJoDbAKpAYYBYQE9AQACbQJYA34DFwRgAx0CwgBJAKEA8wAeAW8ADACo/2b/P/9+/7D/kP81/8b/d/9Y/n/+B/7s/Fr9FP7w/RP+d/7x/ur+8/1Y/S/9V/wS++P6EPtZ+jT6Qfol+dD4w/mB+Rv4kfbx9IDzs/Kp8w31xPUD9x/4hPfI9vX2qPZJ9vH15/a890L4yfho+ZH53vmq+uT6wPrA+ZP6kPu2/I39f/2u/NT88vxv/BH9Ff25/YH+P/6g/dX9oP0f/Sz8ufyF/VX93f4DAEEAzv+2/wkAk/++/vv+sP/z/zIBhAH1Aaj/gv/qAToC1//d/woD7wLtAzEFkwOJAckCSgQCBO0C5AUVAoQGigFdAyQHrhlPMR31qOuoGmj8ZhmhThgQPg7nHr77Tv52+aTq1u0Z613wU/uiD8YVcfa2AqYPVfwl/Dj8G+z75Qf1fwBA/6P+2vWo8VXy2+yu7mbxBepR8FjwsPd5CQX8A/Hd/VkExfw1BmYK+/5Z/UoC8vxiA9f9k/mg/gz6kP7B/Dv6bPln/TvxuAK0GLL/jwMe/XX9mwcx99oCL/0v9YP71P7k+jf38QB6/1UWMh6cCq4WEw53AS0I7Aa7AgH/YQHE+gb1Z/VW9VTsw/lQ/mL0sP3q9wf2Ev+6+9j+E/tcAMX+zfUbBF/19/VMBZD6TfGqDWzxI/PMAd3ojfwC/DL+ovZBBcEFhhTvIXcbixnvEy0m9yKlFIkdShkyCeEE8/Wx5YzrcOxh15zcftXJ2t/RGdMS4NfVYuR34lbdwfCM6TvfBvap8wDuSQ9aApABmQmZ/OITAw/uFykXlBPTGyQNnwXIGgv4oQW5DTz+9RRN/KL1QQmo69b5HBTE3mwEEf4M5ZX+zv972733zPnp7Ff7bQgcA/brkQRZ/Q8MQgWpBkUPzRrf9C4AMB9vEYcCZw5AFyv2dAlsC84Gz/7MFN0CfP1hFIf30wli77PwKRIv/az60QHpAEMPTAEJ91gR4AqbCZ729xHNE/X1QhDi9j/6AilO8AL6phti8KnyyxS++h/4hxY94IwAVCJA5Z3tfBfE8TD9Vfsz7c0Lx/Fl50j3awTW+7ryYf007TX7uvBa8HsQyfYx5XkAhBVX2irwtRPq6+fm1Ba2/onlbB7u5H7s3SjA+oXx+gVM9Qj3aPyx+YsQzf5o/WsFRPz7DRj7/fCb8379pgv0/cTtUwJTA23P6wx1Imvo4/v4HRUNy9zSC6oij+q18BwTIgiFCRQA1+PzDXwI8O50/eYWqgNB5ID6XgL9BWLywAfC8lMTZA/L1dMnOvj/3cAcwxLkBSz/WvqIFJn36AH5Cs31Zxj5/AT7pgUuAIr5uwIk61Ycph6t5dv9cxaBGRfl5xySFLz7wxmE/8vW6yGUHtW+YfNZMeMJq80HCdodDe7yws4frTAS58jpNyrVBirEwRAwHYv92AdhFbAIvPiEDAEeOd5W/zsvq+x22EcygxH7vH3cbivq7izMZS7zFiezq+XPFATF2frWONTaIrmiR6D6ia2c/oQlWgaPx64UrV/e2FO40BpkAxvyaAsRLdwH5tavB8YrrsuU5gA3A/QsxphHIioBgOgLYj+xjbHSn3Nw4W+ViDAwD/2WQxLEL+un9f9FI8bUy/Cm9pP13eWJ3O0bzhNP25HzNRgw6QTWhxf+F0bokAVxBXnnhQFl/sj2agEZD/rw/u3o88XzVxWc7EflCvz1Dyrud/uTAe/cr/RA6SYlERFy5EUXCQmhvYr5yUBp9ZDRgzOnMmaqz/+bSdfFFtKyKCYcPvZI7Sg5Qew9qusweyJWsjoSdEu+1jXkzh2sCj/vM+14DN80UwoA0kIcuSeHuAXKrFfhECzTKU6/GmHEIP/9HWbf4tmyLbg6G9g86ONQu/nyoMkdbUJu4aMHkzvbGWnObNn/N5vzR9y4PGcbS/mX9ov11hJF4LroYDZQ6fvlKjJZxQbO4zrI6NDTwC9TFuX1Ev+MB/LwDeUeKjYYUvZ/LwIUn9u59YwHpRbWHFTzCBhvIhziWObp99sdsfam4/MakS914dbZOhXk47nlHgPWKoYOqebMARvz8b9K+6MaxulzEiQ2Nfipx+L9SCPi7OTalEkILEzbvBY9JufbytiJHUQu5gvoGIEh/OfU3qoRXCf/+V0btkHP3/DAOCybE4rJg+q/FX0jzvUV3E0CLxZQuXjWhkA9OOLpdwicH569gv5ZEKPurxokMr3mbvrfF3T1ludt4wwQJxza/VcOLB2uzWTSbt9JDBYVYA3yCrn4ovea/fXw2vqaLsPpkOlDNpkRgNAI+g/88NaJ+ZU6OxFT7LsE5uJR3BIREx8G9m37ZgPa9Mnt3wCLBy/nCfJuCm4cwx4u85nX6+U+/8UHQwjhDOcVidgS3bUT4hf/4m3UHhYw/yPo8gIxB+3iy9vL4uft5QIUGoz3vMy1BbcL6dlR6+8BYv0N/2rz6/e8BML5xd6ryDT3zxpf7CnwJhbI71vis/oJ2nj+7C/F5CTQ0SHsFlbKkduJGt4KodYF/pA2hPzK0uTzBBYQDGvqlgtcFFz3+PcdBKX4DQI9BnT6Lv0ZFDAiStDzx24alwjL17oVlyJF6enXH9ja/qsfnhGr8H8N8SVT5n3bmRQj97zeqCg+G8kAtxW/BgXTq9NQ/fgQ/w4lBR8hdekF4zgA0OCB468teyBH8eoslBx46ePpY/7U/rgtgzH+B1DzjAWvCvXPm/WHI0MV/OwEDO4uKwJEwZHd5BHuBfkXaR4bFzbvr9Ow5/ARGwwuDp8Xdu5I+p8iEPNo1BsQ2iBK6HoV1V9SBJDSxP8+93/jLwfWLlIi+t+E6MIEWuHc1670KAt8/kcFSww0Cq/90+zM3lzuahqHDRP+1grMF//4JuXWE04fbhd8EKAcAh9yAwLxXf2TGuIRte9DE5QrmdnL28f669up6GgccxCfDHkQiuVJ3Hb+mflh/dMvKhWeAmsoWB1c3SXswgYT/T8VYjhGG/jySt9tz1b42QJiEkkoegBE8bDscc3h9e4CKu9c/4gXpyVB81njR9c23jkP5hLhEEE/hxjbyLHgS/g189XzsyjBB8rZ8RX1+x+v2+9sL+n5Y+5SFnEoYPCw9NQWQ94D5QYfdBbo95j4vhBT71i4B/kMFxn15/++GCoACNnSB+cF/dCb7BQV0O4g2EIH/w816iXYYfIXAhn1//m5GET4BPKIBaHy0/9cF3L/c+K+ETINXv1CBNYIugLvA9/3fvXQGpAGY9gK80oiDvnb5CAGMRDI7IrfewFQCQHkufmXA2nzT/7+62Xh++xjAbsE+vwHDL4phO6d2pIVp/du7oIlsBR4+lMb8Qe1wjfavgI27QLvhBOZFEX4eufI3S307P0W4/bt/jj5GvHu0xYpB//YfumxChMcPB+6D3UPewN8Aln3uu/P+J8G4v3P+l/6FPHY7TjYPNo+AKIIfOOoAjwAiPCJ8iDtqPES79AZQwT15ywWuxOb0DPwZhuL//TxZx+wKffjzv8fGMLuLOttBPcKTvWX9FUP4+0V3LkFy/f60jfyyCbF/lbcmxOcEhLZNe4qBlv+tPYy/RsZswA6BIMO9v1uAuH6kROMFgICfRQRFfT12vJVASv8S/KeBP0ZWgAh6DoIQwbF3mbv4R7kIH4AKgnPF4QNkAfGATcIciy+Fxv7TRIAJML0tekxDEX+mP38+vb3sOaP9KH4+e0c6Qj5fwEQ36H1zRWmAk3eV/2MHR8LC/3Q/swA4vg48kAEhRtWGtEHSvA17x8LPhsTAVX/FB0JDofq4fckE+cCLvVB7/kbky1u6pHwRA0n7yHpIwkCHf0eNgJn/Ujr/vRjCFvpRfJhJGAoVPhPBSIfoQoL5RXhBBhJKXkBlxfxJxX8q9/P7gr2d/a6EHcR/vc79j0SwPWHxGjx7A+B7HL/JCZWEdruEuh16ejgeOovE7sMIhjKHGf3cvmJ8pjtA/3ODbwIzhaGITj8/ORQ9zv1XuQL+yQV4xZVEckLqfEM7NT71vyb/NwWHSRf8vHg0gNu/grh4fPLD3f1OfZcDFb6vPgBCZzsM+yaGeYDM/NLAzEJNv026JzskwkHBaLfpP1QG5gF4vNG/O4ZEPrn32oHiQyB8sIGCQyy7Mb5xwey7ZzXGBWQFQHMcu8uI/zeIdiuHYn4IdJv+gEL1eRZ/hYUSwPx7NHwRAHn8UL76hwoI5f8qAqgCRrtNvB5BtYG5Q7OKtgSrgGH+6XnPd6e8eYCPhgQFEwGofAL6tns/t0v+i0G8ggsFfP8QPkqBcPs2uql8/0BqA5ED9sYQQfM9u3/TPfm9RsRtBGg+qcZuS2T+jjypRm6BDPiWQQeHKQAZvxe+1HlyPFd733j3vvrBGECYg5nCQoHphXEEiMETRNtM7cYjQGiHIUe7vIJ85oUmPQs5JwINvkU2YrsJuNayrrh6/H+5o3uvPKM30Taj+FA2mTqWvf47AH3pvLm42vlSfT/7TvkpPLsAA0A3f5wBBkEwv5P9+D7zghSEYUNSQqODuwLVAJJ/WwBawA3/OcAJAU/AysAogisAiT+oQI4+NgAoxCWBIf9ywdE9wvv5wJW/Gj0EQc5BYf95gWYAS70Kv7//xn0OwAtDbIDzvjf+3f5c/WK/WUB9/vX/b7+wgE5/zABowSN/VX6U/pm/cwDnAOC/74Ftv/a9oH60f5P+woCIwtoAEX7EQP9+svs2Pa2/475nvT4/gkCEPXn8cz2LvVr8qv6MATWBlMFZQW8/p36E//yAeIK8w6JC0wJ1wRrABMAeP/cAJoD1QDFA/cFGwJsAPH9Dvp4/B8B3wCjAK4CzwKE/r72NfaM+3X7AwMyC0sJkgWOBQoDdv/MAEoIFgdgAkgGRgXrA9EAm/zD/Pr/pv3l/24FZgMz/Lz8Lf/J+lv/PAEMBHwEK/zo/E//V/qi/KX/l/34/zYCE/6x+sX+twL9++P4wwEJARX/Gf8PBc8IzAFi/0sDfAUHAsEEvARfBicHiwCGAOwEdAQ2ADICsgRMAPD8tf6G+r76fgI1/Q/7\" type=\"audio/wav\" />\n",
       "                    Your browser does not support the audio element.\n",
       "                </audio>\n",
       "              "
      ],
      "text/plain": [
       "<IPython.lib.display.Audio object>"
      ]
     },
     "metadata": {},
     "output_type": "display_data"
    },
    {
     "data": {
      "text/html": [
       "\n",
       "                <audio  controls=\"controls\" >\n",
       "                    <source src=\"data:audio/wav;base64,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\" type=\"audio/wav\" />\n",
       "                    Your browser does not support the audio element.\n",
       "                </audio>\n",
       "              "
      ],
      "text/plain": [
       "<IPython.lib.display.Audio object>"
      ]
     },
     "metadata": {},
     "output_type": "display_data"
    },
    {
     "data": {
      "text/html": [
       "\n",
       "                <audio  controls=\"controls\" >\n",
       "                    <source src=\"data:audio/wav;base64,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\" type=\"audio/wav\" />\n",
       "                    Your browser does not support the audio element.\n",
       "                </audio>\n",
       "              "
      ],
      "text/plain": [
       "<IPython.lib.display.Audio object>"
      ]
     },
     "metadata": {},
     "output_type": "display_data"
    },
    {
     "data": {
      "image/png": "[encoded data removed]",
      "text/plain": [
       "<Figure size 432x288 with 1 Axes>"
      ]
     },
     "metadata": {
      "needs_background": "light"
     },
     "output_type": "display_data"
    }
   ],
   "source": [
    "# a mano cada audio pra verificar que se separen bien\n",
    "# splits {'dc_baño1':25, 'dc_baño2':25, 'dc_calle':28, 'dc_cocinando':27, 'dc_normal':27,\n",
    "#          'dh_agua':20, 'dh_baño':15,\n",
    "\n",
    "# este metodo de separar los audios se hace engorroso pues cambiando top_db se empieza a perder info del audio\n",
    "# es compromiso entre que separe ruidos y que se entiendan los numeros... y a veces no se logra \n",
    "i = 7\n",
    "top_db = 24\n",
    "\n",
    "x = audios_nos[i][0]\n",
    "\n",
    "print(\", \\'\",audios_nos[i][2], \"\\'\", \":\", top_db, \"\\n\", \"i: \", i, sep = \"\")\n",
    "\n",
    "split_points = librosa.effects.split(x, top_db = top_db)\n",
    "for split in split_points:\n",
    "    xplot = np.zeros_like(x)\n",
    "    xplot[split[0]:split[1]] = x[split[0]:split[1]]\n",
    "    plt.plot(xplot)\n",
    "    display(Audio(x[split[0]:split[1]], rate = fs))\n"
   ]
  },
  {
   "cell_type": "code",
   "execution_count": null,
   "metadata": {},
   "outputs": [],
   "source": []
  }
 ],
 "metadata": {
  "celltoolbar": "Slideshow",
  "colab": {
   "name": "AA_TP2.ipynb",
   "provenance": []
  },
  "kernelspec": {
   "display_name": "Python 3",
   "language": "python",
   "name": "python3"
  },
  "language_info": {
   "codemirror_mode": {
    "name": "ipython",
    "version": 3
   },
   "file_extension": ".py",
   "mimetype": "text/x-python",
   "name": "python",
   "nbconvert_exporter": "python",
   "pygments_lexer": "ipython3",
   "version": "3.8.2"
  }
 },
 "nbformat": 4,
 "nbformat_minor": 1
}
