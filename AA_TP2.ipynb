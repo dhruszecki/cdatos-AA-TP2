{
 "cells": [
  {
   "cell_type": "code",
   "execution_count": 23,
   "metadata": {},
   "outputs": [],
   "source": [
    "import librosa\n",
    "import glob\n",
    "import numpy as np\n",
    "import seaborn as sns\n",
    "import pandas as pd\n",
    "from os import path\n",
    "import matplotlib.pyplot as plt\n",
    "\n",
    "from time import time\n",
    "\n",
    "from IPython.display import Audio\n",
    "from librosa.display import specshow\n",
    "from sklearn.naive_bayes import GaussianNB\n",
    "from sklearn.metrics import classification_report\n",
    "from sklearn.metrics import confusion_matrix\n",
    "from sklearn.model_selection import RandomizedSearchCV\n",
    "from sklearn.ensemble import GradientBoostingClassifier\n",
    "from sklearn.ensemble import RandomForestClassifier"
   ]
  },
  {
   "cell_type": "code",
   "execution_count": 24,
   "metadata": {
    "colab": {},
    "colab_type": "code",
    "id": "igceWq3yQiIh"
   },
   "outputs": [],
   "source": [
    "def get_filenames():\n",
    "    if not path.exists(\"speechcommands\"):\n",
    "        !wget http://download.tensorflow.org/data/speech_commands_v0.01.tar.gz\n",
    "        !mkdir speechcommands\n",
    "        !tar -xf speech_commands_v0.01.tar.gz -C speechcommands\n",
    "    \n",
    "    numbers_filenames = []\n",
    "\n",
    "    to_number =\t{\n",
    "      \"zero\": 0,\n",
    "      \"one\": 1,\n",
    "      \"two\": 2,\n",
    "      \"three\": 3,\n",
    "      \"four\": 4,\n",
    "      \"five\": 5,\n",
    "      \"six\": 6,\n",
    "      \"seven\": 7,\n",
    "      \"eight\": 8,\n",
    "      \"nine\": 9\n",
    "    }\n",
    "\n",
    "    for i in to_number:\n",
    "        path = 'speechcommands/' + i + '/*.wav'\n",
    "        numbers_filenames.append(glob.glob(path))\n",
    "\n",
    "    test_filenames = ['speechcommands/' + e for e in open('speechcommands/testing_list.txt','r').read().splitlines() if e[:e.find('/')] in to_number]\n",
    "    valid_filenames = ['speechcommands/' + e for e in open('speechcommands/validation_list.txt','r').read().splitlines() if e[:e.find('/')] in to_number]\n",
    "    train_filenames = [e for n in range(10) for e in numbers_filenames[n] if (e not in test_filenames) and (e not in valid_filenames)]\n",
    "\n",
    "    print('train_count:' , len(train_filenames))\n",
    "    print('test_count:' , len(test_filenames))\n",
    "    print('valid_count:' , len(valid_filenames))\n",
    "    \n",
    "    return \t{\n",
    "      \"train_features.csv\": train_filenames,\n",
    "      \"test_features.csv\": test_filenames,\n",
    "      \"valid_features.csv\": valid_filenames\n",
    "    }\n",
    "    "
   ]
  },
  {
   "cell_type": "code",
   "execution_count": 25,
   "metadata": {},
   "outputs": [],
   "source": [
    "def count_elapsed_time(f):\n",
    "    \"\"\"\n",
    "    Decorator.\n",
    "    Execute the function and calculate the elapsed time.\n",
    "    Print the result to the standard output.\n",
    "    \"\"\"\n",
    "    def wrapper(*args, **kwargs):\n",
    "        # Start counting.\n",
    "        start_time = time()\n",
    "        # Take the original function's return value.\n",
    "        ret = f(*args, **kwargs)\n",
    "        # Calculate the elapsed time.\n",
    "        elapsed_time = time() - start_time\n",
    "        print(\"Elapsed time: %0.10f seconds.\" % elapsed_time)\n",
    "        return ret\n",
    "\n",
    "    return wrapper"
   ]
  },
  {
   "cell_type": "code",
   "execution_count": 56,
   "metadata": {},
   "outputs": [],
   "source": [
    "def aplicar_ruido(audio, ruido):\n",
    "    if ruido==1:\n",
    "        return np.random.normal(size=audio.shape) + audio\n",
    "    else:\n",
    "        ruidoaudio, sr = librosa.core.load('speechcommands/_background_noise_/doing_the_dishes.wav', sr=None)\n",
    "        ruidoaudio = ruidoaudio[5000:5000+len(audio)]\n",
    "        return 0.5*ruidoaudio + audio\n",
    "    "
   ]
  },
  {
   "cell_type": "code",
   "execution_count": 57,
   "metadata": {
    "colab": {},
    "colab_type": "code",
    "id": "aABqrO8zSz07"
   },
   "outputs": [],
   "source": [
    "def calculate_features(filename, n_mfcc=12, delta=True, deltadelta=True, energy=True, summary_fn = [np.mean, np.std], summary_names=['mean', 'std'], ruido=0):  \n",
    "  #Abro el archivo:\n",
    "  x, sr = librosa.core.load(filename,sr=None)\n",
    "  \n",
    "  if (ruido > 0):\n",
    "        x = aplicar_ruido(x, ruido)\n",
    "\n",
    "  #Calculo MFCCs\n",
    "  features = librosa.feature.mfcc(x,sr=sr,n_mfcc=n_mfcc)\n",
    "\n",
    "  #Calculo energia:\n",
    "  if energy:\n",
    "    energy = librosa.feature.rmse(x)\n",
    "    features = np.concatenate([features,energy])\n",
    "\n",
    "  #Aplico media y desvio estandar por defecto\n",
    "  summary_features = np.concatenate([fn(features,axis=1) for fn in summary_fn])\n",
    "    \n",
    "  #Lo mismo con los delta\n",
    "  if delta:\n",
    "    deltafeatures = np.diff(features)\n",
    "    summary_features = np.concatenate([summary_features,np.concatenate([fn(deltafeatures,axis=1) for fn in summary_fn])])\n",
    "\n",
    "  #Y con los delta de segundo orden\n",
    "  if deltadelta:\n",
    "    deltadeltafeatures = np.diff(features,n=2)\n",
    "    summary_features = np.concatenate([summary_features,np.concatenate([fn(deltadeltafeatures,axis=1) for fn in summary_fn])]) \n",
    "  \n",
    "  summary_features = np.append(summary_features, [to_number[filename.split('/')[1]], filename])\n",
    "\n",
    "  return summary_features"
   ]
  },
  {
   "cell_type": "code",
   "execution_count": 58,
   "metadata": {},
   "outputs": [],
   "source": [
    "def name_features(filename = '', n_mfcc=12, delta=True, deltadelta=True, energy=True, summary_fn = [np.mean, np.std], summary_names=['mean', 'std']):\n",
    "    feat_names = ['mfcc_{}'.format(i) for i in range(n_mfcc)]\n",
    "    if energy: feat_names = feat_names + ['energy']\n",
    "    feat_names = ['{}_{}'.format(name_i,summ_i) for summ_i in summary_names for name_i in feat_names]\n",
    "    if delta: d_names = ['d{}'.format(name) for name in feat_names]\n",
    "    if deltadelta: dd_names = ['dd{}'.format(name) for name in feat_names]\n",
    "\n",
    "    feat_names = feat_names + d_names + dd_names + ['digit', 'file']\n",
    "\n",
    "    return feat_names"
   ]
  },
  {
   "cell_type": "code",
   "execution_count": 59,
   "metadata": {
    "scrolled": true
   },
   "outputs": [],
   "source": [
    "@count_elapsed_time\n",
    "def calculate_features_if_needed(result_filename, ruido=0):\n",
    "    result_path = \"features/\"+result_filename\n",
    "    result = []\n",
    "    if not path.exists(result_path):\n",
    "        print(\"Getting filenames\")\n",
    "        filenames_complete = get_filenames()\n",
    "        filenames = filenames_complete[result_filename]        \n",
    "        \n",
    "        print(\"Calculating features for \", len(filenames), \" rows -> \", result_path)\n",
    "        features_names = name_features()\n",
    "        features_data = [calculate_features(x, ruido) for x in filenames]\n",
    "        pd.DataFrame(data = features_data, columns = features_names).to_csv(result_path)\n",
    "    \n",
    "    else:\n",
    "        print(\"Loading saved features <- \", result_path)\n",
    "        result = pd.read_csv(result_path)\n",
    "    \n",
    "    return result"
   ]
  },
  {
   "cell_type": "markdown",
   "metadata": {},
   "source": [
    "##  Obtenemos features  y eliminamos las columnas innecesarias para la predicción"
   ]
  },
  {
   "cell_type": "code",
   "execution_count": 29,
   "metadata": {},
   "outputs": [],
   "source": [
    "import os.path\n",
    "from os import path\n",
    "\n",
    "if not path.exists(\"features/test_features.csv\"):\n",
    "    !wget https://raw.githubusercontent.com/dhruszecki/cdatos-AA-TP2/master/features/test_features.csv -P features\n",
    "    \n",
    "if not path.exists(\"features/train_features.csv\"):        \n",
    "    !wget https://raw.githubusercontent.com/dhruszecki/cdatos-AA-TP2/master/features/train_features.csv -P features\n",
    "        \n",
    "if not path.exists(\"features/valid_features.csv\"):        \n",
    "    !wget https://raw.githubusercontent.com/dhruszecki/cdatos-AA-TP2/master/features/valid_features.csv -P features\n"
   ]
  },
  {
   "cell_type": "code",
   "execution_count": 30,
   "metadata": {
    "scrolled": true
   },
   "outputs": [
    {
     "name": "stdout",
     "output_type": "stream",
     "text": [
      "Loading saved features <-  features/test_features.csv\n",
      "Elapsed time: 0.0479600430 seconds.\n",
      "CPU times: user 51.9 ms, sys: 8.01 ms, total: 59.9 ms\n",
      "Wall time: 57.6 ms\n"
     ]
    },
    {
     "data": {
      "text/html": [
       "<div>\n",
       "<style scoped>\n",
       "    .dataframe tbody tr th:only-of-type {\n",
       "        vertical-align: middle;\n",
       "    }\n",
       "\n",
       "    .dataframe tbody tr th {\n",
       "        vertical-align: top;\n",
       "    }\n",
       "\n",
       "    .dataframe thead th {\n",
       "        text-align: right;\n",
       "    }\n",
       "</style>\n",
       "<table border=\"1\" class=\"dataframe\">\n",
       "  <thead>\n",
       "    <tr style=\"text-align: right;\">\n",
       "      <th>col_0</th>\n",
       "      <th>count</th>\n",
       "    </tr>\n",
       "    <tr>\n",
       "      <th>digit</th>\n",
       "      <th></th>\n",
       "    </tr>\n",
       "  </thead>\n",
       "  <tbody>\n",
       "    <tr>\n",
       "      <th>0</th>\n",
       "      <td>0.097962</td>\n",
       "    </tr>\n",
       "    <tr>\n",
       "      <th>1</th>\n",
       "      <td>0.097179</td>\n",
       "    </tr>\n",
       "    <tr>\n",
       "      <th>2</th>\n",
       "      <td>0.103448</td>\n",
       "    </tr>\n",
       "    <tr>\n",
       "      <th>3</th>\n",
       "      <td>0.104624</td>\n",
       "    </tr>\n",
       "    <tr>\n",
       "      <th>4</th>\n",
       "      <td>0.099138</td>\n",
       "    </tr>\n",
       "    <tr>\n",
       "      <th>5</th>\n",
       "      <td>0.106191</td>\n",
       "    </tr>\n",
       "    <tr>\n",
       "      <th>6</th>\n",
       "      <td>0.095611</td>\n",
       "    </tr>\n",
       "    <tr>\n",
       "      <th>7</th>\n",
       "      <td>0.093652</td>\n",
       "    </tr>\n",
       "    <tr>\n",
       "      <th>8</th>\n",
       "      <td>0.100705</td>\n",
       "    </tr>\n",
       "    <tr>\n",
       "      <th>9</th>\n",
       "      <td>0.101489</td>\n",
       "    </tr>\n",
       "  </tbody>\n",
       "</table>\n",
       "</div>"
      ],
      "text/plain": [
       "col_0     count\n",
       "digit          \n",
       "0      0.097962\n",
       "1      0.097179\n",
       "2      0.103448\n",
       "3      0.104624\n",
       "4      0.099138\n",
       "5      0.106191\n",
       "6      0.095611\n",
       "7      0.093652\n",
       "8      0.100705\n",
       "9      0.101489"
      ]
     },
     "execution_count": 30,
     "metadata": {},
     "output_type": "execute_result"
    }
   ],
   "source": [
    "%%time\n",
    "# Variables a excluir de la predicción\n",
    "var_exclude = ['file', 'Unnamed: 0']\n",
    "\n",
    "test_features = pd.DataFrame(calculate_features_if_needed(\"test_features.csv\"))\n",
    "test_features.drop(var_exclude, axis=1, inplace=True)\n",
    "test_features.head(10)\n",
    "pd.crosstab(index=test_features[\"digit\"], columns=\"count\", normalize=True)"
   ]
  },
  {
   "cell_type": "code",
   "execution_count": 31,
   "metadata": {},
   "outputs": [
    {
     "name": "stdout",
     "output_type": "stream",
     "text": [
      "Loading saved features <-  features/valid_features.csv\n",
      "Elapsed time: 0.0462124348 seconds.\n",
      "CPU times: user 49.3 ms, sys: 8.01 ms, total: 57.3 ms\n",
      "Wall time: 54.8 ms\n"
     ]
    },
    {
     "data": {
      "text/html": [
       "<div>\n",
       "<style scoped>\n",
       "    .dataframe tbody tr th:only-of-type {\n",
       "        vertical-align: middle;\n",
       "    }\n",
       "\n",
       "    .dataframe tbody tr th {\n",
       "        vertical-align: top;\n",
       "    }\n",
       "\n",
       "    .dataframe thead th {\n",
       "        text-align: right;\n",
       "    }\n",
       "</style>\n",
       "<table border=\"1\" class=\"dataframe\">\n",
       "  <thead>\n",
       "    <tr style=\"text-align: right;\">\n",
       "      <th>col_0</th>\n",
       "      <th>count</th>\n",
       "    </tr>\n",
       "    <tr>\n",
       "      <th>digit</th>\n",
       "      <th></th>\n",
       "    </tr>\n",
       "  </thead>\n",
       "  <tbody>\n",
       "    <tr>\n",
       "      <th>0</th>\n",
       "      <td>0.104250</td>\n",
       "    </tr>\n",
       "    <tr>\n",
       "      <th>1</th>\n",
       "      <td>0.092221</td>\n",
       "    </tr>\n",
       "    <tr>\n",
       "      <th>2</th>\n",
       "      <td>0.094627</td>\n",
       "    </tr>\n",
       "    <tr>\n",
       "      <th>3</th>\n",
       "      <td>0.099439</td>\n",
       "    </tr>\n",
       "    <tr>\n",
       "      <th>4</th>\n",
       "      <td>0.112269</td>\n",
       "    </tr>\n",
       "    <tr>\n",
       "      <th>5</th>\n",
       "      <td>0.097033</td>\n",
       "    </tr>\n",
       "    <tr>\n",
       "      <th>6</th>\n",
       "      <td>0.105052</td>\n",
       "    </tr>\n",
       "    <tr>\n",
       "      <th>7</th>\n",
       "      <td>0.105453</td>\n",
       "    </tr>\n",
       "    <tr>\n",
       "      <th>8</th>\n",
       "      <td>0.097434</td>\n",
       "    </tr>\n",
       "    <tr>\n",
       "      <th>9</th>\n",
       "      <td>0.092221</td>\n",
       "    </tr>\n",
       "  </tbody>\n",
       "</table>\n",
       "</div>"
      ],
      "text/plain": [
       "col_0     count\n",
       "digit          \n",
       "0      0.104250\n",
       "1      0.092221\n",
       "2      0.094627\n",
       "3      0.099439\n",
       "4      0.112269\n",
       "5      0.097033\n",
       "6      0.105052\n",
       "7      0.105453\n",
       "8      0.097434\n",
       "9      0.092221"
      ]
     },
     "execution_count": 31,
     "metadata": {},
     "output_type": "execute_result"
    }
   ],
   "source": [
    "%%time\n",
    "validation_features = pd.DataFrame(calculate_features_if_needed(\"valid_features.csv\"))\n",
    "validation_features.head(10)\n",
    "\n",
    "validation_features.drop(var_exclude, axis=1, inplace=True)\n",
    "validation_features.head(10)\n",
    "pd.crosstab(index=validation_features[\"digit\"], columns=\"count\", normalize=True)"
   ]
  },
  {
   "cell_type": "code",
   "execution_count": 32,
   "metadata": {},
   "outputs": [
    {
     "name": "stdout",
     "output_type": "stream",
     "text": [
      "Loading saved features <-  features/train_features.csv\n",
      "Elapsed time: 0.2932553291 seconds.\n",
      "CPU times: user 294 ms, sys: 16 ms, total: 310 ms\n",
      "Wall time: 306 ms\n"
     ]
    },
    {
     "data": {
      "text/html": [
       "<div>\n",
       "<style scoped>\n",
       "    .dataframe tbody tr th:only-of-type {\n",
       "        vertical-align: middle;\n",
       "    }\n",
       "\n",
       "    .dataframe tbody tr th {\n",
       "        vertical-align: top;\n",
       "    }\n",
       "\n",
       "    .dataframe thead th {\n",
       "        text-align: right;\n",
       "    }\n",
       "</style>\n",
       "<table border=\"1\" class=\"dataframe\">\n",
       "  <thead>\n",
       "    <tr style=\"text-align: right;\">\n",
       "      <th>col_0</th>\n",
       "      <th>count</th>\n",
       "    </tr>\n",
       "    <tr>\n",
       "      <th>digit</th>\n",
       "      <th></th>\n",
       "    </tr>\n",
       "  </thead>\n",
       "  <tbody>\n",
       "    <tr>\n",
       "      <th>0</th>\n",
       "      <td>0.100215</td>\n",
       "    </tr>\n",
       "    <tr>\n",
       "      <th>1</th>\n",
       "      <td>0.101611</td>\n",
       "    </tr>\n",
       "    <tr>\n",
       "      <th>2</th>\n",
       "      <td>0.100591</td>\n",
       "    </tr>\n",
       "    <tr>\n",
       "      <th>3</th>\n",
       "      <td>0.098872</td>\n",
       "    </tr>\n",
       "    <tr>\n",
       "      <th>4</th>\n",
       "      <td>0.098765</td>\n",
       "    </tr>\n",
       "    <tr>\n",
       "      <th>5</th>\n",
       "      <td>0.099033</td>\n",
       "    </tr>\n",
       "    <tr>\n",
       "      <th>6</th>\n",
       "      <td>0.100054</td>\n",
       "    </tr>\n",
       "    <tr>\n",
       "      <th>7</th>\n",
       "      <td>0.100698</td>\n",
       "    </tr>\n",
       "    <tr>\n",
       "      <th>8</th>\n",
       "      <td>0.099463</td>\n",
       "    </tr>\n",
       "    <tr>\n",
       "      <th>9</th>\n",
       "      <td>0.100698</td>\n",
       "    </tr>\n",
       "  </tbody>\n",
       "</table>\n",
       "</div>"
      ],
      "text/plain": [
       "col_0     count\n",
       "digit          \n",
       "0      0.100215\n",
       "1      0.101611\n",
       "2      0.100591\n",
       "3      0.098872\n",
       "4      0.098765\n",
       "5      0.099033\n",
       "6      0.100054\n",
       "7      0.100698\n",
       "8      0.099463\n",
       "9      0.100698"
      ]
     },
     "execution_count": 32,
     "metadata": {},
     "output_type": "execute_result"
    }
   ],
   "source": [
    "%%time\n",
    "train_features = pd.DataFrame(calculate_features_if_needed(\"train_features.csv\"))\n",
    "train_features.head(10)\n",
    "train_features.drop(var_exclude, axis=1, inplace=True)\n",
    "train_features.head(10)\n",
    "pd.crosstab(index=train_features[\"digit\"], columns=\"count\", normalize=True)"
   ]
  },
  {
   "cell_type": "code",
   "execution_count": null,
   "metadata": {},
   "outputs": [],
   "source": [
    "develop_features = validation_features.append(train_features, ignore_index=True)"
   ]
  },
  {
   "cell_type": "markdown",
   "metadata": {},
   "source": [
    "# Modelos"
   ]
  },
  {
   "cell_type": "markdown",
   "metadata": {},
   "source": [
    "## Naive Bayes"
   ]
  },
  {
   "cell_type": "code",
   "execution_count": 33,
   "metadata": {},
   "outputs": [
    {
     "name": "stdout",
     "output_type": "stream",
     "text": [
      "Accuracy training : 0.541\n",
      "Accuracy Validación: 0.537\n",
      "              precision    recall  f1-score   support\n",
      "\n",
      "           0       0.64      0.65      0.64       260\n",
      "           1       0.36      0.58      0.45       230\n",
      "           2       0.37      0.48      0.42       236\n",
      "           3       0.55      0.55      0.55       248\n",
      "           4       0.72      0.53      0.61       280\n",
      "           5       0.54      0.53      0.54       242\n",
      "           6       0.50      0.58      0.54       262\n",
      "           7       0.58      0.49      0.53       263\n",
      "           8       0.74      0.56      0.63       243\n",
      "           9       0.61      0.41      0.49       230\n",
      "\n",
      "    accuracy                           0.54      2494\n",
      "   macro avg       0.56      0.54      0.54      2494\n",
      "weighted avg       0.57      0.54      0.54      2494\n",
      "\n",
      "CPU times: user 94.4 ms, sys: 4.01 ms, total: 98.4 ms\n",
      "Wall time: 96.3 ms\n"
     ]
    }
   ],
   "source": [
    "%%time\n",
    "\n",
    "naive_bayes_1 = GaussianNB()\n",
    "naive_bayes_1.fit(train_features.drop('digit',axis=1).values, train_features.digit.values)\n",
    "predict_nb1 = naive_bayes_1.predict(validation_features.drop('digit',axis=1).values)\n",
    "\n",
    "print(\"Accuracy training : {:.3f}\".format(naive_bayes_1.score(train_features.drop('digit',axis=1).values, \n",
    "                                                               train_features.digit.values)))\n",
    "print(\"Accuracy Validación: {:.3f}\".format(naive_bayes_1.score(validation_features.drop('digit',axis=1).values, \n",
    "                                                          validation_features.digit.values)))\n",
    "\n",
    "print(classification_report(validation_features.digit.values, predict_nb1))"
   ]
  },
  {
   "cell_type": "markdown",
   "metadata": {},
   "source": [
    "###  Matriz de Confusión "
   ]
  },
  {
   "cell_type": "code",
   "execution_count": 51,
   "metadata": {},
   "outputs": [
    {
     "name": "stdout",
     "output_type": "stream",
     "text": [
      "CPU times: user 174 ms, sys: 0 ns, total: 174 ms\n",
      "Wall time: 175 ms\n"
     ]
    },
    {
     "data": {
      "text/plain": [
       "Text(32.7, 0.5, 'True')"
      ]
     },
     "execution_count": 51,
     "metadata": {},
     "output_type": "execute_result"
    },
    {
     "data": {
      "image/png": "[encoded data removed]",
      "text/plain": [
       "<Figure size 432x288 with 2 Axes>"
      ]
     },
     "metadata": {
      "needs_background": "light"
     },
     "output_type": "display_data"
    }
   ],
   "source": [
    "%%time\n",
    "\n",
    "sns.set_context('paper')\n",
    "sns.heatmap(confusion_matrix(validation_features.digit.values, predict_nb1), annot=True, fmt='g')\n",
    "plt.xlabel('Predict')\n",
    "plt.ylabel('True')"
   ]
  },
  {
   "cell_type": "markdown",
   "metadata": {},
   "source": [
    "## Random Forest:  búsqueda de hiperparámetros óptimos"
   ]
  },
  {
   "cell_type": "code",
   "execution_count": 54,
   "metadata": {},
   "outputs": [
    {
     "name": "stdout",
     "output_type": "stream",
     "text": [
      "0.8948979591836734 {'n_estimators': 220, 'max_depth': 10, 'bootstrap': False}\n",
      "Accuracy training : 0.895\n",
      "Accuracy Validación: 0.664\n",
      "CPU times: user 38.6 s, sys: 212 ms, total: 38.8 s\n",
      "Wall time: 3min 40s\n"
     ]
    }
   ],
   "source": [
    "%%time\n",
    "\n",
    "parametros = {'n_estimators':range(100, 250, 15), 'max_depth':range(6, 12, 2), 'bootstrap':[True, False]}\n",
    "\n",
    "clf = RandomizedSearchCV(RandomForestClassifier(random_state=22), parametros, n_jobs=20, random_state=131313,    \n",
    "                         scoring='accuracy', n_iter=30, cv =  [(slice(None), slice(None))])\n",
    "\n",
    "clf.fit(train_features.drop('digit',axis=1).values, train_features.digit.values)\n",
    "rf = clf.best_estimator_  \n",
    "\n",
    "print(clf.best_score_, clf.best_params_)\n",
    "print(\"Accuracy training : {:.3f}\".format(rf.score(train_features.drop('digit',axis=1).values, \n",
    "                                                   train_features.digit.values)))\n",
    "print(\"Accuracy Validación: {:.3f}\".format(rf.score(validation_features.drop('digit',axis=1).values, \n",
    "                                                          validation_features.digit.values)))"
   ]
  },
  {
   "cell_type": "markdown",
   "metadata": {},
   "source": [
    "###  Matriz de Confusión "
   ]
  },
  {
   "cell_type": "code",
   "execution_count": 55,
   "metadata": {},
   "outputs": [
    {
     "name": "stdout",
     "output_type": "stream",
     "text": [
      "CPU times: user 245 ms, sys: 0 ns, total: 245 ms\n",
      "Wall time: 246 ms\n"
     ]
    },
    {
     "data": {
      "text/plain": [
       "Text(32.7, 0.5, 'True')"
      ]
     },
     "execution_count": 55,
     "metadata": {},
     "output_type": "execute_result"
    },
    {
     "data": {
      "image/png": "[encoded data removed]",
      "text/plain": [
       "<Figure size 432x288 with 2 Axes>"
      ]
     },
     "metadata": {
      "needs_background": "light"
     },
     "output_type": "display_data"
    }
   ],
   "source": [
    "rf_pred = rf.predict(validation_features.drop('digit',axis=1).values)\n",
    "sns.set_context('paper')\n",
    "sns.heatmap(confusion_matrix(validation_features.digit.values, rf_pred), annot=True, fmt='g')\n",
    "plt.xlabel('Predict')\n",
    "plt.ylabel('True')"
   ]
  },
  {
   "cell_type": "markdown",
   "metadata": {},
   "source": [
    "## Gradient Boosting"
   ]
  },
  {
   "cell_type": "code",
   "execution_count": 44,
   "metadata": {},
   "outputs": [
    {
     "name": "stdout",
     "output_type": "stream",
     "text": [
      "1.0 {'n_estimators': 125, 'max_depth': 6, 'learning_rate': 0.2}\n",
      "Accuracy training : 1.000\n",
      "Accuracy test: 0.742\n",
      "CPU times: user 17min 49s, sys: 636 ms, total: 17min 50s\n",
      "Wall time: 2h 52min 12s\n"
     ]
    }
   ],
   "source": [
    "%%time\n",
    "\n",
    "parameters = {'n_estimators':range(50, 150, 25), 'max_depth':range(5,7), 'learning_rate':np.arange(0,1,0.1)}\n",
    "clf = RandomizedSearchCV(GradientBoostingClassifier(random_state=22), parameters, n_jobs=30, scoring='accuracy',cv=[(slice(None), slice(None))], n_iter=50, random_state=8)\n",
    "\n",
    "clf.fit(train_features.drop('digit',axis=1).values, train_features.digit.values)\n",
    "gb = clf.best_estimator_\n",
    "\n",
    "print (clf.best_score_, clf.best_params_)\n",
    "print(\"Accuracy training : {:.3f}\".format(gb.score(train_features.drop('digit',axis=1).values, \n",
    "                                                   train_features.digit.values))) \n",
    "print(\"Accuracy validation: {:.3f}\".format(gb.score(validation_features.drop('digit',axis=1).values, \n",
    "                                                   validation_features.digit.values)))"
   ]
  },
  {
   "cell_type": "markdown",
   "metadata": {},
   "source": [
    "###  Matriz de Confusión "
   ]
  },
  {
   "cell_type": "code",
   "execution_count": 50,
   "metadata": {},
   "outputs": [
    {
     "name": "stdout",
     "output_type": "stream",
     "text": [
      "CPU times: user 191 ms, sys: 4 ms, total: 195 ms\n",
      "Wall time: 216 ms\n"
     ]
    },
    {
     "data": {
      "text/plain": [
       "Text(32.7, 0.5, 'True')"
      ]
     },
     "execution_count": 50,
     "metadata": {},
     "output_type": "execute_result"
    },
    {
     "data": {
      "image/png": "[encoded data removed]",
      "text/plain": [
       "<Figure size 432x288 with 2 Axes>"
      ]
     },
     "metadata": {
      "needs_background": "light"
     },
     "output_type": "display_data"
    }
   ],
   "source": [
    "gb_pred = gb.predict(validation_features.drop('digit',axis=1).values)\n",
    "sns.set_context('paper')\n",
    "sns.heatmap(confusion_matrix(validation_features.digit.values, gb_pred), annot=True, fmt='g')\n",
    "plt.xlabel('Predict')\n",
    "plt.ylabel('True')"
   ]
  },
  {
   "cell_type": "code",
   "execution_count": null,
   "metadata": {},
   "outputs": [],
   "source": [
    "%%time\n",
    "# Variables a excluir de la predicción\n",
    "var_exclude = ['file', 'Unnamed: 0']\n",
    "\n",
    "test_features_g = pd.DataFrame(calculate_features_if_needed(\"test_features_ruidog.csv\", 1))\n",
    "test_features_g.drop(var_exclude, axis=1, inplace=True)\n",
    "test_features_g.head(10)\n",
    "pd.crosstab(index=test_features_g[\"digit\"], columns=\"count\", normalize=True)"
   ]
  },
  {
   "cell_type": "code",
   "execution_count": 69,
   "metadata": {},
   "outputs": [
    {
     "name": "stdout",
     "output_type": "stream",
     "text": [
      "Accuracy Develop : 0.542\n",
      "Accuracy Test: 0.531\n",
      "              precision    recall  f1-score   support\n",
      "\n",
      "           0       0.55      0.50      0.52       250\n",
      "           1       0.41      0.49      0.45       248\n",
      "           2       0.41      0.50      0.45       264\n",
      "           3       0.54      0.48      0.51       267\n",
      "           4       0.71      0.57      0.63       253\n",
      "           5       0.57      0.59      0.58       271\n",
      "           6       0.48      0.65      0.55       244\n",
      "           7       0.56      0.46      0.51       239\n",
      "           8       0.62      0.61      0.61       257\n",
      "           9       0.59      0.45      0.51       259\n",
      "\n",
      "    accuracy                           0.53      2552\n",
      "   macro avg       0.54      0.53      0.53      2552\n",
      "weighted avg       0.54      0.53      0.53      2552\n",
      "\n",
      "CPU times: user 145 ms, sys: 4 µs, total: 145 ms\n",
      "Wall time: 143 ms\n"
     ]
    }
   ],
   "source": [
    "%%time\n",
    "\n",
    "naive_bayes_1 = GaussianNB()\n",
    "naive_bayes_1.fit(develop_features.drop('digit',axis=1).values, develop_features.digit.values)\n",
    "\n",
    "predict_nb1_test = naive_bayes_1.predict(test_features.drop('digit',axis=1).values)\n",
    "\n",
    "#predict_nb1_g = naive_bayes_1.predict(test_features_g.drop('digit',axis=1).values)\n",
    "\n",
    "# TODO: agregar resto de ruidosos + nuestros\n",
    "\n",
    "\n",
    "print(\"Accuracy Develop : {:.3f}\".format(naive_bayes_1.score(develop_features.drop('digit',axis=1).values, \n",
    "                                                               develop_features.digit.values)))\n",
    "print(\"Accuracy Test: {:.3f}\".format(naive_bayes_1.score(test_features.drop('digit',axis=1).values, \n",
    "                                                          test_features.digit.values)))\n",
    "\n",
    "\n",
    "#print(\"Accuracy Test+G: {:.3f}\".format(naive_bayes_1.score(test_features_g.drop('digit',axis=1).values, \n",
    "#                                                          test_features_g.digit.values)))\n",
    "\n",
    "\n",
    "print(classification_report(test_features.digit.values, predict_nb1_test))"
   ]
  },
  {
   "cell_type": "code",
   "execution_count": 68,
   "metadata": {},
   "outputs": [
    {
     "name": "stdout",
     "output_type": "stream",
     "text": [
      "Accuracy Develop : 0.879\n",
      "Accuracy Test: 0.644\n",
      "CPU times: user 41.8 s, sys: 36 ms, total: 41.8 s\n",
      "Wall time: 41.9 s\n"
     ]
    }
   ],
   "source": [
    "%%time\n",
    "\n",
    "rf.fit(develop_features.drop('digit',axis=1).values, develop_features.digit.values)\n",
    "#rf_pred_test = rf.predict(test_features.drop('digit',axis=1).values)\n",
    "#rf_pred_test_g = rf.predict(test_features_g.drop('digit',axis=1).values)\n",
    "\n",
    "print(\"Accuracy Develop : {:.3f}\".format(rf.score(develop_features.drop('digit',axis=1).values, \n",
    "                                                   develop_features.digit.values)))\n",
    "print(\"Accuracy Test: {:.3f}\".format(rf.score(test_features.drop('digit',axis=1).values, \n",
    "                                                          test_features.digit.values)))"
   ]
  },
  {
   "cell_type": "code",
   "execution_count": 71,
   "metadata": {},
   "outputs": [
    {
     "name": "stdout",
     "output_type": "stream",
     "text": [
      "Accuracy Develop : 1.000\n",
      "Accuracy Test: 0.728\n",
      "CPU times: user 18min 38s, sys: 39.5 ms, total: 18min 38s\n",
      "Wall time: 18min 38s\n"
     ]
    }
   ],
   "source": [
    "%%time\n",
    "\n",
    "gb.fit(develop_features.drop('digit',axis=1).values, develop_features.digit.values)\n",
    "\n",
    "gb_pred_test = gb.predict(test_features.drop('digit',axis=1).values)\n",
    "\n",
    "print(\"Accuracy Develop : {:.3f}\".format(gb.score(develop_features.drop('digit',axis=1).values, \n",
    "                                                   develop_features.digit.values)))\n",
    "print(\"Accuracy Test: {:.3f}\".format(gb.score(test_features.drop('digit',axis=1).values, \n",
    "                                                          test_features.digit.values)))"
   ]
  },
  {
   "cell_type": "code",
   "execution_count": null,
   "metadata": {},
   "outputs": [],
   "source": []
  }
 ],
 "metadata": {
  "celltoolbar": "Slideshow",
  "colab": {
   "name": "AA_TP2.ipynb",
   "provenance": []
  },
  "kernelspec": {
   "display_name": "Python 3",
   "language": "python",
   "name": "python3"
  },
  "language_info": {
   "codemirror_mode": {
    "name": "ipython",
    "version": 3
   },
   "file_extension": ".py",
   "mimetype": "text/x-python",
   "name": "python",
   "nbconvert_exporter": "python",
   "pygments_lexer": "ipython3",
   "version": "3.8.2"
  }
 },
 "nbformat": 4,
 "nbformat_minor": 1
}
