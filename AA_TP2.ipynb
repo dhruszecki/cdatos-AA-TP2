{
 "cells": [
  {
   "cell_type": "markdown",
   "metadata": {},
   "source": [
    "## Import de librerias utilizadas"
   ]
  },
  {
   "cell_type": "code",
   "execution_count": 2,
   "metadata": {},
   "outputs": [],
   "source": [
    "import librosa\n",
    "import glob\n",
    "import numpy as np\n",
    "import seaborn as sns\n",
    "import pandas as pd\n",
    "import os.path\n",
    "from os import path\n",
    "\n",
    "import matplotlib.pyplot as plt\n",
    "\n",
    "from enum import Enum\n",
    "from time import time\n",
    "\n",
    "from IPython.display import Audio\n",
    "from librosa.display import specshow\n",
    "from sklearn.naive_bayes import GaussianNB\n",
    "from sklearn.metrics import classification_report\n",
    "from sklearn.metrics import confusion_matrix\n",
    "from sklearn.model_selection import RandomizedSearchCV\n",
    "from sklearn.ensemble import GradientBoostingClassifier\n",
    "from sklearn.ensemble import RandomForestClassifier"
   ]
  },
  {
   "cell_type": "markdown",
   "metadata": {},
   "source": [
    "## Funciones para la obtención de features y modelado"
   ]
  },
  {
   "cell_type": "code",
   "execution_count": 3,
   "metadata": {},
   "outputs": [],
   "source": [
    "class AudioType(Enum):\n",
    "  TRAIN= 1   \n",
    "  VALIDATION= 2   \n",
    "  TEST= 3   \n",
    "  CUSTOM= 4   "
   ]
  },
  {
   "cell_type": "code",
   "execution_count": 4,
   "metadata": {},
   "outputs": [],
   "source": [
    "class Feature:\n",
    "  def __init__(self, filename, audio_type, noise_type=None):\n",
    "    self.filename = filename\n",
    "    self.noise_type = noise_type\n",
    "    self.audio_type = audio_type"
   ]
  },
  {
   "cell_type": "code",
   "execution_count": 26,
   "metadata": {},
   "outputs": [],
   "source": [
    "class Features(Enum):\n",
    "    Train = Feature(\"train_features.csv\",AudioType.TRAIN)\n",
    "    Validation = Feature(\"valid_features.csv\", AudioType.VALIDATION)\n",
    "    Test = Feature(\"test_features.csv\", AudioType.TEST) \n",
    "    Test_Noise_Gauss = Feature(\"test_features_gauss.csv\",AudioType.TEST, \"gauss\")\n",
    "    Test_Noise_Dishes = Feature(\"test_features_dishes.csv\", AudioType.TEST, \"doing_the_dishes.wav\")\n",
    "    Test_Noise_Dude = Feature(\"test_features_dude.csv\", AudioType.TEST, \"dude_miaowing.wav\")\n",
    "    Test_Noise_Bike = Feature(\"test_features_bike.csv\", AudioType.TEST, \"exercise_bike.wav\")\n",
    "    Test_Noise_Pink = Feature(\"test_features_pink.csv\", AudioType.TEST, \"pink_noise.wav\")\n",
    "    Test_Noise_Running = Feature(\"test_features_running.csv\", AudioType.TEST, \"running_tap.wav\")            \n",
    "    Test_Noise_White = Feature(\"test_features_white.csv\", AudioType.TEST, \"white_noise.wav\")"
   ]
  },
  {
   "cell_type": "code",
   "execution_count": 35,
   "metadata": {},
   "outputs": [],
   "source": [
    "def download_feature_if_needed(filename):\n",
    "    if not path.exists(\"features/\"+filename):\n",
    "        url = \"https://raw.githubusercontent.com/dhruszecki/cdatos-AA-TP2/master/features/\"+filename\n",
    "        !wget {url} -P features"
   ]
  },
  {
   "cell_type": "code",
   "execution_count": 6,
   "metadata": {
    "colab": {},
    "colab_type": "code",
    "id": "igceWq3yQiIh"
   },
   "outputs": [],
   "source": [
    "audio_filenames= None\n",
    "\n",
    "to_number = {\n",
    "  \"zero\": 0,\n",
    "  \"one\": 1,\n",
    "  \"two\": 2,\n",
    "  \"three\": 3,\n",
    "  \"four\": 4,\n",
    "  \"five\": 5,\n",
    "  \"six\": 6,\n",
    "  \"seven\": 7,\n",
    "  \"eight\": 8,\n",
    "  \"nine\": 9\n",
    "}\n",
    "\n",
    "def get_filenames():\n",
    "    \n",
    "    global audio_filenames\n",
    "    \n",
    "    if audio_filenames!= None:\n",
    "        return audio_filenames\n",
    "    \n",
    "    import os.path\n",
    "    from os import path\n",
    "    if not path.exists(\"speechcommands\"):\n",
    "        !wget http://download.tensorflow.org/data/speech_commands_v0.01.tar.gz\n",
    "        !mkdir speechcommands\n",
    "        !tar -xf speech_commands_v0.01.tar.gz -C speechcommands\n",
    "    \n",
    "    numbers_filenames = []\n",
    "\n",
    "    for i in to_number:\n",
    "        path = 'speechcommands/' + i + '/*.wav'\n",
    "        numbers_filenames.append(glob.glob(path))\n",
    "\n",
    "    test_filenames = ['speechcommands/' + e for e in open('speechcommands/testing_list.txt','r').read().splitlines() if e[:e.find('/')] in to_number]\n",
    "    valid_filenames = ['speechcommands/' + e for e in open('speechcommands/validation_list.txt','r').read().splitlines() if e[:e.find('/')] in to_number]\n",
    "    train_filenames = [e for n in range(10) for e in numbers_filenames[n] if (e not in test_filenames) and (e not in valid_filenames)]\n",
    "    \n",
    "    print('train_count:' , len(train_filenames))\n",
    "    print('test_count:' , len(test_filenames))\n",
    "    print('valid_count:' , len(valid_filenames))\n",
    "    \n",
    "    audio_filenames = {\n",
    "      AudioType.TRAIN: train_filenames,\n",
    "      AudioType.TEST: test_filenames,\n",
    "      AudioType.VALIDATION: valid_filenames  \n",
    "    }\n",
    "        \n",
    "    return audio_filenames"
   ]
  },
  {
   "cell_type": "code",
   "execution_count": 7,
   "metadata": {},
   "outputs": [],
   "source": [
    "def apply_noise(audio, noise_type):\n",
    "    ruido = None\n",
    "    if noise_type==\"gauss\":\n",
    "        ruido = np.random.normal(size=audio.shape)\n",
    "    else:\n",
    "        ruido, sr = librosa.core.load('speechcommands/_background_noise_/'+noise_type, sr=None)\n",
    "        ruido = 0.5*ruido[5000:5000+len(audio)]        \n",
    "    \n",
    "    return ruido + audio"
   ]
  },
  {
   "cell_type": "code",
   "execution_count": 8,
   "metadata": {
    "colab": {},
    "colab_type": "code",
    "id": "aABqrO8zSz07"
   },
   "outputs": [],
   "source": [
    "def calculate_features(filename, n_mfcc=12, delta=True, deltadelta=True, energy=True, summary_fn = [np.mean, np.std],\n",
    "                       summary_names=['mean', 'std'], noise_type=None):  \n",
    "  #Abro el archivo:\n",
    "  x, sr = librosa.core.load(filename,sr=None)\n",
    "  \n",
    "  if (noise_type != None):\n",
    "        x = apply_noise(x, noise_type)\n",
    "\n",
    "  #Calculo MFCCs\n",
    "  features = librosa.feature.mfcc(x,sr=sr,n_mfcc=n_mfcc)\n",
    "\n",
    "  #Calculo energia:\n",
    "  if energy:\n",
    "    energy = librosa.feature.rmse(x)\n",
    "    features = np.concatenate([features,energy])\n",
    "\n",
    "  #Aplico media y desvio estandar por defecto\n",
    "  summary_features = np.concatenate([fn(features,axis=1) for fn in summary_fn])\n",
    "    \n",
    "  #Lo mismo con los delta\n",
    "  if delta:\n",
    "    deltafeatures = np.diff(features)\n",
    "    summary_features = np.concatenate([summary_features,np.concatenate([fn(deltafeatures,axis=1) for fn in summary_fn])])\n",
    "\n",
    "  #Y con los delta de segundo orden\n",
    "  if deltadelta:\n",
    "    deltadeltafeatures = np.diff(features,n=2)\n",
    "    summary_features = np.concatenate([summary_features,np.concatenate([fn(deltadeltafeatures,axis=1) for fn in summary_fn])]) \n",
    "  \n",
    "  summary_features = np.append(summary_features, [to_number[filename.split('/')[1]], filename])\n",
    "\n",
    "  return summary_features"
   ]
  },
  {
   "cell_type": "code",
   "execution_count": 9,
   "metadata": {},
   "outputs": [],
   "source": [
    "features_names= None\n",
    "def name_features(filename = '', n_mfcc=12, delta=True, deltadelta=True, energy=True, summary_fn = [np.mean, np.std], summary_names=['mean', 'std']):\n",
    "    global features_names\n",
    "    \n",
    "    if features_names!= None:\n",
    "        return features_names\n",
    "    \n",
    "    features_names = ['mfcc_{}'.format(i) for i in range(n_mfcc)]\n",
    "    if energy: features_names = features_names + ['energy']\n",
    "    features_names = ['{}_{}'.format(name_i,summ_i) for summ_i in summary_names for name_i in features_names]\n",
    "    if delta: d_names = ['d{}'.format(name) for name in features_names]\n",
    "    if deltadelta: dd_names = ['dd{}'.format(name) for name in features_names]\n",
    "\n",
    "    features_names = features_names + d_names + dd_names + ['digit', 'file']\n",
    "\n",
    "    return features_names"
   ]
  },
  {
   "cell_type": "code",
   "execution_count": 10,
   "metadata": {
    "scrolled": true
   },
   "outputs": [],
   "source": [
    "def calculate_features_if_needed(feature):\n",
    "    result_path = \"features/\"+feature.filename\n",
    "    result = []\n",
    "    if not path.exists(result_path):\n",
    "        print(\"Getting filenames\")\n",
    "        filenames = get_filenames()[feature.audio_type]        \n",
    "        \n",
    "        print(\"Calculating features for \", len(filenames), \" rows -> \", result_path)\n",
    "        features_names = name_features()\n",
    "        features_data = [calculate_features(filename, noise_type= feature.noise_type) for filename in filenames]\n",
    "        pd.DataFrame(data = features_data, columns = features_names).to_csv(result_path)\n",
    "        \n",
    "    \n",
    "    print(\"Loading saved features <- \", result_path)\n",
    "    result = pd.read_csv(result_path)\n",
    "    \n",
    "    return result"
   ]
  },
  {
   "cell_type": "code",
   "execution_count": 11,
   "metadata": {},
   "outputs": [],
   "source": [
    "def load_features(feature):\n",
    "    features = pd.DataFrame(calculate_features_if_needed(feature))\n",
    "    features.drop(['file', 'Unnamed: 0'], axis=1, inplace=True)\n",
    "    print(pd.crosstab(index=features[\"digit\"], columns=\"count\", normalize=True))\n",
    "    return features"
   ]
  },
  {
   "cell_type": "code",
   "execution_count": 56,
   "metadata": {},
   "outputs": [],
   "source": [
    "def printAccuracy(label, model, features): \n",
    "    print(\"Accuracy \"+label+\" : {:.3f}\".format(model.score(features.drop('digit',axis=1).values, \n",
    "                                                   features.digit.values))) "
   ]
  },
  {
   "cell_type": "markdown",
   "metadata": {},
   "source": [
    "##  Obtenemos features"
   ]
  },
  {
   "cell_type": "markdown",
   "metadata": {},
   "source": [
    "### Descargamos los features guardados previamente"
   ]
  },
  {
   "cell_type": "code",
   "execution_count": 36,
   "metadata": {},
   "outputs": [
    {
     "name": "stdout",
     "output_type": "stream",
     "text": [
      "--2020-07-09 17:29:40--  https://raw.githubusercontent.com/dhruszecki/cdatos-AA-TP2/master/features/train_features.csv\n",
      "Resolving raw.githubusercontent.com (raw.githubusercontent.com)... 151.101.216.133\n",
      "Connecting to raw.githubusercontent.com (raw.githubusercontent.com)|151.101.216.133|:443... connected.\n",
      "HTTP request sent, awaiting response... 200 OK\n",
      "Length: 28795635 (27M) [text/plain]\n",
      "Saving to: ‘features/train_features.csv’\n",
      "\n",
      "train_features.csv  100%[===================>]  27,46M  6,56MB/s    in 4,2s    \n",
      "\n",
      "2020-07-09 17:29:47 (6,50 MB/s) - ‘features/train_features.csv’ saved [28795635/28795635]\n",
      "\n",
      "--2020-07-09 17:29:47--  https://raw.githubusercontent.com/dhruszecki/cdatos-AA-TP2/master/features/valid_features.csv\n",
      "Resolving raw.githubusercontent.com (raw.githubusercontent.com)... 151.101.216.133\n",
      "Connecting to raw.githubusercontent.com (raw.githubusercontent.com)|151.101.216.133|:443... connected.\n",
      "HTTP request sent, awaiting response... 200 OK\n",
      "Length: 3856498 (3,7M) [text/plain]\n",
      "Saving to: ‘features/valid_features.csv’\n",
      "\n",
      "valid_features.csv  100%[===================>]   3,68M  6,25MB/s    in 0,6s    \n",
      "\n",
      "2020-07-09 17:29:48 (6,25 MB/s) - ‘features/valid_features.csv’ saved [3856498/3856498]\n",
      "\n",
      "--2020-07-09 17:29:49--  https://raw.githubusercontent.com/dhruszecki/cdatos-AA-TP2/master/features/test_features.csv\n",
      "Resolving raw.githubusercontent.com (raw.githubusercontent.com)... 151.101.216.133\n",
      "Connecting to raw.githubusercontent.com (raw.githubusercontent.com)|151.101.216.133|:443... connected.\n",
      "HTTP request sent, awaiting response... 200 OK\n",
      "Length: 3943789 (3,8M) [text/plain]\n",
      "Saving to: ‘features/test_features.csv’\n",
      "\n",
      "test_features.csv   100%[===================>]   3,76M  6,38MB/s    in 0,6s    \n",
      "\n",
      "2020-07-09 17:29:50 (6,38 MB/s) - ‘features/test_features.csv’ saved [3943789/3943789]\n",
      "\n",
      "--2020-07-09 17:29:50--  https://raw.githubusercontent.com/dhruszecki/cdatos-AA-TP2/master/features/test_features_gauss.csv\n",
      "Resolving raw.githubusercontent.com (raw.githubusercontent.com)... 151.101.216.133\n",
      "Connecting to raw.githubusercontent.com (raw.githubusercontent.com)|151.101.216.133|:443... connected.\n",
      "HTTP request sent, awaiting response... 200 OK\n",
      "Length: 3994432 (3,8M) [text/plain]\n",
      "Saving to: ‘features/test_features_gauss.csv’\n",
      "\n",
      "test_features_gauss 100%[===================>]   3,81M  6,27MB/s    in 0,6s    \n",
      "\n",
      "2020-07-09 17:29:52 (6,27 MB/s) - ‘features/test_features_gauss.csv’ saved [3994432/3994432]\n",
      "\n",
      "--2020-07-09 17:29:52--  https://raw.githubusercontent.com/dhruszecki/cdatos-AA-TP2/master/features/test_features_dude.csv\n",
      "Resolving raw.githubusercontent.com (raw.githubusercontent.com)... 151.101.216.133\n",
      "Connecting to raw.githubusercontent.com (raw.githubusercontent.com)|151.101.216.133|:443... connected.\n",
      "HTTP request sent, awaiting response... 200 OK\n",
      "Length: 3939443 (3,8M) [text/plain]\n",
      "Saving to: ‘features/test_features_dude.csv’\n",
      "\n",
      "test_features_dude. 100%[===================>]   3,76M  5,73MB/s    in 0,7s    \n",
      "\n",
      "2020-07-09 17:29:55 (5,73 MB/s) - ‘features/test_features_dude.csv’ saved [3939443/3939443]\n",
      "\n",
      "--2020-07-09 17:29:55--  https://raw.githubusercontent.com/dhruszecki/cdatos-AA-TP2/master/features/test_features_bike.csv\n",
      "Resolving raw.githubusercontent.com (raw.githubusercontent.com)... 151.101.216.133\n",
      "Connecting to raw.githubusercontent.com (raw.githubusercontent.com)|151.101.216.133|:443... connected.\n",
      "HTTP request sent, awaiting response... 200 OK\n",
      "Length: 3928860 (3,7M) [text/plain]\n",
      "Saving to: ‘features/test_features_bike.csv’\n",
      "\n",
      "test_features_bike. 100%[===================>]   3,75M  6,07MB/s    in 0,6s    \n",
      "\n",
      "2020-07-09 17:29:58 (6,07 MB/s) - ‘features/test_features_bike.csv’ saved [3928860/3928860]\n",
      "\n",
      "--2020-07-09 17:29:58--  https://raw.githubusercontent.com/dhruszecki/cdatos-AA-TP2/master/features/test_features_pink.csv\n",
      "Resolving raw.githubusercontent.com (raw.githubusercontent.com)... 151.101.216.133\n",
      "Connecting to raw.githubusercontent.com (raw.githubusercontent.com)|151.101.216.133|:443... connected.\n",
      "HTTP request sent, awaiting response... 200 OK\n",
      "Length: 3943866 (3,8M) [text/plain]\n",
      "Saving to: ‘features/test_features_pink.csv’\n",
      "\n",
      "test_features_pink. 100%[===================>]   3,76M  6,38MB/s    in 0,6s    \n",
      "\n",
      "2020-07-09 17:30:00 (6,38 MB/s) - ‘features/test_features_pink.csv’ saved [3943866/3943866]\n",
      "\n",
      "--2020-07-09 17:30:00--  https://raw.githubusercontent.com/dhruszecki/cdatos-AA-TP2/master/features/test_features_running.csv\n",
      "Resolving raw.githubusercontent.com (raw.githubusercontent.com)... 151.101.216.133\n",
      "Connecting to raw.githubusercontent.com (raw.githubusercontent.com)|151.101.216.133|:443... connected.\n",
      "HTTP request sent, awaiting response... 200 OK\n",
      "Length: 3944895 (3,8M) [text/plain]\n",
      "Saving to: ‘features/test_features_running.csv’\n",
      "\n",
      "test_features_runni 100%[===================>]   3,76M  6,39MB/s    in 0,6s    \n",
      "\n",
      "2020-07-09 17:30:03 (6,39 MB/s) - ‘features/test_features_running.csv’ saved [3944895/3944895]\n",
      "\n",
      "--2020-07-09 17:30:03--  https://raw.githubusercontent.com/dhruszecki/cdatos-AA-TP2/master/features/test_features_white.csv\n",
      "Resolving raw.githubusercontent.com (raw.githubusercontent.com)... 151.101.216.133\n",
      "Connecting to raw.githubusercontent.com (raw.githubusercontent.com)|151.101.216.133|:443... connected.\n",
      "HTTP request sent, awaiting response... 200 OK\n",
      "Length: 3998124 (3,8M) [text/plain]\n",
      "Saving to: ‘features/test_features_white.csv’\n",
      "\n",
      "test_features_white 100%[===================>]   3,81M  6,29MB/s    in 0,6s    \n",
      "\n",
      "2020-07-09 17:30:06 (6,29 MB/s) - ‘features/test_features_white.csv’ saved [3998124/3998124]\n",
      "\n"
     ]
    }
   ],
   "source": [
    "download_feature_if_needed(\"train_features.csv\")\n",
    "download_feature_if_needed(\"valid_features.csv\")\n",
    "download_feature_if_needed(\"test_features.csv\")\n",
    "download_feature_if_needed(\"test_features_gauss.csv\")\n",
    "download_feature_if_needed(\"test_features_dude.csv\")\n",
    "download_feature_if_needed(\"test_features_bike.csv\")\n",
    "download_feature_if_needed(\"test_features_pink.csv\")\n",
    "download_feature_if_needed(\"test_features_running.csv\")\n",
    "download_feature_if_needed(\"test_features_white.csv\")\n",
    "download_feature_if_needed(\"test_features_dishes.csv\")"
   ]
  },
  {
   "cell_type": "markdown",
   "metadata": {},
   "source": [
    "### Features de entrenamiento"
   ]
  },
  {
   "cell_type": "code",
   "execution_count": 37,
   "metadata": {
    "scrolled": true
   },
   "outputs": [
    {
     "name": "stdout",
     "output_type": "stream",
     "text": [
      "Loading saved features <-  features/train_features.csv\n",
      "col_0     count\n",
      "digit          \n",
      "0      0.100215\n",
      "1      0.101611\n",
      "2      0.100591\n",
      "3      0.098872\n",
      "4      0.098765\n",
      "5      0.099033\n",
      "6      0.100054\n",
      "7      0.100698\n",
      "8      0.099463\n",
      "9      0.100698\n",
      "CPU times: user 253 ms, sys: 30.1 ms, total: 283 ms\n",
      "Wall time: 281 ms\n"
     ]
    }
   ],
   "source": [
    "%%time\n",
    "train_features = load_features(Features.Train.value)"
   ]
  },
  {
   "cell_type": "markdown",
   "metadata": {},
   "source": [
    "### Features de validación"
   ]
  },
  {
   "cell_type": "code",
   "execution_count": 38,
   "metadata": {},
   "outputs": [
    {
     "name": "stdout",
     "output_type": "stream",
     "text": [
      "Loading saved features <-  features/valid_features.csv\n",
      "col_0     count\n",
      "digit          \n",
      "0      0.104250\n",
      "1      0.092221\n",
      "2      0.094627\n",
      "3      0.099439\n",
      "4      0.112269\n",
      "5      0.097033\n",
      "6      0.105052\n",
      "7      0.105453\n",
      "8      0.097434\n",
      "9      0.092221\n",
      "CPU times: user 53.5 ms, sys: 1.06 ms, total: 54.5 ms\n",
      "Wall time: 52 ms\n"
     ]
    }
   ],
   "source": [
    "%%time\n",
    "validation_features = load_features(Features.Validation.value)"
   ]
  },
  {
   "cell_type": "markdown",
   "metadata": {},
   "source": [
    "### Features de Desarrollo"
   ]
  },
  {
   "cell_type": "code",
   "execution_count": 39,
   "metadata": {},
   "outputs": [],
   "source": [
    "develop_features = validation_features.append(train_features, ignore_index=True)"
   ]
  },
  {
   "cell_type": "markdown",
   "metadata": {},
   "source": [
    "### Features de test"
   ]
  },
  {
   "cell_type": "markdown",
   "metadata": {},
   "source": [
    "#### Test Originales"
   ]
  },
  {
   "cell_type": "code",
   "execution_count": 41,
   "metadata": {},
   "outputs": [
    {
     "name": "stdout",
     "output_type": "stream",
     "text": [
      "Loading saved features <-  features/test_features.csv\n",
      "col_0     count\n",
      "digit          \n",
      "0      0.097962\n",
      "1      0.097179\n",
      "2      0.103448\n",
      "3      0.104624\n",
      "4      0.099138\n",
      "5      0.106191\n",
      "6      0.095611\n",
      "7      0.093652\n",
      "8      0.100705\n",
      "9      0.101489\n",
      "CPU times: user 64.7 ms, sys: 66 µs, total: 64.8 ms\n",
      "Wall time: 62.4 ms\n"
     ]
    }
   ],
   "source": [
    "%%time\n",
    "test_features = load_features(Features.Test.value)"
   ]
  },
  {
   "cell_type": "markdown",
   "metadata": {},
   "source": [
    "#### Test con ruido Gausiano"
   ]
  },
  {
   "cell_type": "code",
   "execution_count": 42,
   "metadata": {},
   "outputs": [
    {
     "name": "stdout",
     "output_type": "stream",
     "text": [
      "Loading saved features <-  features/test_features_gauss.csv\n",
      "col_0     count\n",
      "digit          \n",
      "0      0.097962\n",
      "1      0.097179\n",
      "2      0.103448\n",
      "3      0.104624\n",
      "4      0.099138\n",
      "5      0.106191\n",
      "6      0.095611\n",
      "7      0.093652\n",
      "8      0.100705\n",
      "9      0.101489\n",
      "CPU times: user 52.7 ms, sys: 12.1 ms, total: 64.8 ms\n",
      "Wall time: 63.1 ms\n"
     ]
    }
   ],
   "source": [
    "%%time\n",
    "test_features_gauss = load_features(Features.Test_Noise_Gauss.value)"
   ]
  },
  {
   "cell_type": "markdown",
   "metadata": {},
   "source": [
    "#### Test con ruido `doing_the_dishes`"
   ]
  },
  {
   "cell_type": "code",
   "execution_count": 43,
   "metadata": {},
   "outputs": [
    {
     "name": "stdout",
     "output_type": "stream",
     "text": [
      "Getting filenames\n",
      "Calculating features for  2552  rows ->  features/test_features_dishes.csv\n",
      "Loading saved features <-  features/test_features_dishes.csv\n",
      "col_0     count\n",
      "digit          \n",
      "0      0.097962\n",
      "1      0.097179\n",
      "2      0.103448\n",
      "3      0.104624\n",
      "4      0.099138\n",
      "5      0.106191\n",
      "6      0.095611\n",
      "7      0.093652\n",
      "8      0.100705\n",
      "9      0.101489\n",
      "CPU times: user 1min 56s, sys: 2min 12s, total: 4min 9s\n",
      "Wall time: 8min 2s\n"
     ]
    }
   ],
   "source": [
    "%%time\n",
    "test_features_dishes = load_features(Features.Test_Noise_Dishes.value)"
   ]
  },
  {
   "cell_type": "markdown",
   "metadata": {},
   "source": [
    "#### Test con ruido `dude_miaowing`"
   ]
  },
  {
   "cell_type": "code",
   "execution_count": 44,
   "metadata": {},
   "outputs": [
    {
     "name": "stdout",
     "output_type": "stream",
     "text": [
      "Loading saved features <-  features/test_features_dude.csv\n",
      "col_0     count\n",
      "digit          \n",
      "0      0.097962\n",
      "1      0.097179\n",
      "2      0.103448\n",
      "3      0.104624\n",
      "4      0.099138\n",
      "5      0.106191\n",
      "6      0.095611\n",
      "7      0.093652\n",
      "8      0.100705\n",
      "9      0.101489\n",
      "CPU times: user 53.1 ms, sys: 8.77 ms, total: 61.9 ms\n",
      "Wall time: 59.8 ms\n"
     ]
    }
   ],
   "source": [
    "%%time\n",
    "test_features_dude = load_features(Features.Test_Noise_Dude.value)"
   ]
  },
  {
   "cell_type": "markdown",
   "metadata": {},
   "source": [
    "#### Test con ruido `exercise_bike`"
   ]
  },
  {
   "cell_type": "code",
   "execution_count": 45,
   "metadata": {},
   "outputs": [
    {
     "name": "stdout",
     "output_type": "stream",
     "text": [
      "Loading saved features <-  features/test_features_bike.csv\n",
      "col_0     count\n",
      "digit          \n",
      "0      0.097962\n",
      "1      0.097179\n",
      "2      0.103448\n",
      "3      0.104624\n",
      "4      0.099138\n",
      "5      0.106191\n",
      "6      0.095611\n",
      "7      0.093652\n",
      "8      0.100705\n",
      "9      0.101489\n",
      "CPU times: user 53.8 ms, sys: 9.69 ms, total: 63.5 ms\n",
      "Wall time: 61.7 ms\n"
     ]
    }
   ],
   "source": [
    "%%time\n",
    "test_features_bike = load_features(Features.Test_Noise_Bike.value)"
   ]
  },
  {
   "cell_type": "markdown",
   "metadata": {},
   "source": [
    "#### Test con ruido `pink_noise`"
   ]
  },
  {
   "cell_type": "code",
   "execution_count": 46,
   "metadata": {},
   "outputs": [
    {
     "name": "stdout",
     "output_type": "stream",
     "text": [
      "Loading saved features <-  features/test_features_pink.csv\n",
      "col_0     count\n",
      "digit          \n",
      "0      0.097962\n",
      "1      0.097179\n",
      "2      0.103448\n",
      "3      0.104624\n",
      "4      0.099138\n",
      "5      0.106191\n",
      "6      0.095611\n",
      "7      0.093652\n",
      "8      0.100705\n",
      "9      0.101489\n",
      "CPU times: user 53.2 ms, sys: 0 ns, total: 53.2 ms\n",
      "Wall time: 51.1 ms\n"
     ]
    }
   ],
   "source": [
    "%%time\n",
    "test_features_pink = load_features(Features.Test_Noise_Pink.value)"
   ]
  },
  {
   "cell_type": "markdown",
   "metadata": {},
   "source": [
    "#### Test con ruido `running_tap`"
   ]
  },
  {
   "cell_type": "code",
   "execution_count": 47,
   "metadata": {},
   "outputs": [
    {
     "name": "stdout",
     "output_type": "stream",
     "text": [
      "Loading saved features <-  features/test_features_running.csv\n",
      "col_0     count\n",
      "digit          \n",
      "0      0.097962\n",
      "1      0.097179\n",
      "2      0.103448\n",
      "3      0.104624\n",
      "4      0.099138\n",
      "5      0.106191\n",
      "6      0.095611\n",
      "7      0.093652\n",
      "8      0.100705\n",
      "9      0.101489\n",
      "CPU times: user 53.3 ms, sys: 12.7 ms, total: 66 ms\n",
      "Wall time: 64.1 ms\n"
     ]
    }
   ],
   "source": [
    "%%time\n",
    "test_features_running = load_features(Features.Test_Noise_Running.value)"
   ]
  },
  {
   "cell_type": "markdown",
   "metadata": {},
   "source": [
    "#### Test con ruido `white_noise`"
   ]
  },
  {
   "cell_type": "code",
   "execution_count": 48,
   "metadata": {},
   "outputs": [
    {
     "name": "stdout",
     "output_type": "stream",
     "text": [
      "Loading saved features <-  features/test_features_white.csv\n",
      "col_0     count\n",
      "digit          \n",
      "0      0.097962\n",
      "1      0.097179\n",
      "2      0.103448\n",
      "3      0.104624\n",
      "4      0.099138\n",
      "5      0.106191\n",
      "6      0.095611\n",
      "7      0.093652\n",
      "8      0.100705\n",
      "9      0.101489\n",
      "CPU times: user 46.6 ms, sys: 3.48 ms, total: 50.1 ms\n",
      "Wall time: 49.2 ms\n"
     ]
    }
   ],
   "source": [
    "%%time\n",
    "test_features_white = load_features(Features.Test_Noise_White.value)"
   ]
  },
  {
   "cell_type": "markdown",
   "metadata": {},
   "source": [
    "# Modelos"
   ]
  },
  {
   "cell_type": "markdown",
   "metadata": {},
   "source": [
    "## Naive Bayes"
   ]
  },
  {
   "cell_type": "markdown",
   "metadata": {},
   "source": [
    "### Entrenamiento"
   ]
  },
  {
   "cell_type": "code",
   "execution_count": 59,
   "metadata": {},
   "outputs": [
    {
     "name": "stdout",
     "output_type": "stream",
     "text": [
      "Accuracy Training : 0.541\n",
      "Accuracy Validación : 0.537\n",
      "              precision    recall  f1-score   support\n",
      "\n",
      "           0       0.64      0.65      0.64       260\n",
      "           1       0.36      0.58      0.45       230\n",
      "           2       0.37      0.48      0.42       236\n",
      "           3       0.55      0.55      0.55       248\n",
      "           4       0.72      0.53      0.61       280\n",
      "           5       0.54      0.53      0.54       242\n",
      "           6       0.50      0.58      0.54       262\n",
      "           7       0.58      0.49      0.53       263\n",
      "           8       0.74      0.56      0.63       243\n",
      "           9       0.61      0.41      0.49       230\n",
      "\n",
      "    accuracy                           0.54      2494\n",
      "   macro avg       0.56      0.54      0.54      2494\n",
      "weighted avg       0.57      0.54      0.54      2494\n",
      "\n",
      "CPU times: user 102 ms, sys: 4.26 ms, total: 106 ms\n",
      "Wall time: 104 ms\n"
     ]
    }
   ],
   "source": [
    "%%time\n",
    "\n",
    "naive_bayes = GaussianNB()\n",
    "naive_bayes.fit(train_features.drop('digit',axis=1).values, train_features.digit.values)\n",
    "predict_nb1 = naive_bayes.predict(validation_features.drop('digit',axis=1).values)\n",
    "\n",
    "printAccuracy(\"Training\", naive_bayes, train_features)\n",
    "printAccuracy(\"Validación\", naive_bayes, validation_features)\n",
    "\n",
    "print(classification_report(validation_features.digit.values, predict_nb1))"
   ]
  },
  {
   "cell_type": "markdown",
   "metadata": {},
   "source": [
    "###  Matriz de Confusión "
   ]
  },
  {
   "cell_type": "code",
   "execution_count": null,
   "metadata": {},
   "outputs": [],
   "source": [
    "%%time\n",
    "\n",
    "sns.set_context('paper')\n",
    "sns.heatmap(confusion_matrix(validation_features.digit.values, predict_nb1), annot=True, fmt='g')\n",
    "plt.xlabel('Predict')\n",
    "plt.ylabel('True')"
   ]
  },
  {
   "cell_type": "markdown",
   "metadata": {},
   "source": [
    "### Impacto del ruido en el rendimiento "
   ]
  },
  {
   "cell_type": "code",
   "execution_count": 65,
   "metadata": {
    "scrolled": true
   },
   "outputs": [
    {
     "name": "stdout",
     "output_type": "stream",
     "text": [
      "Accuracy Develop : 0.542\n",
      "Accuracy Test : 0.531\n",
      "              precision    recall  f1-score   support\n",
      "\n",
      "           0       0.55      0.50      0.52       250\n",
      "           1       0.41      0.49      0.45       248\n",
      "           2       0.41      0.50      0.45       264\n",
      "           3       0.54      0.48      0.51       267\n",
      "           4       0.71      0.57      0.63       253\n",
      "           5       0.57      0.59      0.58       271\n",
      "           6       0.48      0.65      0.55       244\n",
      "           7       0.56      0.46      0.51       239\n",
      "           8       0.62      0.61      0.61       257\n",
      "           9       0.59      0.45      0.51       259\n",
      "\n",
      "    accuracy                           0.53      2552\n",
      "   macro avg       0.54      0.53      0.53      2552\n",
      "weighted avg       0.54      0.53      0.53      2552\n",
      "\n",
      "Accuracy Ruido Gaussiano : 0.098\n",
      "              precision    recall  f1-score   support\n",
      "\n",
      "           0       0.10      1.00      0.18       250\n",
      "           1       0.00      0.00      0.00       248\n",
      "           2       0.00      0.00      0.00       264\n",
      "           3       0.00      0.00      0.00       267\n",
      "           4       0.00      0.00      0.00       253\n",
      "           5       0.00      0.00      0.00       271\n",
      "           6       0.00      0.00      0.00       244\n",
      "           7       0.00      0.00      0.00       239\n",
      "           8       0.00      0.00      0.00       257\n",
      "           9       0.00      0.00      0.00       259\n",
      "\n",
      "    accuracy                           0.10      2552\n",
      "   macro avg       0.01      0.10      0.02      2552\n",
      "weighted avg       0.01      0.10      0.02      2552\n",
      "\n",
      "Accuracy Ruido Doing the Dishes : 0.215\n",
      "              precision    recall  f1-score   support\n",
      "\n",
      "           0       0.62      0.02      0.04       250\n",
      "           1       0.62      0.09      0.16       248\n",
      "           2       0.23      0.69      0.34       264\n",
      "           3       0.20      0.00      0.01       267\n",
      "           4       0.48      0.24      0.32       253\n",
      "           5       0.18      0.84      0.30       271\n",
      "           6       1.00      0.01      0.02       244\n",
      "           7       0.20      0.00      0.01       239\n",
      "           8       0.14      0.16      0.15       257\n",
      "           9       0.22      0.01      0.01       259\n",
      "\n",
      "    accuracy                           0.22      2552\n",
      "   macro avg       0.39      0.21      0.14      2552\n",
      "weighted avg       0.38      0.22      0.14      2552\n",
      "\n",
      "Accuracy Ruido Dude : 0.508\n",
      "              precision    recall  f1-score   support\n",
      "\n",
      "           0       0.51      0.54      0.53       250\n",
      "           1       0.45      0.46      0.45       248\n",
      "           2       0.27      0.68      0.38       264\n",
      "           3       0.53      0.40      0.45       267\n",
      "           4       0.68      0.61      0.64       253\n",
      "           5       0.65      0.62      0.63       271\n",
      "           6       0.63      0.54      0.58       244\n",
      "           7       0.58      0.52      0.55       239\n",
      "           8       0.80      0.42      0.55       257\n",
      "           9       0.67      0.28      0.40       259\n",
      "\n",
      "    accuracy                           0.51      2552\n",
      "   macro avg       0.58      0.51      0.52      2552\n",
      "weighted avg       0.58      0.51      0.52      2552\n",
      "\n",
      "Accuracy Ruido Bike : 0.208\n",
      "              precision    recall  f1-score   support\n",
      "\n",
      "           0       0.43      0.01      0.02       250\n",
      "           1       0.44      0.22      0.29       248\n",
      "           2       0.13      0.91      0.23       264\n",
      "           3       0.25      0.01      0.01       267\n",
      "           4       0.41      0.23      0.29       253\n",
      "           5       0.54      0.41      0.46       271\n",
      "           6       1.00      0.02      0.03       244\n",
      "           7       0.30      0.01      0.02       239\n",
      "           8       0.26      0.22      0.24       257\n",
      "           9       1.00      0.01      0.02       259\n",
      "\n",
      "    accuracy                           0.21      2552\n",
      "   macro avg       0.48      0.20      0.16      2552\n",
      "weighted avg       0.47      0.21      0.17      2552\n",
      "\n",
      "CPU times: user 206 ms, sys: 44.5 ms, total: 250 ms\n",
      "Wall time: 248 ms\n"
     ]
    }
   ],
   "source": [
    "%%time\n",
    "\n",
    "naive_bayes_dev = GaussianNB()\n",
    "naive_bayes_dev.fit(develop_features.drop('digit',axis=1).values, develop_features.digit.values)\n",
    "predict_nb_test = naive_bayes_dev.predict(test_features.drop('digit',axis=1).values)\n",
    "predict_nb_gauss = naive_bayes_dev.predict(test_features_gauss.drop('digit',axis=1).values)\n",
    "predict_nb_dishes = naive_bayes_dev.predict(test_features_dishes.drop('digit',axis=1).values)\n",
    "predict_nb_dude = naive_bayes_dev.predict(test_features_dude.drop('digit',axis=1).values)\n",
    "predict_nb_bike = naive_bayes_dev.predict(test_features_bike.drop('digit',axis=1).values)\n",
    "predict_nb_running = naive_bayes_dev.predict(test_features_running.drop('digit',axis=1).values)\n",
    "predict_nb_pink = naive_bayes_dev.predict(test_features_pink.drop('digit',axis=1).values)\n",
    "predict_nb_white = naive_bayes_dev.predict(test_features_white.drop('digit',axis=1).values)\n",
    "\n",
    "printAccuracy(\"Develop\", naive_bayes_dev, develop_features)\n",
    "\n",
    "printAccuracy(\"Test\", naive_bayes_dev, test_features)\n",
    "print(classification_report(test_features.digit.values, predict_nb_test))\n",
    "\n",
    "printAccuracy(\"Ruido Gaussiano\", naive_bayes_dev, test_features_gauss)\n",
    "print(classification_report(test_features_gauss.digit.values, predict_nb_gauss, zero_division=0))\n",
    "\n",
    "printAccuracy(\"Ruido Doing the Dishes\", naive_bayes_dev, test_features_dishes)\n",
    "print(classification_report(test_features_dishes.digit.values, predict_nb_dishes, zero_division=0))\n",
    "\n",
    "printAccuracy(\"Ruido Dude Miaowing\", naive_bayes_dev, test_features_dude)\n",
    "print(classification_report(test_features_dude.digit.values, predict_nb_dude, zero_division=0))\n",
    "\n",
    "printAccuracy(\"Ruido Exercise Bike\", naive_bayes_dev, test_features_bike)\n",
    "print(classification_report(test_features_bike.digit.values, predict_nb_bike, zero_division=0))\n",
    "\n",
    "printAccuracy(\"Ruido Running Tap\", naive_bayes_dev, test_features_running)\n",
    "print(classification_report(test_features_running.digit.values, predict_nb_running, zero_division=0))\n",
    "\n",
    "printAccuracy(\"Ruido Pink Noise\", naive_bayes_dev, test_features_pink)\n",
    "print(classification_report(test_features_pink.digit.values, predict_nb_pink, zero_division=0))\n",
    "\n",
    "printAccuracy(\"Ruido White Noise\", naive_bayes_dev, test_features_pink)\n",
    "print(classification_report(test_features_white.digit.values, predict_nb_pink, zero_division=0))\n",
    "\n"
   ]
  },
  {
   "cell_type": "markdown",
   "metadata": {},
   "source": [
    "## Random Forest:  búsqueda de hiperparámetros óptimos"
   ]
  },
  {
   "cell_type": "code",
   "execution_count": null,
   "metadata": {},
   "outputs": [],
   "source": [
    "%%time\n",
    "\n",
    "parametros = {'n_estimators':range(100, 250, 15), 'max_depth':range(6, 12, 2), 'bootstrap':[True, False]}\n",
    "\n",
    "clf = RandomizedSearchCV(RandomForestClassifier(random_state=22), parametros, n_jobs=20, random_state=131313,    \n",
    "                         scoring='accuracy', n_iter=30, cv =  [(slice(None), slice(None))])\n",
    "\n",
    "clf.fit(train_features.drop('digit',axis=1).values, train_features.digit.values)\n",
    "rf = clf.best_estimator_  \n",
    "\n",
    "print(clf.best_score_, clf.best_params_)\n",
    "print(\"Accuracy training : {:.3f}\".format(rf.score(train_features.drop('digit',axis=1).values, \n",
    "                                                   train_features.digit.values)))\n",
    "print(\"Accuracy Validación: {:.3f}\".format(rf.score(validation_features.drop('digit',axis=1).values, \n",
    "                                                          validation_features.digit.values)))"
   ]
  },
  {
   "cell_type": "markdown",
   "metadata": {},
   "source": [
    "###  Matriz de Confusión "
   ]
  },
  {
   "cell_type": "code",
   "execution_count": null,
   "metadata": {},
   "outputs": [],
   "source": [
    "rf_pred = rf.predict(validation_features.drop('digit',axis=1).values)\n",
    "sns.set_context('paper')\n",
    "sns.heatmap(confusion_matrix(validation_features.digit.values, rf_pred), annot=True, fmt='g')\n",
    "plt.xlabel('Predict')\n",
    "plt.ylabel('True')"
   ]
  },
  {
   "cell_type": "markdown",
   "metadata": {},
   "source": [
    "## Gradient Boosting"
   ]
  },
  {
   "cell_type": "code",
   "execution_count": null,
   "metadata": {},
   "outputs": [],
   "source": [
    "%%time\n",
    "\n",
    "parameters = {'n_estimators':range(50, 150, 25), 'max_depth':range(5,7), 'learning_rate':np.arange(0,1,0.1)}\n",
    "clf = RandomizedSearchCV(GradientBoostingClassifier(random_state=22), parameters, n_jobs=30, scoring='accuracy',cv=[(slice(None), slice(None))], n_iter=50, random_state=8)\n",
    "\n",
    "clf.fit(train_features.drop('digit',axis=1).values, train_features.digit.values)\n",
    "gb = clf.best_estimator_\n",
    "\n",
    "print (clf.best_score_, clf.best_params_)\n",
    "print(\"Accuracy training : {:.3f}\".format(gb.score(train_features.drop('digit',axis=1).values, \n",
    "                                                   train_features.digit.values))) \n",
    "print(\"Accuracy validation: {:.3f}\".format(gb.score(validation_features.drop('digit',axis=1).values, \n",
    "                                                   validation_features.digit.values)))"
   ]
  },
  {
   "cell_type": "markdown",
   "metadata": {},
   "source": [
    "###  Matriz de Confusión "
   ]
  },
  {
   "cell_type": "code",
   "execution_count": null,
   "metadata": {},
   "outputs": [],
   "source": [
    "gb_pred = gb.predict(validation_features.drop('digit',axis=1).values)\n",
    "sns.set_context('paper')\n",
    "sns.heatmap(confusion_matrix(validation_features.digit.values, gb_pred), annot=True, fmt='g')\n",
    "plt.xlabel('Predict')\n",
    "plt.ylabel('True')"
   ]
  },
  {
   "cell_type": "code",
   "execution_count": null,
   "metadata": {},
   "outputs": [],
   "source": [
    "%%time\n",
    "# Variables a excluir de la predicción\n",
    "var_exclude = ['file', 'Unnamed: 0']\n",
    "\n",
    "test_features_g = pd.DataFrame(calculate_features_if_needed(\"test_features_ruidog.csv\", 1))\n",
    "test_features_g.drop(var_exclude, axis=1, inplace=True)\n",
    "test_features_g.head(10)\n",
    "pd.crosstab(index=test_features_g[\"digit\"], columns=\"count\", normalize=True)"
   ]
  },
  {
   "cell_type": "code",
   "execution_count": null,
   "metadata": {},
   "outputs": [],
   "source": [
    "%%time\n",
    "\n",
    "rf.fit(develop_features.drop('digit',axis=1).values, develop_features.digit.values)\n",
    "#rf_pred_test = rf.predict(test_features.drop('digit',axis=1).values)\n",
    "#rf_pred_test_g = rf.predict(test_features_g.drop('digit',axis=1).values)\n",
    "\n",
    "print(\"Accuracy Develop : {:.3f}\".format(rf.score(develop_features.drop('digit',axis=1).values, \n",
    "                                                   develop_features.digit.values)))\n",
    "print(\"Accuracy Test: {:.3f}\".format(rf.score(test_features.drop('digit',axis=1).values, \n",
    "                                                          test_features.digit.values)))"
   ]
  },
  {
   "cell_type": "code",
   "execution_count": null,
   "metadata": {},
   "outputs": [],
   "source": [
    "%%time\n",
    "\n",
    "gb.fit(develop_features.drop('digit',axis=1).values, develop_features.digit.values)\n",
    "\n",
    "gb_pred_test = gb.predict(test_features.drop('digit',axis=1).values)\n",
    "\n",
    "print(\"Accuracy Develop : {:.3f}\".format(gb.score(develop_features.drop('digit',axis=1).values, \n",
    "                                                   develop_features.digit.values)))\n",
    "print(\"Accuracy Test: {:.3f}\".format(gb.score(test_features.drop('digit',axis=1).values, \n",
    "                                                          test_features.digit.values)))"
   ]
  },
  {
   "cell_type": "code",
   "execution_count": null,
   "metadata": {},
   "outputs": [],
   "source": []
  }
 ],
 "metadata": {
  "celltoolbar": "Slideshow",
  "colab": {
   "name": "AA_TP2.ipynb",
   "provenance": []
  },
  "kernelspec": {
   "display_name": "Python 3",
   "language": "python",
   "name": "python3"
  },
  "language_info": {
   "codemirror_mode": {
    "name": "ipython",
    "version": 3
   },
   "file_extension": ".py",
   "mimetype": "text/x-python",
   "name": "python",
   "nbconvert_exporter": "python",
   "pygments_lexer": "ipython3",
   "version": "3.8.2"
  }
 },
 "nbformat": 4,
 "nbformat_minor": 1
}
