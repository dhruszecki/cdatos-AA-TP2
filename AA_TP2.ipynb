{
 "cells": [
  {
   "cell_type": "code",
   "execution_count": 2,
   "metadata": {},
   "outputs": [],
   "source": [
    "import librosa\n",
    "import glob\n",
    "import numpy as np\n",
    "\n",
    "import matplotlib.pyplot as plt\n",
    "from IPython.display import Audio\n",
    "from librosa.display import specshow\n",
    "from time import time\n",
    "#load utils.py"
   ]
  },
  {
   "cell_type": "code",
   "execution_count": 3,
   "metadata": {
    "colab": {
     "base_uri": "https://localhost:8080/",
     "height": 219
    },
    "colab_type": "code",
    "id": "HzuReiKCPnzL",
    "outputId": "c6d552ca-aa23-4fcb-84ed-d4b7b0fc7fa3"
   },
   "outputs": [],
   "source": [
    "import os.path\n",
    "from os import path\n",
    "\n",
    "if not path.exists(\"speechcommands\"):\n",
    "    !wget http://download.tensorflow.org/data/speech_commands_v0.01.tar.gz\n",
    "    !mkdir speechcommands\n",
    "    !tar -xf speech_commands_v0.01.tar.gz -C speechcommands"
   ]
  },
  {
   "cell_type": "code",
   "execution_count": 4,
   "metadata": {
    "colab": {},
    "colab_type": "code",
    "id": "igceWq3yQiIh"
   },
   "outputs": [
    {
     "name": "stdout",
     "output_type": "stream",
     "text": [
      "total_count: 10\n",
      "train_count: 18620\n",
      "test_count: 2552\n",
      "valid_count: 2494\n"
     ]
    }
   ],
   "source": [
    "# generamos lista con las rutas y nombres de archivo de los digitos\n",
    "numbers_filenames = []\n",
    "numbers_folders = ('zero', 'one', 'two', 'three', 'four', 'five', 'six', 'seven', 'eight', 'nine')\n",
    "for i in numbers_folders:\n",
    "    path = 'speechcommands/' + i + '/*.wav'\n",
    "    numbers_filenames.append(glob.glob(path))\n",
    "\n",
    "# guardamos la lista de los conjuntos de test y validación\n",
    "# solo para archivos que referencian a dígitos\n",
    "test_filenames = ['speechcommands/' + e for e in open('speechcommands/testing_list.txt','r').read().splitlines() if e[:e.find('/')] in numbers_folders]\n",
    "valid_filenames = ['speechcommands/' + e for e in open('speechcommands/validation_list.txt','r').read().splitlines() if e[:e.find('/')] in numbers_folders]\n",
    "train_filenames = [e for n in range(10) for e in numbers_filenames[n] if (e not in test_filenames) and (e not in valid_filenames)]\n",
    "\n",
    "print('total_count:' , len(numbers_filenames))\n",
    "print('train_count:' , len(train_filenames))\n",
    "print('test_count:' , len(test_filenames))\n",
    "print('valid_count:' , len(valid_filenames))"
   ]
  },
  {
   "cell_type": "code",
   "execution_count": 5,
   "metadata": {},
   "outputs": [],
   "source": [
    "def count_elapsed_time(f):\n",
    "    \"\"\"\n",
    "    Decorator.\n",
    "    Execute the function and calculate the elapsed time.\n",
    "    Print the result to the standard output.\n",
    "    \"\"\"\n",
    "    def wrapper(*args, **kwargs):\n",
    "        # Start counting.\n",
    "        start_time = time()\n",
    "        # Take the original function's return value.\n",
    "        ret = f(*args, **kwargs)\n",
    "        # Calculate the elapsed time.\n",
    "        elapsed_time = time() - start_time\n",
    "        print(\"Elapsed time: %0.10f seconds.\" % elapsed_time)\n",
    "        return ret\n",
    "\n",
    "    return wrapper"
   ]
  },
  {
   "cell_type": "code",
   "execution_count": 6,
   "metadata": {
    "colab": {},
    "colab_type": "code",
    "id": "aABqrO8zSz07"
   },
   "outputs": [],
   "source": [
    "def calculate_features(filename, n_mfcc=12, delta=True, deltadelta=True, energy=True, summary_fn = [np.mean, np.std], summary_names=['mean', 'std']):  \n",
    "  #Abro el archivo:\n",
    "  x, sr = librosa.core.load(filename,sr=None)\n",
    "  \n",
    "  #Calculo MFCCs\n",
    "  features = librosa.feature.mfcc(x,sr=sr,n_mfcc=n_mfcc)\n",
    "\n",
    "  #Calculo energia:\n",
    "  if energy:\n",
    "    energy = librosa.feature.rmse(x)\n",
    "    features = np.concatenate([features,energy])\n",
    "\n",
    "  #Aplico media y desvio estandar por defecto\n",
    "  summary_features = np.concatenate([fn(features,axis=1) for fn in summary_fn])\n",
    "    \n",
    "  #Lo mismo con los delta\n",
    "  if delta:\n",
    "    deltafeatures = np.diff(features)\n",
    "    summary_features = np.concatenate([summary_features,np.concatenate([fn(deltafeatures,axis=1) for fn in summary_fn])])\n",
    "\n",
    "  #Y con los delta de segundo orden\n",
    "  if deltadelta:\n",
    "    deltadeltafeatures = np.diff(features,n=2)\n",
    "    summary_features = np.concatenate([summary_features,np.concatenate([fn(deltadeltafeatures,axis=1) for fn in summary_fn])]) \n",
    "  \n",
    "  summary_features = np.append(summary_features, [filename.split('/')[1], filename])\n",
    "\n",
    "  return summary_features"
   ]
  },
  {
   "cell_type": "code",
   "execution_count": 7,
   "metadata": {},
   "outputs": [],
   "source": [
    "def name_features(filename = '', n_mfcc=12, delta=True, deltadelta=True, energy=True, summary_fn = [np.mean, np.std], summary_names=['mean', 'std']):\n",
    "    feat_names = ['mfcc_{}'.format(i) for i in range(n_mfcc)]\n",
    "    feat_names = ['{}_{}'.format(name_i,summ_i) for summ_i in summary_names for name_i in feat_names]\n",
    "    d_names = ['d{}'.format(name) for name in feat_names]\n",
    "    dd_names = ['dd{}'.format(name) for name in feat_names]\n",
    "\n",
    "    feat_names = feat_names + d_names + dd_names + ['digit', 'file']\n",
    "\n",
    "    return feat_names"
   ]
  },
  {
   "cell_type": "code",
   "execution_count": 31,
   "metadata": {
    "scrolled": true
   },
   "outputs": [],
   "source": [
    "from os import path\n",
    "@count_elapsed_time\n",
    "def calculate_features_if_needed(filenames, result_filename):\n",
    "    result_path = \"features/\"+result_filename\n",
    "    result = []\n",
    "    if not path.exists(result_path):\n",
    "        print(\"Calculating features for \", len(filenames), \" rows -> \", result_path)\n",
    "        result = [calculate_features(x) for x in filenames]\n",
    "        np.savetxt(result_path, result, delimiter=\",\", fmt=\"%s\")     \n",
    "    else:\n",
    "        print(\"Loading saved features <- \", result_path)\n",
    "        import csv\n",
    "        with open(result_path, 'r') as file:\n",
    "            result = list(csv.reader(file))\n",
    "    \n",
    "    return result"
   ]
  },
  {
   "cell_type": "code",
   "execution_count": 29,
   "metadata": {},
   "outputs": [
    {
     "name": "stdout",
     "output_type": "stream",
     "text": [
      "Loading saved features <-  features/test_features.csv\n",
      "Elapsed time: 0.0589323044 seconds.\n"
     ]
    }
   ],
   "source": [
    "feat_test = calculate_features_if_needed(test_filenames, \"test_features.csv\")"
   ]
  },
  {
   "cell_type": "code",
   "execution_count": 32,
   "metadata": {},
   "outputs": [
    {
     "name": "stdout",
     "output_type": "stream",
     "text": [
      "Loading saved features <-  features/valid_features.csv\n",
      "Elapsed time: 0.0617980957 seconds.\n"
     ]
    }
   ],
   "source": [
    "feat_valid = calculate_features_if_needed(valid_filenames, \"valid_features.csv\")"
   ]
  },
  {
   "cell_type": "code",
   "execution_count": 33,
   "metadata": {},
   "outputs": [
    {
     "name": "stdout",
     "output_type": "stream",
     "text": [
      "Loading saved features <-  features/train_features.csv\n",
      "Elapsed time: 0.3486802578 seconds.\n"
     ]
    }
   ],
   "source": [
    "feat_train = calculate_features_if_needed(train_filenames, \"train_features.csv\")"
   ]
  },
  {
   "cell_type": "code",
   "execution_count": 34,
   "metadata": {
    "colab": {
     "base_uri": "https://localhost:8080/",
     "height": 55
    },
    "colab_type": "code",
    "id": "QxokBQlBTGyh",
    "outputId": "656b40d6-1be6-4073-ae16-cc39f469741b"
   },
   "outputs": [],
   "source": [
    "# como siempre calculamos las mismas fatures, sus nombres los guardo una sola vez\n",
    "feat_names = name_features()"
   ]
  },
  {
   "cell_type": "code",
   "execution_count": 35,
   "metadata": {},
   "outputs": [
    {
     "data": {
      "text/plain": [
       "['mfcc_0_mean',\n",
       " 'mfcc_1_mean',\n",
       " 'mfcc_2_mean',\n",
       " 'mfcc_3_mean',\n",
       " 'mfcc_4_mean',\n",
       " 'mfcc_5_mean',\n",
       " 'mfcc_6_mean',\n",
       " 'mfcc_7_mean',\n",
       " 'mfcc_8_mean',\n",
       " 'mfcc_9_mean',\n",
       " 'mfcc_10_mean',\n",
       " 'mfcc_11_mean',\n",
       " 'mfcc_0_std',\n",
       " 'mfcc_1_std',\n",
       " 'mfcc_2_std',\n",
       " 'mfcc_3_std',\n",
       " 'mfcc_4_std',\n",
       " 'mfcc_5_std',\n",
       " 'mfcc_6_std',\n",
       " 'mfcc_7_std',\n",
       " 'mfcc_8_std',\n",
       " 'mfcc_9_std',\n",
       " 'mfcc_10_std',\n",
       " 'mfcc_11_std',\n",
       " 'dmfcc_0_mean',\n",
       " 'dmfcc_1_mean',\n",
       " 'dmfcc_2_mean',\n",
       " 'dmfcc_3_mean',\n",
       " 'dmfcc_4_mean',\n",
       " 'dmfcc_5_mean',\n",
       " 'dmfcc_6_mean',\n",
       " 'dmfcc_7_mean',\n",
       " 'dmfcc_8_mean',\n",
       " 'dmfcc_9_mean',\n",
       " 'dmfcc_10_mean',\n",
       " 'dmfcc_11_mean',\n",
       " 'dmfcc_0_std',\n",
       " 'dmfcc_1_std',\n",
       " 'dmfcc_2_std',\n",
       " 'dmfcc_3_std',\n",
       " 'dmfcc_4_std',\n",
       " 'dmfcc_5_std',\n",
       " 'dmfcc_6_std',\n",
       " 'dmfcc_7_std',\n",
       " 'dmfcc_8_std',\n",
       " 'dmfcc_9_std',\n",
       " 'dmfcc_10_std',\n",
       " 'dmfcc_11_std',\n",
       " 'ddmfcc_0_mean',\n",
       " 'ddmfcc_1_mean',\n",
       " 'ddmfcc_2_mean',\n",
       " 'ddmfcc_3_mean',\n",
       " 'ddmfcc_4_mean',\n",
       " 'ddmfcc_5_mean',\n",
       " 'ddmfcc_6_mean',\n",
       " 'ddmfcc_7_mean',\n",
       " 'ddmfcc_8_mean',\n",
       " 'ddmfcc_9_mean',\n",
       " 'ddmfcc_10_mean',\n",
       " 'ddmfcc_11_mean',\n",
       " 'ddmfcc_0_std',\n",
       " 'ddmfcc_1_std',\n",
       " 'ddmfcc_2_std',\n",
       " 'ddmfcc_3_std',\n",
       " 'ddmfcc_4_std',\n",
       " 'ddmfcc_5_std',\n",
       " 'ddmfcc_6_std',\n",
       " 'ddmfcc_7_std',\n",
       " 'ddmfcc_8_std',\n",
       " 'ddmfcc_9_std',\n",
       " 'ddmfcc_10_std',\n",
       " 'ddmfcc_11_std',\n",
       " 'digit',\n",
       " 'file']"
      ]
     },
     "execution_count": 35,
     "metadata": {},
     "output_type": "execute_result"
    }
   ],
   "source": [
    "feat_names"
   ]
  },
  {
   "cell_type": "code",
   "execution_count": null,
   "metadata": {},
   "outputs": [],
   "source": []
  }
 ],
 "metadata": {
  "celltoolbar": "Slideshow",
  "colab": {
   "name": "AA_TP2.ipynb",
   "provenance": []
  },
  "kernelspec": {
   "display_name": "Python 3",
   "language": "python",
   "name": "python3"
  },
  "language_info": {
   "codemirror_mode": {
    "name": "ipython",
    "version": 3
   },
   "file_extension": ".py",
   "mimetype": "text/x-python",
   "name": "python",
   "nbconvert_exporter": "python",
   "pygments_lexer": "ipython3",
   "version": "3.8.2"
  }
 },
 "nbformat": 4,
 "nbformat_minor": 1
}
