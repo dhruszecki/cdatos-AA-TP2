{
 "cells": [
  {
   "cell_type": "code",
   "execution_count": 23,
   "metadata": {},
   "outputs": [],
   "source": [
    "import librosa\n",
    "import glob\n",
    "import numpy as np\n",
    "\n",
    "import matplotlib.pyplot as plt\n",
    "from IPython.display import Audio\n",
    "from librosa.display import specshow\n",
    "from time import time\n",
    "from sklearn.naive_bayes import MultinomialNB, GaussianNB\n",
    "from sklearn.metrics import classification_report, confusion_matrix\n",
    "import seaborn as sns\n",
    "import pandas as pd\n",
    "from sklearn.ensemble import RandomForestClassifier\n",
    "\n",
    "\n",
    "\n",
    "#load utils.py"
   ]
  },
  {
   "cell_type": "code",
   "execution_count": 24,
   "metadata": {
    "colab": {},
    "colab_type": "code",
    "id": "igceWq3yQiIh"
   },
   "outputs": [],
   "source": [
    "def get_filenames():\n",
    "    if not path.exists(\"speechcommands\"):\n",
    "        !wget http://download.tensorflow.org/data/speech_commands_v0.01.tar.gz\n",
    "        !mkdir speechcommands\n",
    "        !tar -xf speech_commands_v0.01.tar.gz -C speechcommands\n",
    "    \n",
    "    # generamos lista con las rutas y nombres de archivo de los digitos\n",
    "    numbers_filenames = []\n",
    "\n",
    "    to_number =\t{\n",
    "      \"zero\": 0,\n",
    "      \"one\": 1,\n",
    "      \"two\": 2,\n",
    "      \"three\": 3,\n",
    "      \"four\": 4,\n",
    "      \"five\": 5,\n",
    "      \"six\": 6,\n",
    "      \"seven\": 7,\n",
    "      \"eight\": 8,\n",
    "      \"nine\": 9\n",
    "    }\n",
    "\n",
    "    for i in to_number:\n",
    "        path = 'speechcommands/' + i + '/*.wav'\n",
    "        numbers_filenames.append(glob.glob(path))\n",
    "\n",
    "    # guardamos la lista de los conjuntos de test y validación\n",
    "    # solo para archivos que referencian a dígitos\n",
    "    test_filenames = ['speechcommands/' + e for e in open('speechcommands/testing_list.txt','r').read().splitlines() if e[:e.find('/')] in to_number]\n",
    "    valid_filenames = ['speechcommands/' + e for e in open('speechcommands/validation_list.txt','r').read().splitlines() if e[:e.find('/')] in to_number]\n",
    "    train_filenames = [e for n in range(10) for e in numbers_filenames[n] if (e not in test_filenames) and (e not in valid_filenames)]\n",
    "\n",
    "    print('train_count:' , len(train_filenames))\n",
    "    print('test_count:' , len(test_filenames))\n",
    "    print('valid_count:' , len(valid_filenames))\n",
    "    \n",
    "    return \t{\n",
    "      \"train_features.csv\": train_filenames,\n",
    "      \"test_features.csv\": test_filenames,\n",
    "      \"valid_features.csv\": valid_filenames\n",
    "    }\n",
    "    "
   ]
  },
  {
   "cell_type": "code",
   "execution_count": 25,
   "metadata": {},
   "outputs": [],
   "source": [
    "def count_elapsed_time(f):\n",
    "    \"\"\"\n",
    "    Decorator.\n",
    "    Execute the function and calculate the elapsed time.\n",
    "    Print the result to the standard output.\n",
    "    \"\"\"\n",
    "    def wrapper(*args, **kwargs):\n",
    "        # Start counting.\n",
    "        start_time = time()\n",
    "        # Take the original function's return value.\n",
    "        ret = f(*args, **kwargs)\n",
    "        # Calculate the elapsed time.\n",
    "        elapsed_time = time() - start_time\n",
    "        print(\"Elapsed time: %0.10f seconds.\" % elapsed_time)\n",
    "        return ret\n",
    "\n",
    "    return wrapper"
   ]
  },
  {
   "cell_type": "code",
   "execution_count": 26,
   "metadata": {
    "colab": {},
    "colab_type": "code",
    "id": "aABqrO8zSz07"
   },
   "outputs": [],
   "source": [
    "def calculate_features(filename, n_mfcc=12, delta=True, deltadelta=True, energy=True, summary_fn = [np.mean, np.std], summary_names=['mean', 'std']):  \n",
    "  #Abro el archivo:\n",
    "  x, sr = librosa.core.load(filename,sr=None)\n",
    "  \n",
    "  #Calculo MFCCs\n",
    "  features = librosa.feature.mfcc(x,sr=sr,n_mfcc=n_mfcc)\n",
    "\n",
    "  #Calculo energia:\n",
    "  if energy:\n",
    "    energy = librosa.feature.rmse(x)\n",
    "    features = np.concatenate([features,energy])\n",
    "\n",
    "  #Aplico media y desvio estandar por defecto\n",
    "  summary_features = np.concatenate([fn(features,axis=1) for fn in summary_fn])\n",
    "    \n",
    "  #Lo mismo con los delta\n",
    "  if delta:\n",
    "    deltafeatures = np.diff(features)\n",
    "    summary_features = np.concatenate([summary_features,np.concatenate([fn(deltafeatures,axis=1) for fn in summary_fn])])\n",
    "\n",
    "  #Y con los delta de segundo orden\n",
    "  if deltadelta:\n",
    "    deltadeltafeatures = np.diff(features,n=2)\n",
    "    summary_features = np.concatenate([summary_features,np.concatenate([fn(deltadeltafeatures,axis=1) for fn in summary_fn])]) \n",
    "  \n",
    "  summary_features = np.append(summary_features, [to_number[filename.split('/')[1]], filename])\n",
    "\n",
    "  return summary_features"
   ]
  },
  {
   "cell_type": "code",
   "execution_count": 27,
   "metadata": {},
   "outputs": [],
   "source": [
    "def name_features(filename = '', n_mfcc=12, delta=True, deltadelta=True, energy=True, summary_fn = [np.mean, np.std], summary_names=['mean', 'std']):\n",
    "    feat_names = ['mfcc_{}'.format(i) for i in range(n_mfcc)]\n",
    "    if energy: feat_names = feat_names + ['energy']\n",
    "    feat_names = ['{}_{}'.format(name_i,summ_i) for summ_i in summary_names for name_i in feat_names]\n",
    "    if delta: d_names = ['d{}'.format(name) for name in feat_names]\n",
    "    if deltadelta: dd_names = ['dd{}'.format(name) for name in feat_names]\n",
    "\n",
    "    feat_names = feat_names + d_names + dd_names + ['digit', 'file']\n",
    "\n",
    "    return feat_names"
   ]
  },
  {
   "cell_type": "code",
   "execution_count": 28,
   "metadata": {
    "scrolled": true
   },
   "outputs": [],
   "source": [
    "from os import path\n",
    "@count_elapsed_time\n",
    "def calculate_features_if_needed(result_filename):\n",
    "    result_path = \"features/\"+result_filename\n",
    "    result = []\n",
    "    if not path.exists(result_path):\n",
    "        print(\"Getting filenames\")\n",
    "        filenames_complete = get_filenames()\n",
    "        filenames = filenames_complete[result_filename]        \n",
    "        \n",
    "        print(\"Calculating features for \", len(filenames), \" rows -> \", result_path)\n",
    "        features_names = name_features()\n",
    "        features_data = [calculate_features(x) for x in filenames]\n",
    "        pd.DataFrame(data = features_data, columns = features_names).to_csv(result_path)\n",
    "    \n",
    "    else:\n",
    "        print(\"Loading saved features <- \", result_path)\n",
    "        result = pd.read_csv(result_path)\n",
    "    \n",
    "    return result"
   ]
  },
  {
   "cell_type": "markdown",
   "metadata": {},
   "source": [
    "##  Obtenemos features  y eliminamos las columnas innecesarias para la predicción"
   ]
  },
  {
   "cell_type": "code",
   "execution_count": 29,
   "metadata": {},
   "outputs": [],
   "source": [
    "import os.path\n",
    "from os import path\n",
    "\n",
    "if not path.exists(\"features/test_features.csv\"):\n",
    "    !wget https://raw.githubusercontent.com/dhruszecki/cdatos-AA-TP2/master/features/test_features.csv -P features\n",
    "    \n",
    "if not path.exists(\"features/train_features.csv\"):        \n",
    "    !wget https://raw.githubusercontent.com/dhruszecki/cdatos-AA-TP2/master/features/train_features.csv -P features\n",
    "        \n",
    "if not path.exists(\"features/valid_features.csv\"):        \n",
    "    !wget https://raw.githubusercontent.com/dhruszecki/cdatos-AA-TP2/master/features/valid_features.csv -P features\n"
   ]
  },
  {
   "cell_type": "code",
   "execution_count": 30,
   "metadata": {
    "scrolled": true
   },
   "outputs": [
    {
     "name": "stdout",
     "output_type": "stream",
     "text": [
      "Loading saved features <-  features/test_features.csv\n",
      "Elapsed time: 0.0479600430 seconds.\n",
      "CPU times: user 51.9 ms, sys: 8.01 ms, total: 59.9 ms\n",
      "Wall time: 57.6 ms\n"
     ]
    },
    {
     "data": {
      "text/html": [
       "<div>\n",
       "<style scoped>\n",
       "    .dataframe tbody tr th:only-of-type {\n",
       "        vertical-align: middle;\n",
       "    }\n",
       "\n",
       "    .dataframe tbody tr th {\n",
       "        vertical-align: top;\n",
       "    }\n",
       "\n",
       "    .dataframe thead th {\n",
       "        text-align: right;\n",
       "    }\n",
       "</style>\n",
       "<table border=\"1\" class=\"dataframe\">\n",
       "  <thead>\n",
       "    <tr style=\"text-align: right;\">\n",
       "      <th>col_0</th>\n",
       "      <th>count</th>\n",
       "    </tr>\n",
       "    <tr>\n",
       "      <th>digit</th>\n",
       "      <th></th>\n",
       "    </tr>\n",
       "  </thead>\n",
       "  <tbody>\n",
       "    <tr>\n",
       "      <th>0</th>\n",
       "      <td>0.097962</td>\n",
       "    </tr>\n",
       "    <tr>\n",
       "      <th>1</th>\n",
       "      <td>0.097179</td>\n",
       "    </tr>\n",
       "    <tr>\n",
       "      <th>2</th>\n",
       "      <td>0.103448</td>\n",
       "    </tr>\n",
       "    <tr>\n",
       "      <th>3</th>\n",
       "      <td>0.104624</td>\n",
       "    </tr>\n",
       "    <tr>\n",
       "      <th>4</th>\n",
       "      <td>0.099138</td>\n",
       "    </tr>\n",
       "    <tr>\n",
       "      <th>5</th>\n",
       "      <td>0.106191</td>\n",
       "    </tr>\n",
       "    <tr>\n",
       "      <th>6</th>\n",
       "      <td>0.095611</td>\n",
       "    </tr>\n",
       "    <tr>\n",
       "      <th>7</th>\n",
       "      <td>0.093652</td>\n",
       "    </tr>\n",
       "    <tr>\n",
       "      <th>8</th>\n",
       "      <td>0.100705</td>\n",
       "    </tr>\n",
       "    <tr>\n",
       "      <th>9</th>\n",
       "      <td>0.101489</td>\n",
       "    </tr>\n",
       "  </tbody>\n",
       "</table>\n",
       "</div>"
      ],
      "text/plain": [
       "col_0     count\n",
       "digit          \n",
       "0      0.097962\n",
       "1      0.097179\n",
       "2      0.103448\n",
       "3      0.104624\n",
       "4      0.099138\n",
       "5      0.106191\n",
       "6      0.095611\n",
       "7      0.093652\n",
       "8      0.100705\n",
       "9      0.101489"
      ]
     },
     "execution_count": 30,
     "metadata": {},
     "output_type": "execute_result"
    }
   ],
   "source": [
    "%%time\n",
    "# Variables a excluir de la predicción\n",
    "var_exclude = ['file', 'Unnamed: 0']\n",
    "\n",
    "test_features = pd.DataFrame(calculate_features_if_needed(\"test_features.csv\"))\n",
    "test_features.drop(var_exclude, axis=1, inplace=True)\n",
    "test_features.head(10)\n",
    "pd.crosstab(index=test_features[\"digit\"], columns=\"count\", normalize=True)"
   ]
  },
  {
   "cell_type": "code",
   "execution_count": 13,
   "metadata": {},
   "outputs": [
    {
     "name": "stdout",
     "output_type": "stream",
     "text": [
      "Loading saved features <-  features/valid_features.csv\n",
      "Elapsed time: 0.0618190765 seconds.\n"
     ]
    },
    {
     "data": {
      "text/html": [
       "<div>\n",
       "<style scoped>\n",
       "    .dataframe tbody tr th:only-of-type {\n",
       "        vertical-align: middle;\n",
       "    }\n",
       "\n",
       "    .dataframe tbody tr th {\n",
       "        vertical-align: top;\n",
       "    }\n",
       "\n",
       "    .dataframe thead th {\n",
       "        text-align: right;\n",
       "    }\n",
       "</style>\n",
       "<table border=\"1\" class=\"dataframe\">\n",
       "  <thead>\n",
       "    <tr style=\"text-align: right;\">\n",
       "      <th>col_0</th>\n",
       "      <th>count</th>\n",
       "    </tr>\n",
       "    <tr>\n",
       "      <th>digit</th>\n",
       "      <th></th>\n",
       "    </tr>\n",
       "  </thead>\n",
       "  <tbody>\n",
       "    <tr>\n",
       "      <th>0</th>\n",
       "      <td>0.104250</td>\n",
       "    </tr>\n",
       "    <tr>\n",
       "      <th>1</th>\n",
       "      <td>0.092221</td>\n",
       "    </tr>\n",
       "    <tr>\n",
       "      <th>2</th>\n",
       "      <td>0.094627</td>\n",
       "    </tr>\n",
       "    <tr>\n",
       "      <th>3</th>\n",
       "      <td>0.099439</td>\n",
       "    </tr>\n",
       "    <tr>\n",
       "      <th>4</th>\n",
       "      <td>0.112269</td>\n",
       "    </tr>\n",
       "    <tr>\n",
       "      <th>5</th>\n",
       "      <td>0.097033</td>\n",
       "    </tr>\n",
       "    <tr>\n",
       "      <th>6</th>\n",
       "      <td>0.105052</td>\n",
       "    </tr>\n",
       "    <tr>\n",
       "      <th>7</th>\n",
       "      <td>0.105453</td>\n",
       "    </tr>\n",
       "    <tr>\n",
       "      <th>8</th>\n",
       "      <td>0.097434</td>\n",
       "    </tr>\n",
       "    <tr>\n",
       "      <th>9</th>\n",
       "      <td>0.092221</td>\n",
       "    </tr>\n",
       "  </tbody>\n",
       "</table>\n",
       "</div>"
      ],
      "text/plain": [
       "col_0     count\n",
       "digit          \n",
       "0      0.104250\n",
       "1      0.092221\n",
       "2      0.094627\n",
       "3      0.099439\n",
       "4      0.112269\n",
       "5      0.097033\n",
       "6      0.105052\n",
       "7      0.105453\n",
       "8      0.097434\n",
       "9      0.092221"
      ]
     },
     "execution_count": 13,
     "metadata": {},
     "output_type": "execute_result"
    }
   ],
   "source": [
    "%%time\n",
    "validation_features = pd.DataFrame(calculate_features_if_needed(\"valid_features.csv\"))\n",
    "validation_features.head(10)\n",
    "\n",
    "validation_features.drop(var_exclude, axis=1, inplace=True)\n",
    "validation_features.head(10)\n",
    "pd.crosstab(index=validation_features[\"digit\"], columns=\"count\", normalize=True)"
   ]
  },
  {
   "cell_type": "code",
   "execution_count": 22,
   "metadata": {},
   "outputs": [
    {
     "name": "stdout",
     "output_type": "stream",
     "text": [
      "Loading saved features <-  features/train_features.csv\n",
      "Elapsed time: 0.2334725857 seconds.\n",
      "CPU times: user 231 ms, sys: 20 ms, total: 251 ms\n",
      "Wall time: 248 ms\n"
     ]
    },
    {
     "data": {
      "text/html": [
       "<div>\n",
       "<style scoped>\n",
       "    .dataframe tbody tr th:only-of-type {\n",
       "        vertical-align: middle;\n",
       "    }\n",
       "\n",
       "    .dataframe tbody tr th {\n",
       "        vertical-align: top;\n",
       "    }\n",
       "\n",
       "    .dataframe thead th {\n",
       "        text-align: right;\n",
       "    }\n",
       "</style>\n",
       "<table border=\"1\" class=\"dataframe\">\n",
       "  <thead>\n",
       "    <tr style=\"text-align: right;\">\n",
       "      <th>col_0</th>\n",
       "      <th>count</th>\n",
       "    </tr>\n",
       "    <tr>\n",
       "      <th>digit</th>\n",
       "      <th></th>\n",
       "    </tr>\n",
       "  </thead>\n",
       "  <tbody>\n",
       "    <tr>\n",
       "      <th>0</th>\n",
       "      <td>0.100215</td>\n",
       "    </tr>\n",
       "    <tr>\n",
       "      <th>1</th>\n",
       "      <td>0.101611</td>\n",
       "    </tr>\n",
       "    <tr>\n",
       "      <th>2</th>\n",
       "      <td>0.100591</td>\n",
       "    </tr>\n",
       "    <tr>\n",
       "      <th>3</th>\n",
       "      <td>0.098872</td>\n",
       "    </tr>\n",
       "    <tr>\n",
       "      <th>4</th>\n",
       "      <td>0.098765</td>\n",
       "    </tr>\n",
       "    <tr>\n",
       "      <th>5</th>\n",
       "      <td>0.099033</td>\n",
       "    </tr>\n",
       "    <tr>\n",
       "      <th>6</th>\n",
       "      <td>0.100054</td>\n",
       "    </tr>\n",
       "    <tr>\n",
       "      <th>7</th>\n",
       "      <td>0.100698</td>\n",
       "    </tr>\n",
       "    <tr>\n",
       "      <th>8</th>\n",
       "      <td>0.099463</td>\n",
       "    </tr>\n",
       "    <tr>\n",
       "      <th>9</th>\n",
       "      <td>0.100698</td>\n",
       "    </tr>\n",
       "  </tbody>\n",
       "</table>\n",
       "</div>"
      ],
      "text/plain": [
       "col_0     count\n",
       "digit          \n",
       "0      0.100215\n",
       "1      0.101611\n",
       "2      0.100591\n",
       "3      0.098872\n",
       "4      0.098765\n",
       "5      0.099033\n",
       "6      0.100054\n",
       "7      0.100698\n",
       "8      0.099463\n",
       "9      0.100698"
      ]
     },
     "execution_count": 22,
     "metadata": {},
     "output_type": "execute_result"
    }
   ],
   "source": [
    "%%time\n",
    "train_features = pd.DataFrame(calculate_features_if_needed(\"train_features.csv\"))\n",
    "train_features.head(10)\n",
    "train_features.drop(var_exclude, axis=1, inplace=True)\n",
    "train_features.head(10)\n",
    "pd.crosstab(index=train_features[\"digit\"], columns=\"count\", normalize=True)"
   ]
  },
  {
   "cell_type": "markdown",
   "metadata": {},
   "source": [
    "# Modelos"
   ]
  },
  {
   "cell_type": "markdown",
   "metadata": {},
   "source": [
    "## Naive Bayes"
   ]
  },
  {
   "cell_type": "code",
   "execution_count": 15,
   "metadata": {},
   "outputs": [
    {
     "name": "stdout",
     "output_type": "stream",
     "text": [
      "Accuracy training : 0.541\n",
      "Accuracy Validación: 0.537\n",
      "              precision    recall  f1-score   support\n",
      "\n",
      "           0       0.64      0.65      0.64       260\n",
      "           1       0.36      0.58      0.45       230\n",
      "           2       0.37      0.48      0.42       236\n",
      "           3       0.55      0.55      0.55       248\n",
      "           4       0.72      0.53      0.61       280\n",
      "           5       0.54      0.53      0.54       242\n",
      "           6       0.50      0.58      0.54       262\n",
      "           7       0.58      0.49      0.53       263\n",
      "           8       0.74      0.56      0.63       243\n",
      "           9       0.61      0.41      0.49       230\n",
      "\n",
      "    accuracy                           0.54      2494\n",
      "   macro avg       0.56      0.54      0.54      2494\n",
      "weighted avg       0.57      0.54      0.54      2494\n",
      "\n"
     ]
    }
   ],
   "source": [
    "%%time\n",
    "## Naive Bayes Modelo 1 -- Sin hiperparametros\n",
    "naive_bayes_1 = GaussianNB()\n",
    "naive_bayes_1.fit(train_features.drop('digit',axis=1).values, train_features.digit.values)\n",
    "predict_nb1 = naive_bayes_1.predict(validation_features.drop('digit',axis=1).values)\n",
    "\n",
    "print(\"Accuracy training : {:.3f}\".format(naive_bayes_1.score(train_features.drop('digit',axis=1).values, \n",
    "                                                               train_features.digit.values)))\n",
    "print(\"Accuracy Validación: {:.3f}\".format(naive_bayes_1.score(validation_features.drop('digit',axis=1).values, \n",
    "                                                          validation_features.digit.values)))\n",
    "\n",
    "print(classification_report(validation_features.digit.values, predict_nb1))"
   ]
  },
  {
   "cell_type": "code",
   "execution_count": 16,
   "metadata": {},
   "outputs": [
    {
     "data": {
      "text/plain": [
       "Text(19.5, 0.5, 'True')"
      ]
     },
     "execution_count": 16,
     "metadata": {},
     "output_type": "execute_result"
    },
    {
     "data": {
      "image/png": "[encoded data removed]",
      "text/plain": [
       "<Figure size 432x288 with 2 Axes>"
      ]
     },
     "metadata": {
      "needs_background": "light"
     },
     "output_type": "display_data"
    }
   ],
   "source": [
    "%%time\n",
    "## Matriz de Confusión \n",
    "sns.set_context('talk')\n",
    "sns.heatmap(confusion_matrix(validation_features.digit.values, predict_nb1), annot=True, fmt='g')\n",
    "#sns.set(font_scale=0.2) \n",
    "plt.xlabel('Predit')\n",
    "plt.ylabel('True')"
   ]
  },
  {
   "cell_type": "markdown",
   "metadata": {},
   "source": [
    "## Random Forest [Sin Hiperparámetros]"
   ]
  },
  {
   "cell_type": "code",
   "execution_count": 17,
   "metadata": {},
   "outputs": [
    {
     "name": "stdout",
     "output_type": "stream",
     "text": [
      "Accuracy training : 0.896\n",
      "Accuracy Validación: 0.670\n",
      "              precision    recall  f1-score   support\n",
      "\n",
      "           0       0.65      0.77      0.71       260\n",
      "           1       0.54      0.61      0.57       230\n",
      "           2       0.62      0.54      0.58       236\n",
      "           3       0.60      0.67      0.63       248\n",
      "           4       0.66      0.75      0.70       280\n",
      "           5       0.73      0.57      0.64       242\n",
      "           6       0.82      0.70      0.76       262\n",
      "           7       0.68      0.65      0.67       263\n",
      "           8       0.76      0.81      0.78       243\n",
      "           9       0.67      0.60      0.63       230\n",
      "\n",
      "    accuracy                           0.67      2494\n",
      "   macro avg       0.67      0.67      0.67      2494\n",
      "weighted avg       0.68      0.67      0.67      2494\n",
      "\n"
     ]
    }
   ],
   "source": [
    "%%time\n",
    "random_forest1 = RandomForestClassifier(n_estimators=450, max_depth=10, bootstrap=False,  random_state=1)\n",
    "#random_forest1 = RandomForestClassifier(random_state=1)\n",
    "random_forest1.fit(train_features.drop('digit',axis=1).values, train_features.digit.values)\n",
    "predict_rf1 = random_forest1.predict(validation_features.drop('digit',axis=1).values)\n",
    "\n",
    "print(\"Accuracy training : {:.3f}\".format(random_forest1.score(train_features.drop('digit',axis=1).values, \n",
    "                                                               train_features.digit.values)))\n",
    "print(\"Accuracy Validación: {:.3f}\".format(random_forest1.score(validation_features.drop('digit',axis=1).values, \n",
    "                                                          validation_features.digit.values)))\n",
    "\n",
    "print(classification_report(validation_features.digit.values, predict_rf1))"
   ]
  },
  {
   "cell_type": "markdown",
   "metadata": {},
   "source": [
    "## Probamos Hiperparámetros"
   ]
  },
  {
   "cell_type": "code",
   "execution_count": 18,
   "metadata": {},
   "outputs": [],
   "source": [
    "## Primero unir train & validación (Esto según lo que preguntaron en el documento pero aún no lo tengo claro)\n",
    "to_hiper = train_features.append(validation_features, ignore_index=True)\n",
    "\n",
    "#genero listo con datos a usar en split de validación u entrenamiento -1 para entrenar y 0 para validar\n",
    "test_fold = list([-1] * len(train_features) + [0]*len(validation_features))"
   ]
  },
  {
   "cell_type": "code",
   "execution_count": 19,
   "metadata": {},
   "outputs": [
    {
     "name": "stdout",
     "output_type": "stream",
     "text": [
      "0.6672012830793905 {'random_state': 4, 'n_estimators': 175, 'max_depth': 10, 'bootstrap': False}\n",
      "Accuracy training : 0.881\n",
      "Accuracy Validación: 0.862\n"
     ]
    }
   ],
   "source": [
    "%%time\n",
    "### Agrego hiperparametrización \n",
    "\n",
    "from sklearn.model_selection import RandomizedSearchCV\n",
    "from sklearn.model_selection import ShuffleSplit\n",
    "from sklearn.model_selection import cross_val_score, StratifiedShuffleSplit\n",
    "from sklearn.model_selection import PredefinedSplit\n",
    "\n",
    "kfoldcv = PredefinedSplit(test_fold)  ## Indices de Split predefinido de Validacion\n",
    "\n",
    "parametros = {'n_estimators':range(100, 250, 15), 'max_depth':range(6, 12, 2), 'bootstrap':[True, False], 'random_state': range(0, 5, 1)}\n",
    "\n",
    "\n",
    "clf = RandomizedSearchCV(RandomForestClassifier(), parametros, n_jobs=10, random_state=131313,    \n",
    "                         scoring='accuracy', n_iter=3, cv = kfoldcv)\n",
    "\n",
    "### Me genera muchas dudas la data con la que se fitea xq no deberían ser entrenamiento y validación\n",
    "## con esto se está haciendo trampa\n",
    "clf.fit(to_hiper.drop('digit',axis=1).values, to_hiper.digit.values)\n",
    "rf = clf.best_estimator_  \n",
    "\n",
    "print(clf.best_score_, clf.best_params_)\n",
    "print(\"Accuracy training : {:.3f}\".format(rf.score(train_features.drop('digit',axis=1).values, \n",
    "                                                   train_features.digit.values)))\n",
    "print(\"Accuracy Validación: {:.3f}\".format(rf.score(validation_features.drop('digit',axis=1).values, \n",
    "                                                          validation_features.digit.values)))"
   ]
  },
  {
   "cell_type": "code",
   "execution_count": 29,
   "metadata": {},
   "outputs": [
    {
     "name": "stdout",
     "output_type": "stream",
     "text": [
      "Accuracy training : 0.881\n",
      "Accuracy Validación: 0.862\n"
     ]
    }
   ],
   "source": [
    "%%time\n",
    "rf_mejor = RandomForestClassifier(random_state=4, n_estimators=175, max_depth=10, bootstrap=False)\n",
    "rf_mejor.fit(train_features.drop('digit',axis=1).values, train_features.digit.values)\n",
    "\n",
    "print(\"Accuracy training : {:.3f}\".format(rf.score(train_features.drop('digit',axis=1).values, \n",
    "                                                   train_features.digit.values)))\n",
    "print(\"Accuracy Validación: {:.3f}\".format(rf.score(validation_features.drop('digit',axis=1).values, \n",
    "                                                          validation_features.digit.values)))"
   ]
  },
  {
   "cell_type": "markdown",
   "metadata": {},
   "source": [
    "## Gradient Boosting"
   ]
  },
  {
   "cell_type": "code",
   "execution_count": 20,
   "metadata": {},
   "outputs": [
    {
     "name": "stdout",
     "output_type": "stream",
     "text": [
      "0.7522052927024859 {'n_estimators': 125, 'max_depth': 6, 'learning_rate': 0.30000000000000004}\n"
     ]
    },
    {
     "ename": "AttributeError",
     "evalue": "'DataFrame' object has no attribute 'digitnumber'",
     "output_type": "error",
     "traceback": [
      "\u001b[0;31m------------------------------------------------\u001b[0m",
      "\u001b[0;31mAttributeError\u001b[0m Traceback (most recent call last)",
      "\u001b[0;32m<ipython-input-20-ad1c54481466>\u001b[0m in \u001b[0;36m<module>\u001b[0;34m\u001b[0m\n\u001b[1;32m      9\u001b[0m \u001b[0mprint\u001b[0m \u001b[0;34m(\u001b[0m\u001b[0mclf\u001b[0m\u001b[0;34m.\u001b[0m\u001b[0mbest_score_\u001b[0m\u001b[0;34m,\u001b[0m \u001b[0mclf\u001b[0m\u001b[0;34m.\u001b[0m\u001b[0mbest_params_\u001b[0m\u001b[0;34m)\u001b[0m\u001b[0;34m\u001b[0m\u001b[0;34m\u001b[0m\u001b[0m\n\u001b[1;32m     10\u001b[0m print(\"Accuracy training : {:.3f}\".format(gb.score(train_features.drop('digit',axis=1).values, \n\u001b[0;32m---> 11\u001b[0;31m                                                    train_features.digitnumber.values))) \n\u001b[0m\u001b[1;32m     12\u001b[0m print(\"Accuracy test: {:.3f}\".format(gb.score(validation_features.drop('digit',axis=1).values, \n\u001b[1;32m     13\u001b[0m                                                    validation_features.digit.values)))\n",
      "\u001b[0;32m~/.local/lib/python3.8/site-packages/pandas/core/generic.py\u001b[0m in \u001b[0;36m__getattr__\u001b[0;34m(self, name)\u001b[0m\n\u001b[1;32m   5272\u001b[0m             \u001b[0;32mif\u001b[0m \u001b[0mself\u001b[0m\u001b[0;34m.\u001b[0m\u001b[0m_info_axis\u001b[0m\u001b[0;34m.\u001b[0m\u001b[0m_can_hold_identifiers_and_holds_name\u001b[0m\u001b[0;34m(\u001b[0m\u001b[0mname\u001b[0m\u001b[0;34m)\u001b[0m\u001b[0;34m:\u001b[0m\u001b[0;34m\u001b[0m\u001b[0;34m\u001b[0m\u001b[0m\n\u001b[1;32m   5273\u001b[0m                 \u001b[0;32mreturn\u001b[0m \u001b[0mself\u001b[0m\u001b[0;34m[\u001b[0m\u001b[0mname\u001b[0m\u001b[0;34m]\u001b[0m\u001b[0;34m\u001b[0m\u001b[0;34m\u001b[0m\u001b[0m\n\u001b[0;32m-> 5274\u001b[0;31m             \u001b[0;32mreturn\u001b[0m \u001b[0mobject\u001b[0m\u001b[0;34m.\u001b[0m\u001b[0m__getattribute__\u001b[0m\u001b[0;34m(\u001b[0m\u001b[0mself\u001b[0m\u001b[0;34m,\u001b[0m \u001b[0mname\u001b[0m\u001b[0;34m)\u001b[0m\u001b[0;34m\u001b[0m\u001b[0;34m\u001b[0m\u001b[0m\n\u001b[0m\u001b[1;32m   5275\u001b[0m \u001b[0;34m\u001b[0m\u001b[0m\n\u001b[1;32m   5276\u001b[0m     \u001b[0;32mdef\u001b[0m \u001b[0m__setattr__\u001b[0m\u001b[0;34m(\u001b[0m\u001b[0mself\u001b[0m\u001b[0;34m,\u001b[0m \u001b[0mname\u001b[0m\u001b[0;34m:\u001b[0m \u001b[0mstr\u001b[0m\u001b[0;34m,\u001b[0m \u001b[0mvalue\u001b[0m\u001b[0;34m)\u001b[0m \u001b[0;34m->\u001b[0m \u001b[0;32mNone\u001b[0m\u001b[0;34m:\u001b[0m\u001b[0;34m\u001b[0m\u001b[0;34m\u001b[0m\u001b[0m\n",
      "\u001b[0;31mAttributeError\u001b[0m: 'DataFrame' object has no attribute 'digitnumber'"
     ]
    }
   ],
   "source": [
    "%%time\n",
    "from sklearn.ensemble import GradientBoostingClassifier\n",
    "\n",
    "parameters = {'n_estimators':range(50, 150, 25), 'max_depth':range(5,7), 'learning_rate':np.arange(0,1,0.1)}\n",
    "clf = RandomizedSearchCV(GradientBoostingClassifier(), parameters, n_jobs=10, scoring='accuracy',cv=kfoldcv, n_iter=50, random_state=8)\n",
    "\n",
    "clf.fit(to_hiper.drop('digit',axis=1).values, to_hiper.digit.values)\n",
    "gb = clf.best_estimator_\n",
    "\n",
    "print (clf.best_score_, clf.best_params_)\n",
    "print(\"Accuracy training : {:.3f}\".format(gb.score(train_features.drop('digit',axis=1).values, \n",
    "                                                   train_features.digit.values))) \n",
    "print(\"Accuracy test: {:.3f}\".format(gb.score(validation_features.drop('digit',axis=1).values, \n",
    "                                                   validation_features.digit.values)))"
   ]
  },
  {
   "cell_type": "code",
   "execution_count": null,
   "metadata": {},
   "outputs": [],
   "source": [
    "%%time\n",
    "gb_mejor = RandomForestClassifier(random_state=73, n_estimators=, max_depth=, learning_rate=)\n",
    "gb_mejor.fit(train_features.drop('digit',axis=1).values, train_features.digit.values)\n",
    "\n",
    "print(\"Accuracy training : {:.3f}\".format(gb_mejor.score(train_features.drop('digit',axis=1).values, \n",
    "                                                   train_features.digit.values)))\n",
    "print(\"Accuracy Validación: {:.3f}\".format(gb_mejor.score(validation_features.drop('digit',axis=1).values, \n",
    "                                                          validation_features.digit.values)))"
   ]
  },
  {
   "cell_type": "code",
   "execution_count": null,
   "metadata": {},
   "outputs": [],
   "source": [
    "%%time\n",
    "## Matriz de Confusión \n",
    "gb_pred = gb_mejor.predict(validation_features.drop('digit',axis=1).values)\n",
    "sns.set_context('paper')\n",
    "sns.heatmap(confusion_matrix(validation_features.digit.values, gb_pred), annot=True, fmt='g')\n",
    "#sns.set(font_scale=0.2) \n",
    "plt.xlabel('Predit')\n",
    "plt.ylabel('True')"
   ]
  }
 ],
 "metadata": {
  "celltoolbar": "Slideshow",
  "colab": {
   "name": "AA_TP2.ipynb",
   "provenance": []
  },
  "kernelspec": {
   "display_name": "Python 3",
   "language": "python",
   "name": "python3"
  },
  "language_info": {
   "codemirror_mode": {
    "name": "ipython",
    "version": 3
   },
   "file_extension": ".py",
   "mimetype": "text/x-python",
   "name": "python",
   "nbconvert_exporter": "python",
   "pygments_lexer": "ipython3",
   "version": "3.8.2"
  }
 },
 "nbformat": 4,
 "nbformat_minor": 1
}
