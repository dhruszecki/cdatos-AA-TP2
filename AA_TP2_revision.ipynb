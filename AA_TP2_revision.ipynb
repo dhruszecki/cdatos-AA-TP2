{
 "cells": [
  {
   "cell_type": "code",
   "execution_count": 1,
   "metadata": {
    "colab": {
     "base_uri": "https://localhost:8080/",
     "height": 127
    },
    "colab_type": "code",
    "id": "w4mR9CPZWMdv",
    "outputId": "ef1d16aa-4adf-40a4-f32b-63b792f4cb92"
   },
   "outputs": [
    {
     "name": "stdout",
     "output_type": "stream",
     "text": [
      "TP2 AA, grupo 2 \n",
      "\n",
      "Caicedo, Daniel\n",
      "Diaz Villa, Virginia\n",
      "Hruszecki, Darío\n",
      "Marchio, Sergio\n"
     ]
    }
   ],
   "source": [
    "integrantes = (\"Caicedo, Daniel\", \"Diaz Villa, Virginia\", \"Hruszecki, Darío\", \"Marchio, Sergio\")\n",
    "\n",
    "print(\"TP2 AA, grupo 2 \\n\")\n",
    "\n",
    "for i in integrantes:\n",
    "    print(i)"
   ]
  },
  {
   "cell_type": "markdown",
   "metadata": {
    "colab_type": "text",
    "id": "2PyKXvKfWMd3"
   },
   "source": [
    "## Import de librerias utilizadas"
   ]
  },
  {
   "cell_type": "code",
   "execution_count": 2,
   "metadata": {
    "colab": {
     "base_uri": "https://localhost:8080/",
     "height": 74
    },
    "colab_type": "code",
    "executionInfo": {
     "elapsed": 7511,
     "status": "ok",
     "timestamp": 1595212747576,
     "user": {
      "displayName": "Sergio Marchio",
      "photoUrl": "https://lh3.googleusercontent.com/a-/AOh14Ghw0JT9hzPQ5grtu74aF4edwt_w9WB_ihJJQMsa=s64",
      "userId": "14321742954155587052"
     },
     "user_tz": 180
    },
    "id": "TV0dQtmpWMd4",
    "outputId": "24d07f2c-cf79-4ce8-d5c1-d8b73ed57f9f"
   },
   "outputs": [],
   "source": [
    "import librosa\n",
    "import glob\n",
    "import numpy as np\n",
    "import seaborn as sns\n",
    "import pandas as pd\n",
    "\n",
    "import os\n",
    "import os.path\n",
    "from os import path\n",
    "\n",
    "import matplotlib.pyplot as plt\n",
    "\n",
    "from enum import Enum\n",
    "from time import time\n",
    "\n",
    "from IPython.display import Audio\n",
    "from librosa.display import specshow\n",
    "from sklearn.ensemble import GradientBoostingClassifier\n",
    "from sklearn.ensemble import RandomForestClassifier\n",
    "from sklearn.metrics import classification_report\n",
    "from sklearn.metrics import confusion_matrix\n",
    "from sklearn.model_selection import ParameterSampler\n",
    "from sklearn.model_selection import PredefinedSplit\n",
    "from sklearn.model_selection import RandomizedSearchCV\n",
    "from sklearn.naive_bayes import GaussianNB\n",
    "from sklearn.preprocessing import OneHotEncoder\n",
    "from sklearn.preprocessing import StandardScaler\n",
    "\n",
    "import tensorflow as tf\n",
    "import tensorflow.keras.layers as tfkl\n"
   ]
  },
  {
   "cell_type": "code",
   "execution_count": null,
   "metadata": {
    "colab": {
     "base_uri": "https://localhost:8080/",
     "height": 148
    },
    "colab_type": "code",
    "executionInfo": {
     "elapsed": 30429,
     "status": "ok",
     "timestamp": 1595212803115,
     "user": {
      "displayName": "Sergio Marchio",
      "photoUrl": "https://lh3.googleusercontent.com/a-/AOh14Ghw0JT9hzPQ5grtu74aF4edwt_w9WB_ihJJQMsa=s64",
      "userId": "14321742954155587052"
     },
     "user_tz": 180
    },
    "id": "FVCiAa-bXI0V",
    "outputId": "616c31e9-cbba-4668-de04-059d9ea6761d"
   },
   "outputs": [],
   "source": [
    "# para ejecutar desde google colab, con notebook en el directorio donde están los demás archivos\n",
    "from google.colab import drive\n",
    "drive.mount('/content/gdrive')\n",
    "\n",
    "# directorio donde esté el notebook y los archivos de sonido\n",
    "carpeta_tp = \"AA_TP2\"\n",
    "\n",
    "os.chdir(\"gdrive/My Drive/\" + carpeta_tp)\n",
    "os.getcwd()"
   ]
  },
  {
   "cell_type": "markdown",
   "metadata": {
    "colab_type": "text",
    "id": "69HWXJnxWMd-"
   },
   "source": [
    "## Funciones para la obtención de features y modelado"
   ]
  },
  {
   "cell_type": "code",
   "execution_count": 3,
   "metadata": {
    "colab": {},
    "colab_type": "code",
    "executionInfo": {
     "elapsed": 1368,
     "status": "ok",
     "timestamp": 1595212842879,
     "user": {
      "displayName": "Sergio Marchio",
      "photoUrl": "https://lh3.googleusercontent.com/a-/AOh14Ghw0JT9hzPQ5grtu74aF4edwt_w9WB_ihJJQMsa=s64",
      "userId": "14321742954155587052"
     },
     "user_tz": 180
    },
    "id": "eTdJkoedWMd-"
   },
   "outputs": [],
   "source": [
    "class AudioType(Enum):\n",
    "  TRAIN = 1   \n",
    "  VALIDATION = 2   \n",
    "  TEST = 3   \n",
    "  CUSTOM = 4   "
   ]
  },
  {
   "cell_type": "code",
   "execution_count": 4,
   "metadata": {},
   "outputs": [],
   "source": [
    "class NoiseType:\n",
    "  def __init__(self, name, level=1):\n",
    "    self.name = name\n",
    "    self.level = level"
   ]
  },
  {
   "cell_type": "code",
   "execution_count": 5,
   "metadata": {
    "colab": {},
    "colab_type": "code",
    "executionInfo": {
     "elapsed": 935,
     "status": "ok",
     "timestamp": 1595212843401,
     "user": {
      "displayName": "Sergio Marchio",
      "photoUrl": "https://lh3.googleusercontent.com/a-/AOh14Ghw0JT9hzPQ5grtu74aF4edwt_w9WB_ihJJQMsa=s64",
      "userId": "14321742954155587052"
     },
     "user_tz": 180
    },
    "id": "5lkB7hnVWMeE"
   },
   "outputs": [],
   "source": [
    "class Feature:\n",
    "  def __init__(self, filename, audio_type, noise_type=None):\n",
    "    self.filename = filename\n",
    "    self.noise_type = noise_type\n",
    "    self.audio_type = audio_type"
   ]
  },
  {
   "cell_type": "code",
   "execution_count": 6,
   "metadata": {
    "colab": {},
    "colab_type": "code",
    "executionInfo": {
     "elapsed": 1892,
     "status": "ok",
     "timestamp": 1595212849145,
     "user": {
      "displayName": "Sergio Marchio",
      "photoUrl": "https://lh3.googleusercontent.com/a-/AOh14Ghw0JT9hzPQ5grtu74aF4edwt_w9WB_ihJJQMsa=s64",
      "userId": "14321742954155587052"
     },
     "user_tz": 180
    },
    "id": "g6V9IVn1WMeJ"
   },
   "outputs": [],
   "source": [
    "class Features(Enum):\n",
    "    Train = Feature(\"train_features.csv\",AudioType.TRAIN)\n",
    "    Validation = Feature(\"valid_features.csv\", AudioType.VALIDATION)\n",
    "    Test = Feature(\"test_features.csv\", AudioType.TEST) \n",
    "    Test_Noise_Gauss = Feature(\"test_features_gauss.csv\",AudioType.TEST, NoiseType(\"gauss\"))\n",
    "    Test_Noise_Gauss_25 = Feature(\"test_features_gauss_25.csv\",AudioType.TEST, NoiseType(\"gauss\", 0.25))\n",
    "    Test_Noise_Gauss_50 = Feature(\"test_features_gauss_50.csv\",AudioType.TEST, NoiseType(\"gauss\", 0.50))\n",
    "    Test_Noise_Gauss_75 = Feature(\"test_features_gauss_75.csv\",AudioType.TEST, NoiseType(\"gauss\", 0.75))\n",
    "    Test_Noise_Pink = Feature(\"test_features_pink.csv\", AudioType.TEST, NoiseType(\"pink_noise.wav\"))\n",
    "    Test_Noise_Pink_25 = Feature(\"test_features_pink_25.csv\", AudioType.TEST, NoiseType(\"pink_noise.wav\", 0.25))\n",
    "    Test_Noise_Pink_50 = Feature(\"test_features_pink_50.csv\", AudioType.TEST, NoiseType(\"pink_noise.wav\", 0.50))\n",
    "    Test_Noise_Pink_75 = Feature(\"test_features_pink_75.csv\", AudioType.TEST, NoiseType(\"pink_noise.wav\", 0.75))\n",
    "    Test_Noise_White = Feature(\"test_features_white.csv\", AudioType.TEST, NoiseType(\"white_noise.wav\"))\n",
    "    Test_Noise_White_25 = Feature(\"test_features_white_25.csv\", AudioType.TEST, NoiseType(\"white_noise.wav\", 0.25))\n",
    "    Test_Noise_White_50 = Feature(\"test_features_white_50.csv\", AudioType.TEST, NoiseType(\"white_noise.wav\", 0.50))\n",
    "    Test_Noise_White_75 = Feature(\"test_features_white_75.csv\", AudioType.TEST, NoiseType(\"white_noise.wav\", 0.75))\n",
    "    Test_Noise_Dishes = Feature(\"test_features_dishes.csv\", AudioType.TEST, NoiseType(\"doing_the_dishes.wav\"))\n",
    "    Test_Noise_Dude = Feature(\"test_features_dude.csv\", AudioType.TEST, NoiseType(\"dude_miaowing.wav\"))\n",
    "    Test_Noise_Bike = Feature(\"test_features_bike.csv\", AudioType.TEST, NoiseType(\"exercise_bike.wav\"))\n",
    "    Test_Noise_Running = Feature(\"test_features_running.csv\", AudioType.TEST, NoiseType(\"running_tap.wav\"))            \n",
    "    Test_Custom = Feature(\"test_features_custom.csv\", AudioType.CUSTOM)"
   ]
  },
  {
   "cell_type": "code",
   "execution_count": 7,
   "metadata": {
    "colab": {},
    "colab_type": "code",
    "executionInfo": {
     "elapsed": 968,
     "status": "ok",
     "timestamp": 1595212849151,
     "user": {
      "displayName": "Sergio Marchio",
      "photoUrl": "https://lh3.googleusercontent.com/a-/AOh14Ghw0JT9hzPQ5grtu74aF4edwt_w9WB_ihJJQMsa=s64",
      "userId": "14321742954155587052"
     },
     "user_tz": 180
    },
    "id": "pnY0hWyVWMeO"
   },
   "outputs": [],
   "source": [
    "def download_feature_if_needed(filename):\n",
    "    if not path.exists(\"features/\"+filename):\n",
    "        url = \"https://raw.githubusercontent.com/dhruszecki/cdatos-AA-TP2/master/features/\"+filename\n",
    "        !wget {url} -P features\n",
    "    else:\n",
    "        print(\"features/\" + filename, \" already exists! :)\")"
   ]
  },
  {
   "cell_type": "code",
   "execution_count": 8,
   "metadata": {
    "colab": {},
    "colab_type": "code",
    "executionInfo": {
     "elapsed": 1079,
     "status": "ok",
     "timestamp": 1595212856475,
     "user": {
      "displayName": "Sergio Marchio",
      "photoUrl": "https://lh3.googleusercontent.com/a-/AOh14Ghw0JT9hzPQ5grtu74aF4edwt_w9WB_ihJJQMsa=s64",
      "userId": "14321742954155587052"
     },
     "user_tz": 180
    },
    "id": "igceWq3yQiIh"
   },
   "outputs": [],
   "source": [
    "audio_filenames = None\n",
    "\n",
    "to_number = {\n",
    "  \"zero\": 0,\n",
    "  \"one\": 1,\n",
    "  \"two\": 2,\n",
    "  \"three\": 3,\n",
    "  \"four\": 4,\n",
    "  \"five\": 5,\n",
    "  \"six\": 6,\n",
    "  \"seven\": 7,\n",
    "  \"eight\": 8,\n",
    "  \"nine\": 9\n",
    "}\n",
    "\n",
    "def get_filenames():\n",
    "    \n",
    "    global audio_filenames\n",
    "    \n",
    "    if audio_filenames!= None:\n",
    "        return audio_filenames\n",
    "    \n",
    "    if not path.exists(\"speechcommands\"):\n",
    "        !wget http://download.tensorflow.org/data/speech_commands_v0.01.tar.gz\n",
    "        !mkdir speechcommands\n",
    "        !tar -xf speech_commands_v0.01.tar.gz -C speechcommands\n",
    "\n",
    "    if not path.exists(\"customcommands\"):\n",
    "        !wget https://raw.githubusercontent.com/dhruszecki/cdatos-AA-TP2/master/resources/custom_commands.tar.gz\n",
    "        !mkdir customcommands\n",
    "        !tar -xf custom_commands.tar.gz -C customcommands\n",
    "    \n",
    "    numbers_filenames = []\n",
    "    custom_filenames = []\n",
    "\n",
    "    for i in to_number:\n",
    "        numbers_filenames.append(glob.glob('speechcommands/' + i + '/*.wav'))\n",
    "        custom_filenames = custom_filenames + glob.glob(\"customcommands/\" + i + '/*.wav')\n",
    "\n",
    "    test_filenames= ['speechcommands/' + e for e in open('speechcommands/testing_list.txt','r').read().splitlines() if e[:e.find('/')] in to_number]\n",
    "    valid_filenames= ['speechcommands/' + e for e in open('speechcommands/validation_list.txt','r').read().splitlines() if e[:e.find('/')] in to_number]\n",
    "    train_filenames= [e for n in range(10) for e in numbers_filenames[n] if (e not in test_filenames) and (e not in valid_filenames)]\n",
    "    \n",
    "        \n",
    "    print('train_count:' , len(train_filenames))\n",
    "    print('test_count:' , len(test_filenames))\n",
    "    print('valid_count:' , len(valid_filenames))\n",
    "    print('custom_count:' , len(custom_filenames))\n",
    "    \n",
    "    audio_filenames = {\n",
    "      AudioType.TRAIN : train_filenames,\n",
    "      AudioType.TEST : test_filenames,\n",
    "      AudioType.VALIDATION : valid_filenames,\n",
    "      AudioType.CUSTOM : custom_filenames \n",
    "    }\n",
    "        \n",
    "    return audio_filenames"
   ]
  },
  {
   "cell_type": "code",
   "execution_count": 9,
   "metadata": {
    "colab": {},
    "colab_type": "code",
    "executionInfo": {
     "elapsed": 796,
     "status": "ok",
     "timestamp": 1595212858051,
     "user": {
      "displayName": "Sergio Marchio",
      "photoUrl": "https://lh3.googleusercontent.com/a-/AOh14Ghw0JT9hzPQ5grtu74aF4edwt_w9WB_ihJJQMsa=s64",
      "userId": "14321742954155587052"
     },
     "user_tz": 180
    },
    "id": "lY67DhNUWMeW"
   },
   "outputs": [],
   "source": [
    "def apply_noise(audio, noise_type):\n",
    "    ruido = None\n",
    "    if noise_type.name == \"gauss\":\n",
    "        ruido = np.random.normal(size=audio.shape)\n",
    "    else:\n",
    "        ruido, sr = librosa.core.load('speechcommands/_background_noise_/'+noise_type.name, sr=None)\n",
    "        ruido = 0.5*ruido[5000:5000+len(audio)]        \n",
    "    \n",
    "    return noise_type.level * ruido + audio"
   ]
  },
  {
   "cell_type": "code",
   "execution_count": 10,
   "metadata": {
    "colab": {},
    "colab_type": "code",
    "executionInfo": {
     "elapsed": 1185,
     "status": "ok",
     "timestamp": 1595212859679,
     "user": {
      "displayName": "Sergio Marchio",
      "photoUrl": "https://lh3.googleusercontent.com/a-/AOh14Ghw0JT9hzPQ5grtu74aF4edwt_w9WB_ihJJQMsa=s64",
      "userId": "14321742954155587052"
     },
     "user_tz": 180
    },
    "id": "aABqrO8zSz07"
   },
   "outputs": [],
   "source": [
    "def calculate_features(filename, n_mfcc=12, delta=True, deltadelta=True, energy=True, summary_fn = [np.mean, np.std],\n",
    "                       summary_names=['mean', 'std'], noise_type=None):  \n",
    "  #Abro el archivo:\n",
    "  x, sr = librosa.core.load(filename,sr=None)\n",
    "  \n",
    "  if (noise_type != None):\n",
    "        x = apply_noise(x, noise_type)\n",
    "\n",
    "  #Calculo MFCCs\n",
    "  features = librosa.feature.mfcc(x,sr=sr,n_mfcc=n_mfcc)\n",
    "\n",
    "  #Calculo energia:\n",
    "  if energy:\n",
    "    energy = librosa.feature.rmse(x)\n",
    "    features = np.concatenate([features,energy])\n",
    "\n",
    "  #Aplico media y desvio estandar por defecto\n",
    "  summary_features = np.concatenate([fn(features,axis=1) for fn in summary_fn])\n",
    "    \n",
    "  #Lo mismo con los delta\n",
    "  if delta:\n",
    "    deltafeatures = np.diff(features)\n",
    "    summary_features = np.concatenate([summary_features,np.concatenate([fn(deltafeatures,axis=1) for fn in summary_fn])])\n",
    "\n",
    "  #Y con los delta de segundo orden\n",
    "  if deltadelta:\n",
    "    deltadeltafeatures = np.diff(features,n=2)\n",
    "    summary_features = np.concatenate([summary_features,np.concatenate([fn(deltadeltafeatures,axis=1) for fn in summary_fn])]) \n",
    "  \n",
    "  summary_features = np.append(summary_features, [to_number[filename.split('/')[1]], filename])\n",
    "\n",
    "  return summary_features"
   ]
  },
  {
   "cell_type": "code",
   "execution_count": 11,
   "metadata": {
    "colab": {},
    "colab_type": "code",
    "executionInfo": {
     "elapsed": 901,
     "status": "ok",
     "timestamp": 1595212861274,
     "user": {
      "displayName": "Sergio Marchio",
      "photoUrl": "https://lh3.googleusercontent.com/a-/AOh14Ghw0JT9hzPQ5grtu74aF4edwt_w9WB_ihJJQMsa=s64",
      "userId": "14321742954155587052"
     },
     "user_tz": 180
    },
    "id": "Zz8gIdyhWMef"
   },
   "outputs": [],
   "source": [
    "features_names= None\n",
    "def name_features(filename = '', n_mfcc=12, delta=True, deltadelta=True, energy=True, summary_fn = [np.mean, np.std], summary_names=['mean', 'std']):\n",
    "    global features_names\n",
    "    \n",
    "    if features_names!= None:\n",
    "        return features_names\n",
    "    \n",
    "    features_names = ['mfcc_{}'.format(i) for i in range(n_mfcc)]\n",
    "    if energy: features_names = features_names + ['energy']\n",
    "    features_names = ['{}_{}'.format(name_i,summ_i) for summ_i in summary_names for name_i in features_names]\n",
    "    if delta: d_names = ['d{}'.format(name) for name in features_names]\n",
    "    if deltadelta: dd_names = ['dd{}'.format(name) for name in features_names]\n",
    "\n",
    "    features_names = features_names + d_names + dd_names + ['digit', 'file']\n",
    "\n",
    "    return features_names"
   ]
  },
  {
   "cell_type": "code",
   "execution_count": 12,
   "metadata": {
    "colab": {},
    "colab_type": "code",
    "executionInfo": {
     "elapsed": 1128,
     "status": "ok",
     "timestamp": 1595212862803,
     "user": {
      "displayName": "Sergio Marchio",
      "photoUrl": "https://lh3.googleusercontent.com/a-/AOh14Ghw0JT9hzPQ5grtu74aF4edwt_w9WB_ihJJQMsa=s64",
      "userId": "14321742954155587052"
     },
     "user_tz": 180
    },
    "id": "OOA6gq7TWMej",
    "scrolled": true
   },
   "outputs": [],
   "source": [
    "def calculate_features_if_needed(feature):\n",
    "    result_path = \"features/\"+feature.filename\n",
    "    result = []\n",
    "    if not path.exists(result_path):\n",
    "        print(\"Getting filenames\")\n",
    "        filenames = get_filenames()[feature.audio_type]        \n",
    "        \n",
    "        print(\"Calculating features for \", len(filenames), \" rows -> \", result_path)\n",
    "        features_names = name_features()\n",
    "        features_data = [calculate_features(filename, noise_type= feature.noise_type) for filename in filenames]\n",
    "        pd.DataFrame(data = features_data, columns = features_names).to_csv(result_path)\n",
    "        \n",
    "    \n",
    "    print(\"Loading saved features <- \", result_path)\n",
    "    result = pd.read_csv(result_path)\n",
    "    \n",
    "    return result"
   ]
  },
  {
   "cell_type": "code",
   "execution_count": 13,
   "metadata": {
    "colab": {},
    "colab_type": "code",
    "executionInfo": {
     "elapsed": 728,
     "status": "ok",
     "timestamp": 1595212863318,
     "user": {
      "displayName": "Sergio Marchio",
      "photoUrl": "https://lh3.googleusercontent.com/a-/AOh14Ghw0JT9hzPQ5grtu74aF4edwt_w9WB_ihJJQMsa=s64",
      "userId": "14321742954155587052"
     },
     "user_tz": 180
    },
    "id": "969OwPFiWMeo"
   },
   "outputs": [],
   "source": [
    "def load_features(feature):\n",
    "    features = pd.DataFrame(calculate_features_if_needed(feature))\n",
    "    features.drop(['file', 'Unnamed: 0'], axis=1, inplace=True)\n",
    "    print(pd.crosstab(index=features[\"digit\"], columns=\"count\", normalize=True))\n",
    "    return features"
   ]
  },
  {
   "cell_type": "code",
   "execution_count": 14,
   "metadata": {
    "colab": {},
    "colab_type": "code",
    "executionInfo": {
     "elapsed": 656,
     "status": "ok",
     "timestamp": 1595212864750,
     "user": {
      "displayName": "Sergio Marchio",
      "photoUrl": "https://lh3.googleusercontent.com/a-/AOh14Ghw0JT9hzPQ5grtu74aF4edwt_w9WB_ihJJQMsa=s64",
      "userId": "14321742954155587052"
     },
     "user_tz": 180
    },
    "id": "TccjkN7GWMer"
   },
   "outputs": [],
   "source": [
    "def printAccuracy(label, model, features): \n",
    "    print(\"Accuracy \"+label+\" : {:.3f}\".format(model.score(features.drop('digit',axis=1).values, \n",
    "                                                   features.digit.values))) "
   ]
  },
  {
   "cell_type": "markdown",
   "metadata": {
    "colab_type": "text",
    "id": "c2wpO2OzWMev"
   },
   "source": [
    "##  Obtenemos features"
   ]
  },
  {
   "cell_type": "markdown",
   "metadata": {
    "colab_type": "text",
    "id": "gMuFodmaWMev"
   },
   "source": [
    "### Descargamos los features guardados previamente"
   ]
  },
  {
   "cell_type": "code",
   "execution_count": 15,
   "metadata": {
    "colab": {
     "base_uri": "https://localhost:8080/",
     "height": 219
    },
    "colab_type": "code",
    "id": "4NGfZFWSWMew",
    "outputId": "a927b5af-c9dc-428e-9073-7b6725ec74c7"
   },
   "outputs": [
    {
     "name": "stdout",
     "output_type": "stream",
     "text": [
      "features/train_features.csv  already exists! :)\n",
      "features/valid_features.csv  already exists! :)\n",
      "features/test_features.csv  already exists! :)\n",
      "features/test_features_gauss.csv  already exists! :)\n",
      "--2020-07-20 02:03:02--  https://raw.githubusercontent.com/dhruszecki/cdatos-AA-TP2/master/features/test_features_gauss_25.csv\n",
      "Resolving raw.githubusercontent.com (raw.githubusercontent.com)... 151.101.216.133\n",
      "Connecting to raw.githubusercontent.com (raw.githubusercontent.com)|151.101.216.133|:443... connected.\n",
      "HTTP request sent, awaiting response... 404 Not Found\n",
      "2020-07-20 02:03:03 ERROR 404: Not Found.\n",
      "\n",
      "--2020-07-20 02:03:03--  https://raw.githubusercontent.com/dhruszecki/cdatos-AA-TP2/master/features/test_features_gauss_50.csv\n",
      "Resolving raw.githubusercontent.com (raw.githubusercontent.com)... 151.101.216.133\n",
      "Connecting to raw.githubusercontent.com (raw.githubusercontent.com)|151.101.216.133|:443... connected.\n",
      "HTTP request sent, awaiting response... 404 Not Found\n",
      "2020-07-20 02:03:03 ERROR 404: Not Found.\n",
      "\n",
      "--2020-07-20 02:03:03--  https://raw.githubusercontent.com/dhruszecki/cdatos-AA-TP2/master/features/test_features_gauss_75.csv\n",
      "Resolving raw.githubusercontent.com (raw.githubusercontent.com)... 151.101.216.133\n",
      "Connecting to raw.githubusercontent.com (raw.githubusercontent.com)|151.101.216.133|:443... connected.\n",
      "HTTP request sent, awaiting response... 404 Not Found\n",
      "2020-07-20 02:03:04 ERROR 404: Not Found.\n",
      "\n",
      "features/test_features_pink.csv  already exists! :)\n",
      "--2020-07-20 02:03:04--  https://raw.githubusercontent.com/dhruszecki/cdatos-AA-TP2/master/features/test_features_pink_25.csv\n",
      "Resolving raw.githubusercontent.com (raw.githubusercontent.com)... 151.101.216.133\n",
      "Connecting to raw.githubusercontent.com (raw.githubusercontent.com)|151.101.216.133|:443... connected.\n",
      "HTTP request sent, awaiting response... 404 Not Found\n",
      "2020-07-20 02:03:04 ERROR 404: Not Found.\n",
      "\n",
      "--2020-07-20 02:03:04--  https://raw.githubusercontent.com/dhruszecki/cdatos-AA-TP2/master/features/test_features_pink_50.csv\n",
      "Resolving raw.githubusercontent.com (raw.githubusercontent.com)... 151.101.216.133\n",
      "Connecting to raw.githubusercontent.com (raw.githubusercontent.com)|151.101.216.133|:443... connected.\n",
      "HTTP request sent, awaiting response... 404 Not Found\n",
      "2020-07-20 02:03:04 ERROR 404: Not Found.\n",
      "\n",
      "--2020-07-20 02:03:05--  https://raw.githubusercontent.com/dhruszecki/cdatos-AA-TP2/master/features/test_features_pink_75.csv\n",
      "Resolving raw.githubusercontent.com (raw.githubusercontent.com)... 151.101.216.133\n",
      "Connecting to raw.githubusercontent.com (raw.githubusercontent.com)|151.101.216.133|:443... connected.\n",
      "HTTP request sent, awaiting response... 404 Not Found\n",
      "2020-07-20 02:03:05 ERROR 404: Not Found.\n",
      "\n",
      "features/test_features_white.csv  already exists! :)\n",
      "--2020-07-20 02:03:05--  https://raw.githubusercontent.com/dhruszecki/cdatos-AA-TP2/master/features/test_features_white_25.csv\n",
      "Resolving raw.githubusercontent.com (raw.githubusercontent.com)... 151.101.216.133\n",
      "Connecting to raw.githubusercontent.com (raw.githubusercontent.com)|151.101.216.133|:443... connected.\n",
      "HTTP request sent, awaiting response... 404 Not Found\n",
      "2020-07-20 02:03:05 ERROR 404: Not Found.\n",
      "\n",
      "--2020-07-20 02:03:05--  https://raw.githubusercontent.com/dhruszecki/cdatos-AA-TP2/master/features/test_features_white_50.csv\n",
      "Resolving raw.githubusercontent.com (raw.githubusercontent.com)... 151.101.216.133\n",
      "Connecting to raw.githubusercontent.com (raw.githubusercontent.com)|151.101.216.133|:443... connected.\n",
      "HTTP request sent, awaiting response... 404 Not Found\n",
      "2020-07-20 02:03:06 ERROR 404: Not Found.\n",
      "\n",
      "--2020-07-20 02:03:06--  https://raw.githubusercontent.com/dhruszecki/cdatos-AA-TP2/master/features/test_features_white_75.csv\n",
      "Resolving raw.githubusercontent.com (raw.githubusercontent.com)... 151.101.216.133\n",
      "Connecting to raw.githubusercontent.com (raw.githubusercontent.com)|151.101.216.133|:443... connected.\n",
      "HTTP request sent, awaiting response... 404 Not Found\n",
      "2020-07-20 02:03:06 ERROR 404: Not Found.\n",
      "\n",
      "features/test_features_dude.csv  already exists! :)\n",
      "features/test_features_bike.csv  already exists! :)\n",
      "features/test_features_running.csv  already exists! :)\n",
      "features/test_features_dishes.csv  already exists! :)\n",
      "features/test_features_custom.csv  already exists! :)\n"
     ]
    }
   ],
   "source": [
    "download_feature_if_needed(\"train_features.csv\")\n",
    "download_feature_if_needed(\"valid_features.csv\")\n",
    "download_feature_if_needed(\"test_features.csv\")\n",
    "download_feature_if_needed(\"test_features_gauss.csv\")\n",
    "download_feature_if_needed(\"test_features_gauss_25.csv\")\n",
    "download_feature_if_needed(\"test_features_gauss_50.csv\")\n",
    "download_feature_if_needed(\"test_features_gauss_75.csv\")\n",
    "download_feature_if_needed(\"test_features_pink.csv\")\n",
    "download_feature_if_needed(\"test_features_pink_25.csv\")\n",
    "download_feature_if_needed(\"test_features_pink_50.csv\")\n",
    "download_feature_if_needed(\"test_features_pink_75.csv\")\n",
    "download_feature_if_needed(\"test_features_white.csv\")\n",
    "download_feature_if_needed(\"test_features_white_25.csv\")\n",
    "download_feature_if_needed(\"test_features_white_50.csv\")\n",
    "download_feature_if_needed(\"test_features_white_75.csv\")\n",
    "download_feature_if_needed(\"test_features_dude.csv\")\n",
    "download_feature_if_needed(\"test_features_bike.csv\")\n",
    "download_feature_if_needed(\"test_features_running.csv\")\n",
    "download_feature_if_needed(\"test_features_dishes.csv\")\n",
    "download_feature_if_needed(\"test_features_custom.csv\")"
   ]
  },
  {
   "cell_type": "markdown",
   "metadata": {
    "colab_type": "text",
    "id": "OXtBmNe1WMe2"
   },
   "source": [
    "### Features de entrenamiento y validación"
   ]
  },
  {
   "cell_type": "code",
   "execution_count": 16,
   "metadata": {
    "colab": {
     "base_uri": "https://localhost:8080/",
     "height": 293
    },
    "colab_type": "code",
    "executionInfo": {
     "elapsed": 3668,
     "status": "ok",
     "timestamp": 1595212885833,
     "user": {
      "displayName": "Sergio Marchio",
      "photoUrl": "https://lh3.googleusercontent.com/a-/AOh14Ghw0JT9hzPQ5grtu74aF4edwt_w9WB_ihJJQMsa=s64",
      "userId": "14321742954155587052"
     },
     "user_tz": 180
    },
    "id": "1JIX5HLCWMe2",
    "outputId": "d16c043f-46e2-4c4d-d995-f1df8178c441",
    "scrolled": true
   },
   "outputs": [
    {
     "name": "stdout",
     "output_type": "stream",
     "text": [
      "Loading saved features <-  features/train_features.csv\n",
      "col_0     count\n",
      "digit          \n",
      "0      0.100215\n",
      "1      0.101611\n",
      "2      0.100591\n",
      "3      0.098872\n",
      "4      0.098765\n",
      "5      0.099033\n",
      "6      0.100054\n",
      "7      0.100698\n",
      "8      0.099463\n",
      "9      0.100698\n",
      "CPU times: user 237 ms, sys: 10.8 ms, total: 247 ms\n",
      "Wall time: 246 ms\n"
     ]
    }
   ],
   "source": [
    "%%time\n",
    "train_features = load_features(Features.Train.value)"
   ]
  },
  {
   "cell_type": "code",
   "execution_count": 17,
   "metadata": {
    "colab": {
     "base_uri": "https://localhost:8080/",
     "height": 293
    },
    "colab_type": "code",
    "executionInfo": {
     "elapsed": 1508,
     "status": "ok",
     "timestamp": 1595212891527,
     "user": {
      "displayName": "Sergio Marchio",
      "photoUrl": "https://lh3.googleusercontent.com/a-/AOh14Ghw0JT9hzPQ5grtu74aF4edwt_w9WB_ihJJQMsa=s64",
      "userId": "14321742954155587052"
     },
     "user_tz": 180
    },
    "id": "jFpU436wWMe7",
    "outputId": "af9f3c42-fbde-4b0f-d60e-5dd9e2919cb5"
   },
   "outputs": [
    {
     "name": "stdout",
     "output_type": "stream",
     "text": [
      "Loading saved features <-  features/valid_features.csv\n",
      "col_0     count\n",
      "digit          \n",
      "0      0.104250\n",
      "1      0.092221\n",
      "2      0.094627\n",
      "3      0.099439\n",
      "4      0.112269\n",
      "5      0.097033\n",
      "6      0.105052\n",
      "7      0.105453\n",
      "8      0.097434\n",
      "9      0.092221\n",
      "CPU times: user 44.4 ms, sys: 3.5 ms, total: 47.9 ms\n",
      "Wall time: 46.5 ms\n"
     ]
    }
   ],
   "source": [
    "%%time\n",
    "validation_features = load_features(Features.Validation.value)"
   ]
  },
  {
   "cell_type": "code",
   "execution_count": 18,
   "metadata": {
    "colab": {},
    "colab_type": "code",
    "executionInfo": {
     "elapsed": 1084,
     "status": "ok",
     "timestamp": 1595213522879,
     "user": {
      "displayName": "Sergio Marchio",
      "photoUrl": "https://lh3.googleusercontent.com/a-/AOh14Ghw0JT9hzPQ5grtu74aF4edwt_w9WB_ihJJQMsa=s64",
      "userId": "14321742954155587052"
     },
     "user_tz": 180
    },
    "id": "aqKS4KToH6bE"
   },
   "outputs": [],
   "source": [
    "# definimos el split para usar en cross validation, -1 para entrenar y 0 para validar\n",
    "\n",
    "cv_split = PredefinedSplit([-1]*len(train_features) + [0]*len(validation_features))"
   ]
  },
  {
   "cell_type": "markdown",
   "metadata": {
    "colab_type": "text",
    "id": "pfC7UvysWMe-"
   },
   "source": [
    "### Features de Desarrollo"
   ]
  },
  {
   "cell_type": "code",
   "execution_count": 19,
   "metadata": {
    "colab": {},
    "colab_type": "code",
    "executionInfo": {
     "elapsed": 4165,
     "status": "ok",
     "timestamp": 1595212896300,
     "user": {
      "displayName": "Sergio Marchio",
      "photoUrl": "https://lh3.googleusercontent.com/a-/AOh14Ghw0JT9hzPQ5grtu74aF4edwt_w9WB_ihJJQMsa=s64",
      "userId": "14321742954155587052"
     },
     "user_tz": 180
    },
    "id": "3ytCtX38WMe_"
   },
   "outputs": [],
   "source": [
    "develop_features = validation_features.append(train_features, ignore_index=True)"
   ]
  },
  {
   "cell_type": "markdown",
   "metadata": {
    "colab_type": "text",
    "id": "HqqfSvz6WMfB"
   },
   "source": [
    "### Features de test"
   ]
  },
  {
   "cell_type": "markdown",
   "metadata": {
    "colab_type": "text",
    "id": "IL-nR4_hla8c"
   },
   "source": [
    "#### Test Originales"
   ]
  },
  {
   "cell_type": "code",
   "execution_count": 22,
   "metadata": {
    "colab": {
     "base_uri": "https://localhost:8080/",
     "height": 293
    },
    "colab_type": "code",
    "executionInfo": {
     "elapsed": 1635,
     "status": "ok",
     "timestamp": 1595212906551,
     "user": {
      "displayName": "Sergio Marchio",
      "photoUrl": "https://lh3.googleusercontent.com/a-/AOh14Ghw0JT9hzPQ5grtu74aF4edwt_w9WB_ihJJQMsa=s64",
      "userId": "14321742954155587052"
     },
     "user_tz": 180
    },
    "id": "kaSYsxIBWMfC",
    "outputId": "5204fad1-eed6-445e-ed85-f3a373d303a6"
   },
   "outputs": [
    {
     "name": "stdout",
     "output_type": "stream",
     "text": [
      "Loading saved features <-  features/test_features.csv\n",
      "col_0     count\n",
      "digit          \n",
      "0      0.097962\n",
      "1      0.097179\n",
      "2      0.103448\n",
      "3      0.104624\n",
      "4      0.099138\n",
      "5      0.106191\n",
      "6      0.095611\n",
      "7      0.093652\n",
      "8      0.100705\n",
      "9      0.101489\n",
      "CPU times: user 62.1 ms, sys: 11.4 ms, total: 73.5 ms\n",
      "Wall time: 107 ms\n"
     ]
    }
   ],
   "source": [
    "%%time\n",
    "# Test Originales\n",
    "test_features = load_features(Features.Test.value)"
   ]
  },
  {
   "cell_type": "markdown",
   "metadata": {
    "colab_type": "text",
    "id": "kwDwCJ5Llfg4"
   },
   "source": [
    "#### Test con ruidos agregados"
   ]
  },
  {
   "cell_type": "code",
   "execution_count": 23,
   "metadata": {
    "colab": {
     "base_uri": "https://localhost:8080/",
     "height": 293
    },
    "colab_type": "code",
    "executionInfo": {
     "elapsed": 1810,
     "status": "ok",
     "timestamp": 1594597360238,
     "user": {
      "displayName": "Sergio Marchio",
      "photoUrl": "https://lh3.googleusercontent.com/a-/AOh14Ghw0JT9hzPQ5grtu74aF4edwt_w9WB_ihJJQMsa=s64",
      "userId": "14321742954155587052"
     },
     "user_tz": 180
    },
    "id": "-XPGJESbWMfH",
    "outputId": "4f5bb23a-a71f-47e7-a0bc-84796a97e54a"
   },
   "outputs": [
    {
     "name": "stdout",
     "output_type": "stream",
     "text": [
      "Getting filenames\n",
      "train_count: 18620\n",
      "test_count: 2552\n",
      "valid_count: 2494\n",
      "custom_count: 200\n",
      "Calculating features for  2552  rows ->  features/test_features_gauss_25.csv\n",
      "Loading saved features <-  features/test_features_gauss_25.csv\n",
      "col_0     count\n",
      "digit          \n",
      "0      0.097962\n",
      "1      0.097179\n",
      "2      0.103448\n",
      "3      0.104624\n",
      "4      0.099138\n",
      "5      0.106191\n",
      "6      0.095611\n",
      "7      0.093652\n",
      "8      0.100705\n",
      "9      0.101489\n",
      "Getting filenames\n",
      "Calculating features for  2552  rows ->  features/test_features_gauss_50.csv\n",
      "Loading saved features <-  features/test_features_gauss_50.csv\n",
      "col_0     count\n",
      "digit          \n",
      "0      0.097962\n",
      "1      0.097179\n",
      "2      0.103448\n",
      "3      0.104624\n",
      "4      0.099138\n",
      "5      0.106191\n",
      "6      0.095611\n",
      "7      0.093652\n",
      "8      0.100705\n",
      "9      0.101489\n",
      "Getting filenames\n",
      "Calculating features for  2552  rows ->  features/test_features_gauss_75.csv\n",
      "Loading saved features <-  features/test_features_gauss_75.csv\n",
      "col_0     count\n",
      "digit          \n",
      "0      0.097962\n",
      "1      0.097179\n",
      "2      0.103448\n",
      "3      0.104624\n",
      "4      0.099138\n",
      "5      0.106191\n",
      "6      0.095611\n",
      "7      0.093652\n",
      "8      0.100705\n",
      "9      0.101489\n",
      "Loading saved features <-  features/test_features_gauss.csv\n",
      "col_0     count\n",
      "digit          \n",
      "0      0.097962\n",
      "1      0.097179\n",
      "2      0.103448\n",
      "3      0.104624\n",
      "4      0.099138\n",
      "5      0.106191\n",
      "6      0.095611\n",
      "7      0.093652\n",
      "8      0.100705\n",
      "9      0.101489\n",
      "CPU times: user 2min 30s, sys: 3min 20s, total: 5min 50s\n",
      "Wall time: 11min 48s\n"
     ]
    }
   ],
   "source": [
    "%%time\n",
    "# Test con ruido Gausiano (niveles 0.25, 0.50, 0.75 y 1)\n",
    "test_features_gauss_25 = load_features(Features.Test_Noise_Gauss_25.value)\n",
    "test_features_gauss_50 = load_features(Features.Test_Noise_Gauss_50.value)\n",
    "test_features_gauss_75 = load_features(Features.Test_Noise_Gauss_75.value)\n",
    "test_features_gauss = load_features(Features.Test_Noise_Gauss.value)"
   ]
  },
  {
   "cell_type": "code",
   "execution_count": 24,
   "metadata": {
    "colab": {
     "base_uri": "https://localhost:8080/",
     "height": 293
    },
    "colab_type": "code",
    "executionInfo": {
     "elapsed": 1431,
     "status": "ok",
     "timestamp": 1594597368222,
     "user": {
      "displayName": "Sergio Marchio",
      "photoUrl": "https://lh3.googleusercontent.com/a-/AOh14Ghw0JT9hzPQ5grtu74aF4edwt_w9WB_ihJJQMsa=s64",
      "userId": "14321742954155587052"
     },
     "user_tz": 180
    },
    "id": "xcBAokGvWMfZ",
    "outputId": "0f4ff4cc-f389-4148-9e06-2ab4d6c021c7"
   },
   "outputs": [
    {
     "name": "stdout",
     "output_type": "stream",
     "text": [
      "Getting filenames\n",
      "Calculating features for  2552  rows ->  features/test_features_pink_25.csv\n",
      "Loading saved features <-  features/test_features_pink_25.csv\n",
      "col_0     count\n",
      "digit          \n",
      "0      0.097962\n",
      "1      0.097179\n",
      "2      0.103448\n",
      "3      0.104624\n",
      "4      0.099138\n",
      "5      0.106191\n",
      "6      0.095611\n",
      "7      0.093652\n",
      "8      0.100705\n",
      "9      0.101489\n",
      "Getting filenames\n",
      "Calculating features for  2552  rows ->  features/test_features_pink_50.csv\n",
      "Loading saved features <-  features/test_features_pink_50.csv\n",
      "col_0     count\n",
      "digit          \n",
      "0      0.097962\n",
      "1      0.097179\n",
      "2      0.103448\n",
      "3      0.104624\n",
      "4      0.099138\n",
      "5      0.106191\n",
      "6      0.095611\n",
      "7      0.093652\n",
      "8      0.100705\n",
      "9      0.101489\n",
      "Getting filenames\n",
      "Calculating features for  2552  rows ->  features/test_features_pink_75.csv\n",
      "Loading saved features <-  features/test_features_pink_75.csv\n",
      "col_0     count\n",
      "digit          \n",
      "0      0.097962\n",
      "1      0.097179\n",
      "2      0.103448\n",
      "3      0.104624\n",
      "4      0.099138\n",
      "5      0.106191\n",
      "6      0.095611\n",
      "7      0.093652\n",
      "8      0.100705\n",
      "9      0.101489\n",
      "Loading saved features <-  features/test_features_pink.csv\n",
      "col_0     count\n",
      "digit          \n",
      "0      0.097962\n",
      "1      0.097179\n",
      "2      0.103448\n",
      "3      0.104624\n",
      "4      0.099138\n",
      "5      0.106191\n",
      "6      0.095611\n",
      "7      0.093652\n",
      "8      0.100705\n",
      "9      0.101489\n",
      "CPU times: user 5min 29s, sys: 8min 12s, total: 13min 41s\n",
      "Wall time: 28min 59s\n"
     ]
    }
   ],
   "source": [
    "%%time\n",
    "# Test con ruido pink_noise (niveles 0.25, 0.50, 0.75 y 1)\n",
    "test_features_pink_25 = load_features(Features.Test_Noise_Pink_25.value)\n",
    "test_features_pink_50 = load_features(Features.Test_Noise_Pink_50.value)\n",
    "test_features_pink_75 = load_features(Features.Test_Noise_Pink_75.value)\n",
    "test_features_pink = load_features(Features.Test_Noise_Pink.value)"
   ]
  },
  {
   "cell_type": "code",
   "execution_count": 25,
   "metadata": {
    "colab": {
     "base_uri": "https://localhost:8080/",
     "height": 293
    },
    "colab_type": "code",
    "executionInfo": {
     "elapsed": 1579,
     "status": "ok",
     "timestamp": 1594597372372,
     "user": {
      "displayName": "Sergio Marchio",
      "photoUrl": "https://lh3.googleusercontent.com/a-/AOh14Ghw0JT9hzPQ5grtu74aF4edwt_w9WB_ihJJQMsa=s64",
      "userId": "14321742954155587052"
     },
     "user_tz": 180
    },
    "id": "JU0T-TzlWMff",
    "outputId": "346f326c-080c-46e4-d018-45487f101ed6"
   },
   "outputs": [
    {
     "name": "stdout",
     "output_type": "stream",
     "text": [
      "Getting filenames\n",
      "Calculating features for  2552  rows ->  features/test_features_white_25.csv\n",
      "Loading saved features <-  features/test_features_white_25.csv\n",
      "col_0     count\n",
      "digit          \n",
      "0      0.097962\n",
      "1      0.097179\n",
      "2      0.103448\n",
      "3      0.104624\n",
      "4      0.099138\n",
      "5      0.106191\n",
      "6      0.095611\n",
      "7      0.093652\n",
      "8      0.100705\n",
      "9      0.101489\n",
      "Getting filenames\n",
      "Calculating features for  2552  rows ->  features/test_features_white_50.csv\n",
      "Loading saved features <-  features/test_features_white_50.csv\n",
      "col_0     count\n",
      "digit          \n",
      "0      0.097962\n",
      "1      0.097179\n",
      "2      0.103448\n",
      "3      0.104624\n",
      "4      0.099138\n",
      "5      0.106191\n",
      "6      0.095611\n",
      "7      0.093652\n",
      "8      0.100705\n",
      "9      0.101489\n",
      "Getting filenames\n",
      "Calculating features for  2552  rows ->  features/test_features_white_75.csv\n",
      "Loading saved features <-  features/test_features_white_75.csv\n",
      "col_0     count\n",
      "digit          \n",
      "0      0.097962\n",
      "1      0.097179\n",
      "2      0.103448\n",
      "3      0.104624\n",
      "4      0.099138\n",
      "5      0.106191\n",
      "6      0.095611\n",
      "7      0.093652\n",
      "8      0.100705\n",
      "9      0.101489\n",
      "Loading saved features <-  features/test_features_white.csv\n",
      "col_0     count\n",
      "digit          \n",
      "0      0.097962\n",
      "1      0.097179\n",
      "2      0.103448\n",
      "3      0.104624\n",
      "4      0.099138\n",
      "5      0.106191\n",
      "6      0.095611\n",
      "7      0.093652\n",
      "8      0.100705\n",
      "9      0.101489\n",
      "CPU times: user 5min 19s, sys: 8min 16s, total: 13min 36s\n",
      "Wall time: 28min 31s\n"
     ]
    }
   ],
   "source": [
    "%%time\n",
    "# Test con ruido white_noise (niveles 0.25, 0.50, 0.75 y 1)\n",
    "test_features_white_25 = load_features(Features.Test_Noise_White_25.value)\n",
    "test_features_white_50 = load_features(Features.Test_Noise_White_50.value)\n",
    "test_features_white_75 = load_features(Features.Test_Noise_White_75.value)\n",
    "test_features_white = load_features(Features.Test_Noise_White.value)"
   ]
  },
  {
   "cell_type": "code",
   "execution_count": 26,
   "metadata": {
    "colab": {
     "base_uri": "https://localhost:8080/",
     "height": 293
    },
    "colab_type": "code",
    "executionInfo": {
     "elapsed": 1600,
     "status": "ok",
     "timestamp": 1594597362227,
     "user": {
      "displayName": "Sergio Marchio",
      "photoUrl": "https://lh3.googleusercontent.com/a-/AOh14Ghw0JT9hzPQ5grtu74aF4edwt_w9WB_ihJJQMsa=s64",
      "userId": "14321742954155587052"
     },
     "user_tz": 180
    },
    "id": "o5KU38j2WMfL",
    "outputId": "9a872433-af18-41cb-e5f8-79f292b5fcbe"
   },
   "outputs": [
    {
     "name": "stdout",
     "output_type": "stream",
     "text": [
      "Loading saved features <-  features/test_features_dishes.csv\n",
      "col_0     count\n",
      "digit          \n",
      "0      0.097962\n",
      "1      0.097179\n",
      "2      0.103448\n",
      "3      0.104624\n",
      "4      0.099138\n",
      "5      0.106191\n",
      "6      0.095611\n",
      "7      0.093652\n",
      "8      0.100705\n",
      "9      0.101489\n",
      "CPU times: user 42 ms, sys: 142 µs, total: 42.2 ms\n",
      "Wall time: 81.3 ms\n"
     ]
    }
   ],
   "source": [
    "%%time\n",
    "# Test con ruido doing_the_dishes\n",
    "test_features_dishes = load_features(Features.Test_Noise_Dishes.value)"
   ]
  },
  {
   "cell_type": "code",
   "execution_count": 27,
   "metadata": {
    "colab": {
     "base_uri": "https://localhost:8080/",
     "height": 293
    },
    "colab_type": "code",
    "executionInfo": {
     "elapsed": 1989,
     "status": "ok",
     "timestamp": 1594597364640,
     "user": {
      "displayName": "Sergio Marchio",
      "photoUrl": "https://lh3.googleusercontent.com/a-/AOh14Ghw0JT9hzPQ5grtu74aF4edwt_w9WB_ihJJQMsa=s64",
      "userId": "14321742954155587052"
     },
     "user_tz": 180
    },
    "id": "fdyukuc6WMfR",
    "outputId": "7357dc34-3ca6-49e8-daa8-63ad21be90ab"
   },
   "outputs": [
    {
     "name": "stdout",
     "output_type": "stream",
     "text": [
      "Loading saved features <-  features/test_features_dude.csv\n",
      "col_0     count\n",
      "digit          \n",
      "0      0.097962\n",
      "1      0.097179\n",
      "2      0.103448\n",
      "3      0.104624\n",
      "4      0.099138\n",
      "5      0.106191\n",
      "6      0.095611\n",
      "7      0.093652\n",
      "8      0.100705\n",
      "9      0.101489\n",
      "CPU times: user 38 ms, sys: 14.6 ms, total: 52.5 ms\n",
      "Wall time: 86.5 ms\n"
     ]
    }
   ],
   "source": [
    "%%time\n",
    "# Test con ruido dude_miaowing\n",
    "test_features_dude = load_features(Features.Test_Noise_Dude.value)"
   ]
  },
  {
   "cell_type": "code",
   "execution_count": 28,
   "metadata": {
    "colab": {
     "base_uri": "https://localhost:8080/",
     "height": 293
    },
    "colab_type": "code",
    "executionInfo": {
     "elapsed": 1319,
     "status": "ok",
     "timestamp": 1594597366317,
     "user": {
      "displayName": "Sergio Marchio",
      "photoUrl": "https://lh3.googleusercontent.com/a-/AOh14Ghw0JT9hzPQ5grtu74aF4edwt_w9WB_ihJJQMsa=s64",
      "userId": "14321742954155587052"
     },
     "user_tz": 180
    },
    "id": "4Zf1Ne9zWMfU",
    "outputId": "3033c7e0-8955-43a3-ce45-32ef246525cb"
   },
   "outputs": [
    {
     "name": "stdout",
     "output_type": "stream",
     "text": [
      "Loading saved features <-  features/test_features_bike.csv\n",
      "col_0     count\n",
      "digit          \n",
      "0      0.097962\n",
      "1      0.097179\n",
      "2      0.103448\n",
      "3      0.104624\n",
      "4      0.099138\n",
      "5      0.106191\n",
      "6      0.095611\n",
      "7      0.093652\n",
      "8      0.100705\n",
      "9      0.101489\n",
      "CPU times: user 72.3 ms, sys: 7.14 ms, total: 79.4 ms\n",
      "Wall time: 115 ms\n"
     ]
    }
   ],
   "source": [
    "%%time\n",
    "# Test con ruido exercise_bike\n",
    "test_features_bike = load_features(Features.Test_Noise_Bike.value)"
   ]
  },
  {
   "cell_type": "code",
   "execution_count": 29,
   "metadata": {
    "colab": {
     "base_uri": "https://localhost:8080/",
     "height": 293
    },
    "colab_type": "code",
    "executionInfo": {
     "elapsed": 2059,
     "status": "ok",
     "timestamp": 1594597370856,
     "user": {
      "displayName": "Sergio Marchio",
      "photoUrl": "https://lh3.googleusercontent.com/a-/AOh14Ghw0JT9hzPQ5grtu74aF4edwt_w9WB_ihJJQMsa=s64",
      "userId": "14321742954155587052"
     },
     "user_tz": 180
    },
    "id": "aUog8T_SWMfb",
    "outputId": "9448b3a9-5bdf-4e74-c45e-b14d5691afda"
   },
   "outputs": [
    {
     "name": "stdout",
     "output_type": "stream",
     "text": [
      "Loading saved features <-  features/test_features_running.csv\n",
      "col_0     count\n",
      "digit          \n",
      "0      0.097962\n",
      "1      0.097179\n",
      "2      0.103448\n",
      "3      0.104624\n",
      "4      0.099138\n",
      "5      0.106191\n",
      "6      0.095611\n",
      "7      0.093652\n",
      "8      0.100705\n",
      "9      0.101489\n",
      "CPU times: user 62.7 ms, sys: 17.2 ms, total: 79.9 ms\n",
      "Wall time: 114 ms\n"
     ]
    }
   ],
   "source": [
    "%%time\n",
    "# Test con ruido running_tap\n",
    "test_features_running = load_features(Features.Test_Noise_Running.value)"
   ]
  },
  {
   "cell_type": "markdown",
   "metadata": {
    "colab_type": "text",
    "id": "TzH-ALIEnYG_"
   },
   "source": [
    "#### Test con audios `custom`"
   ]
  },
  {
   "cell_type": "code",
   "execution_count": 30,
   "metadata": {
    "colab": {
     "base_uri": "https://localhost:8080/",
     "height": 293
    },
    "colab_type": "code",
    "executionInfo": {
     "elapsed": 1295,
     "status": "ok",
     "timestamp": 1594597373622,
     "user": {
      "displayName": "Sergio Marchio",
      "photoUrl": "https://lh3.googleusercontent.com/a-/AOh14Ghw0JT9hzPQ5grtu74aF4edwt_w9WB_ihJJQMsa=s64",
      "userId": "14321742954155587052"
     },
     "user_tz": 180
    },
    "id": "4HrdAKY2nhxf",
    "outputId": "810ec4c7-7ce3-4662-84ab-079d2264c2d1"
   },
   "outputs": [
    {
     "name": "stdout",
     "output_type": "stream",
     "text": [
      "Loading saved features <-  features/test_features_custom.csv\n",
      "col_0  count\n",
      "digit       \n",
      "0        0.1\n",
      "1        0.1\n",
      "2        0.1\n",
      "3        0.1\n",
      "4        0.1\n",
      "5        0.1\n",
      "6        0.1\n",
      "7        0.1\n",
      "8        0.1\n",
      "9        0.1\n",
      "CPU times: user 17 ms, sys: 1.59 ms, total: 18.6 ms\n",
      "Wall time: 51.6 ms\n"
     ]
    }
   ],
   "source": [
    "%%time\n",
    "test_features_custom = load_features(Features.Test_Custom.value)"
   ]
  },
  {
   "cell_type": "markdown",
   "metadata": {
    "colab_type": "text",
    "id": "wBTykqtTWMfh"
   },
   "source": [
    "# Modelos"
   ]
  },
  {
   "cell_type": "markdown",
   "metadata": {
    "colab_type": "text",
    "id": "bxTib6G2WMfj"
   },
   "source": [
    "## Naive Bayes"
   ]
  },
  {
   "cell_type": "markdown",
   "metadata": {
    "colab_type": "text",
    "id": "DRsp368fWMfj"
   },
   "source": [
    "### Entrenamiento"
   ]
  },
  {
   "cell_type": "code",
   "execution_count": 31,
   "metadata": {
    "colab": {},
    "colab_type": "code",
    "id": "64OyntYZWMfj",
    "outputId": "08779699-d2de-4e66-df5f-bcd68a33680c"
   },
   "outputs": [
    {
     "name": "stdout",
     "output_type": "stream",
     "text": [
      "Accuracy Training : 0.541\n",
      "Accuracy Validación : 0.537\n",
      "              precision    recall  f1-score   support\n",
      "\n",
      "           0       0.64      0.65      0.64       260\n",
      "           1       0.36      0.58      0.45       230\n",
      "           2       0.37      0.48      0.42       236\n",
      "           3       0.55      0.55      0.55       248\n",
      "           4       0.72      0.53      0.61       280\n",
      "           5       0.54      0.53      0.54       242\n",
      "           6       0.50      0.58      0.54       262\n",
      "           7       0.58      0.49      0.53       263\n",
      "           8       0.74      0.56      0.63       243\n",
      "           9       0.61      0.41      0.49       230\n",
      "\n",
      "    accuracy                           0.54      2494\n",
      "   macro avg       0.56      0.54      0.54      2494\n",
      "weighted avg       0.57      0.54      0.54      2494\n",
      "\n",
      "CPU times: user 89.8 ms, sys: 23.7 ms, total: 113 ms\n",
      "Wall time: 112 ms\n"
     ]
    }
   ],
   "source": [
    "%%time\n",
    "\n",
    "naive_bayes = GaussianNB()\n",
    "naive_bayes.fit(train_features.drop('digit',axis=1).values, train_features.digit.values)\n",
    "predict_nb1 = naive_bayes.predict(validation_features.drop('digit',axis=1).values)\n",
    "\n",
    "printAccuracy(\"Training\", naive_bayes, train_features)\n",
    "printAccuracy(\"Validación\", naive_bayes, validation_features)\n",
    "\n",
    "print(classification_report(validation_features.digit.values, predict_nb1))"
   ]
  },
  {
   "cell_type": "code",
   "execution_count": 32,
   "metadata": {
    "colab": {},
    "colab_type": "code",
    "id": "UunAgqSOaTQ9"
   },
   "outputs": [],
   "source": [
    "# se entrena el modelo con conjunto de desarrollo\n",
    "naive_bayes_dev = GaussianNB()\n",
    "naive_bayes_dev.fit(develop_features.drop('digit',axis=1).values, develop_features.digit.values)\n",
    "\n",
    "# se evalúa sobre conjunto de test\n",
    "predict_nb_test = naive_bayes_dev.predict(test_features.drop('digit',axis=1).values)"
   ]
  },
  {
   "cell_type": "markdown",
   "metadata": {
    "colab_type": "text",
    "id": "3qo5gS8iWMfm"
   },
   "source": [
    "###  Matriz de Confusión "
   ]
  },
  {
   "cell_type": "code",
   "execution_count": 33,
   "metadata": {
    "colab": {
     "base_uri": "https://localhost:8080/",
     "height": 320
    },
    "colab_type": "code",
    "executionInfo": {
     "elapsed": 1607,
     "status": "ok",
     "timestamp": 1594597511186,
     "user": {
      "displayName": "Sergio Marchio",
      "photoUrl": "https://lh3.googleusercontent.com/a-/AOh14Ghw0JT9hzPQ5grtu74aF4edwt_w9WB_ihJJQMsa=s64",
      "userId": "14321742954155587052"
     },
     "user_tz": 180
    },
    "id": "PWq925FqWMfn",
    "outputId": "7e99aa2a-17e6-4941-b3fa-46d85eb26b21"
   },
   "outputs": [
    {
     "name": "stdout",
     "output_type": "stream",
     "text": [
      "CPU times: user 96.6 ms, sys: 3.82 ms, total: 100 ms\n",
      "Wall time: 136 ms\n"
     ]
    },
    {
     "data": {
      "text/plain": [
       "Text(32.7, 0.5, 'True')"
      ]
     },
     "execution_count": 33,
     "metadata": {},
     "output_type": "execute_result"
    },
    {
     "data": {
      "image/png": "[encoded data removed]",
      "text/plain": [
       "<Figure size 432x288 with 2 Axes>"
      ]
     },
     "metadata": {
      "needs_background": "light"
     },
     "output_type": "display_data"
    }
   ],
   "source": [
    "%%time\n",
    "\n",
    "sns.set_context('paper')\n",
    "sns.heatmap(confusion_matrix(test_features.digit.values, predict_nb_test), annot=True, fmt='g')\n",
    "plt.xlabel('Predict')\n",
    "plt.ylabel('True')"
   ]
  },
  {
   "cell_type": "markdown",
   "metadata": {
    "colab_type": "text",
    "id": "fqaS057VWMfp"
   },
   "source": [
    "### Impacto del ruido en el rendimiento "
   ]
  },
  {
   "cell_type": "code",
   "execution_count": 34,
   "metadata": {
    "colab": {},
    "colab_type": "code",
    "id": "DKzKFXISWMfs",
    "outputId": "c39feb72-db09-44fd-c304-251adbcebfc8",
    "scrolled": true
   },
   "outputs": [
    {
     "name": "stdout",
     "output_type": "stream",
     "text": [
      "Accuracy Develop : 0.542\n",
      "Accuracy Test : 0.531\n",
      "              precision    recall  f1-score   support\n",
      "\n",
      "           0       0.55      0.50      0.52       250\n",
      "           1       0.41      0.49      0.45       248\n",
      "           2       0.41      0.50      0.45       264\n",
      "           3       0.54      0.48      0.51       267\n",
      "           4       0.71      0.57      0.63       253\n",
      "           5       0.57      0.59      0.58       271\n",
      "           6       0.48      0.65      0.55       244\n",
      "           7       0.56      0.46      0.51       239\n",
      "           8       0.62      0.61      0.61       257\n",
      "           9       0.59      0.45      0.51       259\n",
      "\n",
      "    accuracy                           0.53      2552\n",
      "   macro avg       0.54      0.53      0.53      2552\n",
      "weighted avg       0.54      0.53      0.53      2552\n",
      "\n",
      "Accuracy Ruido Gaussiano nivel 0.25 : 0.110\n",
      "              precision    recall  f1-score   support\n",
      "\n",
      "           0       0.00      0.00      0.00       250\n",
      "           1       0.00      0.00      0.00       248\n",
      "           2       0.11      0.96      0.19       264\n",
      "           3       0.00      0.00      0.00       267\n",
      "           4       0.15      0.11      0.12       253\n",
      "           5       0.00      0.00      0.00       271\n",
      "           6       0.00      0.00      0.00       244\n",
      "           7       0.00      0.00      0.00       239\n",
      "           8       0.00      0.00      0.00       257\n",
      "           9       0.00      0.00      0.00       259\n",
      "\n",
      "    accuracy                           0.11      2552\n",
      "   macro avg       0.03      0.11      0.03      2552\n",
      "weighted avg       0.03      0.11      0.03      2552\n",
      "\n",
      "Accuracy Ruido Gaussiano nivel 0.50 : 0.092\n",
      "              precision    recall  f1-score   support\n",
      "\n",
      "           0       0.10      0.73      0.17       250\n",
      "           1       0.00      0.00      0.00       248\n",
      "           2       0.00      0.00      0.00       264\n",
      "           3       0.00      0.00      0.00       267\n",
      "           4       0.07      0.20      0.11       253\n",
      "           5       0.00      0.00      0.00       271\n",
      "           6       0.00      0.00      0.00       244\n",
      "           7       0.00      0.00      0.00       239\n",
      "           8       0.00      0.00      0.00       257\n",
      "           9       0.00      0.00      0.00       259\n",
      "\n",
      "    accuracy                           0.09      2552\n",
      "   macro avg       0.02      0.09      0.03      2552\n",
      "weighted avg       0.02      0.09      0.03      2552\n",
      "\n",
      "Accuracy Ruido Gaussiano nivel 0.75 : 0.098\n",
      "              precision    recall  f1-score   support\n",
      "\n",
      "           0       0.10      1.00      0.18       250\n",
      "           1       0.00      0.00      0.00       248\n",
      "           2       0.00      0.00      0.00       264\n",
      "           3       0.00      0.00      0.00       267\n",
      "           4       0.00      0.00      0.00       253\n",
      "           5       0.00      0.00      0.00       271\n",
      "           6       0.00      0.00      0.00       244\n",
      "           7       0.00      0.00      0.00       239\n",
      "           8       0.00      0.00      0.00       257\n",
      "           9       0.00      0.00      0.00       259\n",
      "\n",
      "    accuracy                           0.10      2552\n",
      "   macro avg       0.01      0.10      0.02      2552\n",
      "weighted avg       0.01      0.10      0.02      2552\n",
      "\n",
      "Accuracy Ruido Gaussiano nivel 1 : 0.098\n",
      "              precision    recall  f1-score   support\n",
      "\n",
      "           0       0.10      1.00      0.18       250\n",
      "           1       0.00      0.00      0.00       248\n",
      "           2       0.00      0.00      0.00       264\n",
      "           3       0.00      0.00      0.00       267\n",
      "           4       0.00      0.00      0.00       253\n",
      "           5       0.00      0.00      0.00       271\n",
      "           6       0.00      0.00      0.00       244\n",
      "           7       0.00      0.00      0.00       239\n",
      "           8       0.00      0.00      0.00       257\n",
      "           9       0.00      0.00      0.00       259\n",
      "\n",
      "    accuracy                           0.10      2552\n",
      "   macro avg       0.01      0.10      0.02      2552\n",
      "weighted avg       0.01      0.10      0.02      2552\n",
      "\n",
      "Accuracy Ruido Pink Noise nivel 0.25 : 0.152\n",
      "              precision    recall  f1-score   support\n",
      "\n",
      "           0       0.67      0.01      0.02       250\n",
      "           1       0.35      0.10      0.16       248\n",
      "           2       0.11      0.56      0.18       264\n",
      "           3       0.00      0.00      0.00       267\n",
      "           4       0.31      0.10      0.15       253\n",
      "           5       0.50      0.19      0.28       271\n",
      "           6       0.00      0.00      0.00       244\n",
      "           7       0.00      0.00      0.00       239\n",
      "           8       0.15      0.51      0.23       257\n",
      "           9       1.00      0.01      0.02       259\n",
      "\n",
      "    accuracy                           0.15      2552\n",
      "   macro avg       0.31      0.15      0.10      2552\n",
      "weighted avg       0.31      0.15      0.11      2552\n",
      "\n",
      "Accuracy Ruido Pink Noise nivel 0.50 : 0.129\n",
      "              precision    recall  f1-score   support\n",
      "\n",
      "           0       0.00      0.00      0.00       250\n",
      "           1       0.33      0.02      0.03       248\n",
      "           2       0.10      0.42      0.16       264\n",
      "           3       0.00      0.00      0.00       267\n",
      "           4       0.24      0.06      0.10       253\n",
      "           5       0.57      0.12      0.20       271\n",
      "           6       0.00      0.00      0.00       244\n",
      "           7       0.00      0.00      0.00       239\n",
      "           8       0.13      0.65      0.21       257\n",
      "           9       1.00      0.00      0.01       259\n",
      "\n",
      "    accuracy                           0.13      2552\n",
      "   macro avg       0.24      0.13      0.07      2552\n",
      "weighted avg       0.24      0.13      0.07      2552\n",
      "\n",
      "Accuracy Ruido Pink Noise nivel 0.75 : 0.116\n",
      "              precision    recall  f1-score   support\n",
      "\n",
      "           0       0.00      0.00      0.00       250\n",
      "           1       0.00      0.00      0.00       248\n",
      "           2       0.09      0.38      0.15       264\n",
      "           3       0.00      0.00      0.00       267\n",
      "           4       0.18      0.05      0.08       253\n",
      "           5       0.71      0.07      0.13       271\n",
      "           6       0.00      0.00      0.00       244\n",
      "           7       0.00      0.00      0.00       239\n",
      "           8       0.12      0.64      0.20       257\n",
      "           9       0.00      0.00      0.00       259\n",
      "\n",
      "    accuracy                           0.12      2552\n",
      "   macro avg       0.11      0.11      0.06      2552\n",
      "weighted avg       0.12      0.12      0.06      2552\n",
      "\n",
      "Accuracy Ruido Pink Noise nivel 1 : 0.113\n",
      "              precision    recall  f1-score   support\n",
      "\n",
      "           0       0.00      0.00      0.00       250\n",
      "           1       0.00      0.00      0.00       248\n",
      "           2       0.10      0.50      0.17       264\n",
      "           3       0.00      0.00      0.00       267\n",
      "           4       0.14      0.06      0.09       253\n",
      "           5       0.75      0.02      0.04       271\n",
      "           6       0.00      0.00      0.00       244\n",
      "           7       0.00      0.00      0.00       239\n",
      "           8       0.12      0.53      0.20       257\n",
      "           9       0.00      0.00      0.00       259\n",
      "\n",
      "    accuracy                           0.11      2552\n",
      "   macro avg       0.11      0.11      0.05      2552\n",
      "weighted avg       0.12      0.11      0.05      2552\n",
      "\n",
      "Accuracy Ruido White Noise nivel 0.25 : 0.131\n",
      "              precision    recall  f1-score   support\n",
      "\n",
      "           0       0.50      0.00      0.01       250\n",
      "           1       0.50      0.00      0.01       248\n",
      "           2       0.10      0.56      0.17       264\n",
      "           3       0.00      0.00      0.00       267\n",
      "           4       0.37      0.06      0.10       253\n",
      "           5       0.58      0.14      0.23       271\n",
      "           6       0.00      0.00      0.00       244\n",
      "           7       0.00      0.00      0.00       239\n",
      "           8       0.13      0.51      0.21       257\n",
      "           9       0.00      0.00      0.00       259\n",
      "\n",
      "    accuracy                           0.13      2552\n",
      "   macro avg       0.22      0.13      0.07      2552\n",
      "weighted avg       0.22      0.13      0.07      2552\n",
      "\n",
      "Accuracy Ruido White Noise nivel 0.50 : 0.115\n",
      "              precision    recall  f1-score   support\n",
      "\n",
      "           0       0.00      0.00      0.00       250\n",
      "           1       0.00      0.00      0.00       248\n",
      "           2       0.10      0.42      0.16       264\n",
      "           3       0.00      0.00      0.00       267\n",
      "           4       0.24      0.02      0.04       253\n",
      "           5       0.61      0.06      0.11       271\n",
      "           6       0.00      0.00      0.00       244\n",
      "           7       0.00      0.00      0.00       239\n",
      "           8       0.12      0.62      0.20       257\n",
      "           9       0.00      0.00      0.00       259\n",
      "\n",
      "    accuracy                           0.12      2552\n",
      "   macro avg       0.11      0.11      0.05      2552\n",
      "weighted avg       0.11      0.12      0.05      2552\n",
      "\n",
      "Accuracy Ruido White Noise nivel 0.75 : 0.113\n",
      "              precision    recall  f1-score   support\n",
      "\n",
      "           0       0.00      0.00      0.00       250\n",
      "           1       0.00      0.00      0.00       248\n",
      "           2       0.10      0.44      0.16       264\n",
      "           3       0.00      0.00      0.00       267\n",
      "           4       0.22      0.02      0.04       253\n",
      "           5       0.69      0.03      0.06       271\n",
      "           6       0.00      0.00      0.00       244\n",
      "           7       0.00      0.00      0.00       239\n",
      "           8       0.12      0.61      0.20       257\n",
      "           9       0.00      0.00      0.00       259\n",
      "\n",
      "    accuracy                           0.11      2552\n",
      "   macro avg       0.11      0.11      0.05      2552\n",
      "weighted avg       0.12      0.11      0.05      2552\n",
      "\n",
      "Accuracy Ruido White Noise nivel 1 : 0.116\n",
      "              precision    recall  f1-score   support\n",
      "\n",
      "           0       0.00      0.00      0.00       250\n",
      "           1       0.00      0.00      0.00       248\n",
      "           2       0.11      0.69      0.19       264\n",
      "           3       0.00      0.00      0.00       267\n",
      "           4       0.17      0.03      0.05       253\n",
      "           5       0.67      0.03      0.06       271\n",
      "           6       0.00      0.00      0.00       244\n",
      "           7       0.00      0.00      0.00       239\n",
      "           8       0.12      0.38      0.19       257\n",
      "           9       0.00      0.00      0.00       259\n",
      "\n",
      "    accuracy                           0.12      2552\n",
      "   macro avg       0.11      0.11      0.05      2552\n",
      "weighted avg       0.11      0.12      0.05      2552\n",
      "\n",
      "Accuracy Ruido Doing the Dishes : 0.215\n",
      "              precision    recall  f1-score   support\n",
      "\n",
      "           0       0.62      0.02      0.04       250\n",
      "           1       0.62      0.09      0.16       248\n",
      "           2       0.23      0.69      0.34       264\n",
      "           3       0.20      0.00      0.01       267\n",
      "           4       0.48      0.24      0.32       253\n",
      "           5       0.18      0.84      0.30       271\n",
      "           6       1.00      0.01      0.02       244\n",
      "           7       0.20      0.00      0.01       239\n",
      "           8       0.14      0.16      0.15       257\n",
      "           9       0.22      0.01      0.01       259\n",
      "\n",
      "    accuracy                           0.22      2552\n",
      "   macro avg       0.39      0.21      0.14      2552\n",
      "weighted avg       0.38      0.22      0.14      2552\n",
      "\n",
      "Accuracy Ruido Dude Miaowing : 0.508\n",
      "              precision    recall  f1-score   support\n",
      "\n",
      "           0       0.51      0.54      0.53       250\n",
      "           1       0.45      0.46      0.45       248\n",
      "           2       0.27      0.68      0.38       264\n",
      "           3       0.53      0.40      0.45       267\n",
      "           4       0.68      0.61      0.64       253\n",
      "           5       0.65      0.62      0.63       271\n",
      "           6       0.63      0.54      0.58       244\n",
      "           7       0.58      0.52      0.55       239\n",
      "           8       0.80      0.42      0.55       257\n",
      "           9       0.67      0.28      0.40       259\n",
      "\n",
      "    accuracy                           0.51      2552\n",
      "   macro avg       0.58      0.51      0.52      2552\n",
      "weighted avg       0.58      0.51      0.52      2552\n",
      "\n",
      "Accuracy Ruido Exercise Bike : 0.208\n",
      "              precision    recall  f1-score   support\n",
      "\n",
      "           0       0.43      0.01      0.02       250\n",
      "           1       0.44      0.22      0.29       248\n",
      "           2       0.13      0.91      0.23       264\n",
      "           3       0.25      0.01      0.01       267\n",
      "           4       0.41      0.23      0.29       253\n",
      "           5       0.54      0.41      0.46       271\n",
      "           6       1.00      0.02      0.03       244\n",
      "           7       0.30      0.01      0.02       239\n",
      "           8       0.26      0.22      0.24       257\n",
      "           9       1.00      0.01      0.02       259\n",
      "\n",
      "    accuracy                           0.21      2552\n",
      "   macro avg       0.48      0.20      0.16      2552\n",
      "weighted avg       0.47      0.21      0.17      2552\n",
      "\n",
      "Accuracy Ruido Running Tap : 0.147\n",
      "              precision    recall  f1-score   support\n",
      "\n",
      "           0       0.67      0.01      0.02       250\n",
      "           1       0.80      0.02      0.03       248\n",
      "           2       0.11      0.70      0.19       264\n",
      "           3       0.00      0.00      0.00       267\n",
      "           4       0.41      0.03      0.05       253\n",
      "           5       0.48      0.25      0.33       271\n",
      "           6       0.00      0.00      0.00       244\n",
      "           7       0.00      0.00      0.00       239\n",
      "           8       0.15      0.41      0.22       257\n",
      "           9       0.00      0.00      0.00       259\n",
      "\n",
      "    accuracy                           0.15      2552\n",
      "   macro avg       0.26      0.14      0.08      2552\n",
      "weighted avg       0.26      0.15      0.09      2552\n",
      "\n",
      "CPU times: user 338 ms, sys: 13.8 ms, total: 351 ms\n",
      "Wall time: 344 ms\n"
     ]
    }
   ],
   "source": [
    "%%time\n",
    "\n",
    "predict_nb_gauss_25 = naive_bayes_dev.predict(test_features_gauss_25.drop('digit',axis=1).values)\n",
    "predict_nb_gauss_50 = naive_bayes_dev.predict(test_features_gauss_50.drop('digit',axis=1).values)\n",
    "predict_nb_gauss_75 = naive_bayes_dev.predict(test_features_gauss_75.drop('digit',axis=1).values)\n",
    "predict_nb_gauss = naive_bayes_dev.predict(test_features_gauss.drop('digit',axis=1).values)\n",
    "predict_nb_pink_25 = naive_bayes_dev.predict(test_features_pink_25.drop('digit',axis=1).values)\n",
    "predict_nb_pink_50 = naive_bayes_dev.predict(test_features_pink_50.drop('digit',axis=1).values)\n",
    "predict_nb_pink_75 = naive_bayes_dev.predict(test_features_pink_75.drop('digit',axis=1).values)\n",
    "predict_nb_pink = naive_bayes_dev.predict(test_features_pink.drop('digit',axis=1).values)\n",
    "predict_nb_white_25 = naive_bayes_dev.predict(test_features_white_25.drop('digit',axis=1).values)\n",
    "predict_nb_white_50 = naive_bayes_dev.predict(test_features_white_50.drop('digit',axis=1).values)\n",
    "predict_nb_white_75 = naive_bayes_dev.predict(test_features_white_75.drop('digit',axis=1).values)\n",
    "predict_nb_white = naive_bayes_dev.predict(test_features_white.drop('digit',axis=1).values)\n",
    "predict_nb_dishes = naive_bayes_dev.predict(test_features_dishes.drop('digit',axis=1).values)\n",
    "predict_nb_dude = naive_bayes_dev.predict(test_features_dude.drop('digit',axis=1).values)\n",
    "predict_nb_bike = naive_bayes_dev.predict(test_features_bike.drop('digit',axis=1).values)\n",
    "predict_nb_running = naive_bayes_dev.predict(test_features_running.drop('digit',axis=1).values)\n",
    "\n",
    "printAccuracy(\"Develop\", naive_bayes_dev, develop_features)\n",
    "\n",
    "printAccuracy(\"Test\", naive_bayes_dev, test_features)\n",
    "print(classification_report(test_features.digit.values, predict_nb_test))\n",
    "\n",
    "printAccuracy(\"Ruido Gaussiano nivel 0.25\", naive_bayes_dev, test_features_gauss_25)\n",
    "print(classification_report(test_features_gauss_25.digit.values, predict_nb_gauss_25, zero_division=0))\n",
    "\n",
    "printAccuracy(\"Ruido Gaussiano nivel 0.50\", naive_bayes_dev, test_features_gauss_50)\n",
    "print(classification_report(test_features_gauss_50.digit.values, predict_nb_gauss_50, zero_division=0))\n",
    "\n",
    "printAccuracy(\"Ruido Gaussiano nivel 0.75\", naive_bayes_dev, test_features_gauss_75)\n",
    "print(classification_report(test_features_gauss_75.digit.values, predict_nb_gauss_75, zero_division=0))\n",
    "\n",
    "printAccuracy(\"Ruido Gaussiano nivel 1\", naive_bayes_dev, test_features_gauss)\n",
    "print(classification_report(test_features_gauss.digit.values, predict_nb_gauss, zero_division=0))\n",
    "\n",
    "printAccuracy(\"Ruido Pink Noise nivel 0.25\", naive_bayes_dev, test_features_pink_25)\n",
    "print(classification_report(test_features_pink_25.digit.values, predict_nb_pink_25, zero_division=0))\n",
    "\n",
    "printAccuracy(\"Ruido Pink Noise nivel 0.50\", naive_bayes_dev, test_features_pink_50)\n",
    "print(classification_report(test_features_pink_50.digit.values, predict_nb_pink_50, zero_division=0))\n",
    "\n",
    "printAccuracy(\"Ruido Pink Noise nivel 0.75\", naive_bayes_dev, test_features_pink_75)\n",
    "print(classification_report(test_features_pink_75.digit.values, predict_nb_pink_75, zero_division=0))\n",
    "\n",
    "printAccuracy(\"Ruido Pink Noise nivel 1\", naive_bayes_dev, test_features_pink)\n",
    "print(classification_report(test_features_pink.digit.values, predict_nb_pink, zero_division=0))\n",
    "\n",
    "printAccuracy(\"Ruido White Noise nivel 0.25\", naive_bayes_dev, test_features_white_25)\n",
    "print(classification_report(test_features_white_25.digit.values, predict_nb_white_25, zero_division=0))\n",
    "\n",
    "printAccuracy(\"Ruido White Noise nivel 0.50\", naive_bayes_dev, test_features_white_50)\n",
    "print(classification_report(test_features_white_50.digit.values, predict_nb_white_50, zero_division=0))\n",
    "\n",
    "printAccuracy(\"Ruido White Noise nivel 0.75\", naive_bayes_dev, test_features_white_75)\n",
    "print(classification_report(test_features_white_75.digit.values, predict_nb_white_75, zero_division=0))\n",
    "\n",
    "printAccuracy(\"Ruido White Noise nivel 1\", naive_bayes_dev, test_features_white)\n",
    "print(classification_report(test_features_white.digit.values, predict_nb_white, zero_division=0))\n",
    "\n",
    "printAccuracy(\"Ruido Doing the Dishes\", naive_bayes_dev, test_features_dishes)\n",
    "print(classification_report(test_features_dishes.digit.values, predict_nb_dishes, zero_division=0))\n",
    "\n",
    "printAccuracy(\"Ruido Dude Miaowing\", naive_bayes_dev, test_features_dude)\n",
    "print(classification_report(test_features_dude.digit.values, predict_nb_dude, zero_division=0))\n",
    "\n",
    "printAccuracy(\"Ruido Exercise Bike\", naive_bayes_dev, test_features_bike)\n",
    "print(classification_report(test_features_bike.digit.values, predict_nb_bike, zero_division=0))\n",
    "\n",
    "printAccuracy(\"Ruido Running Tap\", naive_bayes_dev, test_features_running)\n",
    "print(classification_report(test_features_running.digit.values, predict_nb_running, zero_division=0))"
   ]
  },
  {
   "cell_type": "markdown",
   "metadata": {
    "colab_type": "text",
    "id": "ntaipE8NoK0J"
   },
   "source": [
    "### Impacto de los audios generados por el equipo en el rendimiento"
   ]
  },
  {
   "cell_type": "code",
   "execution_count": 35,
   "metadata": {
    "colab": {},
    "colab_type": "code",
    "id": "hnxpsLxnoT45",
    "outputId": "e71962ab-24d4-4d59-d356-84c52f3724fd"
   },
   "outputs": [
    {
     "name": "stdout",
     "output_type": "stream",
     "text": [
      "Accuracy Custom : 0.225\n",
      "              precision    recall  f1-score   support\n",
      "\n",
      "           0       1.00      0.05      0.10        20\n",
      "           1       0.27      0.35      0.30        20\n",
      "           2       0.14      0.90      0.24        20\n",
      "           3       0.00      0.00      0.00        20\n",
      "           4       0.30      0.35      0.33        20\n",
      "           5       0.47      0.40      0.43        20\n",
      "           6       0.00      0.00      0.00        20\n",
      "           7       0.67      0.10      0.17        20\n",
      "           8       1.00      0.05      0.10        20\n",
      "           9       0.50      0.05      0.09        20\n",
      "\n",
      "    accuracy                           0.23       200\n",
      "   macro avg       0.44      0.22      0.18       200\n",
      "weighted avg       0.44      0.23      0.18       200\n",
      "\n"
     ]
    },
    {
     "name": "stderr",
     "output_type": "stream",
     "text": [
      "/home/daro/.local/lib/python3.8/site-packages/sklearn/metrics/_classification.py:1221: UndefinedMetricWarning: Precision and F-score are ill-defined and being set to 0.0 in labels with no predicted samples. Use `zero_division` parameter to control this behavior.\n",
      "  _warn_prf(average, modifier, msg_start, len(result))\n"
     ]
    }
   ],
   "source": [
    "predict_nb_custom = naive_bayes_dev.predict(test_features_custom.drop('digit',axis=1).values)\n",
    "printAccuracy(\"Custom\", naive_bayes_dev, test_features_custom)\n",
    "print(classification_report(test_features_custom.digit.values, predict_nb_custom))"
   ]
  },
  {
   "cell_type": "markdown",
   "metadata": {
    "colab_type": "text",
    "id": "UnCAjLdMWMfv"
   },
   "source": [
    "## Random Forest:  búsqueda de hiperparámetros óptimos"
   ]
  },
  {
   "cell_type": "code",
   "execution_count": null,
   "metadata": {
    "colab": {
     "base_uri": "https://localhost:8080/",
     "height": 109
    },
    "colab_type": "code",
    "executionInfo": {
     "elapsed": 573266,
     "status": "ok",
     "timestamp": 1595214561416,
     "user": {
      "displayName": "Sergio Marchio",
      "photoUrl": "https://lh3.googleusercontent.com/a-/AOh14Ghw0JT9hzPQ5grtu74aF4edwt_w9WB_ihJJQMsa=s64",
      "userId": "14321742954155587052"
     },
     "user_tz": 180
    },
    "id": "oqDT5jk7WMfw",
    "outputId": "adb7515b-f3f2-4d1d-fd36-6be002018fde"
   },
   "outputs": [],
   "source": [
    "%%time\n",
    "\n",
    "parametros = {'n_estimators':range(100, 250, 15), 'max_depth':range(6, 12, 2), 'bootstrap':[True, False]}\n",
    "\n",
    "clf = RandomizedSearchCV(RandomForestClassifier(random_state = 22), parametros, n_jobs = 20,\n",
    "                         random_state = 131313, scoring='accuracy', n_iter = 30, cv = cv_split)\n",
    "\n",
    "clf.fit(develop_features.drop('digit',axis=1).values, develop_features.digit.values)\n",
    "rf = clf.best_estimator_  \n",
    "\n",
    "print(clf.best_score_, clf.best_params_)\n",
    "\n",
    "printAccuracy(\"Training\", rf, train_features)\n",
    "printAccuracy(\"Validation\", rf, validation_features)"
   ]
  },
  {
   "cell_type": "code",
   "execution_count": null,
   "metadata": {
    "colab": {},
    "colab_type": "code",
    "id": "8EECKMYdbN2Q"
   },
   "outputs": [],
   "source": [
    "# se entrena el modelo con conjunto de desarrollo\n",
    "rf.fit(develop_features.drop('digit',axis=1).values, develop_features.digit.values)\n",
    "\n",
    "# se evalúa sobre conjunto de test\n",
    "rf_pred = rf.predict(test_features.drop('digit',axis=1).values)"
   ]
  },
  {
   "cell_type": "markdown",
   "metadata": {
    "colab_type": "text",
    "id": "eSJv8MoOWMfz"
   },
   "source": [
    "###  Matriz de Confusión "
   ]
  },
  {
   "cell_type": "code",
   "execution_count": null,
   "metadata": {
    "colab": {
     "base_uri": "https://localhost:8080/",
     "height": 298
    },
    "colab_type": "code",
    "executionInfo": {
     "elapsed": 1718,
     "status": "ok",
     "timestamp": 1594597989575,
     "user": {
      "displayName": "Sergio Marchio",
      "photoUrl": "https://lh3.googleusercontent.com/a-/AOh14Ghw0JT9hzPQ5grtu74aF4edwt_w9WB_ihJJQMsa=s64",
      "userId": "14321742954155587052"
     },
     "user_tz": 180
    },
    "id": "19INhYDqWMfz",
    "outputId": "7f606bdc-153e-4ab7-b8b0-7f96900e5d21"
   },
   "outputs": [],
   "source": [
    "sns.set_context('paper')\n",
    "sns.heatmap(confusion_matrix(test_features.digit.values, rf_pred), annot=True, fmt='g')\n",
    "plt.xlabel('Predict')\n",
    "plt.ylabel('True')"
   ]
  },
  {
   "cell_type": "markdown",
   "metadata": {
    "colab_type": "text",
    "id": "A29zqHXHWMf2"
   },
   "source": [
    "### Impacto del ruido en el rendimiento "
   ]
  },
  {
   "cell_type": "code",
   "execution_count": null,
   "metadata": {
    "colab": {},
    "colab_type": "code",
    "id": "5a8IqotDWMf3",
    "outputId": "4d30f33d-ffa2-4839-d8c7-87060bccf93d"
   },
   "outputs": [],
   "source": [
    "%%time\n",
    "\n",
    "printAccuracy(\"Develop\", rf, develop_features)\n",
    "printAccuracy(\"Test\", rf, test_features)\n",
    "printAccuracy(\"Ruido Gaussiano nivel 0.25\", rf, test_features_gauss_25)\n",
    "printAccuracy(\"Ruido Gaussiano nivel 0.50\", rf, test_features_gauss_50)\n",
    "printAccuracy(\"Ruido Gaussiano nivel 0.75\", rf, test_features_gauss_75)\n",
    "printAccuracy(\"Ruido Gaussiano nivel 1\", rf, test_features_gauss)\n",
    "printAccuracy(\"Ruido Pink Noise nivel 0.25\", rf, test_features_pink_25)\n",
    "printAccuracy(\"Ruido Pink Noise nivel 0.50\", rf, test_features_pink_50)\n",
    "printAccuracy(\"Ruido Pink Noise nivel 0.75\", rf, test_features_pink_75)\n",
    "printAccuracy(\"Ruido Pink Noise nivel 1\", rf, test_features_pink)\n",
    "printAccuracy(\"Ruido White Noise nivel 0.25\", rf, test_features_white_25)\n",
    "printAccuracy(\"Ruido White Noise nivel 0.50\", rf, test_features_white_50)\n",
    "printAccuracy(\"Ruido White Noise nivel 0.75\", rf, test_features_white_75)\n",
    "printAccuracy(\"Ruido White Noise nivel 1\", rf, test_features_white)\n",
    "printAccuracy(\"Ruido Doing the Dishes\", rf, test_features_dishes)\n",
    "printAccuracy(\"Ruido Dude Miaowing\", rf, test_features_dude)\n",
    "printAccuracy(\"Ruido Exercise Bike\", rf, test_features_bike)\n",
    "printAccuracy(\"Ruido Running Tap\", rf, test_features_running)"
   ]
  },
  {
   "cell_type": "markdown",
   "metadata": {
    "colab_type": "text",
    "id": "0rkeWk4bq8Ua"
   },
   "source": [
    "### Impacto de los audios generados por el equipo en el rendimiento\n"
   ]
  },
  {
   "cell_type": "code",
   "execution_count": null,
   "metadata": {
    "colab": {},
    "colab_type": "code",
    "id": "FJ_7hcgVrK9h",
    "outputId": "c573730c-a834-4a3b-9bd6-03c125a97260"
   },
   "outputs": [],
   "source": [
    "%%time\n",
    "\n",
    "printAccuracy(\"Ruido Custom\", rf, test_features_custom)"
   ]
  },
  {
   "cell_type": "markdown",
   "metadata": {
    "colab_type": "text",
    "id": "dEHDmRxkWMf6"
   },
   "source": [
    "## Gradient Boosting"
   ]
  },
  {
   "cell_type": "code",
   "execution_count": null,
   "metadata": {
    "colab": {},
    "colab_type": "code",
    "id": "lQ4pFtnwWMf6",
    "outputId": "f86a59ab-f79e-49a3-90ef-910ad778c22f"
   },
   "outputs": [],
   "source": [
    "%%time\n",
    "\n",
    "parameters = {'n_estimators':range(50, 150, 25), 'max_depth':range(5,7), 'learning_rate':np.arange(0,1,0.1)}\n",
    "clf = RandomizedSearchCV(GradientBoostingClassifier(random_state = 22), parameters, n_jobs = -1, \n",
    "                         scoring = 'accuracy',cv = cv_split, n_iter = 50, random_state = 8)\n",
    "\n",
    "clf.fit(develop_features.drop('digit',axis=1).values, develop_features.digit.values)\n",
    "gb = clf.best_estimator_\n",
    "\n",
    "print (clf.best_score_, clf.best_params_)\n",
    "\n",
    "printAccuracy(\"Training\", gb, train_features)\n",
    "printAccuracy(\"Validation\", gb, validation_features)"
   ]
  },
  {
   "cell_type": "code",
   "execution_count": null,
   "metadata": {
    "colab": {},
    "colab_type": "code",
    "id": "TNFaQ_Zlcs93"
   },
   "outputs": [],
   "source": [
    "# se entrena el modelo con conjunto de desarrollo\n",
    "gb.fit(develop_features.drop('digit',axis=1).values, develop_features.digit.values)\n",
    "\n",
    "# se evalúa sobre conjunto de test\n",
    "gb_pred = gb.predict(test_features.drop('digit',axis=1).values)"
   ]
  },
  {
   "cell_type": "markdown",
   "metadata": {
    "colab_type": "text",
    "id": "IzDfe0m4WMf8"
   },
   "source": [
    "###  Matriz de Confusión "
   ]
  },
  {
   "cell_type": "code",
   "execution_count": null,
   "metadata": {
    "colab": {
     "base_uri": "https://localhost:8080/",
     "height": 298
    },
    "colab_type": "code",
    "executionInfo": {
     "elapsed": 1889,
     "status": "ok",
     "timestamp": 1594599777723,
     "user": {
      "displayName": "Sergio Marchio",
      "photoUrl": "https://lh3.googleusercontent.com/a-/AOh14Ghw0JT9hzPQ5grtu74aF4edwt_w9WB_ihJJQMsa=s64",
      "userId": "14321742954155587052"
     },
     "user_tz": 180
    },
    "id": "sSI_mBd6WMf9",
    "outputId": "7551d863-0164-4ed3-89eb-f4fa67b4fc48"
   },
   "outputs": [],
   "source": [
    "sns.set_context('paper')\n",
    "sns.heatmap(confusion_matrix(test_features.digit.values, gb_pred), annot=True, fmt='g')\n",
    "plt.xlabel('Predict')\n",
    "plt.ylabel('True')"
   ]
  },
  {
   "cell_type": "markdown",
   "metadata": {
    "colab_type": "text",
    "id": "mLJO1oUmWMf-"
   },
   "source": [
    "### Impacto del ruido en el rendimiento "
   ]
  },
  {
   "cell_type": "code",
   "execution_count": null,
   "metadata": {
    "colab": {},
    "colab_type": "code",
    "id": "gtmaKvfTWMf_",
    "outputId": "0f2e2357-c619-40ff-93b0-bc20c833d4af"
   },
   "outputs": [],
   "source": [
    "%%time\n",
    "\n",
    "printAccuracy(\"Develop\", gb, develop_features)\n",
    "printAccuracy(\"Test\", gb, test_features)\n",
    "printAccuracy(\"Ruido Gaussiano nivel 0.25\", gb, test_features_gauss_25)\n",
    "printAccuracy(\"Ruido Gaussiano nivel 0.50\", gb, test_features_gauss_50)\n",
    "printAccuracy(\"Ruido Gaussiano nivel 0.75\", gb, test_features_gauss_75)\n",
    "printAccuracy(\"Ruido Gaussiano nivel 1\", gb, test_features_gauss)\n",
    "printAccuracy(\"Ruido Pink Noise nivel 0.25\", gb, test_features_pink_25)\n",
    "printAccuracy(\"Ruido Pink Noise nivel 0.50\", gb, test_features_pink_50)\n",
    "printAccuracy(\"Ruido Pink Noise nivel 0.75\", gb, test_features_pink_75)\n",
    "printAccuracy(\"Ruido Pink Noise nivel 1\", gb, test_features_pink)\n",
    "printAccuracy(\"Ruido White Noise nivel 0.25\", gb, test_features_white_25)\n",
    "printAccuracy(\"Ruido White Noise nivel 0.50\", gb, test_features_white_50)\n",
    "printAccuracy(\"Ruido White Noise nivel 0.75\", gb, test_features_white_75)\n",
    "printAccuracy(\"Ruido White Noise nivel 1\", gb, test_features_white)printAccuracy(\"Ruido Doing the Dishes\", gb, test_features_dishes)\n",
    "printAccuracy(\"Ruido Dude Miaowing\", gb, test_features_dude)\n",
    "printAccuracy(\"Ruido Exercise Bike\", gb, test_features_bike)\n",
    "printAccuracy(\"Ruido Running Tap\", gb, test_features_running)"
   ]
  },
  {
   "cell_type": "markdown",
   "metadata": {
    "colab_type": "text",
    "id": "dk8jqHObrXSq"
   },
   "source": [
    "### Impacto de los audios generados por el equipo en el rendimiento"
   ]
  },
  {
   "cell_type": "code",
   "execution_count": null,
   "metadata": {
    "colab": {},
    "colab_type": "code",
    "id": "hyW3SrmNrZKD",
    "outputId": "ef6c4dbe-5c93-415a-beee-a37973ebc626"
   },
   "outputs": [],
   "source": [
    "%%time\n",
    "\n",
    "printAccuracy(\"Ruido Custom\", gb, test_features_custom)"
   ]
  },
  {
   "cell_type": "markdown",
   "metadata": {
    "colab_type": "text",
    "id": "prQCcqUAObdO"
   },
   "source": [
    "## MLP - *perceptrón multicapa*"
   ]
  },
  {
   "cell_type": "code",
   "execution_count": null,
   "metadata": {
    "colab": {},
    "colab_type": "code",
    "id": "ACNoCPKEPtVy"
   },
   "outputs": [],
   "source": [
    "# se cargan los conjuntos de entrenamiento y validación\n",
    "# aplicando one hot encoding al conjunto de etiquetas\n",
    "# y normalizando las inputs\n",
    "def mlp_sets(full_dataframe, label_name):\n",
    "    ohe = OneHotEncoder()\n",
    "    scaler = StandardScaler()\n",
    "\n",
    "    mlp_input = scaler.fit_transform(np.array(full_dataframe.drop(label_name, axis = 1)))\n",
    "    mlp_labels = ohe.fit_transform(np.array(full_dataframe[label_name]).reshape(-1,1)).toarray()\n",
    " \n",
    "    return mlp_input, mlp_labels\n",
    "\n",
    "mlp_train_features, mlp_train_labels = mlp_sets(train_features, 'digit')\n",
    "mlp_validation_features, mlp_validation_labels = mlp_sets(validation_features, 'digit')\n",
    "\n",
    "mlp_develop_features, mlp_develop_labels = mlp_sets(develop_features, 'digit')\n",
    "mlp_test_features, mlp_test_labels = mlp_sets(test_features, 'digit')"
   ]
  },
  {
   "cell_type": "code",
   "execution_count": null,
   "metadata": {
    "colab": {},
    "colab_type": "code",
    "id": "CPb0_1sWUe_L"
   },
   "outputs": [],
   "source": [
    "def entrenar_mlp(hyperparams, train, test, verbose = 1):\n",
    "    tf.random.set_seed(1337)\n",
    "\n",
    "    # \"capa\" de entrada\n",
    "    layer_in = tfkl.Input(shape = 78)\n",
    "    # capa oculta\n",
    "    layer_hidden = tfkl.Dense(units = hyperparams['units'], activation = hyperparams['activation'])(layer_in)\n",
    "    # capa de salida\n",
    "    # Activación softmax fuerza que las probabilidades sumen 1\n",
    "    layer_out = tfkl.Dense(units = 10, activation = 'softmax')(layer_hidden)\n",
    "\n",
    "    mlp_model = tf.keras.Model(inputs = [layer_in], outputs = [layer_out])\n",
    "\n",
    "    mlp_model.summary()\n",
    "\n",
    "    optimizer = tf.keras.optimizers.Adam(learning_rate = 0.001)\n",
    "    \n",
    "    metrics_list = [tf.keras.metrics.CategoricalAccuracy(),\n",
    "                tf.keras.metrics.Precision(),\n",
    "                tf.keras.metrics.Recall(),\n",
    "                tf.keras.metrics.AUC()]\n",
    "    metric_names = ['loss', 'accuracy', 'precision', 'recall', 'auc']\n",
    "\n",
    "    mlp_model.compile(optimizer = optimizer, loss = 'categorical_crossentropy', metrics = metrics_list)\n",
    "\n",
    "    # callbacks\n",
    "    cb_list = [tf.keras.callbacks.TensorBoard(log_dir = 'tblogs'),\n",
    "           tf.keras.callbacks.ModelCheckpoint(filepath = 'checkpoints'),\n",
    "           tf.keras.callbacks.EarlyStopping(monitor = 'val_loss', patience = 5)]\n",
    "\n",
    "    # entrena modelo\n",
    "    mlp_model.fit(x = train[0],\n",
    "                  y = train[1],\n",
    "                  validation_data = (test[0], test[1]),\n",
    "                  batch_size = hyperparams['batch_size'],\n",
    "                  epochs = 50, verbose = verbose, callbacks = cb_list)\n",
    "    \n",
    "    performance = mlp_model.evaluate(x = test[0], y = test[1])\n",
    "    performance = dict(zip(metric_names, performance))\n",
    "\n",
    "    return mlp_model, performance, hyperparams"
   ]
  },
  {
   "cell_type": "markdown",
   "metadata": {
    "colab_type": "text",
    "id": "Dgtby_o-ZHFX"
   },
   "source": [
    "### Búsqueda de hiperparámetros y entrenamiento del mejor modelo"
   ]
  },
  {
   "cell_type": "code",
   "execution_count": null,
   "metadata": {
    "colab": {
     "base_uri": "https://localhost:8080/",
     "height": 1000
    },
    "colab_type": "code",
    "id": "OnqYi0LNWqmJ",
    "outputId": "b4180ec5-f92b-4885-9b82-568fc143cd9b"
   },
   "outputs": [],
   "source": [
    "%time\n",
    "# se realiza la búsqueda de hiperparámetros\n",
    "hyperparameter_space = {'units': np.arange(10, 1000, 20),\n",
    "                        'activation': ['relu', 'tanh', 'sigmoid', 'elu'],\n",
    "                        'batch_size':[2**n for n in range(4, 10)]}\n",
    "hyperparameters = list(ParameterSampler(hyperparameter_space, n_iter = 50, random_state = 12))\n",
    "\n",
    "# busco maximizar accuracy\n",
    "mlp_best_acc = 0\n",
    "mlp_best_model = None\n",
    "mlp_best_hparams = None\n",
    "print(\"Busqueda de hiperparametros\")\n",
    "for hparams in hyperparameters:\n",
    "    model, perf, hparams = entrenar_mlp(hparams,\n",
    "                                        (mlp_train_features, mlp_train_labels),\n",
    "                                        (mlp_validation_features, mlp_validation_labels),\n",
    "                                        verbose = 0)\n",
    "    if perf['accuracy'] > mlp_best_acc:\n",
    "        mlp_best_acc = perf['accuracy']\n",
    "        mlp_best_model = model\n",
    "        mlp_best_hparams = hparams\n",
    "    print(\"hparams:\", hparams)\n",
    "\n",
    "# por si se cuelga todo, que quede guardado en el output del nb\n",
    "print(mlp_best_hparams)"
   ]
  },
  {
   "cell_type": "code",
   "execution_count": null,
   "metadata": {
    "colab": {
     "base_uri": "https://localhost:8080/",
     "height": 184
    },
    "colab_type": "code",
    "id": "yS9g4Db7cKpf",
    "outputId": "5b957623-424a-4941-dc8b-2f3d74b89c70"
   },
   "outputs": [],
   "source": [
    "# se evalúa el modelo en el conjunto de entrenamiento para comparar accuracy\n",
    "metric_names = ['loss', 'accuracy', 'precision', 'recall', 'auc']\n",
    "\n",
    "mlp_acc_train = mlp_best_model.evaluate(x = mlp_train_features, y = mlp_train_labels)\n",
    "mlp_acc_train = dict(zip(metric_names, mlp_acc_train))\n",
    "\n",
    "print(\"Accuracy Training:\", round(mlp_acc_train['accuracy'], 4))\n",
    "print(\"Accuracy Validation:\", round(mlp_best_acc, 4))\n",
    "print(\"\\nMejores Hiperparámetros:\")\n",
    "for i, j in mlp_best_hparams.items():\n",
    "    print(\"{}: {}\".format(i, j))"
   ]
  },
  {
   "cell_type": "code",
   "execution_count": null,
   "metadata": {
    "colab": {},
    "colab_type": "code",
    "id": "WrApJQpqoTnN"
   },
   "outputs": [],
   "source": [
    "%time\n",
    "# se entrena el modelo con el conjunto de desarrollo\n",
    "mlp_dev_model, dev_perf, hparams = entrenar_mlp(mlp_best_hparams,\n",
    "                                                (mlp_develop_features, mlp_develop_labels),\n",
    "                                                (mlp_test_features, mlp_test_labels))"
   ]
  },
  {
   "cell_type": "markdown",
   "metadata": {
    "colab_type": "text",
    "id": "jER9wpxRq6M1"
   },
   "source": [
    "### Matriz de Confusión"
   ]
  },
  {
   "cell_type": "code",
   "execution_count": null,
   "metadata": {
    "colab": {
     "base_uri": "https://localhost:8080/",
     "height": 298
    },
    "colab_type": "code",
    "executionInfo": {
     "elapsed": 1750,
     "status": "ok",
     "timestamp": 1594601035240,
     "user": {
      "displayName": "Sergio Marchio",
      "photoUrl": "https://lh3.googleusercontent.com/a-/AOh14Ghw0JT9hzPQ5grtu74aF4edwt_w9WB_ihJJQMsa=s64",
      "userId": "14321742954155587052"
     },
     "user_tz": 180
    },
    "id": "Dtv9YGtgqfuJ",
    "outputId": "496b9281-48fd-4cb6-920c-b23efaac764f"
   },
   "outputs": [],
   "source": [
    "# Obtiene las clases para el set de test\n",
    "mlp_pred = mlp_best_model.predict(x = mlp_test_features).argmax(axis = -1)\n",
    "\n",
    "sns.set_context('paper')\n",
    "sns.heatmap(confusion_matrix(test_features.digit.values, mlp_pred), annot = True, fmt = 'g')\n",
    "plt.xlabel('Predict')\n",
    "plt.ylabel('True')"
   ]
  },
  {
   "cell_type": "markdown",
   "metadata": {
    "colab_type": "text",
    "id": "wngXsnDjy2lG"
   },
   "source": [
    "### Impacto del ruido en el rendimiento "
   ]
  },
  {
   "cell_type": "code",
   "execution_count": null,
   "metadata": {
    "colab": {
     "base_uri": "https://localhost:8080/",
     "height": 221
    },
    "colab_type": "code",
    "executionInfo": {
     "elapsed": 3687,
     "status": "ok",
     "timestamp": 1594601240107,
     "user": {
      "displayName": "Sergio Marchio",
      "photoUrl": "https://lh3.googleusercontent.com/a-/AOh14Ghw0JT9hzPQ5grtu74aF4edwt_w9WB_ihJJQMsa=s64",
      "userId": "14321742954155587052"
     },
     "user_tz": 180
    },
    "id": "CZEuG74K7CSQ",
    "outputId": "fa30cd27-0fdb-4e58-bff2-0ca3f2cd8815"
   },
   "outputs": [],
   "source": [
    "# se evalúa la performance en los distintos conjuntos de evaluación\n",
    "dev_dev_accuracy = mlp_best_model.evaluate(x = mlp_train_features, y = mlp_train_labels)[1]\n",
    "\n",
    "print(\"Accuracy Develop:\", dev_dev_accuracy)\n",
    "print(\"Accuracy Test:\", dev_perf['accuracy'])\n",
    "\n",
    "# se calcula la performance en distintas condiciones de ruido\n",
    "test_ruidos = {\"Ruido Gaussiano nivel 0.25\": test_features_gauss_25,\n",
    "               \"Ruido Gaussiano nivel 0.50\": test_features_gauss_50,\n",
    "               \"Ruido Gaussiano nivel 0.75\": test_features_gauss_75,\n",
    "               \"Ruido Gaussiano nivel 1\": test_features_gauss,\n",
    "               \"Ruido Pink Noise 0.25\": test_features_pink_25,\n",
    "               \"Ruido Pink Noise 0.50\": test_features_pink_50,\n",
    "               \"Ruido Pink Noise nivel 0.75\": test_features_pink_75,\n",
    "               \"Ruido Pink Noise nivel 1\": test_features_pink,\n",
    "               \"Ruido White Noise nivel 0.25\": test_features_white_25,\n",
    "               \"Ruido White Noise nivel 0.50\": test_features_white_50,\n",
    "               \"Ruido White Noise nivel 0.75\": test_features_white_75,\n",
    "               \"Ruido White Noise nivel 1\": test_features_white,\n",
    "               \"Ruido Doing the Dishes\": test_features_dishes,\n",
    "               \"Ruido Dude Miaowing\": test_features_dude,\n",
    "               \"Ruido Exercise Bike\": test_features_bike,\n",
    "               \"Ruido Running Tap\": test_features_running}\n",
    "\n",
    "for nombre, df in test_ruidos.items():\n",
    "    inputs, label = mlp_sets(df, 'digit')\n",
    "    acc = mlp_best_model.evaluate(x = inputs, y = label, verbose = 0)[1]\n",
    "    print(\"Accuracy {}: {}\".format(nombre, round(acc, 4)))"
   ]
  },
  {
   "cell_type": "markdown",
   "metadata": {
    "colab_type": "text",
    "id": "P5KPo7xf5yil"
   },
   "source": [
    "### Impacto de los audios generados por el equipo en el rendimiento"
   ]
  },
  {
   "cell_type": "code",
   "execution_count": null,
   "metadata": {
    "colab": {
     "base_uri": "https://localhost:8080/",
     "height": 74
    },
    "colab_type": "code",
    "id": "N1ceV0SA5zTd",
    "outputId": "34ac8410-2b48-41e3-b39a-bca7037aeef1"
   },
   "outputs": [],
   "source": [
    "mlp_custom = mlp_sets(test_features_custom, 'digit')\n",
    "acc_custom = mlp_best_model.evaluate(x = mlp_custom[0], y = mlp_custom[1])[1]\n",
    "print(\"Accuracy Ruido Custom:\", round(acc_custom, 4))"
   ]
  },
  {
   "cell_type": "markdown",
   "metadata": {
    "colab_type": "text",
    "id": "7X-1zNSMWMgB"
   },
   "source": [
    "# Anexos"
   ]
  },
  {
   "cell_type": "markdown",
   "metadata": {
    "colab_type": "text",
    "id": "mcpZgZ7MWMgB"
   },
   "source": [
    "## Tratamiento audios grabados por el equipo"
   ]
  },
  {
   "cell_type": "code",
   "execution_count": null,
   "metadata": {
    "colab": {
     "base_uri": "https://localhost:8080/",
     "height": 384
    },
    "colab_type": "code",
    "executionInfo": {
     "elapsed": 1066,
     "status": "ok",
     "timestamp": 1594601499840,
     "user": {
      "displayName": "Sergio Marchio",
      "photoUrl": "https://lh3.googleusercontent.com/a-/AOh14Ghw0JT9hzPQ5grtu74aF4edwt_w9WB_ihJJQMsa=s64",
      "userId": "14321742954155587052"
     },
     "user_tz": 180
    },
    "id": "DMT01szRWMgF",
    "outputId": "eb2c833d-e571-471d-b74d-7b6fe2af1590"
   },
   "outputs": [],
   "source": [
    "# lista para guardar los audios nuestros (están en carpeta \"audios\")\n",
    "# nparray (salida de librosa), fs, filename\n",
    "audios_nos = []\n",
    "\n",
    "for filename in os.listdir(\"audios\"):\n",
    "    if filename.endswith(\".wav\"):\n",
    "        x, fs = librosa.core.load('audios/' + filename, sr = 16000)\n",
    "        audios_nos += [[x] + [fs] + [filename]]\n",
    "        #display(Audio(x, rate = fs))\n",
    "        #plt.figure(figsize = (15,5))\n",
    "        #plt.plot(x)\n",
    "        print(filename)\n"
   ]
  },
  {
   "cell_type": "code",
   "execution_count": null,
   "metadata": {
    "colab": {},
    "colab_type": "code",
    "id": "lKKKpFzkIK33"
   },
   "outputs": [],
   "source": [
    "# el metodo de separar los audios con split_points = librosa.effects.split(x, top_db = top_db)\n",
    "# se hace engorroso pues cambiando top_db se empieza a perder info del audio\n",
    "# es compromiso entre que separe ruidos como audios extra y que se entiendan los numeros...\n",
    "# y a veces no se logra => nuevo método\n",
    "\n",
    "# la idea es dividirlos por el punto medio entre los maximos\n",
    "# teninendo en cuenta que los dígitos se grabaron bastante separados \n",
    "# y aproximadamente equiespaciados\n",
    "\n",
    "def get_audio_split_points(x, aname = '', start_div = 0, n_audios = 11, listen = False, plot = False):\n",
    "    # busco los máximos del audio \"x\", para eso defino:\n",
    "    # start: un punto de comienzo (por si hay 'clicks' al principio del audio)\n",
    "    # win_length: un ancho de ventana para buscar el maximo\n",
    "    # windows: las posiciones de las ventanas en funcion de esos parámetros, conservando las 11 primeras para delimitar los digitos\n",
    "    win_length = len(x)//n_audios\n",
    "    if start_div == 0:\n",
    "        start = 0\n",
    "    else:\n",
    "        start = win_length//start_div\n",
    "    \n",
    "    windows = range(start, len(x), win_length)\n",
    "\n",
    "    # encuentra la posicion del máximo en cada ventana\n",
    "    maximos = [i + np.where(x[i:] == max(x[i:i + win_length]))[0][0] for i in windows[:-1]]\n",
    "    # calcula las coordenadas de los cortes como el promedio entre las posiciones de los maximos\n",
    "    split_coords = [(maximos[s] + maximos[s+1])//2 for s in range(len(maximos) - 1)]\n",
    "    # el ultimo corte es sumando la distancia del ultimo maximo al corte anterior\n",
    "    split_coords += [maximos[-1] + maximos[-1] - split_coords[-1]]\n",
    "    # el primer corte es restando la distancia del final del primer audio a su maximo\n",
    "    split_coords.insert(0, maximos[0] - (split_coords[0] - maximos[0]))\n",
    "\n",
    "    # genera las coordenadas de cada sub-audio como [inicio, fin] y las junta en un array\n",
    "    split_points = [[split_coords[i], split_coords[i+1]]  for i in range(len(split_coords) - 1)]\n",
    "\n",
    "    if (plot | listen) == True:\n",
    "        plt.figure(figsize=(15,5))\n",
    "        plt.plot(x, color = 'k')\n",
    "\n",
    "        for xc in windows:\n",
    "            plt.axvline(x = xc, color = '#55CC5588')\n",
    "        for xc in maximos:\n",
    "            plt.axvline(x = xc, color = '#AA000088')\n",
    "        for xc in split_coords:\n",
    "            plt.axvline(x = xc, color = 'k', linestyle = 'dashed')\n",
    "\n",
    "        # grafico el audio con las divisiones para verificar, más widgets para escucharlos\n",
    "        print(aname, 'k = ', k)\n",
    "        for split in split_points:\n",
    "            if listen == True:\n",
    "                display(Audio(x[split[0]:split[1]], rate = fs))\n",
    "            if plot == True:\n",
    "                xplot = np.zeros_like(x)\n",
    "                xplot[split[0]:split[1]] = x[split[0]:split[1]]\n",
    "                plt.plot(xplot)\n",
    "        if plot == True:\n",
    "            plt.show()\n",
    "        print('\\n')\n",
    "\n",
    "    return split_points"
   ]
  },
  {
   "cell_type": "code",
   "execution_count": null,
   "metadata": {
    "colab": {},
    "colab_type": "code",
    "id": "L1G2tif7WMgG"
   },
   "outputs": [],
   "source": [
    "\n",
    "# no itero en los elementos directamente pues necesito saber el indice de alguno que no se haya partido bien\n",
    "# para analizarlo luego. este es un analisis exploratorio en cierto sentido\n",
    "for k in range(len(audios_nos)):\n",
    "    get_audio_split_points(audios_nos[k][0], aname = audios_nos[k][-1], start_div = 2, n_audios = 11, listen = True, plot = True)\n",
    " \n",
    "# se observa que para todos los elementos menos\n",
    "# 13 17 18\n",
    "# funciona bien start_div = 2"
   ]
  },
  {
   "cell_type": "code",
   "execution_count": null,
   "metadata": {
    "colab": {
     "base_uri": "https://localhost:8080/",
     "height": 1000
    },
    "colab_type": "code",
    "executionInfo": {
     "elapsed": 6106,
     "status": "ok",
     "timestamp": 1594601705121,
     "user": {
      "displayName": "Sergio Marchio",
      "photoUrl": "https://lh3.googleusercontent.com/a-/AOh14Ghw0JT9hzPQ5grtu74aF4edwt_w9WB_ihJJQMsa=s64",
      "userId": "14321742954155587052"
     },
     "user_tz": 180
    },
    "id": "htvlH8AFOFhp",
    "outputId": "b59f22c9-f23c-4c1b-c64e-a517c38b081a"
   },
   "outputs": [],
   "source": [
    "# analizamos los casos puntuales\n",
    "# para 18 anda bien 1\n",
    "# apra 13 y 17 anda bien 3\n",
    "for k in (13, 17):\n",
    "    get_audio_split_points(audios_nos[k][0], aname = audios_nos[k][-1], start_div = 3, n_audios = 11, listen = True, plot = True)\n",
    " "
   ]
  },
  {
   "cell_type": "code",
   "execution_count": null,
   "metadata": {
    "colab": {},
    "colab_type": "code",
    "id": "boXIPDHEN6uQ"
   },
   "outputs": [],
   "source": [
    "# lista con el parametro de corte de cada audio\n",
    "audios_start_div = [1 if i == 18 else (3 if i == 13 or i == 17 else 2) for i in range(len(audios_nos))]\n",
    "\n",
    "# exporta audios\n",
    "!pip install soundfile\n",
    "import soundfile as sf\n",
    "\n",
    "# si no existe la carpeta con los audios la crea y crea las subfolders con\n",
    "# los nombres de los digitos\n",
    "audios_nos_folder = \"espichcomans\"\n",
    "if not os.path.exists(audios_nos_folder):\n",
    "    os.mkdir(audios_nos_folder)\n",
    "\n",
    "    for key in to_number.keys():\n",
    "        os.mkdir(audios_nos_folder + '/' + key)\n",
    "\n",
    "\n",
    "# para cada audio lo splitea y guarda los digitos\n",
    "for k in range(len(audios_nos)):\n",
    "    filename = audios_nos[k][-1].split('.')[0]\n",
    "    audiox = audios_nos[k][0]\n",
    "    fs = audios_nos[k][1]\n",
    "\n",
    "    split_points = get_audio_split_points(audiox,\n",
    "                                          aname = audios_nos[k][-1],\n",
    "                                          start_div = audios_start_div[k],\n",
    "                                          n_audios = 11,\n",
    "                                          listen = False, plot = False)\n",
    "    \n",
    "    # necesito los indices para saber que numero es :)\n",
    "    # algunas variables solamente por cuestion de legibilidad no lo dejo todo compactado\n",
    "    for j in range(len(split_points)):\n",
    "        folder = audios_nos_folder + '/' + list(to_number.keys())[j]\n",
    "        start, end = split_points[j]\n",
    "        sf.write(\"{}/{}_{}.wav\".format(folder, filename, j), audiox[start:end], fs)\n"
   ]
  }
 ],
 "metadata": {
  "celltoolbar": "Slideshow",
  "colab": {
   "collapsed_sections": [
    "gMuFodmaWMev"
   ],
   "name": "AA_TP2_revision.ipynb",
   "provenance": [],
   "toc_visible": true
  },
  "kernelspec": {
   "display_name": "Python 3",
   "language": "python",
   "name": "python3"
  },
  "language_info": {
   "codemirror_mode": {
    "name": "ipython",
    "version": 3
   },
   "file_extension": ".py",
   "mimetype": "text/x-python",
   "name": "python",
   "nbconvert_exporter": "python",
   "pygments_lexer": "ipython3",
   "version": "3.8.2"
  }
 },
 "nbformat": 4,
 "nbformat_minor": 4
}
